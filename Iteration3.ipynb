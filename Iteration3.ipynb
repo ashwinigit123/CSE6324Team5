{
  "nbformat": 4,
  "nbformat_minor": 0,
  "metadata": {
    "colab": {
      "name": "Iteration3.ipynb",
      "provenance": [],
      "collapsed_sections": [],
      "authorship_tag": "ABX9TyP178mcYYCkIfYIGxjUjeuP",
      "include_colab_link": true
    },
    "kernelspec": {
      "name": "python3",
      "display_name": "Python 3"
    },
    "language_info": {
      "name": "python"
    }
  },
  "cells": [
    {
      "cell_type": "markdown",
      "metadata": {
        "id": "view-in-github",
        "colab_type": "text"
      },
      "source": [
        "<a href=\"https://colab.research.google.com/github/ashwinigit123/CSE6324Team5/blob/main/Iteration3.ipynb\" target=\"_parent\"><img src=\"https://colab.research.google.com/assets/colab-badge.svg\" alt=\"Open In Colab\"/></a>"
      ]
    },
    {
      "cell_type": "code",
      "metadata": {
        "id": "KUTGIB8tfF-t"
      },
      "source": [
        "#Reading the CSVs: Github and Matlab\n",
        "import pandas as pd\n",
        "matUrl = 'https://raw.githubusercontent.com/ashwinigit123/CSE6324Team5/main/MATC_Projects.csv'\n",
        "gitUrl = 'https://raw.githubusercontent.com/ashwinigit123/CSE6324Team5/main/GitHub_Projects.csv'\n",
        "\n",
        "\n",
        "matdf = pd.read_csv(matUrl)\n",
        "gitdf = pd.read_csv(gitUrl)"
      ],
      "execution_count": 335,
      "outputs": []
    },
    {
      "cell_type": "code",
      "metadata": {
        "colab": {
          "base_uri": "https://localhost:8080/",
          "height": 555
        },
        "id": "iVSS9-VNfcf4",
        "outputId": "8ee20a6e-96d6-440a-ff41-ca6854ca2a8c"
      },
      "source": [
        "matdf.head()"
      ],
      "execution_count": 336,
      "outputs": [
        {
          "output_type": "execute_result",
          "data": {
            "text/html": [
              "<div>\n",
              "<style scoped>\n",
              "    .dataframe tbody tr th:only-of-type {\n",
              "        vertical-align: middle;\n",
              "    }\n",
              "\n",
              "    .dataframe tbody tr th {\n",
              "        vertical-align: top;\n",
              "    }\n",
              "\n",
              "    .dataframe thead th {\n",
              "        text-align: right;\n",
              "    }\n",
              "</style>\n",
              "<table border=\"1\" class=\"dataframe\">\n",
              "  <thead>\n",
              "    <tr style=\"text-align: right;\">\n",
              "      <th></th>\n",
              "      <th>id</th>\n",
              "      <th>title</th>\n",
              "      <th>author_name</th>\n",
              "      <th>mathworks_url</th>\n",
              "      <th>summary</th>\n",
              "      <th>content</th>\n",
              "      <th>category</th>\n",
              "      <th>author_uri</th>\n",
              "      <th>published</th>\n",
              "      <th>updated</th>\n",
              "      <th>no_of_comments</th>\n",
              "      <th>no_of_ratings</th>\n",
              "      <th>average_rating</th>\n",
              "      <th>downloads</th>\n",
              "      <th>download_link</th>\n",
              "      <th>license</th>\n",
              "      <th>model_files</th>\n",
              "      <th>num_model_file</th>\n",
              "    </tr>\n",
              "  </thead>\n",
              "  <tbody>\n",
              "    <tr>\n",
              "      <th>0</th>\n",
              "      <td>261</td>\n",
              "      <td>RF Design and Analysis</td>\n",
              "      <td>Jackson Harvey</td>\n",
              "      <td>https://www.mathworks.com/matlabcentral/fileex...</td>\n",
              "      <td>A collection of functions, scripts, &amp; Simulink...</td>\n",
              "      <td>&lt;p&gt;This is a collection of MATLAB functions an...</td>\n",
              "      <td>NaN</td>\n",
              "      <td>https://www.mathworks.com/matlabcentral/profil...</td>\n",
              "      <td>2001-07-23 12:51:25.000000</td>\n",
              "      <td>2001-07-23 12:51:25.000000</td>\n",
              "      <td>18</td>\n",
              "      <td>46</td>\n",
              "      <td>4</td>\n",
              "      <td>3</td>\n",
              "      <td>https://www.mathworks.com/matlabcentral/mlc-do...</td>\n",
              "      <td>Copyright (c) 2001, Jackson Harvey\\nAll rights...</td>\n",
              "      <td>RF.mdl,</td>\n",
              "      <td>1</td>\n",
              "    </tr>\n",
              "    <tr>\n",
              "      <th>1</th>\n",
              "      <td>266</td>\n",
              "      <td>smxl</td>\n",
              "      <td>Giampiero Campa</td>\n",
              "      <td>https://www.mathworks.com/matlabcentral/fileex...</td>\n",
              "      <td>The Simulink MatriX Library (SMXL) - a collect...</td>\n",
              "      <td>&lt;p&gt;SMXL (Simulink MatriX Library) it's a power...</td>\n",
              "      <td>NaN</td>\n",
              "      <td>https://www.mathworks.com/matlabcentral/profil...</td>\n",
              "      <td>2007-10-23 08:01:38.000000</td>\n",
              "      <td>2007-10-23 08:01:38.000000</td>\n",
              "      <td>3</td>\n",
              "      <td>4</td>\n",
              "      <td>4</td>\n",
              "      <td>1</td>\n",
              "      <td>https://www.mathworks.com/matlabcentral/mlc-do...</td>\n",
              "      <td>Copyright (c) 1999, Giampiero Campa\\nAll right...</td>\n",
              "      <td>smxl.mdl,examples/vrsvdex.mdl,examples/vrranke...</td>\n",
              "      <td>15</td>\n",
              "    </tr>\n",
              "    <tr>\n",
              "      <th>2</th>\n",
              "      <td>268</td>\n",
              "      <td>trimmod</td>\n",
              "      <td>Joerg Buchholz</td>\n",
              "      <td>https://www.mathworks.com/matlabcentral/fileex...</td>\n",
              "      <td>TrimMod finds the trim point (equilibrium) of ...</td>\n",
              "      <td>&lt;p&gt;TrimMod finds the trim point (equilibrium) ...</td>\n",
              "      <td>NaN</td>\n",
              "      <td>https://www.mathworks.com/matlabcentral/profil...</td>\n",
              "      <td>2017-03-17 11:54:23.000000</td>\n",
              "      <td>2017-03-17 11:54:23.000000</td>\n",
              "      <td>1</td>\n",
              "      <td>2</td>\n",
              "      <td>5</td>\n",
              "      <td>2</td>\n",
              "      <td>https://www.mathworks.com/matlabcentral/mlc-do...</td>\n",
              "      <td>Copyright (c) 2009, Joerg Buchholz\\nAll rights...</td>\n",
              "      <td>trimmod/trimtest/trimtest_with_vector_outport....</td>\n",
              "      <td>2</td>\n",
              "    </tr>\n",
              "    <tr>\n",
              "      <th>3</th>\n",
              "      <td>722</td>\n",
              "      <td>Bluetooth modulation and frequency hopping</td>\n",
              "      <td>Stuart McGarrity</td>\n",
              "      <td>https://www.mathworks.com/matlabcentral/fileex...</td>\n",
              "      <td>Bluetooth modulation and frequency hopping</td>\n",
              "      <td>&lt;p&gt;Simulink® model of a simple Bluetooth® wire...</td>\n",
              "      <td>bluetooth,frequency,hopping,network,wireless,b...</td>\n",
              "      <td>https://www.mathworks.com/matlabcentral/profil...</td>\n",
              "      <td>2016-09-01 15:00:04.000000</td>\n",
              "      <td>2016-09-01 15:00:04.000000</td>\n",
              "      <td>21</td>\n",
              "      <td>22</td>\n",
              "      <td>4</td>\n",
              "      <td>12</td>\n",
              "      <td>https://www.mathworks.com/matlabcentral/mlc-do...</td>\n",
              "      <td>Copyright (c) 2001, The MathWorks, Inc.\\nAll r...</td>\n",
              "      <td>bluetooth.mdl,R12.1 Original Version/bluetooth...</td>\n",
              "      <td>2</td>\n",
              "    </tr>\n",
              "    <tr>\n",
              "      <th>4</th>\n",
              "      <td>724</td>\n",
              "      <td>DTMF generator and receiver</td>\n",
              "      <td>Stuart McGarrity</td>\n",
              "      <td>https://www.mathworks.com/matlabcentral/fileex...</td>\n",
              "      <td>DTMF generator and receiver</td>\n",
              "      <td>&lt;p&gt;Simulink® model of a dual-tone multi-freque...</td>\n",
              "      <td>communications,dtmf,dual tone,multi frequency,...</td>\n",
              "      <td>https://www.mathworks.com/matlabcentral/profil...</td>\n",
              "      <td>2016-09-01 15:00:05.000000</td>\n",
              "      <td>2016-09-01 15:00:05.000000</td>\n",
              "      <td>11</td>\n",
              "      <td>27</td>\n",
              "      <td>3</td>\n",
              "      <td>2</td>\n",
              "      <td>https://www.mathworks.com/matlabcentral/mlc-do...</td>\n",
              "      <td>Copyright (c) 2001, The MathWorks, Inc.\\nAll r...</td>\n",
              "      <td>dtmf.mdl,R12.1 Original Version/dtmf.mdl,</td>\n",
              "      <td>2</td>\n",
              "    </tr>\n",
              "  </tbody>\n",
              "</table>\n",
              "</div>"
            ],
            "text/plain": [
              "    id  ... num_model_file\n",
              "0  261  ...              1\n",
              "1  266  ...             15\n",
              "2  268  ...              2\n",
              "3  722  ...              2\n",
              "4  724  ...              2\n",
              "\n",
              "[5 rows x 18 columns]"
            ]
          },
          "metadata": {},
          "execution_count": 336
        }
      ]
    },
    {
      "cell_type": "code",
      "metadata": {
        "colab": {
          "base_uri": "https://localhost:8080/",
          "height": 522
        },
        "id": "xwUCCG7ofeug",
        "outputId": "baed7d67-3837-4937-fc31-89f67d4a086e"
      },
      "source": [
        "gitdf.head()"
      ],
      "execution_count": 337,
      "outputs": [
        {
          "output_type": "execute_result",
          "data": {
            "text/html": [
              "<div>\n",
              "<style scoped>\n",
              "    .dataframe tbody tr th:only-of-type {\n",
              "        vertical-align: middle;\n",
              "    }\n",
              "\n",
              "    .dataframe tbody tr th {\n",
              "        vertical-align: top;\n",
              "    }\n",
              "\n",
              "    .dataframe thead th {\n",
              "        text-align: right;\n",
              "    }\n",
              "</style>\n",
              "<table border=\"1\" class=\"dataframe\">\n",
              "  <thead>\n",
              "    <tr style=\"text-align: right;\">\n",
              "      <th></th>\n",
              "      <th>id</th>\n",
              "      <th>repo_name</th>\n",
              "      <th>owner_name</th>\n",
              "      <th>is_private</th>\n",
              "      <th>project_url</th>\n",
              "      <th>Description</th>\n",
              "      <th>is_forked</th>\n",
              "      <th>api_url</th>\n",
              "      <th>created_at</th>\n",
              "      <th>updated_at</th>\n",
              "      <th>pushed_at</th>\n",
              "      <th>homepage_url</th>\n",
              "      <th>size_in_kb</th>\n",
              "      <th>stargazers_count</th>\n",
              "      <th>watchers_count</th>\n",
              "      <th>language</th>\n",
              "      <th>forks_count</th>\n",
              "      <th>open_issues_count</th>\n",
              "      <th>master_branch</th>\n",
              "      <th>default_branch</th>\n",
              "      <th>Topics</th>\n",
              "      <th>license</th>\n",
              "      <th>model_files</th>\n",
              "      <th>num_model_file</th>\n",
              "      <th>version_sha</th>\n",
              "    </tr>\n",
              "  </thead>\n",
              "  <tbody>\n",
              "    <tr>\n",
              "      <th>0</th>\n",
              "      <td>789683</td>\n",
              "      <td>ECAN_dspic</td>\n",
              "      <td>Susurrus</td>\n",
              "      <td>0</td>\n",
              "      <td>https://github.com/Susurrus/ECAN_dspic</td>\n",
              "      <td>An ECAN library for the dsPIC33f in both C and...</td>\n",
              "      <td>0</td>\n",
              "      <td>https://api.github.com/repos/Susurrus/ECAN_dspic</td>\n",
              "      <td>2010-07-21 21:39:55.000000</td>\n",
              "      <td>2017-04-14 04:08:40.000000</td>\n",
              "      <td>2012-11-05 20:00:53.000000</td>\n",
              "      <td>NaN</td>\n",
              "      <td>NaN</td>\n",
              "      <td>0</td>\n",
              "      <td>0</td>\n",
              "      <td>C</td>\n",
              "      <td>7</td>\n",
              "      <td>1</td>\n",
              "      <td>NaN</td>\n",
              "      <td>master</td>\n",
              "      <td>NaN</td>\n",
              "      <td>BSD 2-Clause \"Simplified\" License</td>\n",
              "      <td>ECAN_dspic-master/ecan_dspic.mdl,ECAN_dspic-ma...</td>\n",
              "      <td>3</td>\n",
              "      <td>0051e8902eaf3ba07811c8c1753120d894772937</td>\n",
              "    </tr>\n",
              "    <tr>\n",
              "      <th>1</th>\n",
              "      <td>919495</td>\n",
              "      <td>truetime</td>\n",
              "      <td>sfischme</td>\n",
              "      <td>0</td>\n",
              "      <td>https://github.com/sfischme/truetime</td>\n",
              "      <td>TrueTime is a Matlab/Simulink-based simulator ...</td>\n",
              "      <td>0</td>\n",
              "      <td>https://api.github.com/repos/sfischme/truetime</td>\n",
              "      <td>2010-09-17 21:41:34.000000</td>\n",
              "      <td>2019-02-27 09:29:27.000000</td>\n",
              "      <td>2011-01-05 04:39:50.000000</td>\n",
              "      <td>http://www.control.lth.se/truetime/</td>\n",
              "      <td>NaN</td>\n",
              "      <td>4</td>\n",
              "      <td>4</td>\n",
              "      <td>C++</td>\n",
              "      <td>18</td>\n",
              "      <td>1</td>\n",
              "      <td>NaN</td>\n",
              "      <td>master</td>\n",
              "      <td>NaN</td>\n",
              "      <td>GNU General Public License v3.0</td>\n",
              "      <td>truetime-master/kernel/ttNCM_Wrapper.mdl,truet...</td>\n",
              "      <td>22</td>\n",
              "      <td>d1a288960def71acdf2e8a21ae47aa6d69336fab</td>\n",
              "    </tr>\n",
              "    <tr>\n",
              "      <th>2</th>\n",
              "      <td>4608325</td>\n",
              "      <td>launchpad_ert</td>\n",
              "      <td>kyak</td>\n",
              "      <td>0</td>\n",
              "      <td>https://github.com/kyak/launchpad_ert</td>\n",
              "      <td>Simulink (Embedded Coder) Target for TI LaunchPad</td>\n",
              "      <td>0</td>\n",
              "      <td>https://api.github.com/repos/kyak/launchpad_ert</td>\n",
              "      <td>2012-06-09 15:47:56.000000</td>\n",
              "      <td>2019-10-15 12:09:18.000000</td>\n",
              "      <td>2014-05-20 09:25:11.000000</td>\n",
              "      <td>NaN</td>\n",
              "      <td>NaN</td>\n",
              "      <td>7</td>\n",
              "      <td>7</td>\n",
              "      <td>Matlab</td>\n",
              "      <td>5</td>\n",
              "      <td>0</td>\n",
              "      <td>NaN</td>\n",
              "      <td>master</td>\n",
              "      <td>NaN</td>\n",
              "      <td>Other</td>\n",
              "      <td>launchpad_ert-master/demos/tilp_pil_system.mdl...</td>\n",
              "      <td>11</td>\n",
              "      <td>4b004e42d8736ca807530ae3f3132196477a5181</td>\n",
              "    </tr>\n",
              "    <tr>\n",
              "      <th>3</th>\n",
              "      <td>4790726</td>\n",
              "      <td>osx-sl-joystick</td>\n",
              "      <td>zprime</td>\n",
              "      <td>0</td>\n",
              "      <td>https://github.com/zprime/osx-sl-joystick</td>\n",
              "      <td>Access Joysticks in Simulink on OSX</td>\n",
              "      <td>0</td>\n",
              "      <td>https://api.github.com/repos/zprime/osx-sl-joy...</td>\n",
              "      <td>2012-06-26 04:02:54.000000</td>\n",
              "      <td>2013-12-23 08:33:48.000000</td>\n",
              "      <td>2012-07-19 10:23:38.000000</td>\n",
              "      <td>NaN</td>\n",
              "      <td>NaN</td>\n",
              "      <td>1</td>\n",
              "      <td>1</td>\n",
              "      <td>C++</td>\n",
              "      <td>0</td>\n",
              "      <td>0</td>\n",
              "      <td>NaN</td>\n",
              "      <td>master</td>\n",
              "      <td>NaN</td>\n",
              "      <td>Other</td>\n",
              "      <td>osx-sl-joystick-master/bin/osx_joystick.mdl,</td>\n",
              "      <td>1</td>\n",
              "      <td>35b428b88f1a1a759fe9bcbe4511da9577f42dab</td>\n",
              "    </tr>\n",
              "    <tr>\n",
              "      <th>4</th>\n",
              "      <td>5480060</td>\n",
              "      <td>simulink-rtl-sdr</td>\n",
              "      <td>kit-cel</td>\n",
              "      <td>0</td>\n",
              "      <td>https://github.com/kit-cel/simulink-rtl-sdr</td>\n",
              "      <td>An Open Source Software Package that enables o...</td>\n",
              "      <td>0</td>\n",
              "      <td>https://api.github.com/repos/kit-cel/simulink-...</td>\n",
              "      <td>2012-08-20 10:54:52.000000</td>\n",
              "      <td>2019-04-01 13:00:02.000000</td>\n",
              "      <td>2014-01-22 07:57:36.000000</td>\n",
              "      <td>http://www.cel.kit.edu/simulink_rtl_sdr.php</td>\n",
              "      <td>NaN</td>\n",
              "      <td>27</td>\n",
              "      <td>27</td>\n",
              "      <td>C++</td>\n",
              "      <td>17</td>\n",
              "      <td>1</td>\n",
              "      <td>NaN</td>\n",
              "      <td>master</td>\n",
              "      <td>NaN</td>\n",
              "      <td>GNU General Public License v3.0</td>\n",
              "      <td>simulink-rtl-sdr-master/demo/rtlsdr_spectrum_s...</td>\n",
              "      <td>2</td>\n",
              "      <td>3fefdd32f0f57a1c6de3d00ad999941593447bae</td>\n",
              "    </tr>\n",
              "  </tbody>\n",
              "</table>\n",
              "</div>"
            ],
            "text/plain": [
              "        id  ...                               version_sha\n",
              "0   789683  ...  0051e8902eaf3ba07811c8c1753120d894772937\n",
              "1   919495  ...  d1a288960def71acdf2e8a21ae47aa6d69336fab\n",
              "2  4608325  ...  4b004e42d8736ca807530ae3f3132196477a5181\n",
              "3  4790726  ...  35b428b88f1a1a759fe9bcbe4511da9577f42dab\n",
              "4  5480060  ...  3fefdd32f0f57a1c6de3d00ad999941593447bae\n",
              "\n",
              "[5 rows x 25 columns]"
            ]
          },
          "metadata": {},
          "execution_count": 337
        }
      ]
    },
    {
      "cell_type": "code",
      "metadata": {
        "colab": {
          "base_uri": "https://localhost:8080/"
        },
        "id": "NfDvak16frq9",
        "outputId": "f25ab799-a50d-4723-e3e6-a95a2b7d7f3d"
      },
      "source": [
        "#data cleaning for matlab projects and github projects\n",
        "matdf['category'].isnull().sum()"
      ],
      "execution_count": 338,
      "outputs": [
        {
          "output_type": "execute_result",
          "data": {
            "text/plain": [
              "88"
            ]
          },
          "metadata": {},
          "execution_count": 338
        }
      ]
    },
    {
      "cell_type": "code",
      "metadata": {
        "id": "wJYHVlFKgDOG"
      },
      "source": [
        "matdf = matdf.dropna()"
      ],
      "execution_count": 339,
      "outputs": []
    },
    {
      "cell_type": "code",
      "metadata": {
        "colab": {
          "base_uri": "https://localhost:8080/"
        },
        "id": "1Szdry9XgB9N",
        "outputId": "b9936ff7-3b83-49c3-f7f6-59135378f95a"
      },
      "source": [
        "gitdf['Description'].isnull().sum()"
      ],
      "execution_count": 340,
      "outputs": [
        {
          "output_type": "execute_result",
          "data": {
            "text/plain": [
              "0"
            ]
          },
          "metadata": {},
          "execution_count": 340
        }
      ]
    },
    {
      "cell_type": "code",
      "metadata": {
        "colab": {
          "base_uri": "https://localhost:8080/"
        },
        "id": "WeCX8L6PgR7_",
        "outputId": "b0688c4f-f9c2-40c5-f81c-d1a4c166ae59"
      },
      "source": [
        "# removing everything except alphabets`\n",
        "matdf['cat'] = matdf['category'].str.replace(\"[^a-zA-Z#]\", \" \")\n",
        "gitdf['Description'] = gitdf['Description'].str.replace(\"[^a-zA-Z#]\", \" \")"
      ],
      "execution_count": 341,
      "outputs": [
        {
          "output_type": "stream",
          "name": "stderr",
          "text": [
            "/usr/local/lib/python3.7/dist-packages/ipykernel_launcher.py:2: SettingWithCopyWarning: \n",
            "A value is trying to be set on a copy of a slice from a DataFrame.\n",
            "Try using .loc[row_indexer,col_indexer] = value instead\n",
            "\n",
            "See the caveats in the documentation: https://pandas.pydata.org/pandas-docs/stable/user_guide/indexing.html#returning-a-view-versus-a-copy\n",
            "  \n"
          ]
        }
      ]
    },
    {
      "cell_type": "code",
      "metadata": {
        "id": "ho1ZIpNp_UTz"
      },
      "source": [
        "# removing null fields\n",
        "matdf = matdf[matdf['cat'].notnull()]\n",
        "gitdf = gitdf[gitdf['Description'].notnull()]"
      ],
      "execution_count": 342,
      "outputs": []
    },
    {
      "cell_type": "code",
      "metadata": {
        "id": "g9avtT7G_t61"
      },
      "source": [
        "# removing short words\n",
        "matdf['cat'] = matdf['cat'].apply(lambda x: ' '.join([w for w in x.split() if len(w)>3]))\n",
        "gitdf['Description'] = gitdf['Description'].apply(lambda x: ' '.join([w for w in x.split() if len(w)>3]))\n",
        "\n",
        "# make all text lowercase\n",
        "matdf['cat'] = matdf['cat'].apply(lambda x: x.lower())\n",
        "gitdf['Description'] = gitdf['Description'].apply(lambda x: x.lower())"
      ],
      "execution_count": 343,
      "outputs": []
    },
    {
      "cell_type": "code",
      "metadata": {
        "colab": {
          "base_uri": "https://localhost:8080/"
        },
        "id": "a4efm2sSALOT",
        "outputId": "6119c24e-8c1b-4d09-af32-f54cd5a53074"
      },
      "source": [
        "import nltk\n",
        "nltk.download('stopwords')\n",
        "from nltk.corpus import stopwords\n",
        "stop_words = stopwords.words('english')\n",
        "new_stopwords = [\"simulink\", \"Simulink\",\"conversion\",\"simulation\",\"control\", \"bytes\",\"demo\",\"abhishek\",\"indraanil\",\"saki\",\"system\",\"library\",\"step\",\"series\",\"response\",\"circuit\",\n",
        "                 \"client\",\"bonsai\",\"real\",\"matlab\",\"code\",\"used\",\"parrot\",\"using\"\n",
        "\n",
        "]\n",
        "stop_words.extend(new_stopwords)"
      ],
      "execution_count": 344,
      "outputs": [
        {
          "output_type": "stream",
          "name": "stdout",
          "text": [
            "[nltk_data] Downloading package stopwords to /root/nltk_data...\n",
            "[nltk_data]   Package stopwords is already up-to-date!\n"
          ]
        }
      ]
    },
    {
      "cell_type": "code",
      "metadata": {
        "colab": {
          "base_uri": "https://localhost:8080/"
        },
        "id": "MQwl2hmGASGh",
        "outputId": "90c13cd8-54d5-49f2-c117-b181fb9287d7"
      },
      "source": [
        "from sklearn.feature_extraction.text import TfidfVectorizer\n",
        "# tfidf vectorizer of scikit learn\n",
        "vectorizer1 = TfidfVectorizer(stop_words=stop_words)\n",
        "vectorizer1.fit(matdf['cat'])\n",
        "tokenize_text_mat = vectorizer1.transform(matdf['cat'])\n",
        "print(tokenize_text_mat.shape)"
      ],
      "execution_count": 345,
      "outputs": [
        {
          "output_type": "stream",
          "name": "stdout",
          "text": [
            "(2636, 2703)\n"
          ]
        }
      ]
    },
    {
      "cell_type": "code",
      "metadata": {
        "colab": {
          "base_uri": "https://localhost:8080/"
        },
        "id": "Y1xlgh10C-_V",
        "outputId": "823d9185-b092-406d-ac2f-d3510acf04af"
      },
      "source": [
        "vectorizer2 = TfidfVectorizer(stop_words=stop_words)\n",
        "vectorizer2.fit(gitdf['Description'])\n",
        "tokenize_text_git = vectorizer2.transform(gitdf['Description'])\n",
        "print(tokenize_text_git.shape)"
      ],
      "execution_count": 346,
      "outputs": [
        {
          "output_type": "stream",
          "name": "stdout",
          "text": [
            "(225, 854)\n"
          ]
        }
      ]
    },
    {
      "cell_type": "code",
      "metadata": {
        "id": "cEUQNP_fMM54"
      },
      "source": [
        "#finding k using elbow method\n",
        "from sklearn.cluster import MiniBatchKMeans\n",
        "import matplotlib.pyplot as plt\n",
        "def find_optimal_clusters(data, max_k):\n",
        "    iters = range(2, max_k+1, 2)\n",
        "    \n",
        "    sse = []\n",
        "    for k in iters:\n",
        "        sse.append(MiniBatchKMeans(n_clusters=k, init_size=1024, batch_size=2048, random_state=20).fit(data).inertia_)        \n",
        "    f, ax = plt.subplots(1, 1)\n",
        "    ax.plot(iters, sse, marker='o')\n",
        "    ax.set_xlabel('Cluster Centers')\n",
        "    ax.set_xticks(iters)\n",
        "    ax.set_xticklabels(iters)\n",
        "    ax.set_ylabel('SSE')\n",
        "    ax.set_title('SSE by Cluster Center Plot')"
      ],
      "execution_count": 347,
      "outputs": []
    },
    {
      "cell_type": "code",
      "metadata": {
        "colab": {
          "base_uri": "https://localhost:8080/",
          "height": 325
        },
        "id": "twaQRFxkMX_J",
        "outputId": "14dae8a3-290c-4461-b69d-5e539e2169dc"
      },
      "source": [
        "find_optimal_clusters(tokenize_text_mat, 10)"
      ],
      "execution_count": 348,
      "outputs": [
        {
          "output_type": "display_data",
          "data": {
            "image/png": "[encoded data removed]",
            "text/plain": [
              "<Figure size 432x288 with 1 Axes>"
            ]
          },
          "metadata": {}
        }
      ]
    },
    {
      "cell_type": "code",
      "metadata": {
        "colab": {
          "base_uri": "https://localhost:8080/",
          "height": 325
        },
        "id": "nuZA1ipoMhgb",
        "outputId": "e8362e70-36bf-40bd-8a2b-3a2b0706a0e5"
      },
      "source": [
        "find_optimal_clusters(tokenize_text_git, 10)"
      ],
      "execution_count": 349,
      "outputs": [
        {
          "output_type": "display_data",
          "data": {
            "image/png": "[encoded data removed]",
            "text/plain": [
              "<Figure size 432x288 with 1 Axes>"
            ]
          },
          "metadata": {}
        }
      ]
    },
    {
      "cell_type": "code",
      "metadata": {
        "colab": {
          "base_uri": "https://localhost:8080/"
        },
        "id": "S7myZjTFDIu-",
        "outputId": "8ff8d7d9-ec23-4e28-c038-ef4e5399a035"
      },
      "source": [
        "#applying kmeans\n",
        "from sklearn.cluster import KMeans\n",
        "import numpy as np\n",
        "num_clusters = 8\n",
        "matmodel = KMeans(n_clusters=num_clusters)\n",
        "matmodel.fit(tokenize_text_mat)\n",
        "#clusters = km.labels_.tolist()\n",
        "matclusters = matmodel.predict(tokenize_text_mat)\n",
        "matlabels = np.unique(matclusters)\n",
        "print(np.unique(matclusters))\n",
        "print(matmodel.cluster_centers_)\n",
        "print(matclusters.shape)"
      ],
      "execution_count": 350,
      "outputs": [
        {
          "output_type": "stream",
          "name": "stdout",
          "text": [
            "[0 1 2 3 4 5 6 7]\n",
            "[[8.54842871e-04 9.44217734e-05 9.78647404e-04 ... 3.70307403e-04\n",
            "  0.00000000e+00 4.61215239e-04]\n",
            " [0.00000000e+00 0.00000000e+00 0.00000000e+00 ... 0.00000000e+00\n",
            "  0.00000000e+00 0.00000000e+00]\n",
            " [0.00000000e+00 0.00000000e+00 0.00000000e+00 ... 0.00000000e+00\n",
            "  2.00762257e-02 0.00000000e+00]\n",
            " ...\n",
            " [0.00000000e+00 0.00000000e+00 0.00000000e+00 ... 0.00000000e+00\n",
            "  0.00000000e+00 0.00000000e+00]\n",
            " [1.72801849e-03 0.00000000e+00 0.00000000e+00 ... 0.00000000e+00\n",
            "  1.86359329e-03 0.00000000e+00]\n",
            " [0.00000000e+00 0.00000000e+00 0.00000000e+00 ... 0.00000000e+00\n",
            "  0.00000000e+00 0.00000000e+00]]\n",
            "(2636,)\n"
          ]
        }
      ]
    },
    {
      "cell_type": "code",
      "metadata": {
        "colab": {
          "base_uri": "https://localhost:8080/"
        },
        "id": "80-PK4qkKyXG",
        "outputId": "2671d580-9a56-4293-d855-2faaacb15a9e"
      },
      "source": [
        "num_clusters = 6\n",
        "gitModel = KMeans(n_clusters=num_clusters)\n",
        "gitModel.fit(tokenize_text_git)\n",
        "#clusters = km.labels_.tolist()\n",
        "gitclusters = gitModel.predict(tokenize_text_git)\n",
        "gitlabels = np.unique(gitclusters)\n",
        "print(np.unique(gitclusters))\n",
        "print(gitModel.cluster_centers_)\n",
        "\n",
        "print(gitclusters.shape)"
      ],
      "execution_count": 351,
      "outputs": [
        {
          "output_type": "stream",
          "name": "stdout",
          "text": [
            "[0 1 2 3 4 5]\n",
            "[[0.         0.         0.         ... 0.         0.003372   0.00375625]\n",
            " [0.0045319  0.         0.         ... 0.         0.         0.01546939]\n",
            " [0.         0.01962559 0.         ... 0.01226898 0.         0.        ]\n",
            " [0.         0.         0.         ... 0.         0.         0.        ]\n",
            " [0.         0.         0.         ... 0.         0.         0.        ]\n",
            " [0.         0.         0.01697841 ... 0.         0.         0.        ]]\n",
            "(225,)\n"
          ]
        }
      ]
    },
    {
      "cell_type": "code",
      "metadata": {
        "id": "llMj-uxrDTzv"
      },
      "source": [
        "#printing the clusters\n",
        "def printClusters(model,vectorizer,num_clusters):\n",
        "  print(\"Top terms per cluster:\")\n",
        "  order_centroids = model.cluster_centers_.argsort()[:, ::-1]\n",
        "  print(\"centroids:\",order_centroids)\n",
        "  terms = vectorizer.get_feature_names()\n",
        "  for i in range(num_clusters):\n",
        "      print(\"Cluster %d:\" % i),\n",
        "      for ind in order_centroids[i, :10]:\n",
        "          print(' %s' % terms[ind]),\n",
        "      print"
      ],
      "execution_count": 352,
      "outputs": []
    },
    {
      "cell_type": "code",
      "metadata": {
        "colab": {
          "base_uri": "https://localhost:8080/"
        },
        "id": "id50d9xWHL0t",
        "outputId": "e9098130-d899-457f-9347-4c5f382dc2e3"
      },
      "source": [
        "printClusters(matmodel,vectorizer1,8)"
      ],
      "execution_count": 353,
      "outputs": [
        {
          "output_type": "stream",
          "name": "stdout",
          "text": [
            "Top terms per cluster:\n",
            "centroids: [[1772 1439  471 ... 2236  902  762]\n",
            " [1772  731  471 ... 1775 1774    0]\n",
            " [1168 1772 1495 ... 1767 1766    0]\n",
            " ...\n",
            " [1802 2149 1367 ... 1791 1790    0]\n",
            " [1772 1469  721 ... 1746 1745 1351]\n",
            " [ 677 1772 1469 ... 1784 1783    0]]\n",
            "Cluster 0:\n",
            " power\n",
            " modeling\n",
            " converter\n",
            " electronics\n",
            " arduino\n",
            " model\n",
            " design\n",
            " automotive\n",
            " fuzzy\n",
            " mathematics\n",
            "Cluster 1:\n",
            " power\n",
            " electronics\n",
            " converter\n",
            " design\n",
            " management\n",
            " battery\n",
            " rectifier\n",
            " buck\n",
            " boost\n",
            " mppt\n",
            "Cluster 2:\n",
            " inverter\n",
            " power\n",
            " multilevel\n",
            " spwm\n",
            " electronics\n",
            " phase\n",
            " converter\n",
            " clamped\n",
            " diode\n",
            " level\n",
            "Cluster 3:\n",
            " current\n",
            " hysteresis\n",
            " inverter\n",
            " band\n",
            " controller\n",
            " power\n",
            " inrush\n",
            " phase\n",
            " hysterisis\n",
            " active\n",
            "Cluster 4:\n",
            " design\n",
            " biotech\n",
            " aerospace\n",
            " automotive\n",
            " optimization\n",
            " power\n",
            " modeling\n",
            " selftunig\n",
            " electronics\n",
            " measurement\n",
            "Cluster 5:\n",
            " processing\n",
            " signal\n",
            " mathematics\n",
            " biotech\n",
            " design\n",
            " communications\n",
            " filter\n",
            " audio\n",
            " optimization\n",
            " statistics\n",
            "Cluster 6:\n",
            " power\n",
            " motor\n",
            " electric\n",
            " electronics\n",
            " induction\n",
            " speed\n",
            " modeling\n",
            " inverter\n",
            " design\n",
            " controller\n",
            "Cluster 7:\n",
            " drives\n",
            " power\n",
            " motor\n",
            " electronics\n",
            " converter\n",
            " inverter\n",
            " machines\n",
            " electric\n",
            " electrical\n",
            " systems\n"
          ]
        }
      ]
    },
    {
      "cell_type": "code",
      "metadata": {
        "colab": {
          "base_uri": "https://localhost:8080/"
        },
        "id": "xyFgInalL6x-",
        "outputId": "ca0610a5-b403-49e8-8681-ec45a6879491"
      },
      "source": [
        "printClusters(gitModel,vectorizer2,6)"
      ],
      "execution_count": 354,
      "outputs": [
        {
          "output_type": "stream",
          "name": "stdout",
          "text": [
            "Top terms per cluster:\n",
            "centroids: [[759 743 745 ... 367 369   0]\n",
            " [637 579  59 ... 494 493 388]\n",
            " [480 149 596 ... 544 543   0]\n",
            " [677 493 355 ... 563 562   0]\n",
            " [471 351  49 ... 551 550   0]\n",
            " [628 135 796 ... 549 548   0]]\n",
            "Cluster 0:\n",
            " time\n",
            " systems\n",
            " target\n",
            " design\n",
            " example\n",
            " framework\n",
            " examples\n",
            " modeling\n",
            " integration\n",
            " controller\n",
            "Cluster 1:\n",
            " robot\n",
            " project\n",
            " based\n",
            " source\n",
            " open\n",
            " model\n",
            " interface\n",
            " controller\n",
            " software\n",
            " scara\n",
            "Cluster 2:\n",
            " models\n",
            " course\n",
            " python\n",
            " crps\n",
            " programs\n",
            " linear\n",
            " electric\n",
            " power\n",
            " tool\n",
            " dlls\n",
            "Cluster 3:\n",
            " simscape\n",
            " multibody\n",
            " import\n",
            " hyperloop\n",
            " full\n",
            " files\n",
            " physics\n",
            " design\n",
            " nieur\n",
            " pour\n",
            "Cluster 4:\n",
            " model\n",
            " implementation\n",
            " automatically\n",
            " deploy\n",
            " drone\n",
            " simple\n",
            " dynamics\n",
            " generation\n",
            " coder\n",
            " pass\n",
            "Cluster 5:\n",
            " repository\n",
            " contains\n",
            " tutorial\n",
            " modified\n",
            " dual\n",
            " files\n",
            " patterns\n",
            " devices\n",
            " robot\n",
            " calibration\n"
          ]
        }
      ]
    },
    {
      "cell_type": "code",
      "metadata": {
        "colab": {
          "base_uri": "https://localhost:8080/",
          "height": 202
        },
        "id": "1cAoi04SePlz",
        "outputId": "645c2695-0514-49ef-b8a2-b0e84262258d"
      },
      "source": [
        "#Reading the CSVs: Github and Matlab\n",
        "import pandas as pd\n",
        "matUrlFornum = 'https://raw.githubusercontent.com/ashwinigit123/CSE6324Team5/main/MATC_Subsys_Info.csv'\n",
        "matdfSubsys = pd.read_csv(matUrlFornum)\n",
        "matdfSubsys.head()"
      ],
      "execution_count": 355,
      "outputs": [
        {
          "output_type": "execute_result",
          "data": {
            "text/html": [
              "<div>\n",
              "<style scoped>\n",
              "    .dataframe tbody tr th:only-of-type {\n",
              "        vertical-align: middle;\n",
              "    }\n",
              "\n",
              "    .dataframe tbody tr th {\n",
              "        vertical-align: top;\n",
              "    }\n",
              "\n",
              "    .dataframe thead th {\n",
              "        text-align: right;\n",
              "    }\n",
              "</style>\n",
              "<table border=\"1\" class=\"dataframe\">\n",
              "  <thead>\n",
              "    <tr style=\"text-align: right;\">\n",
              "      <th></th>\n",
              "      <th>S_ID</th>\n",
              "      <th>File_id</th>\n",
              "      <th>Model_Name</th>\n",
              "      <th>file_path</th>\n",
              "      <th>Depth</th>\n",
              "      <th>Subsystem</th>\n",
              "      <th>Block_count</th>\n",
              "    </tr>\n",
              "  </thead>\n",
              "  <tbody>\n",
              "    <tr>\n",
              "      <th>0</th>\n",
              "      <td>1</td>\n",
              "      <td>10335</td>\n",
              "      <td>gpsnoise.mdl</td>\n",
              "      <td>workdirtmp\\gpsnoise.mdl</td>\n",
              "      <td>1</td>\n",
              "      <td>gpsnoise/MultibandNoise</td>\n",
              "      <td>13</td>\n",
              "    </tr>\n",
              "    <tr>\n",
              "      <th>1</th>\n",
              "      <td>2</td>\n",
              "      <td>10335</td>\n",
              "      <td>gpsnoise.mdl</td>\n",
              "      <td>workdirtmp\\gpsnoise.mdl</td>\n",
              "      <td>2</td>\n",
              "      <td>gpsnoise/MultibandNoise/IIR2</td>\n",
              "      <td>3</td>\n",
              "    </tr>\n",
              "    <tr>\n",
              "      <th>2</th>\n",
              "      <td>3</td>\n",
              "      <td>10439</td>\n",
              "      <td>EngineControl.mdl</td>\n",
              "      <td>workdirtmp\\mpc555_mtrctrl\\demos\\EngineControl.mdl</td>\n",
              "      <td>1</td>\n",
              "      <td>EngineControl/Copying PSP output to LED</td>\n",
              "      <td>2</td>\n",
              "    </tr>\n",
              "    <tr>\n",
              "      <th>3</th>\n",
              "      <td>4</td>\n",
              "      <td>10439</td>\n",
              "      <td>EngineControl.mdl</td>\n",
              "      <td>workdirtmp\\mpc555_mtrctrl\\demos\\EngineControl.mdl</td>\n",
              "      <td>1</td>\n",
              "      <td>EngineControl/Crankshaft Simulation (MPIO14)</td>\n",
              "      <td>2</td>\n",
              "    </tr>\n",
              "    <tr>\n",
              "      <th>4</th>\n",
              "      <td>5</td>\n",
              "      <td>10439</td>\n",
              "      <td>EngineControl.mdl</td>\n",
              "      <td>workdirtmp\\mpc555_mtrctrl\\demos\\EngineControl.mdl</td>\n",
              "      <td>1</td>\n",
              "      <td>EngineControl/Flywheel Simulation (MPIO12)</td>\n",
              "      <td>2</td>\n",
              "    </tr>\n",
              "  </tbody>\n",
              "</table>\n",
              "</div>"
            ],
            "text/plain": [
              "   S_ID  File_id  ...                                     Subsystem Block_count\n",
              "0     1    10335  ...                       gpsnoise/MultibandNoise          13\n",
              "1     2    10335  ...                  gpsnoise/MultibandNoise/IIR2           3\n",
              "2     3    10439  ...       EngineControl/Copying PSP output to LED           2\n",
              "3     4    10439  ...  EngineControl/Crankshaft Simulation (MPIO14)           2\n",
              "4     5    10439  ...    EngineControl/Flywheel Simulation (MPIO12)           2\n",
              "\n",
              "[5 rows x 7 columns]"
            ]
          },
          "metadata": {},
          "execution_count": 355
        }
      ]
    },
    {
      "cell_type": "code",
      "metadata": {
        "colab": {
          "base_uri": "https://localhost:8080/",
          "height": 282
        },
        "id": "mMWnpVhretqL",
        "outputId": "2e5fdf94-0985-4c6c-90b3-d2ce72ed9505"
      },
      "source": [
        "import matplotlib.pyplot as plt\n",
        "plt.scatter(matdfSubsys['Depth'],matdfSubsys['Block_count'])\n",
        "plt.show()"
      ],
      "execution_count": 356,
      "outputs": [
        {
          "output_type": "display_data",
          "data": {
            "image/png": "[encoded data removed]",
            "text/plain": [
              "<Figure size 432x288 with 1 Axes>"
            ]
          },
          "metadata": {}
        }
      ]
    },
    {
      "cell_type": "code",
      "metadata": {
        "colab": {
          "base_uri": "https://localhost:8080/"
        },
        "id": "ZorHdg3vfNcO",
        "outputId": "5977f6a2-4f48-4ad4-8fd7-269cdd16aebe"
      },
      "source": [
        "X= matdfSubsys.iloc[:, [4,6]].values\n",
        "print(X)"
      ],
      "execution_count": 357,
      "outputs": [
        {
          "output_type": "stream",
          "name": "stdout",
          "text": [
            "[[ 1 13]\n",
            " [ 2  3]\n",
            " [ 1  2]\n",
            " ...\n",
            " [ 3 20]\n",
            " [ 3  6]\n",
            " [ 1  5]]\n"
          ]
        }
      ]
    },
    {
      "cell_type": "code",
      "metadata": {
        "colab": {
          "base_uri": "https://localhost:8080/",
          "height": 325
        },
        "id": "TEi4caOi6-sy",
        "outputId": "cabac540-e067-45fa-eed2-ebbebeea762f"
      },
      "source": [
        "find_optimal_clusters(X, 15)"
      ],
      "execution_count": 358,
      "outputs": [
        {
          "output_type": "display_data",
          "data": {
            "image/png": "[encoded data removed]",
            "text/plain": [
              "<Figure size 432x288 with 1 Axes>"
            ]
          },
          "metadata": {}
        }
      ]
    },
    {
      "cell_type": "code",
      "metadata": {
        "id": "tmWys2Ui-AM_"
      },
      "source": [
        "from sklearn.preprocessing import StandardScaler\n",
        "scaler = StandardScaler()\n",
        "scaled_features = scaler.fit_transform(X)"
      ],
      "execution_count": 359,
      "outputs": []
    },
    {
      "cell_type": "code",
      "metadata": {
        "colab": {
          "base_uri": "https://localhost:8080/"
        },
        "id": "1A-sCW2rhHtm",
        "outputId": "59d59c2a-90d2-4907-b264-ac11525a7ad4"
      },
      "source": [
        "kmeans = KMeans(8)\n",
        "kmeans.fit(scaled_features)"
      ],
      "execution_count": 360,
      "outputs": [
        {
          "output_type": "execute_result",
          "data": {
            "text/plain": [
              "KMeans(algorithm='auto', copy_x=True, init='k-means++', max_iter=300,\n",
              "       n_clusters=8, n_init=10, n_jobs=None, precompute_distances='auto',\n",
              "       random_state=None, tol=0.0001, verbose=0)"
            ]
          },
          "metadata": {},
          "execution_count": 360
        }
      ]
    },
    {
      "cell_type": "code",
      "metadata": {
        "colab": {
          "base_uri": "https://localhost:8080/"
        },
        "id": "GjOZ5OGghWN-",
        "outputId": "1df1a24f-c91c-44a0-9d8f-5a5548c9cf16"
      },
      "source": [
        "identified_clusters = kmeans.fit_predict(scaled_features)\n",
        "identified_clusters\n",
        "print(np.unique(identified_clusters))\n"
      ],
      "execution_count": 361,
      "outputs": [
        {
          "output_type": "stream",
          "name": "stdout",
          "text": [
            "[0 1 2 3 4 5 6 7]\n"
          ]
        }
      ]
    },
    {
      "cell_type": "code",
      "metadata": {
        "colab": {
          "base_uri": "https://localhost:8080/",
          "height": 298
        },
        "id": "PM-C1nSEhgg8",
        "outputId": "8d7fcec6-e1a5-4e58-d5fd-ff59c4b7618f"
      },
      "source": [
        "data_with_clusters = matdfSubsys.copy()\n",
        "data_with_clusters['Clusters'] = identified_clusters \n",
        "plt.scatter(data_with_clusters['Block_count'],data_with_clusters['Depth'],c=data_with_clusters['Clusters'],cmap='rainbow')"
      ],
      "execution_count": 362,
      "outputs": [
        {
          "output_type": "execute_result",
          "data": {
            "text/plain": [
              "<matplotlib.collections.PathCollection at 0x7f9216160310>"
            ]
          },
          "metadata": {},
          "execution_count": 362
        },
        {
          "output_type": "display_data",
          "data": {
            "image/png": "[encoded data removed]",
            "text/plain": [
              "<Figure size 432x288 with 1 Axes>"
            ]
          },
          "metadata": {}
        }
      ]
    },
    {
      "cell_type": "code",
      "metadata": {
        "colab": {
          "base_uri": "https://localhost:8080/",
          "height": 202
        },
        "id": "oweg3j603qRq",
        "outputId": "813bb5cd-8637-4c02-b5d3-20acc7beaebe"
      },
      "source": [
        "#Reading the CSVs: Github and Matlab\n",
        "import pandas as pd\n",
        "url2 = 'https://raw.githubusercontent.com/ashwinigit123/CSE6324Team5/main/GitHub_Subsys_Info.csv'\n",
        "df2 = pd.read_csv(url2)\n",
        "df2.head()"
      ],
      "execution_count": 363,
      "outputs": [
        {
          "output_type": "execute_result",
          "data": {
            "text/html": [
              "<div>\n",
              "<style scoped>\n",
              "    .dataframe tbody tr th:only-of-type {\n",
              "        vertical-align: middle;\n",
              "    }\n",
              "\n",
              "    .dataframe tbody tr th {\n",
              "        vertical-align: top;\n",
              "    }\n",
              "\n",
              "    .dataframe thead th {\n",
              "        text-align: right;\n",
              "    }\n",
              "</style>\n",
              "<table border=\"1\" class=\"dataframe\">\n",
              "  <thead>\n",
              "    <tr style=\"text-align: right;\">\n",
              "      <th></th>\n",
              "      <th>S_ID</th>\n",
              "      <th>File_id</th>\n",
              "      <th>Model_Name</th>\n",
              "      <th>file_path</th>\n",
              "      <th>Depth</th>\n",
              "      <th>Subsystem</th>\n",
              "      <th>Block_count</th>\n",
              "    </tr>\n",
              "  </thead>\n",
              "  <tbody>\n",
              "    <tr>\n",
              "      <th>0</th>\n",
              "      <td>1</td>\n",
              "      <td>100042416</td>\n",
              "      <td>BlankCntrlr_model.mdl</td>\n",
              "      <td>workdirtmp\\DISCON_Simulink-master\\Simulink_32b...</td>\n",
              "      <td>1</td>\n",
              "      <td>BlankCntrlr_model/BlankCntrlr</td>\n",
              "      <td>31</td>\n",
              "    </tr>\n",
              "    <tr>\n",
              "      <th>1</th>\n",
              "      <td>2</td>\n",
              "      <td>100042416</td>\n",
              "      <td>DISCON_NREL5MW.slx</td>\n",
              "      <td>workdirtmp\\DISCON_Simulink-master\\Simulink_64b...</td>\n",
              "      <td>1</td>\n",
              "      <td>DISCON_NREL5MW/Fore-Aft Tower Control</td>\n",
              "      <td>5</td>\n",
              "    </tr>\n",
              "    <tr>\n",
              "      <th>2</th>\n",
              "      <td>3</td>\n",
              "      <td>100042416</td>\n",
              "      <td>DISCON_NREL5MW.slx</td>\n",
              "      <td>workdirtmp\\DISCON_Simulink-master\\Simulink_64b...</td>\n",
              "      <td>1</td>\n",
              "      <td>DISCON_NREL5MW/Pitch Control</td>\n",
              "      <td>23</td>\n",
              "    </tr>\n",
              "    <tr>\n",
              "      <th>3</th>\n",
              "      <td>4</td>\n",
              "      <td>100042416</td>\n",
              "      <td>DISCON_NREL5MW.slx</td>\n",
              "      <td>workdirtmp\\DISCON_Simulink-master\\Simulink_64b...</td>\n",
              "      <td>1</td>\n",
              "      <td>DISCON_NREL5MW/Rate Saturation Pitch</td>\n",
              "      <td>8</td>\n",
              "    </tr>\n",
              "    <tr>\n",
              "      <th>4</th>\n",
              "      <td>5</td>\n",
              "      <td>100042416</td>\n",
              "      <td>DISCON_NREL5MW.slx</td>\n",
              "      <td>workdirtmp\\DISCON_Simulink-master\\Simulink_64b...</td>\n",
              "      <td>1</td>\n",
              "      <td>DISCON_NREL5MW/Rate Saturation Torque</td>\n",
              "      <td>8</td>\n",
              "    </tr>\n",
              "  </tbody>\n",
              "</table>\n",
              "</div>"
            ],
            "text/plain": [
              "   S_ID    File_id  ...                              Subsystem Block_count\n",
              "0     1  100042416  ...          BlankCntrlr_model/BlankCntrlr          31\n",
              "1     2  100042416  ...  DISCON_NREL5MW/Fore-Aft Tower Control           5\n",
              "2     3  100042416  ...           DISCON_NREL5MW/Pitch Control          23\n",
              "3     4  100042416  ...   DISCON_NREL5MW/Rate Saturation Pitch           8\n",
              "4     5  100042416  ...  DISCON_NREL5MW/Rate Saturation Torque           8\n",
              "\n",
              "[5 rows x 7 columns]"
            ]
          },
          "metadata": {},
          "execution_count": 363
        }
      ]
    },
    {
      "cell_type": "code",
      "metadata": {
        "colab": {
          "base_uri": "https://localhost:8080/",
          "height": 282
        },
        "id": "f29bb7X867_X",
        "outputId": "909854fa-dcdb-45e5-f4ad-871d6b200fb6"
      },
      "source": [
        "import matplotlib.pyplot as plt\n",
        "plt.scatter(df2['Depth'],df2['Block_count'])\n",
        "plt.show()"
      ],
      "execution_count": 364,
      "outputs": [
        {
          "output_type": "display_data",
          "data": {
            "image/png": "[encoded data removed]",
            "text/plain": [
              "<Figure size 432x288 with 1 Axes>"
            ]
          },
          "metadata": {}
        }
      ]
    },
    {
      "cell_type": "code",
      "metadata": {
        "colab": {
          "base_uri": "https://localhost:8080/"
        },
        "id": "3mLW1YoH8cUh",
        "outputId": "425d71c4-3d10-4444-80c5-171fe88d7970"
      },
      "source": [
        "X2= df2.iloc[:, [4,6]].values\n",
        "print(X2)"
      ],
      "execution_count": 365,
      "outputs": [
        {
          "output_type": "stream",
          "name": "stdout",
          "text": [
            "[[ 1 31]\n",
            " [ 1  5]\n",
            " [ 1 23]\n",
            " ...\n",
            " [ 2  4]\n",
            " [ 2 12]\n",
            " [ 3 12]]\n"
          ]
        }
      ]
    },
    {
      "cell_type": "code",
      "metadata": {
        "id": "bJq6siUp9ZHm"
      },
      "source": [
        "scaler = StandardScaler()\n",
        "scaled_features2 = scaler.fit_transform(X2)"
      ],
      "execution_count": 366,
      "outputs": []
    },
    {
      "cell_type": "code",
      "metadata": {
        "id": "wD7y7I-4CgMm"
      },
      "source": [
        " kmeans = KMeans(  init=\"random\", n_clusters=4,  n_init=10,max_iter=300,random_state=42 )"
      ],
      "execution_count": 367,
      "outputs": []
    },
    {
      "cell_type": "code",
      "metadata": {
        "colab": {
          "base_uri": "https://localhost:8080/"
        },
        "id": "KqqP1H6M8jz0",
        "outputId": "15baf960-9564-4f23-a7fc-410e8a7acd00"
      },
      "source": [
        "#kmeans = KMeans(3)\n",
        "kmeans.fit(X2)\n",
        "identified_clusters = kmeans.fit_predict(X2)\n",
        "identified_clusters\n",
        "print(np.unique(identified_clusters))"
      ],
      "execution_count": 368,
      "outputs": [
        {
          "output_type": "stream",
          "name": "stdout",
          "text": [
            "[0 1 2 3]\n"
          ]
        }
      ]
    },
    {
      "cell_type": "code",
      "metadata": {
        "colab": {
          "base_uri": "https://localhost:8080/"
        },
        "id": "cpLSt5yxDNbE",
        "outputId": "4538aa17-2915-4bc7-b568-1f994dfc7bc4"
      },
      "source": [
        "kmeans.inertia_"
      ],
      "execution_count": 369,
      "outputs": [
        {
          "output_type": "execute_result",
          "data": {
            "text/plain": [
              "803826.2986555232"
            ]
          },
          "metadata": {},
          "execution_count": 369
        }
      ]
    },
    {
      "cell_type": "code",
      "metadata": {
        "colab": {
          "base_uri": "https://localhost:8080/"
        },
        "id": "ANT2tHElDXuh",
        "outputId": "510ecbac-fb5e-4a64-f819-030306946d53"
      },
      "source": [
        "kmeans.cluster_centers_"
      ],
      "execution_count": 370,
      "outputs": [
        {
          "output_type": "execute_result",
          "data": {
            "text/plain": [
              "array([[  2.37588652,  87.45744681],\n",
              "       [  2.        , 687.        ],\n",
              "       [  2.88153071,  19.28987168],\n",
              "       [  3.19735136,   6.3992764 ]])"
            ]
          },
          "metadata": {},
          "execution_count": 370
        }
      ]
    },
    {
      "cell_type": "code",
      "metadata": {
        "colab": {
          "base_uri": "https://localhost:8080/"
        },
        "id": "9g5MFjoZDf4h",
        "outputId": "7605ec34-8485-4cd7-e8c6-43b7c0fa0830"
      },
      "source": [
        "kmeans.n_iter_"
      ],
      "execution_count": 371,
      "outputs": [
        {
          "output_type": "execute_result",
          "data": {
            "text/plain": [
              "23"
            ]
          },
          "metadata": {},
          "execution_count": 371
        }
      ]
    },
    {
      "cell_type": "code",
      "metadata": {
        "id": "1amVGw0-ERZx"
      },
      "source": [
        "kmeans_kwargs = {\n",
        "\t\"init\": \"random\",\n",
        "\t\"n_init\": 10,\n",
        "\t\"max_iter\": 300,\n",
        "\t\"random_state\": 42,\n",
        "}\n",
        "   \n",
        "# A list holds the SSE values for each k\n",
        "sse = []\n",
        "for k in range(1, 11):\n",
        "\tkmeans = KMeans(n_clusters=k, **kmeans_kwargs)\n",
        "\tkmeans.fit(X2)\n",
        "\tsse.append(kmeans.inertia_)"
      ],
      "execution_count": 372,
      "outputs": []
    },
    {
      "cell_type": "code",
      "metadata": {
        "colab": {
          "base_uri": "https://localhost:8080/",
          "height": 318
        },
        "id": "wyHbneslGKCM",
        "outputId": "2dd6832f-ed4a-47d5-ab78-895f49b48439"
      },
      "source": [
        "plt.style.use(\"fivethirtyeight\")\n",
        "plt.plot(range(1, 11), sse)\n",
        "plt.xticks(range(1, 11))\n",
        "plt.xlabel(\"Number of Clusters\")\n",
        "plt.ylabel(\"SSE\")\n",
        "plt.show()"
      ],
      "execution_count": 373,
      "outputs": [
        {
          "output_type": "display_data",
          "data": {
            "image/png": "[encoded data removed]",
            "text/plain": [
              "<Figure size 432x288 with 1 Axes>"
            ]
          },
          "metadata": {}
        }
      ]
    },
    {
      "cell_type": "code",
      "metadata": {
        "colab": {
          "base_uri": "https://localhost:8080/",
          "height": 282
        },
        "id": "7Wmk-Y689HVX",
        "outputId": "e41497da-67ca-429d-d53c-a8bcc1a01a8c"
      },
      "source": [
        "data_with_clusters = df2.copy()\n",
        "data_with_clusters['Clusters'] = identified_clusters \n",
        "plt.scatter(data_with_clusters['Depth'],data_with_clusters['Block_count'],c=data_with_clusters['Clusters'],cmap='rainbow')\n",
        "plt.show()"
      ],
      "execution_count": 374,
      "outputs": [
        {
          "output_type": "display_data",
          "data": {
            "image/png": "[encoded data removed]",
            "text/plain": [
              "<Figure size 432x288 with 1 Axes>"
            ]
          },
          "metadata": {}
        }
      ]
    },
    {
      "cell_type": "code",
      "metadata": {
        "id": "1D1c8ygk-kNk"
      },
      "source": [
        ""
      ],
      "execution_count": 374,
      "outputs": []
    }
  ]
}