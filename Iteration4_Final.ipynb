{
  "nbformat": 4,
  "nbformat_minor": 0,
  "metadata": {
    "colab": {
      "name": "Iteration4_Final.ipynb",
      "provenance": [],
      "collapsed_sections": [],
      "authorship_tag": "ABX9TyOVaGUjtGMAr/mRTkRhR3Br",
      "include_colab_link": true
    },
    "kernelspec": {
      "name": "python3",
      "display_name": "Python 3"
    },
    "language_info": {
      "name": "python"
    }
  },
  "cells": [
    {
      "cell_type": "markdown",
      "metadata": {
        "id": "view-in-github",
        "colab_type": "text"
      },
      "source": [
        "<a href=\"https://colab.research.google.com/github/ashwinigit123/CSE6324Team5/blob/main/Iteration4_Final.ipynb\" target=\"_parent\"><img src=\"https://colab.research.google.com/assets/colab-badge.svg\" alt=\"Open In Colab\"/></a>"
      ]
    },
    {
      "cell_type": "code",
      "metadata": {
        "id": "HVYYwg3naFuq"
      },
      "source": [
        "#Refrences:\n",
        "#https://www.askpython.com/python/examples/plot-k-means-clusters-python\n",
        "#https://towardsdatascience.com/visualizing-clusters-with-pythons-matplolib-35ae03d87489\n",
        "#https://www.datacamp.com/workspace/templates/recipe-python-k-means\n",
        "#https://pandas.pydata.org/docs/reference/api/pandas.concat.html\n",
        "#https://datascience.stackexchange.com/questions/48693/perform-k-means-clustering-over-multiple-columns\n",
        "#https://www.kaggle.com/dhanyajothimani/basic-visualization-and-clustering-in-python\n",
        "#https://medium.com/pursuitnotes/k-means-clustering-model-in-6-steps-with-python-35b532cfa8ad\n",
        "#https://medium.com/@zafaralibagh6/a-simple-word2vec-tutorial-61e64e38a6a1\n",
        "#http://www.ultravioletanalytics.com/blog/tf-idf-basics-with-pandas-scikit-learn\n",
        "#https://israelg99.github.io/2017-03-23-Word2Vec-Explained/\n",
        "#http://mccormickml.com/2016/04/27/word2vec-resources/\n",
        "#https://www.kaggle.com/c/word2vec-nlp-tutorial/overview/part-1-for-beginners-bag-of-words\n",
        "#https://rare-technologies.com/deep-learning-with-word2vec-and-gensim/\n",
        "#https://towardsdatascience.com/tf-idf-for-document-ranking-from-scratch-in-python-on-real-world-dataset-796d339a4089\n",
        "#https://kavita-ganesan.com/extracting-keywords-from-text-tfidf/#.YaV-N9DMI2y\n",
        "#https://stevenloria.com/tf-idf/\n",
        "#https://towardsdatascience.com/how-important-are-the-words-in-your-text-data-tf-idf-answers-6fdc733bb066\n",
        "#https://www.kaggle.com/dhanyajothimani/basic-visualization-and-clustering-in-python\n",
        "#https://stackabuse.com/how-to-set-axis-range-xlim-ylim-in-matplotlib/"
      ],
      "execution_count": 251,
      "outputs": []
    },
    {
      "cell_type": "code",
      "metadata": {
        "colab": {
          "base_uri": "https://localhost:8080/"
        },
        "id": "5-8sYKKAvXqe",
        "outputId": "de91bcd9-21ff-40b7-badd-c4975c128d5f"
      },
      "source": [
        "#imports\n",
        "import os\n",
        "import random\n",
        "import re\n",
        "import string\n",
        "import pandas as pd\n",
        "import seaborn as sns\n",
        "import numpy as np\n",
        "import nltk\n",
        "nltk.download('stopwords')  \n",
        "from bs4 import BeautifulSoup  \n",
        "from nltk.corpus import stopwords    \n",
        "from sklearn.cluster import KMeans\n",
        "import matplotlib.pyplot as plt\n",
        "from sklearn.feature_extraction.text import CountVectorizer\n",
        "from sklearn.cluster import MiniBatchKMeans\n",
        "from sklearn.decomposition import PCA\n",
        "from gensim.models import Word2Vec\n",
        "from nltk import word_tokenize\n",
        "from sklearn.metrics import silhouette_samples, silhouette_score\n",
        "from sklearn.feature_extraction.text import TfidfTransformer\n",
        "from nltk.stem.snowball import SnowballStemmer\n",
        "from sklearn.feature_extraction.text import TfidfVectorizer\n",
        "\n",
        "SEED = 42\n",
        "random.seed(SEED)\n",
        "os.environ[\"PYTHONHASHSEED\"] = str(SEED)\n",
        "np.random.seed(SEED)\n",
        "nltk.download('punkt')"
      ],
      "execution_count": 252,
      "outputs": [
        {
          "output_type": "stream",
          "name": "stdout",
          "text": [
            "[nltk_data] Downloading package stopwords to /root/nltk_data...\n",
            "[nltk_data]   Package stopwords is already up-to-date!\n",
            "[nltk_data] Downloading package punkt to /root/nltk_data...\n",
            "[nltk_data]   Package punkt is already up-to-date!\n"
          ]
        },
        {
          "output_type": "execute_result",
          "data": {
            "text/plain": [
              "True"
            ]
          },
          "metadata": {},
          "execution_count": 252
        }
      ]
    },
    {
      "cell_type": "code",
      "metadata": {
        "id": "OsWSvYPrvTQS"
      },
      "source": [
        "#Reading the CSVs: Github and Matlab\n",
        "matUrl = '/MATC_Projects1.csv'\n",
        "gitUrl = '/GitHub_Projects.csv'\n",
        "url2 = '/MATC_Metric.csv'\n",
        "url3 = '/GitHub_Metric.csv'\n",
        "\n",
        "matdf = pd.read_csv(matUrl)\n",
        "gitdf = pd.read_csv(gitUrl)\n",
        "matmetric = pd.read_csv(url2)\n",
        "gitmetric = pd.read_csv(url3)"
      ],
      "execution_count": 253,
      "outputs": []
    },
    {
      "cell_type": "code",
      "metadata": {
        "colab": {
          "base_uri": "https://localhost:8080/",
          "height": 556
        },
        "id": "OT1K1lT44qlY",
        "outputId": "9f765cc2-c418-438a-a622-bac696eb9795"
      },
      "source": [
        "matdf.head()"
      ],
      "execution_count": 254,
      "outputs": [
        {
          "output_type": "execute_result",
          "data": {
            "text/html": [
              "<div>\n",
              "<style scoped>\n",
              "    .dataframe tbody tr th:only-of-type {\n",
              "        vertical-align: middle;\n",
              "    }\n",
              "\n",
              "    .dataframe tbody tr th {\n",
              "        vertical-align: top;\n",
              "    }\n",
              "\n",
              "    .dataframe thead th {\n",
              "        text-align: right;\n",
              "    }\n",
              "</style>\n",
              "<table border=\"1\" class=\"dataframe\">\n",
              "  <thead>\n",
              "    <tr style=\"text-align: right;\">\n",
              "      <th></th>\n",
              "      <th>id</th>\n",
              "      <th>title</th>\n",
              "      <th>author_name</th>\n",
              "      <th>mathworks_url</th>\n",
              "      <th>summary</th>\n",
              "      <th>content</th>\n",
              "      <th>category</th>\n",
              "      <th>author_uri</th>\n",
              "      <th>published</th>\n",
              "      <th>updated</th>\n",
              "      <th>no_of_comments</th>\n",
              "      <th>no_of_ratings</th>\n",
              "      <th>average_rating</th>\n",
              "      <th>downloads</th>\n",
              "      <th>download_link</th>\n",
              "      <th>license</th>\n",
              "      <th>model_files</th>\n",
              "      <th>num_model_file</th>\n",
              "    </tr>\n",
              "  </thead>\n",
              "  <tbody>\n",
              "    <tr>\n",
              "      <th>0</th>\n",
              "      <td>261</td>\n",
              "      <td>RF Design and Analysis</td>\n",
              "      <td>Jackson Harvey</td>\n",
              "      <td>https://www.mathworks.com/matlabcentral/fileex...</td>\n",
              "      <td>A collection of functions, scripts, &amp; Simulink...</td>\n",
              "      <td>&lt;p&gt;This is a collection of MATLAB functions an...</td>\n",
              "      <td>NaN</td>\n",
              "      <td>https://www.mathworks.com/matlabcentral/profil...</td>\n",
              "      <td>2001-07-23 12:51:25.000000</td>\n",
              "      <td>2001-07-23 12:51:25.000000</td>\n",
              "      <td>18</td>\n",
              "      <td>46</td>\n",
              "      <td>4</td>\n",
              "      <td>3</td>\n",
              "      <td>https://www.mathworks.com/matlabcentral/mlc-do...</td>\n",
              "      <td>Copyright (c) 2001, Jackson Harvey\\r\\nAll righ...</td>\n",
              "      <td>RF.mdl,</td>\n",
              "      <td>1</td>\n",
              "    </tr>\n",
              "    <tr>\n",
              "      <th>1</th>\n",
              "      <td>266</td>\n",
              "      <td>smxl</td>\n",
              "      <td>Giampiero Campa</td>\n",
              "      <td>https://www.mathworks.com/matlabcentral/fileex...</td>\n",
              "      <td>The Simulink MatriX Library (SMXL) - a collect...</td>\n",
              "      <td>&lt;p&gt;SMXL (Simulink MatriX Library) it's a power...</td>\n",
              "      <td>NaN</td>\n",
              "      <td>https://www.mathworks.com/matlabcentral/profil...</td>\n",
              "      <td>2007-10-23 08:01:38.000000</td>\n",
              "      <td>2007-10-23 08:01:38.000000</td>\n",
              "      <td>3</td>\n",
              "      <td>4</td>\n",
              "      <td>4</td>\n",
              "      <td>1</td>\n",
              "      <td>https://www.mathworks.com/matlabcentral/mlc-do...</td>\n",
              "      <td>Copyright (c) 1999, Giampiero Campa\\r\\nAll rig...</td>\n",
              "      <td>smxl.mdl,examples/vrsvdex.mdl,examples/vrranke...</td>\n",
              "      <td>15</td>\n",
              "    </tr>\n",
              "    <tr>\n",
              "      <th>2</th>\n",
              "      <td>268</td>\n",
              "      <td>trimmod</td>\n",
              "      <td>Joerg Buchholz</td>\n",
              "      <td>https://www.mathworks.com/matlabcentral/fileex...</td>\n",
              "      <td>TrimMod finds the trim point (equilibrium) of ...</td>\n",
              "      <td>&lt;p&gt;TrimMod finds the trim point (equilibrium) ...</td>\n",
              "      <td>NaN</td>\n",
              "      <td>https://www.mathworks.com/matlabcentral/profil...</td>\n",
              "      <td>2017-03-17 11:54:23.000000</td>\n",
              "      <td>2017-03-17 11:54:23.000000</td>\n",
              "      <td>1</td>\n",
              "      <td>2</td>\n",
              "      <td>5</td>\n",
              "      <td>2</td>\n",
              "      <td>https://www.mathworks.com/matlabcentral/mlc-do...</td>\n",
              "      <td>Copyright (c) 2009, Joerg Buchholz\\r\\nAll righ...</td>\n",
              "      <td>trimmod/trimtest/trimtest_with_vector_outport....</td>\n",
              "      <td>2</td>\n",
              "    </tr>\n",
              "    <tr>\n",
              "      <th>3</th>\n",
              "      <td>722</td>\n",
              "      <td>Bluetooth modulation and frequency hopping</td>\n",
              "      <td>Stuart McGarrity</td>\n",
              "      <td>https://www.mathworks.com/matlabcentral/fileex...</td>\n",
              "      <td>Bluetooth modulation and frequency hopping</td>\n",
              "      <td>&lt;p&gt;Simulink® model of a simple Bluetooth® wire...</td>\n",
              "      <td>bluetooth,frequency,hopping,network,wireless,b...</td>\n",
              "      <td>https://www.mathworks.com/matlabcentral/profil...</td>\n",
              "      <td>2016-09-01 15:00:04.000000</td>\n",
              "      <td>2016-09-01 15:00:04.000000</td>\n",
              "      <td>21</td>\n",
              "      <td>22</td>\n",
              "      <td>4</td>\n",
              "      <td>12</td>\n",
              "      <td>https://www.mathworks.com/matlabcentral/mlc-do...</td>\n",
              "      <td>Copyright (c) 2001, The MathWorks, Inc.\\r\\nAll...</td>\n",
              "      <td>bluetooth.mdl,R12.1 Original Version/bluetooth...</td>\n",
              "      <td>2</td>\n",
              "    </tr>\n",
              "    <tr>\n",
              "      <th>4</th>\n",
              "      <td>724</td>\n",
              "      <td>DTMF generator and receiver</td>\n",
              "      <td>Stuart McGarrity</td>\n",
              "      <td>https://www.mathworks.com/matlabcentral/fileex...</td>\n",
              "      <td>DTMF generator and receiver</td>\n",
              "      <td>&lt;p&gt;Simulink® model of a dual-tone multi-freque...</td>\n",
              "      <td>communications,dtmf,dual tone,multi frequency,...</td>\n",
              "      <td>https://www.mathworks.com/matlabcentral/profil...</td>\n",
              "      <td>2016-09-01 15:00:05.000000</td>\n",
              "      <td>2016-09-01 15:00:05.000000</td>\n",
              "      <td>11</td>\n",
              "      <td>27</td>\n",
              "      <td>3</td>\n",
              "      <td>2</td>\n",
              "      <td>https://www.mathworks.com/matlabcentral/mlc-do...</td>\n",
              "      <td>Copyright (c) 2001, The MathWorks, Inc.\\r\\nAll...</td>\n",
              "      <td>dtmf.mdl,R12.1 Original Version/dtmf.mdl,</td>\n",
              "      <td>2</td>\n",
              "    </tr>\n",
              "  </tbody>\n",
              "</table>\n",
              "</div>"
            ],
            "text/plain": [
              "    id  ... num_model_file\n",
              "0  261  ...              1\n",
              "1  266  ...             15\n",
              "2  268  ...              2\n",
              "3  722  ...              2\n",
              "4  724  ...              2\n",
              "\n",
              "[5 rows x 18 columns]"
            ]
          },
          "metadata": {},
          "execution_count": 254
        }
      ]
    },
    {
      "cell_type": "code",
      "metadata": {
        "colab": {
          "base_uri": "https://localhost:8080/"
        },
        "id": "CuRt9ffqx3Fh",
        "outputId": "1f25f420-40cd-4549-9c3c-c3b021f7f279"
      },
      "source": [
        "matdf.shape"
      ],
      "execution_count": 255,
      "outputs": [
        {
          "output_type": "execute_result",
          "data": {
            "text/plain": [
              "(2724, 18)"
            ]
          },
          "metadata": {},
          "execution_count": 255
        }
      ]
    },
    {
      "cell_type": "code",
      "metadata": {
        "colab": {
          "base_uri": "https://localhost:8080/",
          "height": 538
        },
        "id": "DOhLEXL-4xRP",
        "outputId": "5969dff1-a676-4fc7-cf3e-ac1295f011e0"
      },
      "source": [
        "gitdf.head()"
      ],
      "execution_count": 256,
      "outputs": [
        {
          "output_type": "execute_result",
          "data": {
            "text/html": [
              "<div>\n",
              "<style scoped>\n",
              "    .dataframe tbody tr th:only-of-type {\n",
              "        vertical-align: middle;\n",
              "    }\n",
              "\n",
              "    .dataframe tbody tr th {\n",
              "        vertical-align: top;\n",
              "    }\n",
              "\n",
              "    .dataframe thead th {\n",
              "        text-align: right;\n",
              "    }\n",
              "</style>\n",
              "<table border=\"1\" class=\"dataframe\">\n",
              "  <thead>\n",
              "    <tr style=\"text-align: right;\">\n",
              "      <th></th>\n",
              "      <th>id</th>\n",
              "      <th>repo_name</th>\n",
              "      <th>owner_name</th>\n",
              "      <th>is_private</th>\n",
              "      <th>project_url</th>\n",
              "      <th>Description</th>\n",
              "      <th>is_forked</th>\n",
              "      <th>api_url</th>\n",
              "      <th>created_at</th>\n",
              "      <th>updated_at</th>\n",
              "      <th>pushed_at</th>\n",
              "      <th>homepage_url</th>\n",
              "      <th>size_in_kb</th>\n",
              "      <th>stargazers_count</th>\n",
              "      <th>watchers_count</th>\n",
              "      <th>language</th>\n",
              "      <th>forks_count</th>\n",
              "      <th>open_issues_count</th>\n",
              "      <th>master_branch</th>\n",
              "      <th>default_branch</th>\n",
              "      <th>Topics</th>\n",
              "      <th>license</th>\n",
              "      <th>model_files</th>\n",
              "      <th>num_model_file</th>\n",
              "      <th>version_sha</th>\n",
              "    </tr>\n",
              "  </thead>\n",
              "  <tbody>\n",
              "    <tr>\n",
              "      <th>0</th>\n",
              "      <td>789683</td>\n",
              "      <td>ECAN_dspic</td>\n",
              "      <td>Susurrus</td>\n",
              "      <td>0</td>\n",
              "      <td>https://github.com/Susurrus/ECAN_dspic</td>\n",
              "      <td>An ECAN library for the dsPIC33f in both C and...</td>\n",
              "      <td>0</td>\n",
              "      <td>https://api.github.com/repos/Susurrus/ECAN_dspic</td>\n",
              "      <td>2010-07-21 21:39:55.000000</td>\n",
              "      <td>2017-04-14 04:08:40.000000</td>\n",
              "      <td>2012-11-05 20:00:53.000000</td>\n",
              "      <td>NaN</td>\n",
              "      <td>NaN</td>\n",
              "      <td>0</td>\n",
              "      <td>0</td>\n",
              "      <td>C</td>\n",
              "      <td>7</td>\n",
              "      <td>1</td>\n",
              "      <td>NaN</td>\n",
              "      <td>master</td>\n",
              "      <td>NaN</td>\n",
              "      <td>BSD 2-Clause \"Simplified\" License</td>\n",
              "      <td>ECAN_dspic-master/ecan_dspic.mdl,ECAN_dspic-ma...</td>\n",
              "      <td>3</td>\n",
              "      <td>0051e8902eaf3ba07811c8c1753120d894772937</td>\n",
              "    </tr>\n",
              "    <tr>\n",
              "      <th>1</th>\n",
              "      <td>919495</td>\n",
              "      <td>truetime</td>\n",
              "      <td>sfischme</td>\n",
              "      <td>0</td>\n",
              "      <td>https://github.com/sfischme/truetime</td>\n",
              "      <td>TrueTime is a Matlab/Simulink-based simulator ...</td>\n",
              "      <td>0</td>\n",
              "      <td>https://api.github.com/repos/sfischme/truetime</td>\n",
              "      <td>2010-09-17 21:41:34.000000</td>\n",
              "      <td>2019-02-27 09:29:27.000000</td>\n",
              "      <td>2011-01-05 04:39:50.000000</td>\n",
              "      <td>http://www.control.lth.se/truetime/</td>\n",
              "      <td>NaN</td>\n",
              "      <td>4</td>\n",
              "      <td>4</td>\n",
              "      <td>C++</td>\n",
              "      <td>18</td>\n",
              "      <td>1</td>\n",
              "      <td>NaN</td>\n",
              "      <td>master</td>\n",
              "      <td>NaN</td>\n",
              "      <td>GNU General Public License v3.0</td>\n",
              "      <td>truetime-master/kernel/ttNCM_Wrapper.mdl,truet...</td>\n",
              "      <td>22</td>\n",
              "      <td>d1a288960def71acdf2e8a21ae47aa6d69336fab</td>\n",
              "    </tr>\n",
              "    <tr>\n",
              "      <th>2</th>\n",
              "      <td>4608325</td>\n",
              "      <td>launchpad_ert</td>\n",
              "      <td>kyak</td>\n",
              "      <td>0</td>\n",
              "      <td>https://github.com/kyak/launchpad_ert</td>\n",
              "      <td>Simulink (Embedded Coder) Target for TI LaunchPad</td>\n",
              "      <td>0</td>\n",
              "      <td>https://api.github.com/repos/kyak/launchpad_ert</td>\n",
              "      <td>2012-06-09 15:47:56.000000</td>\n",
              "      <td>2019-10-15 12:09:18.000000</td>\n",
              "      <td>2014-05-20 09:25:11.000000</td>\n",
              "      <td>NaN</td>\n",
              "      <td>NaN</td>\n",
              "      <td>7</td>\n",
              "      <td>7</td>\n",
              "      <td>Matlab</td>\n",
              "      <td>5</td>\n",
              "      <td>0</td>\n",
              "      <td>NaN</td>\n",
              "      <td>master</td>\n",
              "      <td>NaN</td>\n",
              "      <td>Other</td>\n",
              "      <td>launchpad_ert-master/demos/tilp_pil_system.mdl...</td>\n",
              "      <td>11</td>\n",
              "      <td>4b004e42d8736ca807530ae3f3132196477a5181</td>\n",
              "    </tr>\n",
              "    <tr>\n",
              "      <th>3</th>\n",
              "      <td>4790726</td>\n",
              "      <td>osx-sl-joystick</td>\n",
              "      <td>zprime</td>\n",
              "      <td>0</td>\n",
              "      <td>https://github.com/zprime/osx-sl-joystick</td>\n",
              "      <td>Access Joysticks in Simulink on OSX</td>\n",
              "      <td>0</td>\n",
              "      <td>https://api.github.com/repos/zprime/osx-sl-joy...</td>\n",
              "      <td>2012-06-26 04:02:54.000000</td>\n",
              "      <td>2013-12-23 08:33:48.000000</td>\n",
              "      <td>2012-07-19 10:23:38.000000</td>\n",
              "      <td>NaN</td>\n",
              "      <td>NaN</td>\n",
              "      <td>1</td>\n",
              "      <td>1</td>\n",
              "      <td>C++</td>\n",
              "      <td>0</td>\n",
              "      <td>0</td>\n",
              "      <td>NaN</td>\n",
              "      <td>master</td>\n",
              "      <td>NaN</td>\n",
              "      <td>Other</td>\n",
              "      <td>osx-sl-joystick-master/bin/osx_joystick.mdl,</td>\n",
              "      <td>1</td>\n",
              "      <td>35b428b88f1a1a759fe9bcbe4511da9577f42dab</td>\n",
              "    </tr>\n",
              "    <tr>\n",
              "      <th>4</th>\n",
              "      <td>5480060</td>\n",
              "      <td>simulink-rtl-sdr</td>\n",
              "      <td>kit-cel</td>\n",
              "      <td>0</td>\n",
              "      <td>https://github.com/kit-cel/simulink-rtl-sdr</td>\n",
              "      <td>An Open Source Software Package that enables o...</td>\n",
              "      <td>0</td>\n",
              "      <td>https://api.github.com/repos/kit-cel/simulink-...</td>\n",
              "      <td>2012-08-20 10:54:52.000000</td>\n",
              "      <td>2019-04-01 13:00:02.000000</td>\n",
              "      <td>2014-01-22 07:57:36.000000</td>\n",
              "      <td>http://www.cel.kit.edu/simulink_rtl_sdr.php</td>\n",
              "      <td>NaN</td>\n",
              "      <td>27</td>\n",
              "      <td>27</td>\n",
              "      <td>C++</td>\n",
              "      <td>17</td>\n",
              "      <td>1</td>\n",
              "      <td>NaN</td>\n",
              "      <td>master</td>\n",
              "      <td>NaN</td>\n",
              "      <td>GNU General Public License v3.0</td>\n",
              "      <td>simulink-rtl-sdr-master/demo/rtlsdr_spectrum_s...</td>\n",
              "      <td>2</td>\n",
              "      <td>3fefdd32f0f57a1c6de3d00ad999941593447bae</td>\n",
              "    </tr>\n",
              "  </tbody>\n",
              "</table>\n",
              "</div>"
            ],
            "text/plain": [
              "        id  ...                               version_sha\n",
              "0   789683  ...  0051e8902eaf3ba07811c8c1753120d894772937\n",
              "1   919495  ...  d1a288960def71acdf2e8a21ae47aa6d69336fab\n",
              "2  4608325  ...  4b004e42d8736ca807530ae3f3132196477a5181\n",
              "3  4790726  ...  35b428b88f1a1a759fe9bcbe4511da9577f42dab\n",
              "4  5480060  ...  3fefdd32f0f57a1c6de3d00ad999941593447bae\n",
              "\n",
              "[5 rows x 25 columns]"
            ]
          },
          "metadata": {},
          "execution_count": 256
        }
      ]
    },
    {
      "cell_type": "code",
      "metadata": {
        "colab": {
          "base_uri": "https://localhost:8080/",
          "height": 292
        },
        "id": "KPkoLPYi40zu",
        "outputId": "2b73d85e-a30a-489a-b4bb-a0b3f7e39e20"
      },
      "source": [
        "matdf = matdf.drop(columns=['author_uri', 'mathworks_url','published','updated','no_of_comments','no_of_ratings','average_rating','downloads','download_link','license','model_files'])\n",
        "matdf.head()"
      ],
      "execution_count": 257,
      "outputs": [
        {
          "output_type": "execute_result",
          "data": {
            "text/html": [
              "<div>\n",
              "<style scoped>\n",
              "    .dataframe tbody tr th:only-of-type {\n",
              "        vertical-align: middle;\n",
              "    }\n",
              "\n",
              "    .dataframe tbody tr th {\n",
              "        vertical-align: top;\n",
              "    }\n",
              "\n",
              "    .dataframe thead th {\n",
              "        text-align: right;\n",
              "    }\n",
              "</style>\n",
              "<table border=\"1\" class=\"dataframe\">\n",
              "  <thead>\n",
              "    <tr style=\"text-align: right;\">\n",
              "      <th></th>\n",
              "      <th>id</th>\n",
              "      <th>title</th>\n",
              "      <th>author_name</th>\n",
              "      <th>summary</th>\n",
              "      <th>content</th>\n",
              "      <th>category</th>\n",
              "      <th>num_model_file</th>\n",
              "    </tr>\n",
              "  </thead>\n",
              "  <tbody>\n",
              "    <tr>\n",
              "      <th>0</th>\n",
              "      <td>261</td>\n",
              "      <td>RF Design and Analysis</td>\n",
              "      <td>Jackson Harvey</td>\n",
              "      <td>A collection of functions, scripts, &amp; Simulink...</td>\n",
              "      <td>&lt;p&gt;This is a collection of MATLAB functions an...</td>\n",
              "      <td>NaN</td>\n",
              "      <td>1</td>\n",
              "    </tr>\n",
              "    <tr>\n",
              "      <th>1</th>\n",
              "      <td>266</td>\n",
              "      <td>smxl</td>\n",
              "      <td>Giampiero Campa</td>\n",
              "      <td>The Simulink MatriX Library (SMXL) - a collect...</td>\n",
              "      <td>&lt;p&gt;SMXL (Simulink MatriX Library) it's a power...</td>\n",
              "      <td>NaN</td>\n",
              "      <td>15</td>\n",
              "    </tr>\n",
              "    <tr>\n",
              "      <th>2</th>\n",
              "      <td>268</td>\n",
              "      <td>trimmod</td>\n",
              "      <td>Joerg Buchholz</td>\n",
              "      <td>TrimMod finds the trim point (equilibrium) of ...</td>\n",
              "      <td>&lt;p&gt;TrimMod finds the trim point (equilibrium) ...</td>\n",
              "      <td>NaN</td>\n",
              "      <td>2</td>\n",
              "    </tr>\n",
              "    <tr>\n",
              "      <th>3</th>\n",
              "      <td>722</td>\n",
              "      <td>Bluetooth modulation and frequency hopping</td>\n",
              "      <td>Stuart McGarrity</td>\n",
              "      <td>Bluetooth modulation and frequency hopping</td>\n",
              "      <td>&lt;p&gt;Simulink® model of a simple Bluetooth® wire...</td>\n",
              "      <td>bluetooth,frequency,hopping,network,wireless,b...</td>\n",
              "      <td>2</td>\n",
              "    </tr>\n",
              "    <tr>\n",
              "      <th>4</th>\n",
              "      <td>724</td>\n",
              "      <td>DTMF generator and receiver</td>\n",
              "      <td>Stuart McGarrity</td>\n",
              "      <td>DTMF generator and receiver</td>\n",
              "      <td>&lt;p&gt;Simulink® model of a dual-tone multi-freque...</td>\n",
              "      <td>communications,dtmf,dual tone,multi frequency,...</td>\n",
              "      <td>2</td>\n",
              "    </tr>\n",
              "  </tbody>\n",
              "</table>\n",
              "</div>"
            ],
            "text/plain": [
              "    id  ... num_model_file\n",
              "0  261  ...              1\n",
              "1  266  ...             15\n",
              "2  268  ...              2\n",
              "3  722  ...              2\n",
              "4  724  ...              2\n",
              "\n",
              "[5 rows x 7 columns]"
            ]
          },
          "metadata": {},
          "execution_count": 257
        }
      ]
    },
    {
      "cell_type": "code",
      "metadata": {
        "colab": {
          "base_uri": "https://localhost:8080/",
          "height": 206
        },
        "id": "IgjrB_0r48tt",
        "outputId": "2ab5505a-297a-4e76-f0b4-e6088ef1aa78"
      },
      "source": [
        "gitdf = gitdf.drop(columns=['repo_name', 'is_private','project_url','is_forked','api_url','created_at','updated_at','pushed_at','homepage_url','size_in_kb','stargazers_count','watchers_count','forks_count','open_issues_count','master_branch','default_branch','license','model_files','version_sha'])\n",
        "gitdf.head()\n"
      ],
      "execution_count": 258,
      "outputs": [
        {
          "output_type": "execute_result",
          "data": {
            "text/html": [
              "<div>\n",
              "<style scoped>\n",
              "    .dataframe tbody tr th:only-of-type {\n",
              "        vertical-align: middle;\n",
              "    }\n",
              "\n",
              "    .dataframe tbody tr th {\n",
              "        vertical-align: top;\n",
              "    }\n",
              "\n",
              "    .dataframe thead th {\n",
              "        text-align: right;\n",
              "    }\n",
              "</style>\n",
              "<table border=\"1\" class=\"dataframe\">\n",
              "  <thead>\n",
              "    <tr style=\"text-align: right;\">\n",
              "      <th></th>\n",
              "      <th>id</th>\n",
              "      <th>owner_name</th>\n",
              "      <th>Description</th>\n",
              "      <th>language</th>\n",
              "      <th>Topics</th>\n",
              "      <th>num_model_file</th>\n",
              "    </tr>\n",
              "  </thead>\n",
              "  <tbody>\n",
              "    <tr>\n",
              "      <th>0</th>\n",
              "      <td>789683</td>\n",
              "      <td>Susurrus</td>\n",
              "      <td>An ECAN library for the dsPIC33f in both C and...</td>\n",
              "      <td>C</td>\n",
              "      <td>NaN</td>\n",
              "      <td>3</td>\n",
              "    </tr>\n",
              "    <tr>\n",
              "      <th>1</th>\n",
              "      <td>919495</td>\n",
              "      <td>sfischme</td>\n",
              "      <td>TrueTime is a Matlab/Simulink-based simulator ...</td>\n",
              "      <td>C++</td>\n",
              "      <td>NaN</td>\n",
              "      <td>22</td>\n",
              "    </tr>\n",
              "    <tr>\n",
              "      <th>2</th>\n",
              "      <td>4608325</td>\n",
              "      <td>kyak</td>\n",
              "      <td>Simulink (Embedded Coder) Target for TI LaunchPad</td>\n",
              "      <td>Matlab</td>\n",
              "      <td>NaN</td>\n",
              "      <td>11</td>\n",
              "    </tr>\n",
              "    <tr>\n",
              "      <th>3</th>\n",
              "      <td>4790726</td>\n",
              "      <td>zprime</td>\n",
              "      <td>Access Joysticks in Simulink on OSX</td>\n",
              "      <td>C++</td>\n",
              "      <td>NaN</td>\n",
              "      <td>1</td>\n",
              "    </tr>\n",
              "    <tr>\n",
              "      <th>4</th>\n",
              "      <td>5480060</td>\n",
              "      <td>kit-cel</td>\n",
              "      <td>An Open Source Software Package that enables o...</td>\n",
              "      <td>C++</td>\n",
              "      <td>NaN</td>\n",
              "      <td>2</td>\n",
              "    </tr>\n",
              "  </tbody>\n",
              "</table>\n",
              "</div>"
            ],
            "text/plain": [
              "        id owner_name  ... Topics num_model_file\n",
              "0   789683   Susurrus  ...    NaN              3\n",
              "1   919495   sfischme  ...    NaN             22\n",
              "2  4608325       kyak  ...    NaN             11\n",
              "3  4790726     zprime  ...    NaN              1\n",
              "4  5480060    kit-cel  ...    NaN              2\n",
              "\n",
              "[5 rows x 6 columns]"
            ]
          },
          "metadata": {},
          "execution_count": 258
        }
      ]
    },
    {
      "cell_type": "code",
      "metadata": {
        "colab": {
          "base_uri": "https://localhost:8080/"
        },
        "id": "5pwIFci44PT1",
        "outputId": "966e92b2-cbef-47d4-b5d5-4cc18af46fbf"
      },
      "source": [
        "gitdf.shape"
      ],
      "execution_count": 259,
      "outputs": [
        {
          "output_type": "execute_result",
          "data": {
            "text/plain": [
              "(225, 6)"
            ]
          },
          "metadata": {},
          "execution_count": 259
        }
      ]
    },
    {
      "cell_type": "code",
      "metadata": {
        "colab": {
          "base_uri": "https://localhost:8080/",
          "height": 243
        },
        "id": "QaSWiMYm5FZr",
        "outputId": "93fe0161-cbb6-4bbf-d7e7-94b9341c948a"
      },
      "source": [
        "matmetric.head()"
      ],
      "execution_count": 260,
      "outputs": [
        {
          "output_type": "execute_result",
          "data": {
            "text/html": [
              "<div>\n",
              "<style scoped>\n",
              "    .dataframe tbody tr th:only-of-type {\n",
              "        vertical-align: middle;\n",
              "    }\n",
              "\n",
              "    .dataframe tbody tr th {\n",
              "        vertical-align: top;\n",
              "    }\n",
              "\n",
              "    .dataframe thead th {\n",
              "        text-align: right;\n",
              "    }\n",
              "</style>\n",
              "<table border=\"1\" class=\"dataframe\">\n",
              "  <thead>\n",
              "    <tr style=\"text-align: right;\">\n",
              "      <th></th>\n",
              "      <th>ID</th>\n",
              "      <th>FILE_ID</th>\n",
              "      <th>Model_Name</th>\n",
              "      <th>file_path</th>\n",
              "      <th>is_test</th>\n",
              "      <th>is_Lib</th>\n",
              "      <th>SCHK_Block_count</th>\n",
              "      <th>SLDiag_Block_count</th>\n",
              "      <th>SubSystem_count_Top</th>\n",
              "      <th>Agg_SubSystem_count</th>\n",
              "      <th>Hierarchy_depth</th>\n",
              "      <th>LibraryLinked_Count</th>\n",
              "      <th>compiles</th>\n",
              "      <th>CComplexity</th>\n",
              "      <th>Sim_time</th>\n",
              "      <th>Compile_time</th>\n",
              "      <th>Alge_loop_Cnt</th>\n",
              "      <th>target_hw</th>\n",
              "      <th>solver_type</th>\n",
              "      <th>sim_mode</th>\n",
              "      <th>total_ConnH_cnt</th>\n",
              "      <th>total_desc_cnt</th>\n",
              "      <th>ncs_cnt</th>\n",
              "      <th>scc_cnt</th>\n",
              "      <th>unique_sfun_count</th>\n",
              "      <th>sfun_nam_count</th>\n",
              "      <th>mdlref_nam_count</th>\n",
              "      <th>unique_mdl_ref_count</th>\n",
              "    </tr>\n",
              "  </thead>\n",
              "  <tbody>\n",
              "    <tr>\n",
              "      <th>0</th>\n",
              "      <td>1</td>\n",
              "      <td>10335</td>\n",
              "      <td>gpsnoise.mdl</td>\n",
              "      <td>workdirtmp\\gpsnoise.mdl</td>\n",
              "      <td>-1</td>\n",
              "      <td>0</td>\n",
              "      <td>18</td>\n",
              "      <td>30</td>\n",
              "      <td>1</td>\n",
              "      <td>2</td>\n",
              "      <td>3</td>\n",
              "      <td>0</td>\n",
              "      <td>1</td>\n",
              "      <td>0</td>\n",
              "      <td>500.0</td>\n",
              "      <td>0.106</td>\n",
              "      <td>0</td>\n",
              "      <td>Unspecified</td>\n",
              "      <td>Variable-step</td>\n",
              "      <td>normal</td>\n",
              "      <td>15</td>\n",
              "      <td>2</td>\n",
              "      <td>2</td>\n",
              "      <td>0</td>\n",
              "      <td>0</td>\n",
              "      <td>NaN</td>\n",
              "      <td>NaN</td>\n",
              "      <td>0</td>\n",
              "    </tr>\n",
              "    <tr>\n",
              "      <th>1</th>\n",
              "      <td>2</td>\n",
              "      <td>10439</td>\n",
              "      <td>mpc555_mtrctrl.mdl</td>\n",
              "      <td>workdirtmp\\mpc555_mtrctrl\\blockset\\mpc555_mtrc...</td>\n",
              "      <td>-1</td>\n",
              "      <td>1</td>\n",
              "      <td>-1</td>\n",
              "      <td>-1</td>\n",
              "      <td>-1</td>\n",
              "      <td>-1</td>\n",
              "      <td>-1</td>\n",
              "      <td>-1</td>\n",
              "      <td>-1</td>\n",
              "      <td>-1</td>\n",
              "      <td>-1.0</td>\n",
              "      <td>-1.000</td>\n",
              "      <td>-1</td>\n",
              "      <td>NaN</td>\n",
              "      <td>NaN</td>\n",
              "      <td>NaN</td>\n",
              "      <td>-1</td>\n",
              "      <td>-1</td>\n",
              "      <td>-1</td>\n",
              "      <td>-1</td>\n",
              "      <td>-1</td>\n",
              "      <td>NaN</td>\n",
              "      <td>NaN</td>\n",
              "      <td>-1</td>\n",
              "    </tr>\n",
              "    <tr>\n",
              "      <th>2</th>\n",
              "      <td>3</td>\n",
              "      <td>10439</td>\n",
              "      <td>mpc555_mtrctrl_ekf_experimental.mdl</td>\n",
              "      <td>workdirtmp\\mpc555_mtrctrl\\blockset\\mpc555_mtrc...</td>\n",
              "      <td>-1</td>\n",
              "      <td>1</td>\n",
              "      <td>-1</td>\n",
              "      <td>-1</td>\n",
              "      <td>-1</td>\n",
              "      <td>-1</td>\n",
              "      <td>-1</td>\n",
              "      <td>-1</td>\n",
              "      <td>-1</td>\n",
              "      <td>-1</td>\n",
              "      <td>-1.0</td>\n",
              "      <td>-1.000</td>\n",
              "      <td>-1</td>\n",
              "      <td>NaN</td>\n",
              "      <td>NaN</td>\n",
              "      <td>NaN</td>\n",
              "      <td>-1</td>\n",
              "      <td>-1</td>\n",
              "      <td>-1</td>\n",
              "      <td>-1</td>\n",
              "      <td>-1</td>\n",
              "      <td>NaN</td>\n",
              "      <td>NaN</td>\n",
              "      <td>-1</td>\n",
              "    </tr>\n",
              "    <tr>\n",
              "      <th>3</th>\n",
              "      <td>4</td>\n",
              "      <td>10439</td>\n",
              "      <td>mpc555_mtrctrl_library.mdl</td>\n",
              "      <td>workdirtmp\\mpc555_mtrctrl\\blockset\\mpc555_mtrc...</td>\n",
              "      <td>-1</td>\n",
              "      <td>1</td>\n",
              "      <td>-1</td>\n",
              "      <td>-1</td>\n",
              "      <td>-1</td>\n",
              "      <td>-1</td>\n",
              "      <td>-1</td>\n",
              "      <td>-1</td>\n",
              "      <td>-1</td>\n",
              "      <td>-1</td>\n",
              "      <td>-1.0</td>\n",
              "      <td>-1.000</td>\n",
              "      <td>-1</td>\n",
              "      <td>NaN</td>\n",
              "      <td>NaN</td>\n",
              "      <td>NaN</td>\n",
              "      <td>-1</td>\n",
              "      <td>-1</td>\n",
              "      <td>-1</td>\n",
              "      <td>-1</td>\n",
              "      <td>-1</td>\n",
              "      <td>NaN</td>\n",
              "      <td>NaN</td>\n",
              "      <td>-1</td>\n",
              "    </tr>\n",
              "    <tr>\n",
              "      <th>4</th>\n",
              "      <td>5</td>\n",
              "      <td>10439</td>\n",
              "      <td>EngineControl.mdl</td>\n",
              "      <td>workdirtmp\\mpc555_mtrctrl\\demos\\EngineControl.mdl</td>\n",
              "      <td>-1</td>\n",
              "      <td>0</td>\n",
              "      <td>54</td>\n",
              "      <td>313</td>\n",
              "      <td>14</td>\n",
              "      <td>15</td>\n",
              "      <td>2</td>\n",
              "      <td>8</td>\n",
              "      <td>0</td>\n",
              "      <td>-1</td>\n",
              "      <td>10.0</td>\n",
              "      <td>-1.000</td>\n",
              "      <td>-1</td>\n",
              "      <td>Motorola PowerPC</td>\n",
              "      <td>Fixed-step</td>\n",
              "      <td>normal</td>\n",
              "      <td>49</td>\n",
              "      <td>7</td>\n",
              "      <td>7</td>\n",
              "      <td>1</td>\n",
              "      <td>0</td>\n",
              "      <td>NaN</td>\n",
              "      <td>NaN</td>\n",
              "      <td>0</td>\n",
              "    </tr>\n",
              "  </tbody>\n",
              "</table>\n",
              "</div>"
            ],
            "text/plain": [
              "   ID  FILE_ID  ... mdlref_nam_count unique_mdl_ref_count\n",
              "0   1    10335  ...              NaN                    0\n",
              "1   2    10439  ...              NaN                   -1\n",
              "2   3    10439  ...              NaN                   -1\n",
              "3   4    10439  ...              NaN                   -1\n",
              "4   5    10439  ...              NaN                    0\n",
              "\n",
              "[5 rows x 28 columns]"
            ]
          },
          "metadata": {},
          "execution_count": 260
        }
      ]
    },
    {
      "cell_type": "code",
      "metadata": {
        "colab": {
          "base_uri": "https://localhost:8080/",
          "height": 312
        },
        "id": "kkijUgK_5Lbx",
        "outputId": "3487c235-080b-4463-f038-d781daa2a02d"
      },
      "source": [
        "gitmetric.head()"
      ],
      "execution_count": 261,
      "outputs": [
        {
          "output_type": "execute_result",
          "data": {
            "text/html": [
              "<div>\n",
              "<style scoped>\n",
              "    .dataframe tbody tr th:only-of-type {\n",
              "        vertical-align: middle;\n",
              "    }\n",
              "\n",
              "    .dataframe tbody tr th {\n",
              "        vertical-align: top;\n",
              "    }\n",
              "\n",
              "    .dataframe thead th {\n",
              "        text-align: right;\n",
              "    }\n",
              "</style>\n",
              "<table border=\"1\" class=\"dataframe\">\n",
              "  <thead>\n",
              "    <tr style=\"text-align: right;\">\n",
              "      <th></th>\n",
              "      <th>ID</th>\n",
              "      <th>FILE_ID</th>\n",
              "      <th>Model_Name</th>\n",
              "      <th>file_path</th>\n",
              "      <th>is_test</th>\n",
              "      <th>is_Lib</th>\n",
              "      <th>SCHK_Block_count</th>\n",
              "      <th>SLDiag_Block_count</th>\n",
              "      <th>SubSystem_count_Top</th>\n",
              "      <th>Agg_SubSystem_count</th>\n",
              "      <th>Hierarchy_depth</th>\n",
              "      <th>LibraryLinked_Count</th>\n",
              "      <th>compiles</th>\n",
              "      <th>CComplexity</th>\n",
              "      <th>Sim_time</th>\n",
              "      <th>Compile_time</th>\n",
              "      <th>Alge_loop_Cnt</th>\n",
              "      <th>target_hw</th>\n",
              "      <th>solver_type</th>\n",
              "      <th>sim_mode</th>\n",
              "      <th>total_ConnH_cnt</th>\n",
              "      <th>total_desc_cnt</th>\n",
              "      <th>ncs_cnt</th>\n",
              "      <th>scc_cnt</th>\n",
              "      <th>unique_sfun_count</th>\n",
              "      <th>sfun_nam_count</th>\n",
              "      <th>mdlref_nam_count</th>\n",
              "      <th>unique_mdl_ref_count</th>\n",
              "    </tr>\n",
              "  </thead>\n",
              "  <tbody>\n",
              "    <tr>\n",
              "      <th>0</th>\n",
              "      <td>1</td>\n",
              "      <td>100042416</td>\n",
              "      <td>BlankCntrlr_model.mdl</td>\n",
              "      <td>workdirtmp\\DISCON_Simulink-master\\Simulink_32b...</td>\n",
              "      <td>-1</td>\n",
              "      <td>0</td>\n",
              "      <td>48</td>\n",
              "      <td>48</td>\n",
              "      <td>1</td>\n",
              "      <td>1</td>\n",
              "      <td>2</td>\n",
              "      <td>0</td>\n",
              "      <td>0</td>\n",
              "      <td>-1</td>\n",
              "      <td>-1.0</td>\n",
              "      <td>-1.00</td>\n",
              "      <td>-1</td>\n",
              "      <td>32-bit Generic</td>\n",
              "      <td>Fixed-step</td>\n",
              "      <td>normal</td>\n",
              "      <td>33</td>\n",
              "      <td>1</td>\n",
              "      <td>1</td>\n",
              "      <td>0</td>\n",
              "      <td>0</td>\n",
              "      <td>NaN</td>\n",
              "      <td>NaN</td>\n",
              "      <td>0</td>\n",
              "    </tr>\n",
              "    <tr>\n",
              "      <th>1</th>\n",
              "      <td>2</td>\n",
              "      <td>100042416</td>\n",
              "      <td>DISCON_Empty.slx</td>\n",
              "      <td>workdirtmp\\DISCON_Simulink-master\\Simulink_64b...</td>\n",
              "      <td>-1</td>\n",
              "      <td>0</td>\n",
              "      <td>66</td>\n",
              "      <td>66</td>\n",
              "      <td>0</td>\n",
              "      <td>0</td>\n",
              "      <td>1</td>\n",
              "      <td>0</td>\n",
              "      <td>0</td>\n",
              "      <td>-1</td>\n",
              "      <td>-1.0</td>\n",
              "      <td>-1.00</td>\n",
              "      <td>-1</td>\n",
              "      <td>32-bit Generic</td>\n",
              "      <td>Fixed-step</td>\n",
              "      <td>normal</td>\n",
              "      <td>0</td>\n",
              "      <td>0</td>\n",
              "      <td>0</td>\n",
              "      <td>0</td>\n",
              "      <td>0</td>\n",
              "      <td>NaN</td>\n",
              "      <td>NaN</td>\n",
              "      <td>0</td>\n",
              "    </tr>\n",
              "    <tr>\n",
              "      <th>2</th>\n",
              "      <td>3</td>\n",
              "      <td>100042416</td>\n",
              "      <td>DISCON_NREL5MW.slx</td>\n",
              "      <td>workdirtmp\\DISCON_Simulink-master\\Simulink_64b...</td>\n",
              "      <td>-1</td>\n",
              "      <td>0</td>\n",
              "      <td>145</td>\n",
              "      <td>145</td>\n",
              "      <td>5</td>\n",
              "      <td>8</td>\n",
              "      <td>3</td>\n",
              "      <td>0</td>\n",
              "      <td>0</td>\n",
              "      <td>-1</td>\n",
              "      <td>-1.0</td>\n",
              "      <td>-1.00</td>\n",
              "      <td>-1</td>\n",
              "      <td>32-bit Generic</td>\n",
              "      <td>Fixed-step</td>\n",
              "      <td>normal</td>\n",
              "      <td>86</td>\n",
              "      <td>13</td>\n",
              "      <td>13</td>\n",
              "      <td>0</td>\n",
              "      <td>0</td>\n",
              "      <td>NaN</td>\n",
              "      <td>NaN</td>\n",
              "      <td>0</td>\n",
              "    </tr>\n",
              "    <tr>\n",
              "      <th>3</th>\n",
              "      <td>4</td>\n",
              "      <td>100381142</td>\n",
              "      <td>OmegaTest.slx</td>\n",
              "      <td>workdirtmp\\Omega6_Simulink_Integration-master\\...</td>\n",
              "      <td>-1</td>\n",
              "      <td>0</td>\n",
              "      <td>14</td>\n",
              "      <td>14</td>\n",
              "      <td>0</td>\n",
              "      <td>0</td>\n",
              "      <td>1</td>\n",
              "      <td>0</td>\n",
              "      <td>0</td>\n",
              "      <td>-1</td>\n",
              "      <td>-1.0</td>\n",
              "      <td>-1.00</td>\n",
              "      <td>-1</td>\n",
              "      <td>32-bit Generic</td>\n",
              "      <td>Fixed-step</td>\n",
              "      <td>normal</td>\n",
              "      <td>22</td>\n",
              "      <td>1</td>\n",
              "      <td>1</td>\n",
              "      <td>1</td>\n",
              "      <td>1</td>\n",
              "      <td>,OmegaInterface_1</td>\n",
              "      <td>NaN</td>\n",
              "      <td>0</td>\n",
              "    </tr>\n",
              "    <tr>\n",
              "      <th>4</th>\n",
              "      <td>5</td>\n",
              "      <td>100999374</td>\n",
              "      <td>Arrays1V2.mdl</td>\n",
              "      <td>workdirtmp\\cocoSim2-master\\examples\\StateFlow\\...</td>\n",
              "      <td>-1</td>\n",
              "      <td>0</td>\n",
              "      <td>35</td>\n",
              "      <td>43</td>\n",
              "      <td>2</td>\n",
              "      <td>2</td>\n",
              "      <td>2</td>\n",
              "      <td>0</td>\n",
              "      <td>1</td>\n",
              "      <td>10</td>\n",
              "      <td>10000.0</td>\n",
              "      <td>0.31</td>\n",
              "      <td>0</td>\n",
              "      <td>Unspecified</td>\n",
              "      <td>Fixed-step</td>\n",
              "      <td>normal</td>\n",
              "      <td>38</td>\n",
              "      <td>3</td>\n",
              "      <td>3</td>\n",
              "      <td>0</td>\n",
              "      <td>0</td>\n",
              "      <td>NaN</td>\n",
              "      <td>NaN</td>\n",
              "      <td>0</td>\n",
              "    </tr>\n",
              "  </tbody>\n",
              "</table>\n",
              "</div>"
            ],
            "text/plain": [
              "   ID    FILE_ID  ... mdlref_nam_count unique_mdl_ref_count\n",
              "0   1  100042416  ...              NaN                    0\n",
              "1   2  100042416  ...              NaN                    0\n",
              "2   3  100042416  ...              NaN                    0\n",
              "3   4  100381142  ...              NaN                    0\n",
              "4   5  100999374  ...              NaN                    0\n",
              "\n",
              "[5 rows x 28 columns]"
            ]
          },
          "metadata": {},
          "execution_count": 261
        }
      ]
    },
    {
      "cell_type": "code",
      "metadata": {
        "colab": {
          "base_uri": "https://localhost:8080/"
        },
        "id": "30Wtabnn580G",
        "outputId": "46c62ef1-9f0a-4604-9683-d57811fe6f32"
      },
      "source": [
        "gitmetric.shape\n"
      ],
      "execution_count": 262,
      "outputs": [
        {
          "output_type": "execute_result",
          "data": {
            "text/plain": [
              "(2048, 28)"
            ]
          },
          "metadata": {},
          "execution_count": 262
        }
      ]
    },
    {
      "cell_type": "code",
      "metadata": {
        "colab": {
          "base_uri": "https://localhost:8080/"
        },
        "id": "vIttl_2b6Hku",
        "outputId": "7ae692e6-47a9-48db-f901-cc0587bc59eb"
      },
      "source": [
        "gitmetric = gitmetric[gitmetric.is_Lib == 0]\n",
        "gitmetric.shape"
      ],
      "execution_count": 263,
      "outputs": [
        {
          "output_type": "execute_result",
          "data": {
            "text/plain": [
              "(1620, 28)"
            ]
          },
          "metadata": {},
          "execution_count": 263
        }
      ]
    },
    {
      "cell_type": "code",
      "metadata": {
        "colab": {
          "base_uri": "https://localhost:8080/"
        },
        "id": "hYpRqCPz5dB6",
        "outputId": "d7bbb257-6805-475e-a142-2820e3ef628d"
      },
      "source": [
        "\n",
        "gitmetric = gitmetric.groupby('FILE_ID').agg({'SCHK_Block_count':'sum', \n",
        "                                                            'Agg_SubSystem_count':'sum', \n",
        "                                                            'Hierarchy_depth':'max', \n",
        "                                                            'LibraryLinked_Count': 'sum',\n",
        "                                                            'total_ConnH_cnt': 'sum'\n",
        "                                                           }).reset_index()\n",
        "\n",
        "gitmetric.shape"
      ],
      "execution_count": 264,
      "outputs": [
        {
          "output_type": "execute_result",
          "data": {
            "text/plain": [
              "(216, 6)"
            ]
          },
          "metadata": {},
          "execution_count": 264
        }
      ]
    },
    {
      "cell_type": "code",
      "metadata": {
        "colab": {
          "base_uri": "https://localhost:8080/",
          "height": 423
        },
        "id": "tJ1EUYmy6Xk9",
        "outputId": "12d0fd21-541c-471a-e52c-05f7cf1ce277"
      },
      "source": [
        "gitmetric"
      ],
      "execution_count": 265,
      "outputs": [
        {
          "output_type": "execute_result",
          "data": {
            "text/html": [
              "<div>\n",
              "<style scoped>\n",
              "    .dataframe tbody tr th:only-of-type {\n",
              "        vertical-align: middle;\n",
              "    }\n",
              "\n",
              "    .dataframe tbody tr th {\n",
              "        vertical-align: top;\n",
              "    }\n",
              "\n",
              "    .dataframe thead th {\n",
              "        text-align: right;\n",
              "    }\n",
              "</style>\n",
              "<table border=\"1\" class=\"dataframe\">\n",
              "  <thead>\n",
              "    <tr style=\"text-align: right;\">\n",
              "      <th></th>\n",
              "      <th>FILE_ID</th>\n",
              "      <th>SCHK_Block_count</th>\n",
              "      <th>Agg_SubSystem_count</th>\n",
              "      <th>Hierarchy_depth</th>\n",
              "      <th>LibraryLinked_Count</th>\n",
              "      <th>total_ConnH_cnt</th>\n",
              "    </tr>\n",
              "  </thead>\n",
              "  <tbody>\n",
              "    <tr>\n",
              "      <th>0</th>\n",
              "      <td>789683</td>\n",
              "      <td>50</td>\n",
              "      <td>11</td>\n",
              "      <td>3</td>\n",
              "      <td>6</td>\n",
              "      <td>33</td>\n",
              "    </tr>\n",
              "    <tr>\n",
              "      <th>1</th>\n",
              "      <td>919495</td>\n",
              "      <td>921</td>\n",
              "      <td>150</td>\n",
              "      <td>3</td>\n",
              "      <td>83</td>\n",
              "      <td>905</td>\n",
              "    </tr>\n",
              "    <tr>\n",
              "      <th>2</th>\n",
              "      <td>4608325</td>\n",
              "      <td>382</td>\n",
              "      <td>55</td>\n",
              "      <td>3</td>\n",
              "      <td>20</td>\n",
              "      <td>243</td>\n",
              "    </tr>\n",
              "    <tr>\n",
              "      <th>3</th>\n",
              "      <td>5480060</td>\n",
              "      <td>3</td>\n",
              "      <td>0</td>\n",
              "      <td>1</td>\n",
              "      <td>1</td>\n",
              "      <td>1</td>\n",
              "    </tr>\n",
              "    <tr>\n",
              "      <th>4</th>\n",
              "      <td>5791243</td>\n",
              "      <td>3</td>\n",
              "      <td>0</td>\n",
              "      <td>1</td>\n",
              "      <td>1</td>\n",
              "      <td>1</td>\n",
              "    </tr>\n",
              "    <tr>\n",
              "      <th>...</th>\n",
              "      <td>...</td>\n",
              "      <td>...</td>\n",
              "      <td>...</td>\n",
              "      <td>...</td>\n",
              "      <td>...</td>\n",
              "      <td>...</td>\n",
              "    </tr>\n",
              "    <tr>\n",
              "      <th>211</th>\n",
              "      <td>225357093</td>\n",
              "      <td>7</td>\n",
              "      <td>0</td>\n",
              "      <td>1</td>\n",
              "      <td>1</td>\n",
              "      <td>6</td>\n",
              "    </tr>\n",
              "    <tr>\n",
              "      <th>212</th>\n",
              "      <td>225390839</td>\n",
              "      <td>464</td>\n",
              "      <td>14</td>\n",
              "      <td>3</td>\n",
              "      <td>0</td>\n",
              "      <td>513</td>\n",
              "    </tr>\n",
              "    <tr>\n",
              "      <th>213</th>\n",
              "      <td>228030852</td>\n",
              "      <td>522</td>\n",
              "      <td>29</td>\n",
              "      <td>3</td>\n",
              "      <td>0</td>\n",
              "      <td>601</td>\n",
              "    </tr>\n",
              "    <tr>\n",
              "      <th>214</th>\n",
              "      <td>228427943</td>\n",
              "      <td>667</td>\n",
              "      <td>102</td>\n",
              "      <td>6</td>\n",
              "      <td>26</td>\n",
              "      <td>598</td>\n",
              "    </tr>\n",
              "    <tr>\n",
              "      <th>215</th>\n",
              "      <td>228431862</td>\n",
              "      <td>26</td>\n",
              "      <td>0</td>\n",
              "      <td>1</td>\n",
              "      <td>0</td>\n",
              "      <td>27</td>\n",
              "    </tr>\n",
              "  </tbody>\n",
              "</table>\n",
              "<p>216 rows × 6 columns</p>\n",
              "</div>"
            ],
            "text/plain": [
              "       FILE_ID  SCHK_Block_count  ...  LibraryLinked_Count  total_ConnH_cnt\n",
              "0       789683                50  ...                    6               33\n",
              "1       919495               921  ...                   83              905\n",
              "2      4608325               382  ...                   20              243\n",
              "3      5480060                 3  ...                    1                1\n",
              "4      5791243                 3  ...                    1                1\n",
              "..         ...               ...  ...                  ...              ...\n",
              "211  225357093                 7  ...                    1                6\n",
              "212  225390839               464  ...                    0              513\n",
              "213  228030852               522  ...                    0              601\n",
              "214  228427943               667  ...                   26              598\n",
              "215  228431862                26  ...                    0               27\n",
              "\n",
              "[216 rows x 6 columns]"
            ]
          },
          "metadata": {},
          "execution_count": 265
        }
      ]
    },
    {
      "cell_type": "code",
      "metadata": {
        "colab": {
          "base_uri": "https://localhost:8080/"
        },
        "id": "6yBlk4WfyAL5",
        "outputId": "a8174ed7-5df9-4fa5-fe81-268221f22dbe"
      },
      "source": [
        "matmetric = matmetric[matmetric.is_Lib == 0]\n",
        "matmetric = matmetric.groupby('FILE_ID').agg({'SCHK_Block_count':'sum', \n",
        "                                                            'Agg_SubSystem_count':'sum', \n",
        "                                                            'Hierarchy_depth':'max', \n",
        "                                                            'LibraryLinked_Count': 'sum',\n",
        "                                                            'total_ConnH_cnt': 'sum'\n",
        "                                                           }).reset_index()\n",
        "\n",
        "matmetric.shape"
      ],
      "execution_count": 266,
      "outputs": [
        {
          "output_type": "execute_result",
          "data": {
            "text/plain": [
              "(2704, 6)"
            ]
          },
          "metadata": {},
          "execution_count": 266
        }
      ]
    },
    {
      "cell_type": "code",
      "metadata": {
        "id": "IOF6zOby6ytM"
      },
      "source": [
        "matdf = matdf.rename(columns={\"id\": \"FILE_ID\"})\n",
        "gitdf = gitdf.rename(columns={\"id\": \"FILE_ID\"})"
      ],
      "execution_count": 267,
      "outputs": []
    },
    {
      "cell_type": "code",
      "metadata": {
        "colab": {
          "base_uri": "https://localhost:8080/",
          "height": 258
        },
        "id": "2EgMBtpr3BuK",
        "outputId": "ada21442-a38b-4968-8ca0-57e88d2b7165"
      },
      "source": [
        "merged_Github= pd.merge(gitdf, gitmetric, on=\"FILE_ID\")\n",
        "merged_Github.head(5)"
      ],
      "execution_count": 268,
      "outputs": [
        {
          "output_type": "execute_result",
          "data": {
            "text/html": [
              "<div>\n",
              "<style scoped>\n",
              "    .dataframe tbody tr th:only-of-type {\n",
              "        vertical-align: middle;\n",
              "    }\n",
              "\n",
              "    .dataframe tbody tr th {\n",
              "        vertical-align: top;\n",
              "    }\n",
              "\n",
              "    .dataframe thead th {\n",
              "        text-align: right;\n",
              "    }\n",
              "</style>\n",
              "<table border=\"1\" class=\"dataframe\">\n",
              "  <thead>\n",
              "    <tr style=\"text-align: right;\">\n",
              "      <th></th>\n",
              "      <th>FILE_ID</th>\n",
              "      <th>owner_name</th>\n",
              "      <th>Description</th>\n",
              "      <th>language</th>\n",
              "      <th>Topics</th>\n",
              "      <th>num_model_file</th>\n",
              "      <th>SCHK_Block_count</th>\n",
              "      <th>Agg_SubSystem_count</th>\n",
              "      <th>Hierarchy_depth</th>\n",
              "      <th>LibraryLinked_Count</th>\n",
              "      <th>total_ConnH_cnt</th>\n",
              "    </tr>\n",
              "  </thead>\n",
              "  <tbody>\n",
              "    <tr>\n",
              "      <th>0</th>\n",
              "      <td>789683</td>\n",
              "      <td>Susurrus</td>\n",
              "      <td>An ECAN library for the dsPIC33f in both C and...</td>\n",
              "      <td>C</td>\n",
              "      <td>NaN</td>\n",
              "      <td>3</td>\n",
              "      <td>50</td>\n",
              "      <td>11</td>\n",
              "      <td>3</td>\n",
              "      <td>6</td>\n",
              "      <td>33</td>\n",
              "    </tr>\n",
              "    <tr>\n",
              "      <th>1</th>\n",
              "      <td>919495</td>\n",
              "      <td>sfischme</td>\n",
              "      <td>TrueTime is a Matlab/Simulink-based simulator ...</td>\n",
              "      <td>C++</td>\n",
              "      <td>NaN</td>\n",
              "      <td>22</td>\n",
              "      <td>921</td>\n",
              "      <td>150</td>\n",
              "      <td>3</td>\n",
              "      <td>83</td>\n",
              "      <td>905</td>\n",
              "    </tr>\n",
              "    <tr>\n",
              "      <th>2</th>\n",
              "      <td>4608325</td>\n",
              "      <td>kyak</td>\n",
              "      <td>Simulink (Embedded Coder) Target for TI LaunchPad</td>\n",
              "      <td>Matlab</td>\n",
              "      <td>NaN</td>\n",
              "      <td>11</td>\n",
              "      <td>382</td>\n",
              "      <td>55</td>\n",
              "      <td>3</td>\n",
              "      <td>20</td>\n",
              "      <td>243</td>\n",
              "    </tr>\n",
              "    <tr>\n",
              "      <th>3</th>\n",
              "      <td>5480060</td>\n",
              "      <td>kit-cel</td>\n",
              "      <td>An Open Source Software Package that enables o...</td>\n",
              "      <td>C++</td>\n",
              "      <td>NaN</td>\n",
              "      <td>2</td>\n",
              "      <td>3</td>\n",
              "      <td>0</td>\n",
              "      <td>1</td>\n",
              "      <td>1</td>\n",
              "      <td>1</td>\n",
              "    </tr>\n",
              "    <tr>\n",
              "      <th>4</th>\n",
              "      <td>5791243</td>\n",
              "      <td>kit-cel</td>\n",
              "      <td>A Simulink blockset that enables owners of UHD...</td>\n",
              "      <td>C++</td>\n",
              "      <td>NaN</td>\n",
              "      <td>2</td>\n",
              "      <td>3</td>\n",
              "      <td>0</td>\n",
              "      <td>1</td>\n",
              "      <td>1</td>\n",
              "      <td>1</td>\n",
              "    </tr>\n",
              "  </tbody>\n",
              "</table>\n",
              "</div>"
            ],
            "text/plain": [
              "   FILE_ID owner_name  ... LibraryLinked_Count total_ConnH_cnt\n",
              "0   789683   Susurrus  ...                   6              33\n",
              "1   919495   sfischme  ...                  83             905\n",
              "2  4608325       kyak  ...                  20             243\n",
              "3  5480060    kit-cel  ...                   1               1\n",
              "4  5791243    kit-cel  ...                   1               1\n",
              "\n",
              "[5 rows x 11 columns]"
            ]
          },
          "metadata": {},
          "execution_count": 268
        }
      ]
    },
    {
      "cell_type": "code",
      "metadata": {
        "colab": {
          "base_uri": "https://localhost:8080/",
          "height": 573
        },
        "id": "eCBwoOFhlDTr",
        "outputId": "1ef0e7ad-5f96-460c-dd5c-bbc4d11a6813"
      },
      "source": [
        "merged_matc= pd.merge(matdf, matmetric, on=\"FILE_ID\")\n",
        "merged_matc.head(5)"
      ],
      "execution_count": 269,
      "outputs": [
        {
          "output_type": "execute_result",
          "data": {
            "text/html": [
              "<div>\n",
              "<style scoped>\n",
              "    .dataframe tbody tr th:only-of-type {\n",
              "        vertical-align: middle;\n",
              "    }\n",
              "\n",
              "    .dataframe tbody tr th {\n",
              "        vertical-align: top;\n",
              "    }\n",
              "\n",
              "    .dataframe thead th {\n",
              "        text-align: right;\n",
              "    }\n",
              "</style>\n",
              "<table border=\"1\" class=\"dataframe\">\n",
              "  <thead>\n",
              "    <tr style=\"text-align: right;\">\n",
              "      <th></th>\n",
              "      <th>FILE_ID</th>\n",
              "      <th>title</th>\n",
              "      <th>author_name</th>\n",
              "      <th>summary</th>\n",
              "      <th>content</th>\n",
              "      <th>category</th>\n",
              "      <th>num_model_file</th>\n",
              "      <th>SCHK_Block_count</th>\n",
              "      <th>Agg_SubSystem_count</th>\n",
              "      <th>Hierarchy_depth</th>\n",
              "      <th>LibraryLinked_Count</th>\n",
              "      <th>total_ConnH_cnt</th>\n",
              "    </tr>\n",
              "  </thead>\n",
              "  <tbody>\n",
              "    <tr>\n",
              "      <th>0</th>\n",
              "      <td>266</td>\n",
              "      <td>smxl</td>\n",
              "      <td>Giampiero Campa</td>\n",
              "      <td>The Simulink MatriX Library (SMXL) - a collect...</td>\n",
              "      <td>&lt;p&gt;SMXL (Simulink MatriX Library) it's a power...</td>\n",
              "      <td>NaN</td>\n",
              "      <td>15</td>\n",
              "      <td>477</td>\n",
              "      <td>46</td>\n",
              "      <td>3</td>\n",
              "      <td>64</td>\n",
              "      <td>514</td>\n",
              "    </tr>\n",
              "    <tr>\n",
              "      <th>1</th>\n",
              "      <td>268</td>\n",
              "      <td>trimmod</td>\n",
              "      <td>Joerg Buchholz</td>\n",
              "      <td>TrimMod finds the trim point (equilibrium) of ...</td>\n",
              "      <td>&lt;p&gt;TrimMod finds the trim point (equilibrium) ...</td>\n",
              "      <td>NaN</td>\n",
              "      <td>2</td>\n",
              "      <td>100</td>\n",
              "      <td>6</td>\n",
              "      <td>2</td>\n",
              "      <td>0</td>\n",
              "      <td>89</td>\n",
              "    </tr>\n",
              "    <tr>\n",
              "      <th>2</th>\n",
              "      <td>722</td>\n",
              "      <td>Bluetooth modulation and frequency hopping</td>\n",
              "      <td>Stuart McGarrity</td>\n",
              "      <td>Bluetooth modulation and frequency hopping</td>\n",
              "      <td>&lt;p&gt;Simulink® model of a simple Bluetooth® wire...</td>\n",
              "      <td>bluetooth,frequency,hopping,network,wireless,b...</td>\n",
              "      <td>2</td>\n",
              "      <td>90</td>\n",
              "      <td>10</td>\n",
              "      <td>2</td>\n",
              "      <td>0</td>\n",
              "      <td>72</td>\n",
              "    </tr>\n",
              "    <tr>\n",
              "      <th>3</th>\n",
              "      <td>724</td>\n",
              "      <td>DTMF generator and receiver</td>\n",
              "      <td>Stuart McGarrity</td>\n",
              "      <td>DTMF generator and receiver</td>\n",
              "      <td>&lt;p&gt;Simulink® model of a dual-tone multi-freque...</td>\n",
              "      <td>communications,dtmf,dual tone,multi frequency,...</td>\n",
              "      <td>2</td>\n",
              "      <td>388</td>\n",
              "      <td>56</td>\n",
              "      <td>5</td>\n",
              "      <td>0</td>\n",
              "      <td>344</td>\n",
              "    </tr>\n",
              "    <tr>\n",
              "      <th>4</th>\n",
              "      <td>746</td>\n",
              "      <td>IS-95A CDMA Power Control</td>\n",
              "      <td>Stuart McGarrity</td>\n",
              "      <td>IS-95A CDMA Power Control</td>\n",
              "      <td>&lt;p&gt;Simulink® and Stateflow® model of IS-95A CD...</td>\n",
              "      <td>cdma,is95a,phy,pn,pn string,power control,reve...</td>\n",
              "      <td>1</td>\n",
              "      <td>283</td>\n",
              "      <td>24</td>\n",
              "      <td>6</td>\n",
              "      <td>0</td>\n",
              "      <td>279</td>\n",
              "    </tr>\n",
              "  </tbody>\n",
              "</table>\n",
              "</div>"
            ],
            "text/plain": [
              "   FILE_ID  ... total_ConnH_cnt\n",
              "0      266  ...             514\n",
              "1      268  ...              89\n",
              "2      722  ...              72\n",
              "3      724  ...             344\n",
              "4      746  ...             279\n",
              "\n",
              "[5 rows x 12 columns]"
            ]
          },
          "metadata": {},
          "execution_count": 269
        }
      ]
    },
    {
      "cell_type": "code",
      "metadata": {
        "colab": {
          "base_uri": "https://localhost:8080/"
        },
        "id": "JXRQfRZb3LvD",
        "outputId": "ee770a1d-ee74-4bbe-cd25-739979f6be1b"
      },
      "source": [
        "merged_Github.shape"
      ],
      "execution_count": 270,
      "outputs": [
        {
          "output_type": "execute_result",
          "data": {
            "text/plain": [
              "(216, 11)"
            ]
          },
          "metadata": {},
          "execution_count": 270
        }
      ]
    },
    {
      "cell_type": "code",
      "metadata": {
        "colab": {
          "base_uri": "https://localhost:8080/"
        },
        "id": "UJSQ2wlQlSUs",
        "outputId": "40b2ad4d-8dd8-418b-d2b7-4ecef6354634"
      },
      "source": [
        "merged_matc.shape"
      ],
      "execution_count": 271,
      "outputs": [
        {
          "output_type": "execute_result",
          "data": {
            "text/plain": [
              "(2704, 12)"
            ]
          },
          "metadata": {},
          "execution_count": 271
        }
      ]
    },
    {
      "cell_type": "code",
      "metadata": {
        "colab": {
          "base_uri": "https://localhost:8080/"
        },
        "id": "w8MGGeGR6VR4",
        "outputId": "5a5c1507-2eb3-4d24-8eb6-a09e5d1aa514"
      },
      "source": [
        "merged_matc['category'].isnull().sum()"
      ],
      "execution_count": 272,
      "outputs": [
        {
          "output_type": "execute_result",
          "data": {
            "text/plain": [
              "87"
            ]
          },
          "metadata": {},
          "execution_count": 272
        }
      ]
    },
    {
      "cell_type": "code",
      "metadata": {
        "colab": {
          "base_uri": "https://localhost:8080/"
        },
        "id": "q8uxcYpFlWVm",
        "outputId": "964f9ea7-ee8e-4adc-a27f-764a36f8d33f"
      },
      "source": [
        "merged_matc = merged_matc.dropna(subset=['category'])\n",
        "merged_matc.shape"
      ],
      "execution_count": 273,
      "outputs": [
        {
          "output_type": "execute_result",
          "data": {
            "text/plain": [
              "(2617, 12)"
            ]
          },
          "metadata": {},
          "execution_count": 273
        }
      ]
    },
    {
      "cell_type": "code",
      "metadata": {
        "colab": {
          "base_uri": "https://localhost:8080/"
        },
        "id": "_IOLczBA6sk0",
        "outputId": "9217ef0e-ced7-457b-9a59-34bc8a094415"
      },
      "source": [
        "merged_Github['Description'].isnull().sum()"
      ],
      "execution_count": 274,
      "outputs": [
        {
          "output_type": "execute_result",
          "data": {
            "text/plain": [
              "0"
            ]
          },
          "metadata": {},
          "execution_count": 274
        }
      ]
    },
    {
      "cell_type": "code",
      "metadata": {
        "colab": {
          "base_uri": "https://localhost:8080/",
          "height": 1000
        },
        "id": "jaZF_-AQF4Hs",
        "outputId": "4ce35cfd-0929-427a-f12c-ae8833805412"
      },
      "source": [
        "g = sns.PairGrid(merged_matc)\n",
        "g.map(sns.scatterplot);"
      ],
      "execution_count": 275,
      "outputs": [
        {
          "output_type": "display_data",
          "data": {
            "image/png": "[encoded data removed]",
            "text/plain": [
              "<Figure size 1260x1260 with 49 Axes>"
            ]
          },
          "metadata": {
            "needs_background": "light"
          }
        }
      ]
    },
    {
      "cell_type": "code",
      "metadata": {
        "colab": {
          "base_uri": "https://localhost:8080/"
        },
        "id": "pRFrFuzB6yQ1",
        "outputId": "b2b8cd0e-080a-47c0-caa9-626bcdb87d56"
      },
      "source": [
        "pip install BeautifulSoup4"
      ],
      "execution_count": 276,
      "outputs": [
        {
          "output_type": "stream",
          "name": "stdout",
          "text": [
            "Requirement already satisfied: BeautifulSoup4 in /usr/local/lib/python3.7/dist-packages (4.6.3)\n"
          ]
        }
      ]
    },
    {
      "cell_type": "code",
      "metadata": {
        "id": "EAkRJUaH-Vj_"
      },
      "source": [
        "def stemTokens(text):\n",
        "    #step 1: convert the input text to tokens\n",
        "    tokens = [word for x in nltk.sent_tokenize(text) for word in nltk.word_tokenize(x)]\n",
        "\n",
        "    #step 2: Filter the tokens,  remove noise, conevert into small case.\n",
        "    filtered_tokens = [token for token in tokens if re.search('[a-zA-Z]', token)]\n",
        "    #print(\"Filtered Tokens:\",filtered_tokens)\n",
        "\n",
        "    #step 3: Stemming the filtered tokens\n",
        "    stemmer = SnowballStemmer(\"english\")\n",
        "    stems = [stemmer.stem(word) for word in filtered_tokens]\n",
        "\n",
        "    return stems"
      ],
      "execution_count": 277,
      "outputs": []
    },
    {
      "cell_type": "code",
      "metadata": {
        "colab": {
          "base_uri": "https://localhost:8080/"
        },
        "id": "uBJ6EbOpKHg-",
        "outputId": "44343ed3-685a-4bdc-ab66-966fc8ce42c8"
      },
      "source": [
        "stemmer = SnowballStemmer(\"english\")\n",
        "merged_Github['stemmed'] = merged_Github.Description.map(lambda x:' '.join( stemTokens(x)))\n",
        "merged_Github.stemmed.head()"
      ],
      "execution_count": 278,
      "outputs": [
        {
          "output_type": "execute_result",
          "data": {
            "text/plain": [
              "0    an ecan librari for the dspic33f in both c and...\n",
              "1    truetim is a matlab/simulink-bas simul for rea...\n",
              "2         simulink embed coder target for ti launchpad\n",
              "3    an open sourc softwar packag that enabl owner ...\n",
              "4    a simulink blockset that enabl owner of uhd-co...\n",
              "Name: stemmed, dtype: object"
            ]
          },
          "metadata": {},
          "execution_count": 278
        }
      ]
    },
    {
      "cell_type": "code",
      "metadata": {
        "colab": {
          "base_uri": "https://localhost:8080/"
        },
        "id": "edSItCdMd0US",
        "outputId": "8daf69a1-77f6-41be-88e8-2f6dae3815f3"
      },
      "source": [
        "cvec = CountVectorizer(stop_words='english', min_df=1, max_df=.5, ngram_range=(1,2))\n",
        "cvec"
      ],
      "execution_count": 279,
      "outputs": [
        {
          "output_type": "execute_result",
          "data": {
            "text/plain": [
              "CountVectorizer(max_df=0.5, ngram_range=(1, 2), stop_words='english')"
            ]
          },
          "metadata": {},
          "execution_count": 279
        }
      ]
    },
    {
      "cell_type": "code",
      "metadata": {
        "colab": {
          "base_uri": "https://localhost:8080/"
        },
        "id": "nZGZwbQnd2YP",
        "outputId": "1d31c22a-f81b-4e3b-ceed-0d8000551138"
      },
      "source": [
        "from itertools import islice\n",
        "cvec.fit(merged_Github['stemmed'])\n",
        "list(islice(cvec.vocabulary_.items(), 20))"
      ],
      "execution_count": 280,
      "outputs": [
        {
          "output_type": "execute_result",
          "data": {
            "text/plain": [
              "[('ecan', 595),\n",
              " ('librari', 1082),\n",
              " ('dspic33f', 572),\n",
              " ('ecan librari', 596),\n",
              " ('librari dspic33f', 1084),\n",
              " ('dspic33f simulink', 573),\n",
              " ('truetim', 2182),\n",
              " ('matlab', 1185),\n",
              " ('bas', 152),\n",
              " ('simul', 1803),\n",
              " ('real', 1619),\n",
              " ('tim', 2107),\n",
              " ('control', 369),\n",
              " ('truetim matlab', 2184),\n",
              " ('matlab simulink', 1196),\n",
              " ('simulink bas', 1848),\n",
              " ('bas simul', 155),\n",
              " ('simul real', 1827),\n",
              " ('real tim', 1620),\n",
              " ('tim control', 2108)]"
            ]
          },
          "metadata": {},
          "execution_count": 280
        }
      ]
    },
    {
      "cell_type": "code",
      "metadata": {
        "colab": {
          "base_uri": "https://localhost:8080/"
        },
        "id": "-pXr_rALfSRk",
        "outputId": "71843326-dbb7-494f-9c24-edb3c2f67cef"
      },
      "source": [
        "# Check how many total n-grams we have\n",
        "len(cvec.vocabulary_)"
      ],
      "execution_count": 281,
      "outputs": [
        {
          "output_type": "execute_result",
          "data": {
            "text/plain": [
              "2372"
            ]
          },
          "metadata": {},
          "execution_count": 281
        }
      ]
    },
    {
      "cell_type": "code",
      "metadata": {
        "colab": {
          "base_uri": "https://localhost:8080/"
        },
        "id": "RujmABUMfacl",
        "outputId": "b126fa16-8307-42fa-b869-e14db63aef85"
      },
      "source": [
        "cvec_counts = cvec.transform(merged_Github.stemmed)\n",
        "print('sparse matrix shape:', cvec_counts.shape) \n",
        "print('nonzero count:', cvec_counts.nnz)\n",
        "print('sparsity: %.2f%%' % (100.0 * cvec_counts.nnz / (cvec_counts.shape[0] * cvec_counts.shape[1])))"
      ],
      "execution_count": 282,
      "outputs": [
        {
          "output_type": "stream",
          "name": "stdout",
          "text": [
            "sparse matrix shape: (216, 2372)\n",
            "nonzero count: 3563\n",
            "sparsity: 0.70%\n"
          ]
        }
      ]
    },
    {
      "cell_type": "code",
      "metadata": {
        "colab": {
          "base_uri": "https://localhost:8080/",
          "height": 731
        },
        "id": "yV0orzEYfoxB",
        "outputId": "0518eb0b-0ee3-4ac4-8ab7-b31fa1491922"
      },
      "source": [
        "occ = np.asarray(cvec_counts.sum(axis=0)).ravel().tolist()\n",
        "counts_df = pd.DataFrame({'term': cvec.get_feature_names(), 'occurrences': occ})\n",
        "counts_df.sort_values(by='occurrences').head(20)"
      ],
      "execution_count": 283,
      "outputs": [
        {
          "output_type": "stream",
          "name": "stderr",
          "text": [
            "/usr/local/lib/python3.7/dist-packages/sklearn/utils/deprecation.py:87: FutureWarning: Function get_feature_names is deprecated; get_feature_names is deprecated in 1.0 and will be removed in 1.2. Please use get_feature_names_out instead.\n",
            "  warnings.warn(msg, category=FutureWarning)\n"
          ]
        },
        {
          "output_type": "execute_result",
          "data": {
            "text/html": [
              "<div>\n",
              "<style scoped>\n",
              "    .dataframe tbody tr th:only-of-type {\n",
              "        vertical-align: middle;\n",
              "    }\n",
              "\n",
              "    .dataframe tbody tr th {\n",
              "        vertical-align: top;\n",
              "    }\n",
              "\n",
              "    .dataframe thead th {\n",
              "        text-align: right;\n",
              "    }\n",
              "</style>\n",
              "<table border=\"1\" class=\"dataframe\">\n",
              "  <thead>\n",
              "    <tr style=\"text-align: right;\">\n",
              "      <th></th>\n",
              "      <th>term</th>\n",
              "      <th>occurrences</th>\n",
              "    </tr>\n",
              "  </thead>\n",
              "  <tbody>\n",
              "    <tr>\n",
              "      <th>0</th>\n",
              "      <td>10</td>\n",
              "      <td>1</td>\n",
              "    </tr>\n",
              "    <tr>\n",
              "      <th>1518</th>\n",
              "      <td>primari frequenc</td>\n",
              "      <td>1</td>\n",
              "    </tr>\n",
              "    <tr>\n",
              "      <th>1517</th>\n",
              "      <td>primari</td>\n",
              "      <td>1</td>\n",
              "    </tr>\n",
              "    <tr>\n",
              "      <th>1516</th>\n",
              "      <td>pressure volum</td>\n",
              "      <td>1</td>\n",
              "    </tr>\n",
              "    <tr>\n",
              "      <th>1515</th>\n",
              "      <td>pressure</td>\n",
              "      <td>1</td>\n",
              "    </tr>\n",
              "    <tr>\n",
              "      <th>1514</th>\n",
              "      <td>predict behaviour</td>\n",
              "      <td>1</td>\n",
              "    </tr>\n",
              "    <tr>\n",
              "      <th>1513</th>\n",
              "      <td>predict</td>\n",
              "      <td>1</td>\n",
              "    </tr>\n",
              "    <tr>\n",
              "      <th>1512</th>\n",
              "      <td>power use</td>\n",
              "      <td>1</td>\n",
              "    </tr>\n",
              "    <tr>\n",
              "      <th>1511</th>\n",
              "      <td>power transient</td>\n",
              "      <td>1</td>\n",
              "    </tr>\n",
              "    <tr>\n",
              "      <th>1510</th>\n",
              "      <td>power tool</td>\n",
              "      <td>1</td>\n",
              "    </tr>\n",
              "    <tr>\n",
              "      <th>1509</th>\n",
              "      <td>power robot</td>\n",
              "      <td>1</td>\n",
              "    </tr>\n",
              "    <tr>\n",
              "      <th>1508</th>\n",
              "      <td>power flow</td>\n",
              "      <td>1</td>\n",
              "    </tr>\n",
              "    <tr>\n",
              "      <th>1506</th>\n",
              "      <td>power disturb</td>\n",
              "      <td>1</td>\n",
              "    </tr>\n",
              "    <tr>\n",
              "      <th>1504</th>\n",
              "      <td>pour enseign</td>\n",
              "      <td>1</td>\n",
              "    </tr>\n",
              "    <tr>\n",
              "      <th>1503</th>\n",
              "      <td>pour</td>\n",
              "      <td>1</td>\n",
              "    </tr>\n",
              "    <tr>\n",
              "      <th>1502</th>\n",
              "      <td>por ejemplo</td>\n",
              "      <td>1</td>\n",
              "    </tr>\n",
              "    <tr>\n",
              "      <th>1501</th>\n",
              "      <td>por</td>\n",
              "      <td>1</td>\n",
              "    </tr>\n",
              "    <tr>\n",
              "      <th>1500</th>\n",
              "      <td>politecnico di</td>\n",
              "      <td>1</td>\n",
              "    </tr>\n",
              "    <tr>\n",
              "      <th>1499</th>\n",
              "      <td>politecnico</td>\n",
              "      <td>1</td>\n",
              "    </tr>\n",
              "    <tr>\n",
              "      <th>1498</th>\n",
              "      <td>point toolbox</td>\n",
              "      <td>1</td>\n",
              "    </tr>\n",
              "  </tbody>\n",
              "</table>\n",
              "</div>"
            ],
            "text/plain": [
              "                   term  occurrences\n",
              "0                    10            1\n",
              "1518   primari frequenc            1\n",
              "1517            primari            1\n",
              "1516     pressure volum            1\n",
              "1515           pressure            1\n",
              "1514  predict behaviour            1\n",
              "1513            predict            1\n",
              "1512          power use            1\n",
              "1511    power transient            1\n",
              "1510         power tool            1\n",
              "1509        power robot            1\n",
              "1508         power flow            1\n",
              "1506      power disturb            1\n",
              "1504       pour enseign            1\n",
              "1503               pour            1\n",
              "1502        por ejemplo            1\n",
              "1501                por            1\n",
              "1500     politecnico di            1\n",
              "1499        politecnico            1\n",
              "1498      point toolbox            1"
            ]
          },
          "metadata": {},
          "execution_count": 283
        }
      ]
    },
    {
      "cell_type": "code",
      "metadata": {
        "colab": {
          "base_uri": "https://localhost:8080/"
        },
        "id": "ysIQkKMPf0BN",
        "outputId": "b4f2a36e-e615-4045-9341-3fb11436925d"
      },
      "source": [
        "transformer = TfidfTransformer()\n",
        "transformed_weights = transformer.fit_transform(cvec_counts)\n",
        "transformed_weights"
      ],
      "execution_count": 284,
      "outputs": [
        {
          "output_type": "execute_result",
          "data": {
            "text/plain": [
              "<216x2372 sparse matrix of type '<class 'numpy.float64'>'\n",
              "\twith 3563 stored elements in Compressed Sparse Row format>"
            ]
          },
          "metadata": {},
          "execution_count": 284
        }
      ]
    },
    {
      "cell_type": "code",
      "metadata": {
        "colab": {
          "base_uri": "https://localhost:8080/",
          "height": 731
        },
        "id": "g-OLedlgf3VH",
        "outputId": "acf95325-ee0d-4871-d39d-b99828802a20"
      },
      "source": [
        "weights = np.asarray(transformed_weights.mean(axis=0)).ravel().tolist()\n",
        "weights_df = pd.DataFrame({'term': cvec.get_feature_names(), 'weight': weights})\n",
        "weights_df.sort_values(by='weight').head(20)"
      ],
      "execution_count": 285,
      "outputs": [
        {
          "output_type": "stream",
          "name": "stderr",
          "text": [
            "/usr/local/lib/python3.7/dist-packages/sklearn/utils/deprecation.py:87: FutureWarning: Function get_feature_names is deprecated; get_feature_names is deprecated in 1.0 and will be removed in 1.2. Please use get_feature_names_out instead.\n",
            "  warnings.warn(msg, category=FutureWarning)\n"
          ]
        },
        {
          "output_type": "execute_result",
          "data": {
            "text/html": [
              "<div>\n",
              "<style scoped>\n",
              "    .dataframe tbody tr th:only-of-type {\n",
              "        vertical-align: middle;\n",
              "    }\n",
              "\n",
              "    .dataframe tbody tr th {\n",
              "        vertical-align: top;\n",
              "    }\n",
              "\n",
              "    .dataframe thead th {\n",
              "        text-align: right;\n",
              "    }\n",
              "</style>\n",
              "<table border=\"1\" class=\"dataframe\">\n",
              "  <thead>\n",
              "    <tr style=\"text-align: right;\">\n",
              "      <th></th>\n",
              "      <th>term</th>\n",
              "      <th>weight</th>\n",
              "    </tr>\n",
              "  </thead>\n",
              "  <tbody>\n",
              "    <tr>\n",
              "      <th>2285</th>\n",
              "      <td>variabl model</td>\n",
              "      <td>0.00029</td>\n",
              "    </tr>\n",
              "    <tr>\n",
              "      <th>2220</th>\n",
              "      <td>unit connect</td>\n",
              "      <td>0.00029</td>\n",
              "    </tr>\n",
              "    <tr>\n",
              "      <th>810</th>\n",
              "      <td>general</td>\n",
              "      <td>0.00029</td>\n",
              "    </tr>\n",
              "    <tr>\n",
              "      <th>809</th>\n",
              "      <td>ge doubli</td>\n",
              "      <td>0.00029</td>\n",
              "    </tr>\n",
              "    <tr>\n",
              "      <th>555</th>\n",
              "      <td>doubli</td>\n",
              "      <td>0.00029</td>\n",
              "    </tr>\n",
              "    <tr>\n",
              "      <th>556</th>\n",
              "      <td>doubli fed</td>\n",
              "      <td>0.00029</td>\n",
              "    </tr>\n",
              "    <tr>\n",
              "      <th>1085</th>\n",
              "      <td>librari especi</td>\n",
              "      <td>0.00029</td>\n",
              "    </tr>\n",
              "    <tr>\n",
              "      <th>941</th>\n",
              "      <td>includ set</td>\n",
              "      <td>0.00029</td>\n",
              "    </tr>\n",
              "    <tr>\n",
              "      <th>785</th>\n",
              "      <td>frequenc control</td>\n",
              "      <td>0.00029</td>\n",
              "    </tr>\n",
              "    <tr>\n",
              "      <th>1088</th>\n",
              "      <td>librari includ</td>\n",
              "      <td>0.00029</td>\n",
              "    </tr>\n",
              "    <tr>\n",
              "      <th>1834</th>\n",
              "      <td>simul tool</td>\n",
              "      <td>0.00029</td>\n",
              "    </tr>\n",
              "    <tr>\n",
              "      <th>784</th>\n",
              "      <td>frequenc</td>\n",
              "      <td>0.00029</td>\n",
              "    </tr>\n",
              "    <tr>\n",
              "      <th>1105</th>\n",
              "      <td>like virtual</td>\n",
              "      <td>0.00029</td>\n",
              "    </tr>\n",
              "    <tr>\n",
              "      <th>1520</th>\n",
              "      <td>primarili aim</td>\n",
              "      <td>0.00029</td>\n",
              "    </tr>\n",
              "    <tr>\n",
              "      <th>1519</th>\n",
              "      <td>primarili</td>\n",
              "      <td>0.00029</td>\n",
              "    </tr>\n",
              "    <tr>\n",
              "      <th>1518</th>\n",
              "      <td>primari frequenc</td>\n",
              "      <td>0.00029</td>\n",
              "    </tr>\n",
              "    <tr>\n",
              "      <th>2084</th>\n",
              "      <td>test new</td>\n",
              "      <td>0.00029</td>\n",
              "    </tr>\n",
              "    <tr>\n",
              "      <th>1517</th>\n",
              "      <td>primari</td>\n",
              "      <td>0.00029</td>\n",
              "    </tr>\n",
              "    <tr>\n",
              "      <th>958</th>\n",
              "      <td>initi</td>\n",
              "      <td>0.00029</td>\n",
              "    </tr>\n",
              "    <tr>\n",
              "      <th>2038</th>\n",
              "      <td>suitabl develop</td>\n",
              "      <td>0.00029</td>\n",
              "    </tr>\n",
              "  </tbody>\n",
              "</table>\n",
              "</div>"
            ],
            "text/plain": [
              "                  term   weight\n",
              "2285     variabl model  0.00029\n",
              "2220      unit connect  0.00029\n",
              "810            general  0.00029\n",
              "809          ge doubli  0.00029\n",
              "555             doubli  0.00029\n",
              "556         doubli fed  0.00029\n",
              "1085    librari especi  0.00029\n",
              "941         includ set  0.00029\n",
              "785   frequenc control  0.00029\n",
              "1088    librari includ  0.00029\n",
              "1834        simul tool  0.00029\n",
              "784           frequenc  0.00029\n",
              "1105      like virtual  0.00029\n",
              "1520     primarili aim  0.00029\n",
              "1519         primarili  0.00029\n",
              "1518  primari frequenc  0.00029\n",
              "2084          test new  0.00029\n",
              "1517           primari  0.00029\n",
              "958              initi  0.00029\n",
              "2038   suitabl develop  0.00029"
            ]
          },
          "metadata": {},
          "execution_count": 285
        }
      ]
    },
    {
      "cell_type": "code",
      "metadata": {
        "id": "SL5fZFULAF8o"
      },
      "source": [
        "def find_optimal_clusters(data, max_k):\n",
        "    iters = range(2, max_k+1, 2)\n",
        "    \n",
        "    sse = []\n",
        "    for k in iters:\n",
        "        sse.append(MiniBatchKMeans(n_clusters=k, init_size=1024, batch_size=2048, random_state=20).fit(data).inertia_)        \n",
        "    f, ax = plt.subplots(1, 1)\n",
        "    ax.plot(iters, sse, marker='o')\n",
        "    ax.set_xlabel('Cluster Centers')\n",
        "    ax.set_xticks(iters)\n",
        "    ax.set_xticklabels(iters)\n",
        "    ax.set_ylabel('SSE')\n",
        "    ax.set_title('SSE by Cluster Center Plot')"
      ],
      "execution_count": 286,
      "outputs": []
    },
    {
      "cell_type": "code",
      "metadata": {
        "id": "ihcgURfkCSOe"
      },
      "source": [
        "#https://www.askpython.com/python/examples/plot-k-means-clusters-python\n",
        "#https://www.datacamp.com/workspace/templates/recipe-pytho\n",
        "#https://dylancastillo.co/nlp-snippets-cluster-documents-using-word2vec/#clean-and-tokenize-d"
      ],
      "execution_count": 287,
      "outputs": []
    },
    {
      "cell_type": "code",
      "metadata": {
        "id": "IqNhuxYUJCIz"
      },
      "source": [
        "X1 = np.array(merged_matc.loc[:,['Agg_SubSystem_count','total_ConnH_cnt']]).reshape(-1, 2)"
      ],
      "execution_count": 288,
      "outputs": []
    },
    {
      "cell_type": "code",
      "metadata": {
        "colab": {
          "base_uri": "https://localhost:8080/",
          "height": 295
        },
        "id": "cEo0ItHlIefR",
        "outputId": "a965a0a4-1246-4458-ffce-79ddeef17159"
      },
      "source": [
        "# Determine optimal cluster number with elbow method\n",
        "wcss = []\n",
        "\n",
        "for i in range(1, 10):\n",
        "    model = KMeans(n_clusters = i,     \n",
        "                    init = 'k-means++',                 # Initialization method for kmeans\n",
        "                    max_iter = 300,                     # Maximum number of iterations \n",
        "                    n_init = 10,                        # Choose how often algorithm will run with different centroid \n",
        "                    random_state = 0)                   # Choose random state for reproducibility\n",
        "    model.fit(X1)                              \n",
        "    wcss.append(model.inertia_)\n",
        "    \n",
        "# Show Elbow plot\n",
        "plt.plot(range(1, 10), wcss)\n",
        "plt.title('Elbow Method')                               # Set plot title\n",
        "plt.xlabel('Number of clusters')                        # Set x axis name\n",
        "plt.ylabel('Within Cluster Sum of Squares (WCSS)')      # Set y axis name\n",
        "plt.show()"
      ],
      "execution_count": 289,
      "outputs": [
        {
          "output_type": "display_data",
          "data": {
            "image/png": "[encoded data removed]",
            "text/plain": [
              "<Figure size 432x288 with 1 Axes>"
            ]
          },
          "metadata": {
            "needs_background": "light"
          }
        }
      ]
    },
    {
      "cell_type": "code",
      "metadata": {
        "id": "QNFZVZxKLmJg"
      },
      "source": [
        "pca = PCA(2)\n",
        " \n",
        "#Transform the data\n",
        "df_1 = pca.fit_transform(X1)\n",
        " \n",
        "#Initialize the class object\n",
        "kmeans = KMeans(n_clusters= 2)\n",
        " \n",
        "#predict the labels of clusters.\n",
        "label = kmeans.fit_predict(df_1)\n",
        " \n",
        "#Getting unique labels\n",
        "u_labels = np.unique(label)"
      ],
      "execution_count": 290,
      "outputs": []
    },
    {
      "cell_type": "code",
      "metadata": {
        "colab": {
          "base_uri": "https://localhost:8080/",
          "height": 269
        },
        "id": "Hbf8bIGgETT-",
        "outputId": "b3c23745-d710-4f99-a610-8f811163fc3d"
      },
      "source": [
        "kmeans = KMeans(n_clusters = 3,                 # Set amount of clusters\n",
        "                init = 'k-means++',             # Initialization method for kmeans\n",
        "                max_iter = 300,                 # Maximum number of iterations\n",
        "                n_init = 10,                    # Choose how often algorithm will run with different centroid\n",
        "                random_state = 0)               # Choose random state for reproducibility\n",
        "\n",
        "pred_y = kmeans.fit_predict(X1)\n",
        "\n",
        "\n",
        "# Plot the data\n",
        "plt.scatter(X1[:,0], \n",
        "            X1[:,1])\n",
        "\n",
        "# Plot the clusters \n",
        "plt.scatter(kmeans.cluster_centers_[:, 0], \n",
        "            kmeans.cluster_centers_[:, 1], \n",
        "            s=200,                             # Set centroid size\n",
        "            c='red')                           # Set centroid color\n",
        "plt.xlim([-500, 5000])\n",
        "plt.ylim([-2000, 50000])\n",
        "plt.show()"
      ],
      "execution_count": 291,
      "outputs": [
        {
          "output_type": "display_data",
          "data": {
            "image/png": "[encoded data removed]",
            "text/plain": [
              "<Figure size 432x288 with 1 Axes>"
            ]
          },
          "metadata": {
            "needs_background": "light"
          }
        }
      ]
    },
    {
      "cell_type": "code",
      "metadata": {
        "id": "jIl79hxprWWQ"
      },
      "source": [
        "def clean_text(text, tokenizer, stopwords):\n",
        "    \"\"\"Pre-process text and generate tokens\n",
        "\n",
        "    Args:\n",
        "        text: Text to tokenize.\n",
        "\n",
        "    Returns:\n",
        "        Tokenized text.\n",
        "    \"\"\"\n",
        "    text = str(text).lower()  # Lowercase words\n",
        "    text = re.sub(r\"\\[(.*?)\\]\", \"\", text)  # Remove [+XYZ chars] in content\n",
        "    text = re.sub(r\"\\s+\", \" \", text)  # Remove multiple spaces in content\n",
        "    text = re.sub(r\"\\w+…|…\", \"\", text)  # Remove ellipsis (and last word)\n",
        "    text = re.sub(r\"(?<=\\w)-(?=\\w)\", \" \", text)  # Replace dash between words\n",
        "    text = re.sub(\n",
        "        f\"[{re.escape(string.punctuation)}]\", \"\", text\n",
        "    )  # Remove punctuation\n",
        "\n",
        "    tokens = tokenizer(text)  # Get tokens from text\n",
        "    tokens = [t for t in tokens if not t in stopwords]  # Remove stopwords\n",
        "    tokens = [\"\" if t.isdigit() else t for t in tokens]  # Remove digits\n",
        "    tokens = [t for t in tokens if len(t) > 1]  # Remove short tokens\n",
        "    return tokens"
      ],
      "execution_count": 293,
      "outputs": []
    },
    {
      "cell_type": "code",
      "metadata": {
        "colab": {
          "base_uri": "https://localhost:8080/"
        },
        "id": "eCnVV5otmG1V",
        "outputId": "ffae2b29-9a73-4862-c185-c0b9a05484be"
      },
      "source": [
        "merged_matc.shape"
      ],
      "execution_count": 294,
      "outputs": [
        {
          "output_type": "execute_result",
          "data": {
            "text/plain": [
              "(2617, 12)"
            ]
          },
          "metadata": {},
          "execution_count": 294
        }
      ]
    },
    {
      "cell_type": "code",
      "metadata": {
        "colab": {
          "base_uri": "https://localhost:8080/"
        },
        "id": "5qV18Yl06qVx",
        "outputId": "b0a14911-dbb5-4723-c6f2-3a9c5f7ba4fc"
      },
      "source": [
        "custom_stopwords = set(stopwords.words(\"english\") + [\"ball\",\"program\",\"conversion\",\"simulation\",\"control\", \"bytes\",\"demo\",\"abhishek\",\"indraanil\",\"saki\",\"system\",\"library\",\"step\",\"series\",\"response\",\"circuit\",\n",
        "                 \"client\",\"bonsai\",\"real\",\"matlab\",\"code\",\"used\",\"parrot\",\"using\",\"try\",\"copy\",\"paste\",\"to\",\"solomon\",\"rayleigh\",\"small\",\"level\",\"two\",\"three\"])\n",
        "text_columns = [\"category\"]\n",
        "text_columns_gitdf = [\"Description\"]\n",
        "\n",
        "df = merged_matc.copy()\n",
        "df2 = merged_Github.copy()\n",
        "\n",
        "for col in text_columns:\n",
        "    df[col] = df[col].astype(str)\n",
        "\n",
        "for col in text_columns_gitdf:\n",
        "    df2[col] = df2[col].astype(str)\n",
        "\n",
        "# Create category column based on category\n",
        "df[\"Cat\"] = df[text_columns].apply(lambda x: \" | \".join(x), axis=1)\n",
        "df[\"tokens\"] = df[\"Cat\"].map(lambda x: clean_text(x, word_tokenize, custom_stopwords))\n",
        "\n",
        "# Create desc  description\n",
        "df2[\"desc\"] = df2[text_columns_gitdf].apply(lambda x: \" | \".join(x), axis=1)\n",
        "df2[\"tokens\"] = df2[\"desc\"].map(lambda x: clean_text(x, word_tokenize, custom_stopwords))\n",
        "\n",
        "# Remove duplicated after preprocessing\n",
        "_, idx = np.unique(df[\"tokens\"], return_index=True)\n",
        "df = df.iloc[idx, :]\n",
        "\n",
        "# Remove duplicated after preprocessing\n",
        "_, idx = np.unique(df2[\"tokens\"], return_index=True)\n",
        "df2 = df2.iloc[idx, :]\n",
        "\n",
        "# Remove empty values and keep relevant columns\n",
        "df = df.loc[df.tokens.map(lambda x: len(x) > 0), [\"Cat\", \"tokens\"]]\n",
        "# Remove empty values and keep relevant columns\n",
        "df2 = df2.loc[df2.tokens.map(lambda x: len(x) > 0), [\"desc\", \"tokens\"]]\n",
        "\n",
        "print(f\"Original dataframe MATC: {merged_matc.shape}\")\n",
        "print(f\"Pre-processed dataframe MATC: {df.shape}\")\n",
        "print(f\"Original dataframe GITHUB: {merged_Github.shape}\")\n",
        "print(f\"Pre-processed dataframe GITHUB: {df2.shape}\")"
      ],
      "execution_count": 295,
      "outputs": [
        {
          "output_type": "stream",
          "name": "stdout",
          "text": [
            "Original dataframe MATC: (2617, 12)\n",
            "Pre-processed dataframe MATC: (2234, 2)\n",
            "Original dataframe GITHUB: (216, 12)\n",
            "Pre-processed dataframe GITHUB: (214, 2)\n"
          ]
        }
      ]
    },
    {
      "cell_type": "code",
      "metadata": {
        "colab": {
          "base_uri": "https://localhost:8080/"
        },
        "id": "y90Lg7Iil2li",
        "outputId": "a9d3d194-d5c0-451f-9a5e-76b89901ebd5"
      },
      "source": [
        "import gensim\n",
        "def read_questions(row,column_name):\n",
        "    return gensim.utils.simple_preprocess(str(row[column_name]).encode('utf-8'))\n",
        "    \n",
        "documents_mat = []\n",
        "for index, row in df.iterrows():\n",
        "    documents_mat.append(read_questions(row,\"Cat\"))\n",
        "print(documents_mat)\n",
        "\n",
        "documents_git = []\n",
        "for index, row in df2.iterrows():\n",
        "    documents_git.append(read_questions(row,\"desc\"))\n",
        "print(documents_git)"
      ],
      "execution_count": 296,
      "outputs": [
        {
          "output_type": "stream",
          "name": "stdout",
          "text": [
            "[['converter', 'dc', 'to', 'ac', 'electrical', 'inverter', 'power', 'electronics'], ['pulse', 'converters', 'phaseshifting', 'transformer', 'power', 'electronics', 'rectifier', 'simulink'], ['psk', 'awgn', 'reed', 'solomon'], ['qam', 'communications', 'lte', 'mimo', 'modulation', 'multipath', 'rayleigh', 'turbo', 'coding'], ['phase', 'inverter', 'current', 'control'], ['adcs', 'aerodynamic', 'torque', 'aerospace', 'attitude', 'control', 'attitude', 'determination', 'cubesat', 'gravity', 'gradient', 'hysteresis', 'material', 'magnetic', 'dipole', 'torque', 'nanosatellite', 'orbit', 'passive', 'aerodynamic', 'stabilization', 'passive', 'magnetic', 'attitude', 'stabilization', 'pmas', 'small', 'satellite', 'tle'], ['automtica', 'examen', 'regulacin', 'simulink'], ['inverter', 'level', 'modulation', 'phase', 'space', 'svm', 'three', 'two', 'vector'], ['distribution', 'system', 'electrical'], ['accelerometre', 'arduino', 'gyroscope', 'mega', 'simulink', 'stateflow'], ['adafruit', 'arduino', 'bicolor', 'hardware', 'led', 'matrix', 'mega', 'pixel', 'simulink', 'stateflow'], ['arduino', 'blink', 'flash', 'led', 'pulse', 'uno', 'innovate', 'msia', 'competition'], ['arduino', 'bmp', 'bosch', 'digital', 'hardware', 'mega', 'pressure', 'sensor', 'stateflow'], ['alpha', 'beta', 'transformation', 'code', 'generation', 'dsp', 'filter', 'without', 'delay', 'orthogonal', 'signal', 'generation', 'single', 'phase', 'alpha', 'beta'], ['axis', 'machine', 'system', 'cnc', 'cutting', 'machine', 'heart', 'ilc', 'iterative', 'learning', 'control', 'position', 'control', 'reference', 'tracking', 'repetitive', 'control', 'tracking', 'twoaxis', 'machine'], ['ternplot', 'gtl', 'fuel', 'image', 'processing', 'neural', 'network', 'optimize', 'plot'], ['vehicle', 'model', 'agent', 'based', 'control', 'animation', 'automated', 'vehicles', 'kinematic', 'rolling', 'multiple', 'vehicles', 'vehicles', 'selfdriving', 'vehicles', 'simple', 'animation', 'swarm', 'vehicle', 'animation', 'visualization'], ['animation', 'ackermann', 'steering', 'low', 'speed', 'rolling', 'vehicle', 'nonholonomic', 'rolling', 'steering', 'model', 'steering', 'vehicle', 'vehicle', 'animation', 'vehicle', 'kinematics'], ['differential', 'equations', 'dynamic', 'system', 'dynamics', 'friction', 'gravity', 'mass', 'massspring', 'pendulum', 'physics', 'simulink', 'spring', 'spring', 'constant'], ['extrusion', 'mechanical', 'multibody', 'second', 'generation', 'simmechanics', 'simscape'], ['mechanical', 'multibody', 'physical', 'modeling', 'scissor', 'jack', 'scissor', 'lift', 'second', 'generation', 'simhydraulics', 'simmechanics', 'simscape', 'scissor', 'lift'], ['mechanical', 'multibody', 'physical', 'modeling', 'second', 'generation', 'simmechanics', 'simmechanics', 'simscape'], ['mass', 'model', 'mass', 'model', 'mass', 'model', 'mass', 'model', 'mass', 'model', 'permanent', 'magnet', 'synchronous', 'generator', 'pmsg', 'wind', 'wind', 'turbine', 'pmsg', 'hello', 'sir', 'mass', 'model', 'wind', 'turbine', 'mass', 'model', 'hello', 'sir', 'mass', 'model', 'permanent', 'magnet', 'synchronous', 'generator'], [], ['animation', 'modeling', 'collision', 'deformation', 'getting', 'started', 'modeling', 'simulink', 'animation', 'virtual', 'reality', 'toolbox', 'vrealm', 'editor', 'vrml'], ['acceleration', 'android', 'counter', 'digital', 'distance', 'education', 'experiment', 'fall', 'free', 'gravitational', 'interactive', 'lab', 'laboratory', 'learning', 'mechanics', 'microsecond', 'mobile', 'model', 'physics', 'science', 'sensor', 'simulation', 'virtual'], ['android', 'ballistic', 'curve', 'digital', 'distance', 'education', 'experiment', 'field', 'gravitational', 'inclined', 'interactive', 'lab', 'laboratory', 'launch', 'learning', 'mechanics', 'mobile', 'model', 'parabolic', 'physics', 'science', 'simulation', 'trajectory', 'velocity', 'virtual'], ['animation', 'assembly', 'automation', 'discrete', 'event', 'factory', 'line', 'reality', 'simevents', 'simulation', 'simulink', 'virtual'], ['animation', 'ball', 'bouncing', 'equation', 'getting', 'heat', 'integrator', 'modeling', 'reality', 'reset', 'simulink', 'started', 'temperature', 'virtual', 'vrealm', 'vrml'], ['animation', 'ball', 'collaborative', 'competition', 'control', 'fine', 'football', 'game', 'hockey', 'ice', 'introduction', 'machine', 'multagent', 'multiple', 'robocup', 'robot', 'robot', 'soccer', 'robotics', 'simevents', 'simulator', 'simulink', 'soccer', 'state', 'theory', 'visualization', 'webinar'], ['animation', 'direct', 'search', 'genetic', 'algorithms', 'optimization', 'pattern', 'search', 'simulink', 'visualization', 'animation', 'simulink', 'visualization', 'pattern', 'search'], ['animation', 'hopping', 'leg', 'mechanical', 'modeling', 'reality', 'robot', 'robotics', 'simmechanics', 'simulink', 'virtual', 'animation', 'reality', 'simulink', 'virtual'], ['attractor', 'chaos', 'differential', 'equation', 'graphics', 'lorenz', 'matlab', 'ode', 'sfunction', 'simulink', 'visualization'], ['audio', 'processing', 'mobile', 'simulink'], ['by', 'determinant', 'linear', 'algebra', 'matrix', 'simulink'], ['path', 'simulink', 'stem'], ['email', 'gmail', 'iphone', 'mandourarakis', 'mobile', 'model', 'notification', 'percentage', 'progress', 'push', 'report', 'simulation', 'simulink', 'spem', 'unattended'], ['gpp', 'ber', 'channel', 'compensation', 'channel', 'estimation', 'communications', 'doppler', 'lte', 'multipath', 'ofdm', 'pilot', 'carriers', 'qam', 'qpsk', 'rayleigh', 'channel', 'signal', 'processing', 'simulation', 'simulink', 'turbo', 'coding', 'wireless'], ['inverter', 'inverter', 'spwm', 'inverter', 'three', 'phase', 'inverter'], ['phase', 'ac', 'voltage', 'controller', 'induction', 'motor', 'speed', 'control'], ['rd', 'harmonic', 'dc', 'ac', 'converters', 'inverters', 'power', 'electronics', 'quasi', 'square', 'wave', 'inverter', 'simulink', 'rd', 'harmonic'], ['bus', 'model', 'bus', 'system', 'load', 'flow', 'analysis', 'load', 'flow', 'bus', 'power', 'flow', 'analysis', 'power', 'system', 'analysis'], ['clamped', 'diode', 'inverter', 'level'], ['bit', 'data', 'types', 'int', 'integers', 'parameters', 'simulink', 'uint'], ['qam', 'modulation', 'technique', 'ofdm', 'qam', 'wimax', 'wireless', 'wimax', 'qam', 'modulation', 'technique', 'ofdm', 'qam', 'ofdm', 'qam', 'qam', 'qam'], ['induction', 'modeling', 'motor', 'ph'], ['pulse', 'rectifier', 'harmonic', 'power', 'quality', 'voltage', 'notch'], ['bridge', 'cascade', 'hbridge', 'inverter', 'level'], ['adaptive', 'modulation', 'and', 'coding', 'error', 'ieee', 'wireless', 'wlan'], ['bluetooth', 'cvsd', 'frequency', 'hopping', 'matlab', 'simulink', 'voice', 'wireless', 'bluetooth', 'cvsd', 'frequency', 'hopping', 'matlab', 'simulink', 'voice', 'bluetooth', 'bluetooth'], ['anifs', 'control', 'estimation', 'motor', 'position', 'reluctance', 'sensorless', 'srm', 'switched'], ['bit', 'ad', 'adder', 'analog', 'counter', 'da', 'digital', 'duty', 'electrical', 'latch', 'mixed', 'signal', 'modeling', 'one', 'shot', 'oneshot', 'pwm', 'resettable', 'sar', 'simulation', 'simulink', 'sub', 'modeling'], ['hysteresis', 'mpc', 'nonlinear', 'propeller', 'rudder', 'ship', 'switching'], ['monte', 'carlo', 'random', 'robustness', 'ship', 'uncertainty'], ['mpc', 'propeller', 'rudder', 'ship'], ['practical', 'mpc', 'ship', 'state', 'space', 'system', 'identification'], ['abc', 'abc', 'alpha', 'beeta', 'clark', 'control', 'dq', 'park', 'transformation', 'abc'], ['ac', 'to', 'ac', 'conversion', 'ac', 'voltage', 'controller'], ['ac', 'to', 'ac', 'conversion', 'matrix', 'converter', 'pwm', 'method', 'pwm', 'method'], ['ac', 'to', 'ac', 'converter', 'boost', 'converter', 'buck', 'converter', 'buckboost', 'dc', 'to', 'dc', 'converter', 'inverter', 'rectifier', 'boost', 'converter'], ['ac', 'to', 'ac', 'convertion', 'ac', 'voltage', 'controller', 'converter', 'simulation'], ['ac', 'to', 'ac', 'ac', 'voltage', 'controller', 'converter', 'ac', 'to', 'ac'], ['ac', 'to', 'dc', 'conversion', 'dc', 'to', 'dc', 'conversion', 'power', 'electronics'], ['ac', 'to', 'dc', 'converter', 'control', 'controlled', 'rectifier', 'converter', 'drives', 'electrical', 'drive', 'full', 'converter', 'power', 'electronics', 'power', 'system', 'rectifier', 'single', 'phase', 'rectifier', 'converter'], ['ac', 'to', 'dc', 'converter', 'converter', 'rectifier'], ['ac', 'to', 'dc', 'converter', 'freewheeling', 'diode', 'rectifier', 'rectifier', 'rectifier'], ['ac', 'drive', 'ac', 'motor', 'control', 'ekf', 'extended', 'kalman', 'filter', 'kalman', 'filter', 'sensorless', 'state', 'observer'], ['ac', 'drive', 'ac', 'motor', 'control', 'elo', 'extended', 'luenberger', 'observer', 'luenberger', 'observer', 'pole', 'placement', 'sensorless', 'state', 'observer'], ['ac', 'drives', 'control', 'control', 'system', 'dc', 'drives', 'drives', 'electrical', 'drives', 'full', 'wave', 'rectifier', 'machines', 'power', 'electronics', 'power', 'system', 'rectifier', 'space', 'vector', 'pulse', 'width', 'modulation', 'svpwm'], ['ac', 'drives', 'control', 'control', 'systems', 'converter', 'dc', 'drives', 'electrical', 'drives', 'electronics', 'inverter', 'machine', 'control', 'modulation', 'power', 'converter', 'power', 'electronics', 'power', 'system', 'quasi', 'square', 'wave', 'inverter', 'single', 'phase', 'inverter', 'square', 'wave', 'inverter'], ['ac', 'drives', 'foc', 'induction', 'motor', 'mpcc', 'power', 'electronics'], ['ac', 'drives', 'foc', 'inucton', 'motor', 'drive', 'power', 'electronics', 'speed', 'control'], ['ac', 'generator', 'compressed', 'air', 'dc', 'motor', 'pv', 'cells', 'simscape'], ['ac', 'load', 'constant', 'current', 'load', 'current', 'controller', 'inverter'], ['ac', 'load', 'inverter', 'phase', 'ac', 'load', 'inverter', 'phase'], ['ac', 'machines', 'control', 'control', 'system', 'drives', 'dynamic', 'model', 'electric', 'machines', 'electrical', 'drives', 'induction', 'motor', 'model', 'motors', 'power', 'electronics', 'power', 'system'], ['ac', 'microgrid', 'dc', 'microgrid', 'distributed', 'resources', 'hybrid', 'energy', 'systems', 'microgrid', 'microgrid', 'benchmark', 'power', 'converter', 'test', 'system', 'simulation'], ['ac', 'motor', 'control', 'ac', 'motor', 'drives', 'control', 'control', 'system', 'drives', 'dynamic', 'model', 'electrical', 'drives', 'feedback', 'control', 'industrial', 'control', 'motor', 'control', 'motor', 'drives', 'motor', 'model', 'permanent', 'magnet', 'synchr', 'power', 'electronics', 'speed', 'control', 'vector', 'control'], ['ac', 'motor', 'control', 'ac', 'motors', 'control', 'system', 'direct', 'torque', 'control', 'feed', 'back', 'control', 'induction', 'motor', 'industrial', 'electronics', 'inverter', 'modelling', 'motor', 'control', 'motor', 'drives', 'power', 'converters', 'power', 'electronics', 'power', 'inverters', 'speed', 'control', 'torque', 'modelling'], ['ac', 'motor', 'control', 'bldc', 'brushless', 'dc', 'motor', 'converter', 'dc', 'motor', 'control', 'dynamic', 'model', 'feedback', 'control', 'industrial', 'control', 'inverter', 'motor', 'motor', 'control', 'power', 'converter', 'power', 'electronics', 'power', 'inverter', 'power', 'system', 'simulink', 'speed', 'control', 'thank', 'yougood', 'work'], ['ac', 'motor', 'control', 'control', 'design', 'control', 'system', 'fourier', 'analysis', 'harmonics', 'mathematics', 'measurement', 'modulation', 'motor', 'control', 'power', 'electronics', 'power', 'system', 'pulse', 'width', 'modulation', 'pwm', 'signal', 'processing', 'simulation', 'spectrum'], ['ac', 'motor', 'ann', 'artificial', 'neural', 'network', 'asynchronous', 'motor', 'drive', 'feedforward', 'neural', 'network', 'ffnn', 'induction', 'motor', 'drive', 'linearquadratic', 'regulator', 'lqr', 'nonstationary', 'state', 'matrix', 'optimal', 'control', 'programmable', 'gain', 'matrix', 'speed', 'control'], ['ac', 'motor', 'asynchronous', 'motor', 'induction', 'motor', 'induction', 'motor', 'ac', 'motor'], ['ac', 'motor', 'asynchronous', 'motor', 'induction', 'motor', 'pwm', 'pwm'], ['ac', 'motor', 'converter', 'induction', 'motor', 'inverter', 'mathematical', 'modeling', 'pwm', 'techniques', 'simulink', 'space', 'vector', 'space', 'vector', 'modulation', 'speed', 'control', 'svm', 'svpwm', 'three', 'phase', 'inverter', 'three', 'phase', 'svm'], ['ac', 'motor', 'induction', 'motor', 'induction', 'motor', 'modeling', 'inverter', 'modeling', 'mathematical', 'modeling', 'motor', 'control', 'pwm', 'space', 'vector', 'modulation', 'speed', 'control', 'svm', 'svpwm', 'three', 'phase', 'induction', 'motor', 'three', 'phase', 'inverter'], ['ac', 'motor', 'induction', 'motor', 'speed', 'controller'], ['ac', 'motors', 'bldc', 'motor', 'brushless', 'dc', 'motor', 'close', 'loop', 'control', 'dynamics', 'of', 'electric', 'drive', 'electric', 'drives', 'fan', 'motors', 'hall', 'sensor', 'inverter', 'control', 'machines', 'motor', 'control', 'motordrives', 'control', 'speed', 'control', 'speed', 'control', 'techniques', 'for', 'bldc', 'drives'], ['ac', 'motors', 'pmsm', 'vector', 'control', 'ac', 'motors', 'pmsm', 'vector', 'control', 'vector', 'control', 'ac', 'motors'], ['ac', 'voltage', 'control', 'acac', 'converter', 'ac', 'voltage', 'control'], ['ac', 'voltage', 'controller', 'control', 'control', 'system', 'electronics', 'machines', 'control', 'power', 'electronics', 'power', 'system', 'voltage', 'controller', 'phase', 'ac', 'voltage', 'controller'], ['acac', 'converter', 'cycloconverter', 'diodes', 'frequency', 'converter', 'industrial', 'electronics', 'power', 'electronics', 'simulation', 'simulink', 'step', 'up', 'cycloconverter'], ['acac', 'converter', 'thyristor', 'triac'], ['academic', 'cyberphysical', 'system', 'equation', 'based', 'modeling', 'equationbased', 'modeling', 'image', 'processing', 'industrie', 'industry', 'manufacturing', 'multiparadigm', 'multiparadigm', 'modeling', 'physics', 'physics', 'modeling', 'robotics', 'service', 'oriented', 'architectures', 'smart', 'systems', 'software', 'architectures', 'st', 'stereopsis', 'stereoscopic', 'vision', 'streaming', 'video', 'towers', 'of', 'hanoi', 'multiparadigm', 'modeling'], ['acc', 'adaptive', 'cruise', 'control', 'car', 'embedded', 'system', 'model', 'in', 'the', 'loop', 'modelbased', 'design', 'modeling', 'test', 'verification'], ['acceleration', 'acceleration', 'auto', 'automotive', 'car', 'data', 'export', 'game', 'gtr', 'race', 'simulation', 'simulator', 'telemetry'], ['accelerometer', 'arduino', 'deflection', 'mma', 'mma', 'real', 'time', 'simulink', 'vibration'], ['accelerometer', 'arduino'], ['accelerometer', 'identification', 'mems', 'micromirror', 'nonlinearity'], ['acc', 'embedded', 'systems', 'modeling', 'test', 'verification'], ['accuracy', 'accurate', 'modeling', 'article', 'paper', 'simulink', 'white', 'paper', 'whitepaper'], ['accuracy', 'dcdcconverter', 'interpolation', 'powergui', 'pwm', 'sampletime'], ['acdcac', 'converter', 'power', 'supply', 'pwm', 'voltage', 'source', 'converter', 'vsc', 'power', 'supply', 'acdcac', 'converter', 'acdcac', 'converter'], ['acdc', 'aerospace', 'diode', 'diode', 'rectifier', 'power', 'electronics', 'power', 'supply', 'rectifier', 'simulation', 'simulink', 'three', 'phase'], ['acdc', 'boost', 'rectifier', 'power', 'converter', 'power', 'electronics', 'power', 'factor', 'control', 'pwm', 'rectifier', 'spwm', 'three', 'phase', 'unity', 'power', 'factor'], ['acdc', 'buck', 'more', 'electric', 'aircraft', 'power', 'converter', 'power', 'electronics', 'rectifier', 'three', 'phase'], ['acdc', 'converter', 'rectifier', 'rectifire'], ['acdc', 'education', 'electronics', 'power', 'smps'], ['acdc', 'power', 'converter', 'power', 'electronics', 'power', 'factor'], ['acdc', 'power', 'converter', 'power', 'electronics', 'power', 'factor', 'rectifier', 'simulink'], ['acdc', 'power', 'electronics', 'power', 'factor', 'rectifier', 'thd'], ['acmicrogrid', 'fault', 'microgrid'], ['aco', 'ant', 'colony', 'dc', 'motor', 'optimization', 'pid'], ['acquisition', 'cdma', 'fpga', 'gps', 'timing', 'tracking'], ['acquisition', 'edge', 'detection', 'gui', 'image', 'level', 'matlab', 'processing', 'sfunction', 'simulink', 'video'], ['action', 'client', 'action', 'server', 'robotics', 'ros'], ['action', 'potential', 'biotech', 'hodgkinhuxley', 'model', 'neuron', 'neuroscience', 'nodose', 'neuron', 'pharmaceutical', 'simulink', 'action', 'potential', 'action', 'potential'], ['active', 'filter', 'fuel', 'cell', 'ripple', 'current'], ['active', 'filter', 'it', 'gives', 'error', 'active', 'filter', 'filter', 'harmonics', 'power', 'pq', 'theory', 'reactive', 'power', 'shunt', 'simulation', 'simulink', 'sapf'], ['active', 'front', 'end', 'rectifier', 'dclink', 'stabilizer', 'matlab', 'simulink', 'power', 'electronics', 'statcom'], ['active', 'heating', 'catalytic', 'converter', 'pollution', 'transient', 'reactor'], ['active', 'power', 'apparent', 'power', 'complex', 'power', 'phase', 'angle', 'power', 'factor', 'reactive', 'power', 'real', 'power'], ['active', 'power', 'dynamic', 'var', 'reactive', 'power', 'simulink', 'statcom', 'total', 'harmonic', 'distortion', 'voltage', 'quality', 'wind', 'farm', 'wind', 'turbine', 'windmill', 'active', 'power', 'total', 'harmonic', 'distortion', 'statcom', 'statcom', 'simulink'], ['active', 'recifier', 'control', 'dynamic', 'optimization', 'problem', 'energy', 'quality', 'energy', 'storage', 'grid', 'interface', 'gridtie', 'converter', 'ilc', 'iterative', 'learning', 'control', 'optimal', 'control', 'particle', 'swarm', 'optimization', 'power', 'electronic', 'converter', 'power', 'electronics', 'pso', 'renewable', 'energy', 'storage', 'renewables', 'repetitive', 'control', 'res', 'smart', 'grid'], ['active', 'rectifier', 'energy', 'storage', 'grid', 'converter', 'grid', 'interface', 'ilc', 'iterative', 'learning', 'control', 'mosc', 'npme', 'oscillatory', 'controller', 'phase', 'lead', 'power', 'electronics', 'power', 'system', 'practicalities', 'rc', 'renevable', 'energy', 'sources', 'renewables', 'repetitive', 'control', 'repetitive', 'controller', 'repetitive', 'process', 'res', 'resonant', 'controller', 'signal', 'processing', 'smes', 'superconducting', 'magnetic', 'energy', 'storage'], ['active', 'rectifier', 'fd', 'fd', 'filter', 'fractional', 'delay', 'fractional', 'delay', 'filter', 'fractional', 'delay', 'ilc', 'grid', 'converter', 'ilc', 'iterative', 'learning', 'control', 'mosc', 'controller', 'rc', 'repetitive', 'control', 'resonant', 'controller', 'variable', 'frequency'], ['active', 'suspension', 'system', 'actuator', 'controller', 'quarter', 'car', 'road', 'profile', 'static', 'equilibrium', 'stiffness', 'and', 'damping', 'vehicle', 'modeling'], ['active', 'chart', 'logging', 'stateflow', 'time'], ['active', 'control', 'design', 'filter', 'linear', 'load', 'non', 'nonlinear', 'pi', 'shunt', 'statcom'], ['active', 'custom', 'power', 'device', 'dvr', 'dynamic', 'filter', 'restorer', 'series', 'voltage'], ['activefilter', 'filter', 'mathematics', 'opamp', 'signal', 'processing', 'simulation', 'simulink'], ['active_power', 'dfig', 'pmsg', 'power', 'reactive_power', 'simulation', 'simulink', 'type', 'wind'], ['activex', 'example', 'gauge', 'gui', 'gui', 'tools', 'real', 'time', 'simulink', 'gauge', 'simulink', 'gauge'], ['actuator', 'saturation', 'global', 'optimization', 'graphical', 'userinterface', 'integral', 'performance', 'indices', 'itae', 'criterion', 'optimal', 'control', 'optimization', 'optimum', 'pid', 'pid', 'controller'], ['actuator', 'hydraulic', 'landing', 'gear', 'multibody', 'physical', 'modeling', 'simhydraulics', 'simmechanics', 'simscape'], ['actuators', 'affine', 'da', 'linear', 'range', 'scaling', 'sensors', 'simulink', 'transformation'], ['adaptive', 'channel', 'equalization', 'adaptive', 'channel', 'equalizer', 'adaptive', 'equalizer', 'adaptive', 'filter', 'adaptive', 'signal', 'processing', 'channel', 'equalizer', 'lms', 'algorithm', 'signal', 'processing', 'simulation', 'simulink', 'adaptive', 'channel', 'equalizer', 'adaptive', 'equalizer', 'adaptive', 'channel', 'equalization', 'please', 'send', 'the', 'coding', 'and', 'details', 'of', 'channel', 'equalization', 'using'], ['adaptive', 'control', 'adaptive', 'control', 'example', 'using', 'simulink', 'adaptive', 'control', 'using', 'simulink', 'model', 'reference', 'adaptive', 'control', 'mrac'], ['adaptive', 'control', 'cad', 'control', 'control', 'design', 'derivative', 'integral', 'mrac', 'pid', 'proportional', 'quadrotor', 'uas'], ['adaptive', 'control', 'control', 'design', 'estimation', 'pid', 'control'], ['adaptive', 'control', 'control', 'control', 'design', 'first', 'order', 'system', 'adjustment', 'mit', 'rule', 'mit', 'rule', 'model', 'reference', 'adaptation', 'systems', 'mras'], ['adaptive', 'control', 'control', 'control', 'design', 'gain', 'adiustment', 'mit', 'rule', 'mit', 'rule', 'model', 'reference', 'adaptation', 'system', 'mras'], ['adaptive', 'control', 'control', 'control', 'design', 'gain', 'scheduling', 'gs', 'nonlinear', 'transformations', 'nonlinear', 'transformations', 'gain', 'scheduling'], ['adaptive', 'control', 'control', 'control', 'design', 'gain', 'scheduling', 'gs', 'nonlinear', 'valve', 'nonlinear', 'valve', 'gain', 'scheduling'], ['adaptive', 'control', 'control', 'control', 'design', 'gain', 'scheduling', 'gs', 'tank', 'system', 'tank', 'system', 'gain', 'scheduling'], ['adaptive', 'control', 'control', 'control', 'design', 'mit', 'rule', 'model', 'reference', 'adaptation', 'system', 'mras', 'second', 'order', 'system', 'adjustment', 'mit', 'rule'], ['adaptive', 'control', 'controller', 'tuning', 'dop', 'dynamic', 'optimization', 'problem', 'ilc', 'iterative', 'learning', 'control', 'optimal', 'control', 'particle', 'swarm', 'optimization', 'pso', 'repetitive', 'control'], ['adaptive', 'control', 'diophantine', 'equation', 'pole', 'placement', 'design', 'poleshifting', 'technique', 'pseudorandom', 'binary', 'signal', 'recursive', 'least', 'squares', 'method', 'system', 'identification'], ['adaptive', 'controller', 'differential', 'steered', 'dynamic', 'model', 'mobile', 'robot', 'robot', 'unicycle'], ['adaptive', 'controller', 'networked', 'control', 'systems', 'truetime'], ['adaptive', 'control', 'model', 'reference', 'model', 'reference', 'adaptive', 'control', 'mrac'], ['adaptive', 'control', 'mras', 'pmsm', 'state', 'feedback', 'controller', 'widrow', 'hoff'], ['adaptive', 'differentiator', 'adjustable', 'differentiator', 'difference', 'quotient', 'differentiation', 'differentiator', 'finite', 'impulse', 'response', 'finite', 'impulse', 'response', 'filter', 'fir', 'fir', 'filter', 'linear', 'regression', 'noise', 'noisy', 'signal', 'predictive', 'differentiator', 'recursive', 'least', 'squar'], ['adaptive', 'filter', 'embedded', 'matlab', 'hdl', 'lms', 'hdl', 'adaptive', 'filter', 'adaptive', 'filter'], ['adaptive', 'frequency', 'van', 'der', 'pol'], ['adaptive', 'mpc', 'control', 'design', 'controls', 'model', 'predictive', 'control', 'mpc', 'mpc', 'toolbox', 'simulink'], ['adas', 'automated', 'driving', 'automotive', 'computer', 'vision', 'image', 'processing', 'lidar'], ['adas', 'computer', 'vision', 'image', 'processing', 'image', 'recognition', 'matlab', 'expo', 'point', 'cloud', 'processing', 'stereo', 'image'], ['adc', 'analog', 'to', 'digital', 'converter'], ['adc', 'analog', 'to', 'digital', 'converter', 'pyranometer', 'single', 'ended', 'adc'], ['adc', 'analog', 'clock', 'converter', 'counter', 'deterministic', 'digital', 'electronic', 'electronics', 'extrapolation', 'extrapolator', 'iadc', 'integrator', 'interpolation', 'interpolator', 'model', 'polynomial', 'ramp', 'simulation', 'simulink', 'stochastic'], ['adc', 'audio', 'processing', 'data', 'converter', 'delsig', 'delta', 'sigma', 'deltasigma', 'dsp', 'electronics', 'filtering', 'mash', 'noise', 'shaping', 'noiseshaping', 'sigma', 'delta', 'sigmadelta', 'toolbox'], ['adc', 'dac', 'drivers', 'pwm', 'raspberrypi', 'rpi'], ['adder', 'biotech', 'communications', 'control', 'design', 'data', 'export', 'data', 'import', 'demo', 'embedded', 'code', 'hpf', 'instrument', 'driver', 'lpf', 'measurement', 'modeling', 'simulation', 'simulink', 'system', 'identification'], ['adder', 'gain', 'opamp', 'operational', 'amplifier', 'summer'], ['adder', 'opamp', 'operational', 'amplifier', 'summer'], ['event', 'listeners', 'grt', 'rtw', 'simulink', 'ui', 'user', 'interface', 'pick', 'of', 'the', 'week', 'potw'], ['model', 'optimization', 'runtimeobject', 'sorted', 'order', 'virtual', 'blocks'], ['adi', 'rf', 'som', 'channel', 'estimation', 'communications', 'decoder', 'fmcomms', 'xilinx', 'zynq', 'zc'], ['admittance', 'dynamics', 'pushing', 'box', 'simulink'], ['adplib', 'adptools'], ['adrc', 'process', 'control', 'adrc', 'adrc', 'control', 'adrc'], ['adxl', 'arduino', 'arduino', 'mega', 'bmp', 'hmc', 'itg', 'matlab', 'sen', 'simulink'], ['aerodef', 'aeronautical', 'aeronautics', 'aerospace', 'airframe', 'astronautical', 'hl', 'nasa', 'astronautical', 'nasa', 'aerospace', 'aerodef'], ['aerodef', 'aeronautics', 'aerospace', 'aircraft', 'airplane', 'flight', 'propeller', 'vrml', 'wright', 'flyer'], ['aerodynamics', 'ball', 'bounce', 'bouncing', 'flight', 'magnus', 'mechanical', 'modeling', 'spin', 'tennis'], ['aeronautics', 'aerospace', 'aerospace', 'blockset', 'aerospace', 'toolbox', 'digital', 'datcom', 'web', 'view'], ['aerospace'], ['aerospace', 'aircraft', 'control', 'laws', 'optimised', 'test', 'cases', 'optimization', 'simulation', 'simulink', 'simulink', 'blocks', 'verification', 'and', 'validation'], ['aerospace', 'arm', 'code', 'generation', 'cortex', 'embedded', 'system', 'estimation', 'kalman', 'filter', 'microcontroller', 'nonlinear', 'realtime', 'workshop', 'embedded', 'coder', 'signal', 'processing', 'simulink', 'tilt', 'sensor', 'estimation'], ['aerospace', 'automated', 'tests', 'automotive', 'benchmark', 'coverage', 'metrics', 'model', 'based', 'mutation', 'problem', 'random', 'simulink', 'testing', 'validation', 'verification'], ['aerospace', 'automotive', 'biotech', 'control', 'design'], ['aerospace', 'automotive', 'bond', 'graph', 'bondgraph', 'demo', 'energy', 'energy', 'structure', 'of', 'systems', 'modeling', 'physics', 'power', 'flow', 'simulation', 'simulink', 'automotive', 'energy', 'simulink', 'de', 'demo'], ['aerospace', 'automotive', 'buck', 'buck', 'converter', 'control', 'design', 'dc', 'dc', 'converter', 'distributed', 'gui', 'libya', 'mathematics', 'measurement', 'modeling', 'optimization', 'simulation', 'simulink', 'stepdown', 'buck', 'converter', 'stepdown'], ['aerospace', 'automotive', 'communications', 'control', 'design', 'demo', 'fluid', 'power', 'engineering', 'simulation', 'simulink'], ['aerospace', 'automotive', 'communications', 'control', 'design', 'fluid', 'power', 'engineering', 'optimization', 'simulation', 'simulink'], ['aerospace', 'automotive', 'communications', 'control', 'design', 'fluid', 'power', 'engineering', 'simulation', 'simulink', 'aerospace', 'simulink'], ['aerospace', 'automotive', 'communications', 'control', 'design', 'image', 'processing', 'simulink'], ['aerospace', 'automotive', 'control', 'design'], ['aerospace', 'automotive', 'control', 'design', 'embedded', 'code', 'simulation'], ['aerospace', 'automotive', 'control', 'design', 'embedded', 'code', 'simulation', 'simulink'], ['aerospace', 'automotive', 'control', 'design', 'fluid', 'power', 'engineering', 'optimization', 'simulation', 'simulink'], ['aerospace', 'automotive', 'control', 'design', 'safety', 'critical', 'verification', 'and', 'validation'], ['aerospace', 'automotive', 'demo', 'finance', 'genetic', 'algorithm', 'optimization', 'parallel', 'parallel', 'computing', 'pick', 'of', 'the', 'week', 'portfolio', 'optimization', 'potw', 'pick', 'of', 'the', 'week', 'potw'], ['aerospace', 'automotive', 'gui', 'simulation', 'simulink', 'pick', 'of', 'the', 'week', 'potw', 'gui', 'automotive', 'aerospace'], ['aerospace', 'automotive', 'simulink'], ['aerospace', 'boeing', 'aerodef', 'aerodynamics', 'aeronautics', 'aerospace', 'aircraft', 'boeing', 'cessna', 'fdc', 'flight', 'aerodef'], ['aerospace', 'control', 'design', 'helicopter', 'modeling', 'simulation', 'simulink', 'simulation'], ['aerospace', 'control', 'design', 'simulation', 'simulink'], ['aerospace', 'control', 'control', 'design', 'example', 'simulink'], ['aerospace', 'electrical', 'generator', 'hydraulic', 'pump', 'more', 'electrical', 'aircraft', 'ram', 'air', 'turbine', 'simulation', 'of', 'emergency', 'electrical', 'system'], ['aerospace', 'example', 'modeling', 'simulink'], ['aerospace', 'modeling', 'simulink'], ['aerospace', 'simulink'], ['agc', 'avr', 'maps', 'pid'], ['agc', 'ask', 'nfc'], ['agc', 'dfig', 'frequency', 'wind'], ['agc'], ['agc', 'balancing', 'control', 'dispatch', 'frequency', 'power', 'variableload', 'variablewind', 'wind'], ['ahf', 'apf', 'clark', 'transform', 'harmonic', 'distortion', 'harmonic', 'filter', 'power', 'filter', 'pq', 'theory', 'application', 'sapf', 'thd'], ['ahf', 'apf', 'clark', 'transform', 'harmonic', 'distortion', 'harmonic', 'filter', 'power', 'filter', 'pq', 'theory', 'application', 'sapf', 'thd', 'shunt', 'active', 'power'], ['ahf', 'apf', 'pq', 'theory', 'sapf', 'coordination', 'tcsc', 'and', 'svc', 'tcsc', 'and', 'svc'], ['ai', 'controller', 'cascade', 'multilevel', 'bridge', 'inverter', 'hybrid', 'photovoltaic', 'fuel', 'cell', 'and', 'wind'], ['ai', 'controller', 'dfig', 'fuzzy', 'grid', 'hybrid', 'pv'], ['ai', 'anfis', 'facts', 'grid', 'hybrid', 'pv', 'svc', 'wind'], ['ai', 'anfis', 'fc', 'fuzzy', 'hybrid', 'pv', 'wind'], ['ai', 'dfig', 'microgrid', 'power', 'management', 'system', 'pv'], ['ai', 'hybrid', 'microgrid', 'pv', 'smart', 'grid', 'wind'], ['aircraft', 'ann', 'dstatcom', 'indraneel', 'saki', 'indranil', 'saaki', 'power', 'quality'], ['aircraft', 'autopilot', 'formal', 'methods', 'modes', 'stateflow'], ['airport', 'animation', 'belt', 'conveyer', 'coverage', 'logistics', 'luggage', 'plc', 'code', 'transport'], ['algebraic', 'loop', 'pv', 'array', 'solar', 'panel'], ['algebraic', 'debugger', 'failed', 'loop', 'simulink', 'solver', 'step', 'variable'], ['algebric', 'loops', 'article', 'articles', 'paper', 'scheduling', 'whitepaper', 'whitepapers'], ['algorithm', 'cell', 'mppt', 'pv'], ['algorithm', 'control', 'mathematics', 'modeling', 'simulink', 'toolbox'], ['algorithmic', 'trading', 'algorithmic', 'trading', 'nearest', 'neighbour', 'market', 'making', 'algorithmic', 'trading', 'algorithmic', 'trading', 'bollinger', 'bands', 'finance', 'high', 'frequency', 'market', 'making', 'signal', 'processing', 'simulation', 'simulink', 'systematic', 'trading', 'algorithmic', 'trading', 'algorithmic', 'trading', 'algorithmic', 'trading', 'algorithmic', 'trading', 'high', 'frequency', 'market', 'making', 'algorithmic', 'trading', 'algorithmic', 'trading', 'nearest', 'neighbour', 'algorithmic', 'trading', 'algorithmic', 'trading', 'gui', 'high', 'frequency', 'finance', 'algorithmic', 'trading', 'algorithmic', 'trading', 'systematic', 'trading', 'algorithmic', 'trading', 'high', 'frequency', 'algorithmic', 'trading', 'algorithmic', 'trading', 'algorithmic', 'trading', 'algorithmic', 'trading', 'algorithmic', 'trading', 'bollinger', 'bands', 'finance', 'gui', 'high', 'frequency', 'market', 'making', 'nearest', 'neighbour', 'signal', 'processing', 'simulation', 'simulink', 'systematic', 'trading'], ['algorithm', 'incremental', 'conductance', 'algorithm', 'photovoltaic', 'solar', 'cell'], ['aliasing', 'effect', 'balanced', 'modulator', 'demodulation', 'hold', 'lowpass', 'sample', 'signal', 'rconstruction'], ['allterrain', 'vehicle', 'atv', 'baja', 'continously', 'variable', 'transmission'], ['alternative', 'energy', 'sources', 'simulink', 'solar', 'cell', 'solar', 'panel', 'sympowersystem', 'alternative', 'energy', 'sources', 'mppt', 'solar', 'panel', 'sympowersystem', 'solar', 'panel'], ['opposition', 'disposition', 'apod', 'carrierbased', 'modulation', 'diodeclamped', 'fourlevel', 'inphase', 'disposition', 'inverters', 'ipd', 'levelshifted', 'modulation', 'power', 'electronics', 'pwm', 'simulink', 'thd', 'threelevel'], ['alternator', 'automotive', 'battery', 'demo', 'electrical', 'simulink', 'alternator', 'automotive', 'battery', 'control', 'design', 'demo', 'electrical', 'lead', 'acid', 'leadacid', 'optimization', 'simulation', 'simulink', 'vehicle', 'battery', 'battery', 'alternator', 'battery', 'battery', 'alternator', 'battery', 'automotive', 'electrical', 'alternator', 'battery', 'alternator'], ['am', 'am', 'communications', 'data', 'export', 'data', 'import', 'demo', 'demodulation', 'modulation', 'signal', 'processing', 'simulation', 'simulink', 'wireless'], ['amplifier', 'difference', 'differential', 'amplifier', 'non', 'inverting', 'opamp'], ['amplifiers', 'communication', 'demux', 'fiber', 'mapping', 'mux', 'optics', 'sdh', 'sonet', 'toolbox', 'communication', 'fiber', 'mux', 'optics', 'amplifiers', 'optics', 'communication', 'fiber', 'demux', 'fiber', 'communication', 'fiber'], ['am', 'signal', 'processing', 'simulink'], ['analizador', 'de', 'espectrps', 'de', 'audio', 'analyzer', 'application', 'audio', 'spectrum', 'audio', 'spectrum', 'analyzer', 'data', 'acquisition', 'example', 'simulink', 'test', 'and', 'measure', 'analizador', 'de', 'espectrps', 'de', 'audio', 'audio', 'spectrum', 'analyzer', 'data', 'acquisition'], ['analog', 'circuit', 'electrical', 'electronic', 'opamp', 'physical', 'modeling', 'simelectronics', 'simscape', 'temperature'], ['analog', 'design', 'circuit', 'frequency', 'domain', 'rf', 'sparameters', 'transfer', 'function'], ['analog', 'digital', 'converter', 'analog', 'digital', 'converter'], ['analog', 'analogue', 'communications', 'control', 'design', 'delta', 'sigma', 'electronics', 'modeling', 'semiconductors', 'sigma', 'delta', 'signal', 'processing', 'simulation', 'simulink'], ['analog', 'bit', 'code', 'converter', 'dac', 'delta', 'deltasigma', 'digit', 'digital', 'electronic', 'electronics', 'model', 'modulation', 'modulator', 'multi', 'pwm', 'sigma', 'sigmadelta', 'simulation', 'simulink', 'subfunction'], ['analysis', 'application', 'automotive', 'differential', 'equations', 'example', 'mathematics', 'matlab', 'matrix', 'model', 'modeling', 'nonlinear', 'simulation', 'simulink'], ['analysis', 'control', 'design', 'decoupling', 'gui', 'io', 'pairing', 'mimo', 'multivariable', 'systems', 'toolbox'], ['analysis', 'matlab', 'safety', 'simulink', 'stpa'], ['android', 'sensors', 'balancing', 'robot', 'ev', 'gyro', 'boy', 'gyroboy', 'inverted', 'pendulum', 'lego', 'mindstorms', 'remote', 'control', 'self', 'balancing', 'robot'], ['android', 'camera', 'color', 'detection', 'computer', 'vision', 'maker', 'mobile'], ['anfis', 'ann', 'control', 'direct', 'dtc', 'estimation', 'fuzzy', 'motor', 'position', 'reluctance', 'speed', 'srm', 'switched', 'torrque', 'vector'], ['anfis', 'fuzzy', 'hybrid', 'microgrid', 'multilevel', 'inverter', 'pv', 'wind'], ['anfis', 'hybrid', 'pv', 'wind', 'intelligent', 'controller', 'microgrid', 'power', 'quality', 'smart', 'grid'], ['anfis', 'intelligent', 'mppt', 'wind'], ['anfis', 'microgrid', 'multilevel', 'inverter', 'pv'], ['anfis', 'mppt', 'power', 'electronics', 'pv'], ['angle', 'atan', 'atan', 'jumps', 'phase', 'simulink', 'unwrap', 'wrap', 'unwrap'], ['angle', 'map', 'mapping', 'math', 'trigonometric', 'trigonometry'], ['animation', 'ball', 'collaborative', 'control', 'football', 'game', 'introduction', 'machine', 'multagent', 'multiple', 'robocup', 'simulator', 'soccer', 'visualization', 'webinar', 'animation', 'ball', 'collaborative', 'competition', 'control', 'fine', 'football', 'game', 'hockey', 'ice', 'introduction', 'machine', 'multagent', 'multiple', 'robocup', 'robot', 'robot', 'soccer', 'robotics', 'simulator', 'simulink', 'soccer', 'state', 'theory', 'visualization', 'webinar', 'robot', 'soccer', 'football'], ['animation', 'image', 'processing', 'mechanical', 'modeling', 'robot', 'robotics', 'animation', 'animation', 'animation', 'image', 'processing'], ['animation', 'mechanical', 'modeling'], ['animation', 'simmechanics'], ['anish', 'salvi', 'fctcr', 'matlab', 'simulation'], ['anish', 'salvi', 'harmonic', 'filter', 'in', 'power', 'system', 'passive', 'harmonic', 'filters', 'power', 'quality'], ['ann', 'controller', 'dfacts', 'dstatcom', 'indraneel', 'saki', 'indranil', 'saaki', 'power', 'quality', 'pso'], ['ann', 'plant', 'control', 'indraneel', 'saki', 'indranil', 'saaki', 'neural', 'network', 'predictive', 'controller'], ['ann', 'ann', 'artificial', 'neural', 'network', 'lms', 'radial', 'basis', 'function', 'rbf', 'simulink'], ['ann', 'approximatio', 'artificial', 'neural', 'network', 'asynchronous', 'motor', 'drive', 'dsfoc', 'feedforward', 'neural', 'network', 'ffnn', 'field', 'oriented', 'control', 'foc', 'induction', 'motor', 'drive', 'neuroestimation', 'neuroestimator', 'rotating', 'reference', 'frame', 'sfoc', 'speed', 'estimation', 'speedsensorless', 'drive'], ['ann', 'approximation', 'base', 'artificial', 'neural', 'network', 'asynchronous', 'motor', 'drive', 'feedforward', 'neural', 'network', 'ffnn', 'induction', 'motor', 'drive', 'neuroestimation', 'neuroestimator', 'sensorless', 'control', 'speed', 'estimation', 'speedsensorless', 'drive'], ['ann', 'artificial', 'neural', 'network', 'backpropagation', 'mlp', 'multilayer', 'perceptron', 'neural', 'networks', 'simulink', 'ann', 'artificial', 'neural', 'network', 'backpropagation', 'ann', 'artificial', 'neural', 'network', 'multilayer', 'perceptron', 'multilayer', 'perceptron'], ['ann', 'artificial', 'neural', 'network', 'kohonen', 'self', 'organizing', 'feature', 'maps', 'self', 'organizing', 'maps', 'simulink', 'sofm', 'som', 'kohonen', 'artificial', 'neural', 'network', 'self', 'organizing', 'feature', 'maps', 'self', 'organizing', 'maps', 'som', 'kohonen'], ['ann', 'artificial', 'neural', 'network', 'pseudoinverse', 'radial', 'basis', 'function', 'rbf', 'simulink'], ['ann', 'asynchronous', 'motor', 'drfoc', 'electric', 'drives', 'feedforward', 'neural', 'network', 'ffnn', 'field', 'oriented', 'control', 'flux', 'calculator', 'flux', 'estimator', 'foc', 'induction', 'motor', 'neural', 'networks', 'power', 'electronics', 'rfoc'], ['ann', 'control', 'direct', 'dtc', 'estimation', 'motor', 'position', 'reulctance', 'srm', 'switched', 'torque'], ['ann', 'dc', 'motor', 'intelligent', 'solar'], ['ann', 'dynamic', 'optimization', 'problem', 'error', 'backpropagation', 'ffnn', 'ilc', 'iterative', 'learning', 'control', 'neural', 'networks', 'power', 'electronic', 'converter', 'repetitive', 'control', 'repetitive', 'disturbance', 'rejection'], ['ann', 'intelligent', 'controller', 'based', 'selection', 'of', 'optimal', 'size', 'of', 'renewb'], ['annotation', 'customization', 'graphics', 'phases', 'plot', 'power', 'systems'], ['ansi', 'device', 'number', 'digital', 'protection', 'relay', 'ieee', 'device', 'number', 'numerical', 'protection', 'relay', 'protection', 'relay', 'undervoltage', 'relay'], ['ansi', 'device', 'number', 'digital', 'protection', 'relay', 'ieee', 'std', 'instantaneous', 'overcurrent', 'relay', 'numerical', 'protection', 'relay', 'overcurrent', 'protection', 'relay', 'protection', 'relay', 'transmission', 'line', 'fault'], ['ansi', 'device', 'number', 'digital', 'protection', 'relay', 'numerical', 'protection', 'relay', 'overvoltage', 'relay', 'protection', 'relay'], ['ansi', 'device', 'number', 'digital', 'protection', 'relay', 'frequency', 'relay', 'numerical', 'protection', 'relay', 'protection', 'relay'], ['ansys', 'cantilever', 'beam', 'fea', 'flexible', 'bodies', 'mode', 'shapes', 'physical', 'modeling', 'simmechanics', 'vibration'], ['antenna', 'blocking', 'communications', 'wireless', 'antenna', 'blocking', 'communications'], ['anti', 'windup', 'antiwindup', 'control', 'control', 'design', 'dynamics', 'feedback', 'nonlinear', 'pid', 'saturation', 'simulink', 'windup'], ['antiwindup', 'dsp', 'fpga', 'hardware', 'implementation', 'microcontroller', 'pi', 'pi', 'code', 'pi', 'controller', 'pi', 'hardware'], ['apf'], ['apf', 'current', 'controller', 'hysteresis', 'hysteresis', 'current', 'controller', 'inverter'], ['apf', 'dividing', 'frequency', 'control', 'dsatcom', 'fuzzy', 'adjustor', 'generalized', 'integrator', 'harmaonics', 'hybrid', 'active', 'power', 'filter', 'hapf', 'hybride', 'active', 'power', 'filters', 'indraneel', 'saki', 'indranil', 'saaki', 'marine', 'applications', 'power', 'quality'], ['api', 'gui', 'modeling', 'simulink'], ['apmonitor', 'comparison', 'dynamics', 'tutorial'], ['apod', 'inverter', 'multi', 'level', 'rload', 'seven', 'level', 'spwm'], ['apparent_power', 'pf', 'power', 'factor', 'real_power'], ['application'], ['application', 'applications', 'example', 'image', 'acquisition', 'motion', 'detection', 'simulink', 'test', 'applications', 'motion', 'detection'], ['application', 'audio', 'gui', 'gui', 'tools', 'model', 'simulation', 'simulink', 'specialized'], ['application', 'automotive', 'gui', 'gui', 'tools', 'matlab', 'mechanical', 'modeling', 'model', 'modeling', 'simulation', 'simulink', 'specialized'], ['application', 'demo', 'matlab', 'power', 'simulink'], ['application', 'example', 'model', 'rs', 'serial', 'simulink', 'simulink', 'rs', 'simulink', 'serial'], ['approximation', 'continous', 'control', 'derivavtive', 'mfile', 'mode', 'saturation', 'simulink', 'sliding', 'saturation'], ['approximation', 'fixed', 'point', 'hdl', 'hdl', 'coder', 'spline'], ['apps', 'electrical', 'rlc', 'circuit'], ['arc', 'asic', 'atan', 'cordic', 'fpga', 'hdl', 'simulink', 'tangent', 'verilog', 'vhdl', 'arc', 'asic', 'atan', 'cordic'], ['ardrone', 'autonomous', 'vehicle', 'cyberphysical', 'systems', 'embedded', 'systems', 'quadricopter', 'quadrotor', 'aerospace', 'simulation', 'simulink', 'drone', 'drone', 'instrument', 'driver', 'quadricopter', 'drone', 'simulation'], ['ardrone', 'pixhawk', 'control', 'design', 'qpsk', 'quadrotor', 'simmechanics'], ['ardrone', 'pixhawk', 'matlab', 'multi', 'quadrotors', 'control', 'multiagent', 'control', 'quadrotor', 'control', 'simmechanics', 'simulink'], ['ardrone', 'pixhawk', 'mechanical', 'modeling', 'physical', 'modeling'], ['ardrone', 'pixhawk', 'quadcopter', 'quadcopter', 'modeling', 'quadcopter', 'simulation', 'quadrotor', 'quadrotor', 'modeling', 'quadrotor', 'simulation', 'simmechanics', 'simulink'], ['arduino', 'function', 'mathematics', 'theremin'], ['arduino', 'io', 'package', 'simulink'], ['arduino', 'simulink', 'package', 'arduino', 'simulink', 'block', 'arduino', 'simulink', 'packagei', 'arduino', 'simulink', 'block', 'arduino', 'simulink', 'package', 'arduino', 'simulink', 'block'], ['arduino', 'arduino', 'dimmer', 'dimmer', 'mega', 'simulink', 'write'], ['arduino', 'arduino', 'driver', 'arduino', 'logger', 'data', 'logging', 'shield', 'driver', 'data', 'logger'], ['arduino', 'arduino', 'due', 'feedback', 'control', 'hardware', 'pid', 'control', 'realtime', 'simulink'], ['arduino', 'arduino', 'function', 'capacitive', 'sensing', 'library'], ['arduino', 'arduino', 'imu', 'mpu', 'simulink', 'imu', 'sensor'], ['arduino', 'arduino', 'nano', 'digital', 'output', 'simulink'], ['arduino', 'arduinomega', 'arduinouno', 'devicedrivers', 'rfid', 'tenet', 'technetronics'], ['arduino', 'arl', 'dimmer', 'led'], ['arduino', 'arl', 'jogging', 'lcd', 'tempo'], ['arduino', 'arl', 'lcd', 'light', 'sensor'], ['arduino', 'arl', 'lcd', 'tilt', 'sensor'], ['arduino', 'arl', 'lcd', 'volt', 'meter'], ['arduino', 'arl', 'morse', 'code', 'sos'], ['arduino', 'ascii', 'morse', 'sos'], ['arduino', 'audio', 'audio', 'effects', 'audio', 'processing', 'deployment', 'echo', 'matlab', 'function', 'block', 'pitch', 'shifting', 'reverb', 'reverberation'], ['arduino', 'automotive', 'control', 'design', 'demo', 'engine', 'modeling', 'pil', 'simulation'], ['arduino', 'beagle', 'panda', 'digital', 'io', 'beagleboard', 'gpio', 'pandaboard', 'support', 'package'], ['arduino', 'binary', 'clock', 'digital', 'gauges', 'led', 'matlab', 'mega', 'simulink'], ['arduino', 'can', 'device', 'driver', 'mcp', 'raspberry', 'pi', 'maker'], ['arduino', 'communications', 'computer', 'vision', 'control', 'design', 'hough', 'transform', 'image', 'processing', 'matlabhw', 'mobile', 'robot', 'raspberry', 'robotics', 'rs', 'serial', 'port', 'uart', 'raspberry', 'pi'], ['arduino', 'control', 'systems', 'fan', 'pid', 'ping', 'pong', 'ball', 'simulink'], ['arduino', 'control', 'control', 'design', 'matlab', 'matlabhw', 'open', 'source', 'pid', 'youtube'], ['arduino', 'controller', 'ldr', 'light', 'simulink', 'stateflow', 'switch'], ['arduino', 'course', 'materials', 'lego', 'mindstorms', 'models', 'simscape', 'simulink', 'sti', 'simulink', 'course', 'materials', 'simscape', 'sti'], ['arduino', 'custom', 'driver', 'block', 'ethernet', 'shield', 'udp'], ['arduino', 'customization', 'device', 'driver', 'display', 'epaper', 'simulink', 'system', 'object'], ['arduino', 'data', 'acquisition', 'serial', 'simulink', 'maker'], ['arduino', 'dc', 'motor', 'mpc', 'multi', 'system', 'identification'], ['arduino', 'dht', 'humidity', 'lcd', 'sensor', 'temperature'], ['arduino', 'driver', 'mpc', 'function', 'simulink', 'arduino', 'driver'], ['arduino', 'driver', 'motor', 'shield', 'servo', 'stepper'], ['arduino', 'dynamics', 'machine', 'learning', 'process', 'control', 'simulink'], ['arduino', 'embedded', 'code', 'instrument', 'driver', 'measurement', 'simulink'], ['arduino', 'fade', 'led', 'simulink', 'support', 'package', 'for', 'arduino'], ['arduino', 'fuzzy', 'mppt', 'pv', 'real', 'time'], ['arduino', 'gui', 'realtime', 'simulation', 'simulink'], ['arduino', 'maker'], ['arduino', 'maker', 'arduino', 'function', 'arduino', 'simulink', 'tune', 'arduino'], ['arduino', 'matlab', 'simulink', 'support', 'package', 'for', 'arduino', 'stateflow', 'and', 'arduino', 'traffic', 'light', 'arduino'], ['arduino', 'mega', 'target', 'hardware'], ['arduino', 'pick', 'of', 'the', 'week', 'potw', 'raspberrypi', 'robot'], ['arduino', 'pinmode', 'pull', 'up', 'pullup'], ['arduino', 'robotics', 'maker'], ['arduino', 'sfunction', 'simulink'], ['arduino', 'simulation', 'toolbox'], ['arduino', 'simulink', 'maker'], ['arm', 'build', 'embedded', 'coder', 'fast', 'models', 'model', 'modeling', 'regression', 'simulation', 'test', 'toolbox', 'virtual', 'target'], ['arm', 'ccs', 'hercules', 'iec', 'iso', 'pil'], ['armed', 'captureandhold', 'disarmed', 'timer', 'trigger'], ['artemis', 'automotive', 'driving', 'cycle', 'epa', 'ftp', 'hwfet', 'nedc', 'simulation', 'udds', 'wltp', 'world', 'light', 'test', 'procedure'], ['article', 'bus', 'diagnostics', 'paper', 'sample', 'simulink', 'time', 'whitepaper'], ['article', 'control', 'design', 'differential', 'equations', 'example', 'simulation'], ['article', 'measurement', 'modeling', 'power', 'system', 'simulation', 'simulink', 'system', 'identification', 'transmission', 'line', 'model'], ['artificial', 'neural', 'network', 'ann', 'doubly', 'fed', 'induction', 'generator', 'dfig', 'indraneel', 'indraneel', 'saki', 'indranil', 'saaki', 'intelligent', 'control', 'variable', 'speed', 'wind', 'turbine', 'vector', 'control'], ['artificial', 'neural', 'network', 'differential', 'protection', 'discrete', 'wavelet', 'transform', 'fault', 'detection', 'indraneel', 'saki', 'indranil', 'saaki', 'magnetizing', 'inrush', 'current', 'power', 'transformer', 'simulink', 'wavelet', 'transform'], ['artificial', 'pancreas', 'blood', 'glucose', 'insulin', 'pid'], ['ascii', 'decode', 'data', 'type', 'conversion', 'embedded', 'control', 'real', 'time', 'plant', 'response', 'serial', 'workspace'], ['ask', 'bpsk', 'digital', 'modulation', 'fsk', 'ook', 'qpsk', 'xilinx', 'fpgas', 'fsk', 'qpsk', 'ask', 'digital', 'modulation', 'bpsk', 'ask', 'ask'], ['ask', 'communications', 'digital', 'model', 'modulation', 'simulink'], ['ask', 'demodulation', 'digital', 'communications', 'digital', 'modulation', 'fsk', 'ook', 'qpsk', 'powerline', 'communication'], ['asservissement', 'automatique', 'axe', 'axe', 'lineaire', 'control', 'design', 'control', 'controlx', 'ivan', 'liebgott', 'lineaire', 'matlab', 'modele', 'modelisation', 'multi', 'multiphysique', 'physique', 'sciences', 'de', 'lingenieur', 'si', 'simelectronics', 'simmechanics', 'simscape', 'simulation', 'simulink'], ['asymmetric', 'modulation', 'control', 'converter', 'dc', 'to', 'ac', 'converter', 'drives', 'electrical', 'drives', 'inverter', 'modulation', 'power', 'electronics', 'power', 'system', 'pwm', 'regular', 'sampling', 'sinusoidal', 'pwm', 'three', 'phase', 'inverter', 'ineverter'], ['asynchronous', 'machine', 'simhydraulics', 'simpowersystems', 'asynchronous', 'motor', 'fed', 'with', 'pump', 'storage', 'system'], ['asynchronous', 'motor', 'drive', 'drfoc', 'field', 'oriented', 'control', 'flux', 'calculator', 'flux', 'estimator', 'foc', 'induction', 'motor', 'drive', 'model', 'reference', 'adaptive', 'system', 'mras', 'rfoc', 'sensorless', 'drive', 'speed', 'estimation', 'speed', 'estimator'], ['asynchronous', 'motor', 'controller', 'design', 'controller', 'tuning', 'electric', 'drive', 'field', 'oriented', 'control', 'foc', 'induction', 'motor', 'kessler', 'modulus', 'optimum', 'naslin', 'optimal', 'control', 'symmetric', 'optimum', 'symmetrical', 'optimum'], ['asynchronous', 'motor', 'dq', 'model', 'induction', 'motor', 'modeling', 'speed', 'torque'], ['asynchronous', 'power', 'system', 'phase', 'shifting', 'transformer', 'power', 'flow', 'power', 'flow', 'control', 'variable', 'frequency', 'vft', 'vfts'], ['asynchronous', 'update', 'rule', 'dop', 'dynamic', 'optimization', 'problem', 'ilc', 'iterative', 'learning', 'control', 'nonstationary', 'process', 'parameter', 'identification', 'parameter', 'tracking', 'particle', 'swarm', 'optimization', 'pso', 'repetitive', 'control', 'synchronous', 'update', 'rule', 'update', 'without', 'evaluatio'], ['attractor', 'attractors', 'chaos', 'fractal', 'fractals', 'nonlinear', 'scope', 'attractor', 'attractor', 'attractors'], ['audio', 'acquisition', 'bfs', 'communications', 'compression', 'data', 'types', 'dfs', 'graph', 'traverse', 'image', 'acquisition', 'image', 'analysis', 'isn', 'jpeg', 'lego', 'numerical', 'sciences', 'raspberry', 'pi', 'state', 'machines', 'teaching', 'watermarking'], ['audio', 'processing'], ['audio', 'processing', 'audio', 'processing', 'audio', 'processing'], ['audio', 'processing', 'dsk', 'dtmf', 'generator', 'rapid', 'prototying', 'video', 'video', 'processing'], ['audio', 'processing', 'echo', 'cancellation', 'dspic', 'simulink', 'tutorial', 'fixedpoint', 'video', 'processing'], ['audio', 'processing', 'raspberry', 'pi'], ['audio', 'audio', 'processing', 'beat', 'realtime', 'signal', 'processing'], ['audio', 'audio', 'processing', 'dsp', 'simulink'], ['audio', 'band', 'dsp', 'equalizer', 'five', 'simulink'], ['audio', 'signal', 'processing', 'simulink'], ['autoconnect', 'gui', 'modeling', 'simulink', 'autoconnect', 'autoconnect'], ['autoconnect', 'gui', 'modeling', 'simulink', 'autoconnect', 'modeling'], ['automatics', 'control', 'control', 'design', 'demo', 'elements', 'library', 'marine', 'mathematics', 'mechatronics', 'model', 'modeling', 'models', 'onboard', 'regulation', 'simulation', 'simulink', 'systems', 'theory'], ['automatique', 'automatique'], ['automotive'], ['automotive', 'automative', 'automotive', 'car', 'rover', 'simmechanics', 'simulink', 'suspension', 'car'], ['automotive', 'automotive'], ['automotive', 'automotive', 'automotive'], ['automotive', 'automotive', 'automotive', 'automotive'], ['automotive', 'automotive', 'simulink', 'automotive', 'simulink'], ['automotive', 'autoware', 'ros'], ['automotive', 'canape', 'mat', 'file', 'simulink', 'vehicle', 'logs'], ['automotive', 'communications', 'control', 'design', 'firing', 'angle', 'measurement', 'power', 'electronics', 'signal', 'processing', 'simulation', 'simulink', 'single', 'phase', 'semi', 'converter', 'thyristor', 'simulation'], ['automotive', 'communications', 'control', 'design', 'signal', 'processing'], ['automotive', 'control', 'design', 'demo', 'simulink', 'system', 'identification'], ['automotive', 'control', 'design', 'differentials', 'global', 'positioning', 'gui', 'simulation', 'simulink', 'vehicle', 'robot'], ['automotive', 'control', 'design', 'gui', 'pid', 'controller', 'simulation', 'simulink', 'automotive', 'simulink', 'automotive', 'pid', 'controller'], ['automotive', 'control', 'design', 'measurement', 'signal', 'processing', 'simulation', 'simulink', 'control', 'design', 'measurement', 'simulation', 'simulink'], ['automotive', 'control', 'design', 'power', 'electronics', 'rectifier', 'signal', 'processing', 'simulation', 'simulink', 'single', 'phase', 'half', 'wave', 'rectifier', 'simulation', 'thyristor', 'simulation', 'simulation'], ['automotive', 'control', 'design', 'power', 'electronics', 'simulation', 'simulink'], ['automotive', 'electric', 'car', 'energy', 'managment', 'subsystem', 'fuel', 'cell', 'automotive', 'carenergy', 'managment', 'subsystemfuel', 'cell', 'electric', 'car', 'energy', 'managment', 'subsystem', 'fuel', 'cell', 'physical', 'modeling', 'automotive', 'electric', 'car', 'energy', 'managment', 'subsystem', 'fuel', 'cell', 'fuel', 'cell', 'physical', 'modeling', 'fuel', 'cell', 'fuel', 'cell'], ['automotive', 'electric', 'emb', 'energy', 'hydraulic', 'hydropneumatic', 'machine', 'pneumatic', 'electric'], ['automotive', 'energy', 'management', 'subsystem', 'hybrid', 'electric', 'vehicle', 'management', 'subsystemhybrid', 'electric', 'vehiclephys', 'physical', 'modeling', 'energy', 'management', 'subsystem', 'hybrid', 'electric', 'vehicle', 'hybrid', 'electric', 'vehicle', 'automotive'], ['automotive', 'energy', 'management', 'system', 'hybrid', 'electric', 'vehicle', 'modelbased', 'design', 'physical', 'modeling', 'ev'], ['automotive', 'halfcar'], ['automotive', 'mathematics', 'matlab', 'modeling', 'msrl'], ['automotive', 'mechanical', 'modeling', 'physical', 'modeling'], ['automotive', 'physical', 'modeling'], ['automotive'], ['automotive', 'simulation', 'simulink'], ['automotive', 'simulink'], ['modeling', 'physical', 'modeling', 'vehicle'], ['autonaming', 'gui', 'modeling', 'simulink'], ['autonomie', 'chariot', 'de', 'golf', 'distance', 'gustave', 'monod', 'mcc', 'pi', 'sciences', 'de', 'lingnieur', 'ssi', 'vitesse'], ['autotransformer', 'efficiency', 'polarity', 'voltage', 'regulation'], ['autotuner', 'autotuning', 'control', 'pid', 'posteriori', 'toolkit', 'autotuner', 'autotuner', 'autotuner', 'autotuning', 'autotuner', 'autotuner', 'autotuning', 'autotuning', 'control'], ['auvsi', 'beagleboard', 'buoy', 'detection', 'code', 'generation', 'computer', 'vision', 'iarc', 'igvc', 'pandaboard', 'raspberry', 'pi', 'roboboat', 'robosub', 'robotx', 'suas', 'thresholding'], ['auvsi', 'control', 'design', 'gazebo', 'marine', 'robotics', 'robonation', 'ros'], ['awgn', 'ber', 'communications', 'convolutional', 'code', 'demo', 'fading', 'channel', 'rayleigh', 'simulink', 'wireless', 'communications', 'awgn', 'awgn', 'communications'], ['awgn', 'ber', 'communications', 'ebno', 'integration', 'modeling', 'modulation', 'noise', 'plotting', 'probability', 'simulink', 'wireless'], ['awgn', 'bertool', 'bpsk', 'demodulation', 'error', 'rate', 'modulation', 'awgn', 'bpsk'], ['awgn', 'bertool', 'demodulation', 'error', 'rate', 'calculation', 'modulation', 'oqpsk'], ['awgn', 'bertool', 'demodulation', 'error', 'rate', 'calculation', 'modulation', 'oqpsk', 'pn', 'zigbee'], ['awgn', 'bertool', 'demodulation', 'error', 'rate', 'calculation', 'modulation', 'oqpsk', 'rayleigh'], ['awgn', 'bertool', 'demodulation', 'error', 'rate', 'calculation', 'modulation', 'qpsk'], ['awgn', 'communications', 'demodulation', 'digital', 'modulation', 'noise', 'signal', 'processing'], ['back', 'bldc', 'brushless', 'dc', 'dynamic', 'emf', 'mathematical', 'modeling', 'motor', 'trapezodial', 'smc'], ['backed', 'up', 'battery', 'battery', 'back', 'up', 'charging', 'dc', 'motor', 'discharging', 'electrical', 'model', 'modelling', 'motor', 'parameters'], ['balanced', 'supply', 'syspowersystem', 'transmission', 'line'], ['balancing', 'balancing', 'robot', 'ball', 'ball', 'balancing', 'ballbot', 'control', 'education', 'ev', 'gyro', 'gyro', 'boy', 'gyroboy', 'gyroscope', 'holonomic', 'holonomic', 'platform', 'inverted', 'pendulum', 'lego', 'mindstorms', 'omni', 'wheel', 'omnidirectional', 'omniwheel', 'pendulum', 'segway', 'self', 'balancing', 'robot'], ['ball', 'coefficient', 'of', 'restitution', 'collision', 'gravity'], ['ballscrew', 'ehsa', 'quartercar', 'simscape', 'suspension'], ['band', 'control', 'band', 'control', 'current', 'controlled', 'dcac', 'converter', 'hadeed', 'hysteresis', 'industrial', 'electronics', 'ksu', 'power', 'electronics', 'pulse', 'width', 'modulation', 'pwm', 'simulink', 'single', 'phase', 'inverter', 'band', 'control'], ['bang', 'bang'], ['bangbang', 'control', 'time', 'optimal', 'control'], ['baset', 'csma', 'csmacd', 'ethernet', 'matlab', 'simulink', 'stateflow', 'csmacd', 'baset', 'csma', 'csmacd', 'ethernet', 'baset'], ['basic', 'electrical', 'physics', 'wheat', 'stone', 'bridge'], ['basis', 'spline', 'closed', 'curve', 'closed', 'spline', 'control', 'ilc', 'iterative', 'learning', 'control', 'motion', 'control', 'position', 'control', 'repetitive', 'control', 'repetitive', 'process', 'servo', 'drive', 'spline'], ['battery', 'charge', 'discharge', 'control', 'bidirectional', 'converter', 'dc', 'dc', 'converter', 'half', 'bridge', 'non', 'isolated', 'pi', 'current', 'control'], ['battery', 'charger', 'cccv', 'charging', 'mode', 'power', 'electronics', 'power', 'electronics'], ['battery', 'charger', 'constant', 'current', 'charging', 'constant', 'voltage', 'charging', 'lithium', 'battery'], ['battery', 'charging', 'electric', 'vehicle', 'ev', 'lithium', 'ion', 'battery', 'mppt', 'solar', 'solar', 'charging', 'solar', 'energy', 'solar', 'vehicle'], ['battery', 'equivalent', 'circuit', 'battery', 'experimental', 'data', 'battery', 'model', 'dynamic', 'battery', 'model', 'electrochemical', 'battery', 'lifepo', 'battery', 'liion', 'battery', 'lithiumion', 'battery', 'lyp', 'aha', 'series', 'battery', 'pack', 'temperature', 'dependent', 'battery', 'model'], ['battery', 'management', 'system', 'battery', 'storage', 'system', 'energy', 'management', 'system', 'fuzzy', 'controller', 'pv'], ['battery', 'management', 'system', 'fuzzy', 'controller', 'hybrid', 'pv', 'wind', 'renewable', 'energy'], ['battery', 'management', 'system', 'fuzzy', 'logic', 'hybrid', 'pvwind', 'microgrid', 'pvwindbattery', 'nyc'], ['battery', 'management', 'system', 'fuzzy', 'logic', 'hybrid', 'microgrid', 'mppt', 'pv', 'wnd'], ['battery', 'management', 'system', 'fuzzy', 'intelliegent', 'load', 'pv', 'renewable', 'energy'], ['battery', 'management', 'system', 'fuzzy', 'multiport', 'converter', 'pv', 'system', 'good'], ['battery', 'battery', 'characteristics', 'charge', 'charging', 'model', 'power', 'system', 'battery'], ['battery', 'battery', 'grid', 'model', 'storage', 'voltage', 'regulation'], ['battery', 'fuzzy', 'grid', 'hybrid', 'microgrid', 'photovoltaic', 'wind'], [], ['arduino', 'maker', 'matlab'], ['boost', 'converter', 'full', 'bridge', 'converter', 'hybride', 'vechile', 'indraneel', 'saki', 'indranil', 'saaki', 'power', 'management', 'supercapacitors'], ['microgrid', 'power', 'electronics'], ['simulation', 'solar'], ['switched', 'capacitor'], ['example', 'modeling', 'simulink', 'vehicle', 'modeling'], ['fuzzy', 'hybrid', 'microgrid', 'pv', 'upfc', 'wind'], [], ['bidirectional', 'dcdc', 'converter', 'coupled', 'inductor', 'indraneel', 'saki', 'indranil', 'saaki', 'matlab', 'power', 'electronics', 'simulation', 'on', 'bidirectional', 'power', 'converter'], ['boost', 'conveter', 'inverter', 'simulation', 'simulink', 'solar'], ['dc', 'microgrid'], ['dfig', 'wind', 'indraneel', 'saki', 'indranil', 'saaki', 'power', 'electronics', 'power', 'system', 'renweable', 'energy', 'resouces', 'wind', 'fram'], ['paper', 'simulation'], ['power', 'electronics'], ['power', 'electronics'], ['power', 'electronics', 'power', 'electronics', 'power', 'electronics', 'power', 'electronics', 'power', 'electronics'], ['power', 'power', 'electronics'], ['pv', 'array', 'power', 'simulation', 'vsc', 'control'], ['simulink'], [], ['adafruit', 'data', 'logger', 'arduino', 'data', 'logging', 'shield', 'data', 'logging', 'shield', 'arduino', 'simulink', 'arduino', 'simulink', 'support', 'package', 'arduino'], ['battery'], ['battery', 'energy', 'storage', 'system', 'bess', 'ess', 'load', 'leveling', 'load', 'shifing', 'peak', 'shaving'], ['battery', 'battery', 'characterstics', 'charging', 'discharging', 'simulation'], ['battery', 'charge', 'control', 'pv', 'state', 'of', 'charge'], ['battery', 'simulation'], ['dcac', 'converter', 'inverter', 'multi', 'level', 'power', 'electronics', 'pure', 'sine', 'wave', 'simpower', 'systems', 'simpowersystems', 'simulink', 'switched', 'battery', 'cell'], ['diesel', 'generator', 'hybrid', 'power', 'generation', 'indraneel', 'saki', 'indranil', 'saaki', 'pv', 'cell', 'renweable', 'energy', 'resourses', 'simulation', 'wind'], ['electronics', 'modeling'], ['how', 'to', 'build', 'mat', 'lab', 'model', 'for', 'wind', 'turbine', 'matlab', 'model', 'for', 'vswt', 'variable', 'speed', 'wind', 'turbine', 'with', 'pmsg', 'wind', 'turbine', 'with', 'matlab', 'wind', 'turbine', 'with', 'pmsg'], ['microgrid', 'parallel', 'inverters', 'renewable', 'simulink'], ['microgrid', 'standard', 'microgrid'], ['multilevel', 'inverter'], ['power', 'electronics', 'project', 'simulation', 'simulink'], ['power', 'electronics', 'simulation'], ['simulation'], ['simulink'], ['simulink', 'embedded', 'function', 'simulink'], ['solar', 'cellsimulink'], ['bcap', 'boostcap', 'double', 'layer', 'capacitor', 'doublelayer', 'capacitor', 'nonlinear', 'capacitor', 'supercapacitor', 'supercapacitor', 'model', 'supercapacitor', 'pack', 'temperature', 'dependent', 'ultracapacitor', 'model', 'ultracapacitor', 'ultracpacitor', 'equivalent', 'circuit'], ['beaglebone', 'code', 'generation', 'mbd'], ['ball', 'and', 'beam', 'ball', 'and', 'beam'], ['beeta', 'abc', 'abc', 'to', 'abc', 'conversion', 'alpha', 'beeta', 'clark', 'control', 'dq', 'park', 'transformation', 'alpha', 'abc', 'alpha', 'beeta', 'dq', 'abc', 'clark'], ['benchmark', 'contribution', 'plots', 'multivariate', 'control', 'charts', 'multivariate', 'statistical', 'process', 'control', 'nonlinear', 'distillation', 'column', 'principal', 'component', 'analysis', 'tutorial'], ['benchmark', 'cstr', 'pid', 'process', 'control', 'reaction', 'kinetics', 'temperature', 'control'], ['benchmark', 'formal', 'methods', 'simulink'], ['ber', 'blocksets', 'gui', 'gui', 'tools', 'guide', 'mapping', 'mask', 'modeling', 'multiplexing', 'optics', 'communications', 'path', 'payload', 'protocols', 'sdh', 'simulation', 'simulink', 'sonet', 'tdm', 'tools'], ['bergman', 'model'], ['bernaulli', 'binary', 'generator', 'simulink'], ['bertool', 'coding', 'theory', 'information', 'theory', 'punctured', 'codes', 'soft', 'decisions', 'viterbi', 'decoding', 'punctured', 'codes'], ['best', 'best', 'robotics', 'mobile', 'robotics', 'robotics', 'vex', 'vex', 'edr', 'vex', 'robotics', 'vex'], ['bf', 'blackfin', 'dual', 'core', 'embedded', 'code', 'multiprocessor', 'production', 'code', 'realtime', 'workshop', 'target', 'verification'], ['bicycle', 'bike', 'control', 'design', 'embedded', 'coder', 'lego', 'nxt', 'nxtbicycle', 'nxtbike', 'nxtway', 'simulation', 'simulink', 'tudelf', 'bicycle'], ['bicycle', 'dynamics', 'mbs', 'simmechanics', 'simulator', 'stability'], ['bifurcation', 'binary', 'oscillator', 'computing', 'chaos', 'control', 'companion', 'software', 'complex', 'iterative', 'map', 'coursework', 'questions', 'differential', 'equations', 'discrete', 'systems', 'fractals', 'image', 'processing', 'josephson', 'junction', 'limit', 'cycles', 'mandelbrot', 'memristor', 'multifractals', 'neural', 'networks', 'nonlinear', 'optics', 'simulink', 'synchronization'], ['binary', 'counter', 'flip', 'flop'], ['binary', 'converter', 'decimal', 'matlab', 'simulink'], ['biochemical', 'network', 'modelling'], ['bioreactor', 'biotech', 'continuous', 'ethanol', 'fermentation', 'pharmaceutical', 'yeast', 'zagy'], ['biotech'], ['biotech', 'biotech', 'mathematics', 'simulation', 'simulink', 'simulation', 'simulink'], ['biotech', 'cardiac', 'applications', 'control', 'design'], ['biotech', 'control', 'design'], ['biotech', 'control', 'design', 'demo'], ['biotech', 'control', 'design', 'mathematics', 'optimization', 'signal', 'processing'], ['biotech', 'control', 'design', 'mathematics', 'optimization', 'signal', 'processing', 'simulation'], ['biotech', 'control', 'design', 'mathematics', 'optimization', 'signal', 'processing', 'simulation', 'simulink'], ['biotech', 'control', 'design', 'mathematics', 'optimization', 'signal', 'processing', 'simulation', 'simulink'], ['biotech', 'control', 'design', 'mathematics', 'signal', 'processing', 'simulation', 'simulink'], ['biotech', 'control', 'design', 'mathematics', 'signal', 'processing', 'simulation', 'simulink', 'biotech'], ['biotech', 'control', 'design', 'mathematics', 'simulation', 'simulink'], ['biotech', 'mathematics', 'optimization', 'signal', 'processing', 'simulation', 'simulink'], ['biotech', 'mathematics', 'signal', 'processing', 'simulation'], ['biotech', 'mathematics', 'signal', 'processing', 'simulation', 'simulink'], ['biotech', 'mathematics', 'simulation', 'simulink'], ['biotech', 'ml', 'ml', 'neuron', 'model', 'morris', 'lecar', 'neuron', 'neuron', 'model', 'pharmaceutical', 'ml', 'ml', 'neuron', 'model'], ['biotech', 'signal', 'processing', 'simulation', 'simulink'], ['bipedal', 'robot', 'compass', 'gait', 'computer', 'torque', 'control', 'ctc', 'cubic', 'spline', 'robotics', 'spline', 'trajectory', 'planning', 'walking'], ['bipolar', 'modulation', 'dc', 'drive', 'hbridge', 'pwm', 'unipolar', 'modulation'], ['bipolar', 'bipolar', 'pwm', 'inverter', 'inverter'], ['bipolar', 'drives', 'inverter', 'power', 'electronics', 'simulink', 'spwm'], ['bit', 'communications', 'gui', 'packet', 'signal', 'processing'], ['bitsliceget', 'byte', 'dvb', 'embedded', 'matlab', 'hdl', 'simulink'], ['black', 'box', 'engine', 'throttle', 'estimation', 'grey', 'box', 'hammerstein', 'wiener', 'modeling', 'narmax', 'neural', 'network', 'nlarx', 'nlhw', 'regressor', 'system', 'identification', 'toolbox', 'toolbox'], ['bldc', 'bldc', 'bldc', 'bldc', 'bldc', 'bldc', 'bldc', 'bldc'], ['bldc', 'dynamic', 'magnet', 'mathematical', 'modeling', 'motor', 'permanent', 'pmsm', 'synchronous'], ['block', 'diagram', 'optimization', 'simulink', 'pick', 'of', 'the', 'week', 'potw'], ['block', 'library', 'simulink', 'block', 'library', 'simulink'], ['blockset', 'converts', 'rf', 'sparameters', 'wireless', 'wireless', 'communications'], ['blockset', 'graphics', 'histogram', 'overlay', 'image', 'text', 'video'], ['bluetooth', 'frequency', 'hopping', 'network', 'wireless', 'bluetooth', 'frequency', 'hopping', 'network', 'wireless', 'bluetooth', 'hopping', 'wireless', 'bluetooth', 'frequency', 'frequency', 'bluetooth'], ['bode'], ['book', 'companion', 'software', 'hydraulic', 'ladder', 'network', 'physical', 'modeling', 'system', 'dynamics', 'thermal', 'vibration'], ['boost', 'converter', 'boost', 'converter', 'buck', 'converter', 'dcdc', 'converter', 'pulse', 'width', 'mod', 'pwm', 'simulation', 'dcdc', 'converter', 'boost', 'converter', 'boost', 'converter', 'boost', 'converter', 'boost', 'converter', 'boost', 'converter', 'boost', 'converter', 'boost', 'converter', 'boost', 'converter', 'boost', 'converter', 'boost', 'converter', 'pwm', 'simulation', 'boost', 'converter', 'boost', 'converter'], ['boost', 'converter', 'boost', 'regulator', 'control', 'design', 'dc', 'dc', 'converter', 'model', 'power', 'electronics', 'simulation', 'simulink'], ['boost', 'converter', 'buck', 'converter', 'close', 'loop', 'control', 'close', 'loop', 'control', 'of', 'buck', 'converter', 'dc', 'dc', 'converter', 'mathematical', 'modeling', 'simulink', 'voltage', 'control'], ['boost', 'converter', 'buck', 'converter', 'converter', 'mppt', 'performance', 'power', 'electronics', 'settling', 'time', 'simulation', 'transient', 'response'], ['boost', 'converterclosed', 'loop', 'control', 'of', 'boost', 'converter', 'dcdc', 'converter'], ['boost', 'converter', 'control', 'design', 'converter', 'open', 'loop', 'converter', 'power', 'electronics', 'power', 'system', 'switch', 'mode', 'power', 'supply'], ['boost', 'converter', 'dc', 'dc', 'converter', 'dcac', 'igbt', 'based', 'inverter', 'industrial', 'electronics', 'inverter', 'power', 'electronics', 'pv', 'system', 'pwm', 'sim', 'power', 'system', 'simulink', 'pv', 'system', 'inverter', 'power', 'electronics', 'pv', 'system', 'inverter', 'igbt', 'based', 'inverter'], ['boost', 'converter', 'dc', 'to', 'dc', 'converter', 'irradiance', 'mppt', 'pv', 'solar', 'power', 'boost', 'converter', 'mppt', 'intelligent', 'system', 'basedon', 'current', 'of', 'loads'], ['boost', 'converter', 'dc', 'loads', 'fuel', 'cell'], ['boost', 'converter', 'dc', 'voltage', 'controller', 'inverter'], ['boost', 'converter', 'dcdc', 'converter', 'industrial', 'electronics', 'open', 'loop', 'control', 'power', 'electronics', 'simulink', 'variable', 'topology', 'simulation'], ['boost', 'converter', 'inverter', 'pi'], ['boost', 'converter', 'pfc', 'rectifier'], ['boost', 'converter', 'pv', 'array', 'boost', 'converter', 'mppt', 'power', 'grid', 'pv', 'array', 'three', 'level', 'inverter', 'dcdc', 'photovoltaic', 'boost', 'converter', 'mppt', 'mppt', 'boost', 'converter', 'dcdc', 'mppt', 'photovoltaic', 'mppt', 'boost', 'converter', 'mppt', 'pv', 'array', 'regulators', 'pv'], ['boost', 'inverter'], ['boost', 'boost', 'converter', 'control', 'design', 'converter', 'dcdc', 'converter', 'electronics', 'power', 'electronics', 'boost', 'boost', 'converter', 'converter', 'dcdc', 'converter', 'boost', 'control', 'design', 'converter', 'inverter', 'power', 'electronics', 'boo', 'boost', 'boost', 'converter'], ['boost', 'boost', 'converter', 'filter', 'investor', 'online', 'power', 'rectifier', 'simulation', 'simulink', 'system', 'ups'], ['boost', 'buck', 'buckboost', 'dc', 'to', 'ac', 'dc', 'to', 'dc', 'inverter', 'spwm', 'boost', 'buck', 'buckboost', 'dc', 'to', 'ac', 'boost'], ['boost', 'buck', 'flyback', 'forward', 'led', 'led', 'driver', 'push', 'pull', 'rgb', 'sinks'], ['boost', 'buck', 'zvs', 'boost', 'buck', 'boost'], ['boostconverer', 'simulation'], ['boost', 'dc', 'to', 'dc', 'powersystem', 'simulation'], ['voltage', 'boosting'], ['bpsk', 'communications', 'rayleigh', 'simulink', 'rayleigh', 'bpsk'], ['bpsk', 'digital', 'communications', 'dss', 'spread', 'spectrum'], ['bpsk', 'dsss', 'simulink'], ['circuit', 'breaker', 'power', 'system', 'restriking', 'voltage', 'simulink', 'sympowersystem', 'restriking', 'voltage'], ['bridge', 'inverter', 'cascaded', 'inverter', 'control', 'system', 'industrial', 'electronics', 'inverter', 'machine', 'control', 'motor', 'control', 'multi', 'step', 'waveform', 'power', 'electronics', 'power', 'electronics', 'control', 'power', 'inverters', 'power', 'system', 'simulations', 'single', 'phase', 'inverter'], ['bridge', 'rectifier', 'diode', 'rectifier', 'full', 'wave', 'uncontrolled', 'rectifier', 'industrial', 'electronics', 'power', 'electronics'], ['bridge', 'internet', 'ip', 'packet', 'switch', 'protocol', 'router', 'bridge', 'packet', 'switch'], ['brysondenham', 'control', 'control', 'design', 'design', 'dynamic', 'system', 'modeling', 'dynamics', 'modeling', 'optimal', 'control', 'optimization', 'pseudospectral', 'methods', 'shooting', 'simscape', 'simulation', 'simulink', 'state', 'derivatives'], ['bspline', 'ilc', 'iterative', 'learning', 'control', 'particle', 'swarm', 'optimization', 'pso'], ['buck', 'boost', 'controller', 'dc', 'to', 'dc', 'converter'], ['buck', 'boost', 'dcdc', 'converter', 'spwm'], ['buck', 'boost', 'energy', 'power', 'electronics', 'pv'], ['buck', 'converter', 'chopper', 'control', 'control', 'of', 'dc', 'motor', 'control', 'systems', 'dc', 'motor', 'dc', 'motor', 'drives', 'drives', 'electric', 'machines', 'feed', 'back', 'control', 'industrial', 'electronics', 'machines', 'power', 'electronics', 'power', 'systems', 'pwm', 'speed', 'control', 'buck', 'converter', 'buck', 'converter', 'buck', 'converter', 'speed', 'control'], ['buck', 'converter', 'choppers'], ['buck', 'converter', 'close', 'loop', 'buck', 'converter', 'dc', 'dc', 'converter', 'industrial', 'electronics', 'power', 'electronics', 'step', 'down', 'converter', 'variable', 'topology', 'approach'], ['buck', 'converter', 'close', 'loop', 'control', 'design', 'converter', 'dcdc', 'converter', 'duty', 'ratio', 'power', 'electronics', 'power', 'system', 'control', 'design', 'buck', 'converter', 'close', 'loop', 'control', 'design'], ['buck', 'converter', 'control', 'design', 'converter', 'dcdc', 'converter', 'duty', 'ratio', 'power', 'electronics', 'power', 'system', 'buck', 'converter', 'buck', 'converter', 'buck', 'converter'], ['buck', 'converter', 'dc', 'converter', 'electronics', 'pi', 'control', 'pwm', 'control', 'pick', 'of', 'the', 'week', 'potw', 'pi', 'controller', 'boost', 'regulator'], ['buck', 'converter', 'dc', 'dc', 'converter', 'pi', 'control', 'power', 'electronics'], ['buck', 'converter', 'dcdc', 'converter', 'industrial', 'electronics', 'open', 'loop', 'power', 'electronics'], ['buck', 'converter', 'measurement', 'power', 'electronics', 'simulation'], ['buck', 'converter', 'power', 'electronics', 'simulation', 'simulink', 'three', 'phase', 'dcdc', 'converter'], ['buck', 'converters', 'control', 'design', 'converters', 'power', 'electronics', 'zero', 'voltage', 'switching'], ['buck', 'dc', 'synchronous'], ['buck', 'control', 'design', 'converter', 'convertidor', 'diseo', 'ejemplos', 'potencia', 'simulink'], ['buck', 'converter', 'simulated'], ['buck', 'dc', 'to', 'dc', 'converter', 'simpower', 'systems', 'simulation', 'simulink'], ['buffer', 'delay', 'parallel', 'serial', 'signal', 'processing', 'simulink', 'unbuffer'], ['burgers', 'cost', 'counter', 'entity', 'gauge', 'mcdonalds', 'people', 'queue', 'server', 'simevents'], ['bus', 'busobject', 'sfunctions', 'rtw', 'position', 'limit', 'bus', 'busobject', 'sfunctions', 'rtw', 'position', 'limit', 'bus', 'busobject', 'sfunctions', 'rtw', 'position', 'limit'], ['bus', 'signals', 'seth', 'on', 'simulink', 'simulink'], ['bus', 'current', 'compensation', 'current', 'fluctuation', 'distribution', 'station', 'five', 'bus', 'line', 'compensation', 'power', 'fluctuation', 'switching', 'fault', 'tcsc', 'thyristor', 'controlled', 'series', 'compensation', 'voltage', 'compensation', 'voltage', 'fluctuation'], ['bus', 'ieee', 'bus', 'ieee', 'bus', 'bus', 'ieee', 'loadflow', 'power', 'power', 'system', 'radial', 'simpowersystem', 'simulink'], ['bus', 'ieee', 'bus', 'ieee', 'bus', 'ieee', 'bus', 'bus', 'ieee', 'loadflow', 'power', 'power', 'system', 'analysis', 'simulink', 'transmission', 'fault', 'bus', 'smib'], ['bus', 'ieee', 'bus', 'ieee', 'bus', 'simulation'], ['bus', 'ieee', 'bus', 'ieee', 'bus', 'simulink'], ['bus', 'ieee', 'ieee', 'bus', 'ieee', 'bus', 'control'], ['bus', 'ieee', 'ieee', 'bus', 'ieee', 'bus', 'distribution', 'feeder', 'model', 'radial', 'distribution', 'feeder'], ['bus', 'simulink', 'structures'], ['can', 'control', 'design', 'demo', 'ecu', 'kvaser', 'racecar', 'rc', 'texas', 'instruments', 'torque', 'vectoring', 'traction', 'control'], ['charge', 'rl', 'continu', 'continue', 'to', 'discret', 'discret', 'tustin'], ['cable', 'ehsa', 'quartercar', 'suspension'], ['calculation', 'of', 'standard', 'controllers', 'for', 'local', 'control', 'systems', 'calculation', 'of', 'standard', 'controllers', 'for', 'local', 'control', 'systems'], ['calculator', 'frequency', 'measure', 'measurement'], ['campbell', 'diagram', 'eigenvectors', 'rotordynamics', 'vibration', 'whirling', 'of', 'shafts', 'toolbox'], ['can', 'can', 'bus', 'can', 'network', 'canusb', 'interface', 'simulink', 'usb'], ['capacitive', 'coupling', 'inductance', 'variable', 'autocontrle', 'entrefers', 'ivace', 'magnetic', 'voltage', 'regulator', 'ohgw', 'ohgw', 'supply', 'overhead', 'ground', 'wire', 'selfregulating', 'variable', 'reactor', 'tapping', 'power'], ['capacitor', 'bank', 'oscillatory', 'transient', 'power', 'quality', 'transient'], ['car', 'acceleration', 'electric', 'car', 'acceleration', 'model', 'tesla'], ['cardiac', 'simulations', 'cardiology'], ['cardiac', 'simulation', 'simulink', 'library'], ['car', 'quarter', 'of', 'vehicle', 'simscape', 'simulation', 'suspension'], ['carrier', 'recovery', 'communication', 'data', 'aided', 'decision', 'directed', 'digital', 'modulation', 'farrow', 'structure', 'interpolator', 'qpsk', 'signal', 'processing', 'synchronization', 'timing', 'recovery', 'wireless'], ['cascade', 'control', 'control', 'design', 'cstr', 'fault', 'detection', 'process', 'monitoring', 'process', 'simulation', 'simulink'], ['cascade', 'inverter', 'dual', 'buck', 'inverter'], ['cascaded', 'inverter', 'multilevel', 'nine', 'level', 'inverter', 'power'], ['cascaded', 'bridge', 'inverter', 'nine', 'phase', 'single', 'spwm'], ['casters', 'control', 'inverted', 'pendulum', 'simmechanics'], ['cbwfq', 'cbwfq', 'cos', 'qos', 'queuing', 'router', 'switch', 'wfq', 'qos', 'cbwfq', 'router'], ['cmex', 'data', 'export', 'data', 'import', 'fscanf', 'input', 'mex', 'output', 'sfunction', 'stdioh', 'cmex', 'fscanf', 'input', 'mex', 'output', 'sfunction', 'stdioh', 'cmex', 'data', 'import', 'stdioh'], ['ccode', 'seminar', 'sfunctions', 'simulink', 'webinar'], ['cdma', 'is', 'phy', 'pn', 'pn', 'string', 'power', 'control', 'reverse', 'traffic', 'simulink', 'stateflow', 'wireless', 'cdma', 'cdma', 'power', 'control', 'power', 'control', 'pn', 'pn', 'string'], ['dsp', 'general', 'dsp', 'import', 'simulink', 'webinar', 'import'], ['cell', 'arrays', 'modeling', 'pv', 'simulation', 'simulink'], ['cell', 'model', 'pv', 'module', 'pv', 'module', 'cell', 'model'], ['cell', 'mathematical', 'model', 'pannel', 'photo', 'photovoltaic', 'pv', 'voltaic'], ['cellular', 'neural', 'network', 'cnn', 'paradigm', 'parallel', 'computing', 'cellular', 'neural', 'network', 'cnn', 'parallel', 'computing', 'paradigm'], ['center', 'tapped', 'transformer', 'diode', 'power', 'electronics', 'rectifier', 'sim', 'power', 'system', 'simulation', 'simulink'], ['center', 'tapped', 'transformer', 'full', 'wave', 'rectifier', 'rectifier', 'sim', 'power', 'system', 'simulation', 'simulink', 'center', 'tapped', 'transformer'], ['cgmres', 'code', 'generation', 'control', 'control', 'design', 'gmres', 'modeling', 'mpc', 'newton', 'nmpc', 'nonlinear', 'optimal', 'control', 'optimization', 'predictive'], ['chaine', 'dnergie', 'chaine', 'dnergie', 'machine', 'courant', 'continu', 'pi', 'projet', 'radio', 'commande', 'chariot', 'de', 'march', 'machine', 'courant', 'continu', 'pi', 'projet', 'radio', 'commande', 'sciences', 'de', 'lingnieur', 'ssi'], ['chaine', 'dnergie', 'machine', 'courant', 'continu', 'pi', 'projet', 'radio', 'commande', 'sciences', 'de', 'lingnieur', 'ssi', 'voiture'], ['channel', 'estimator', 'cofdm', 'gito', 'ofdm', 'reed', 'solomon', 'simulink', 'wireless', 'ofdm', 'nice', 'one', 'ofdm', 'simulation', 'channel', 'estimator', 'cofdm', 'wireless', 'cofdm', 'gito', 'channel', 'estimator', 'channel', 'estimator', 'and', 'am', 'doing', 'my', 'graduation', 'project', 'on', 'the', 'same', 'toipic', 'please', 'channel', 'estimator', 'am', 'senoir', 'undergraduate', 'student', 'want', 'to', 'know', 'which', 'estimation', 'technquie', 'you', 'are', 'usingmoreover', 'when', 'run', 'the', 'program', 'get', 'an', 'error', 'due', 'to', 'the', 'blocks', 'down', 'wha', 'and', 'am', 'doing', 'my', 'graduation', 'project', 'on', 'the', 'same', 'toipic', 'please'], ['chaos', 'system', 'lorenz', 'system', 'chens', 'system', 'lvs', 'system'], ['chaos', 'chaotic', 'behavior', 'fabrikant', 'nonlinear', 'rabinovich'], ['chaos', 'chaotic', 'secure', 'communications', 'chuas', 'system', 'nonlinear'], ['chaos', 'chaotic', 'solutions', 'nonlinear', 'oscillator', 'simulink', 'van', 'der', 'pol'], ['chaos', 'chaotic', 'synchronization', 'chuas', 'systems', 'observer', 'based', 'synchronization'], ['chaos', 'chaotic', 'coupled', 'laser', 'rate', 'equations', 'lasers', 'synchronization', 'laser', 'rate', 'equations'], ['chaos', 'chemical', 'differential', 'discrete', 'economics', 'fractal', 'fractals', 'mathematics', 'mechanics', 'modeling', 'multifractal', 'nonlinear', 'optics', 'physics', 'research', 'simulink', 'synchronization', 'pick', 'of', 'the', 'week', 'potw', 'chaos', 'chaos', 'mathematics', 'fractals', 'nonlinear', 'optics', 'facts', 'mechanics', 'differential', 'chaos', 'chaos', 'differential', 'synchronization', 'chemical', 'nonlinear'], ['chaos', 'chuas', 'system', 'nonlinear'], ['chaos', 'communications', 'simulink', 'chaos'], ['chaos', 'dynamic', 'system', 'lorenz'], ['chaos', 'dynamic', 'system', 'rossler'], ['chaotic', 'system', 'lorenz', 'water', 'wheel'], ['characteristics', 'irradiation', 'sanjay', 'lodwal', 'solar', 'temperature'], ['charge', 'controller', 'mppt', 'mppt', 'charge', 'controller', 'perturbation', 'observation', 'three', 'stage', 'charging'], ['chemistry', 'forced', 'damped', 'driven', 'pendulum', 'chaos', 'simulink', 'physics'], ['chemistry', 'mathematics', 'modeling', 'physics', 'simulink'], ['chopper', 'control', 'control', 'systems', 'current', 'control', 'dc', 'motor', 'dc', 'motor', 'drives', 'drives', 'electric', 'machines', 'electric', 'motors', 'feedback', 'control', 'hysteresis', 'pwm', 'industrial', 'electronics', 'machines', 'power', 'electronics', 'power', 'systems', 'pwm', 'speed', 'control', 'control', 'control', 'systems', 'hysteresis', 'pwm', 'dc', 'motor', 'pwm', 'feedback', 'control'], ['chopper', 'dc', 'dc', 'converter', 'dc', 'to', 'dc', 'converter', 'power', 'electronics', 'step', 'down', 'chopper'], ['chp', 'combined', 'heat', 'power', 'plant', 'gas', 'gasturb', 'gasturbine', 'rowens', 'gasturbine', 'model', 'simpowersystems', 'simulink'], ['chuas', 'circuit', 'chuas', 'circuit'], ['cic', 'filter', 'compensator', 'filter', 'farrow', 'interpolator', 'structure', 'fractional', 'delay', 'gardner', 'detector', 'timing', 'synchronization', 'cic', 'filter', 'compensator', 'filter', 'farrow', 'interpolator', 'structure', 'fractional', 'delay', 'gardner', 'detector', 'timing', 'synchronization'], ['circuit', 'fourth', 'basic', 'element', 'memory', 'resistor', 'memristor', 'nonlinear', 'circuits', 'simulation', 'simulink', 'circuit', 'fourth', 'basic', 'element', 'memory', 'resistor', 'memristor'], ['circuitos', 'de', 'disparo', 'electronica', 'de', 'potencia', 'gate', 'triggering', 'scr', 'tiggering', 'circuits', 'triac'], ['clarke', 'controller', 'dq', 'grid', 'park', 'phase', 'locked', 'loop', 'pi', 'pll', 'syncronisation'], ['clarl', 'transformation', 'control', 'design', 'simulation', 'srf', 'theory', 'voltage', 'inverter'], ['classical', 'control', 'control', 'control', 'design', 'pd', 'controller', 'pda', 'controller'], ['classical', 'control', 'control', 'control', 'design', 'pid', 'controller'], ['classical', 'control', 'control', 'control', 'design', 'pida', 'controller'], ['classroom', 'education', 'signal', 'processing', 'simulink', 'teaching', 'classroom', 'communications', 'education', 'signal', 'processing', 'signal', 'processing', 'examples', 'signals', 'and', 'systems', 'simulink', 'teaching', 'signal', 'processing', 'signal', 'processing', 'examples', 'education'], ['clean', 'model', 'replace_blocks', 'scrub', 'simulink'], ['clipper', 'diode', 'electrical', 'electronics', 'engineering'], ['clipper', 'matlab', 'sine', 'wave'], ['clippers', 'matlab', 'positive', 'clippers'], ['clippers', 'negative', 'clippers', 'sine', 'wave'], ['clock', 'embedded', 'code', 'raspberry', 'pi', 'rpi', 'simulation', 'time', 'simulink', 'soft', 'real', 'time', 'system', 'time'], ['clock', 'fun', 'simulink', 'timeout', 'utilities', 'timeout', 'clock'], ['close', 'loop', 'control', 'close', 'loop', 'control', 'of', 'dc', 'motor', 'current', 'loop', 'dc', 'motor', 'design', 'of', 'controller', 'electric', 'drives', 'mathematical', 'modeling', 'mathematical', 'modeling', 'of', 'dc', 'motor', 'motor', 'pi', 'controller', 'separately', 'excited', 'dc', 'motor', 'simulink', 'speed', 'control', 'speed', 'control', 'of', 'dc', 'motor', 'speed', 'loop'], ['closed', 'loop', 'controller', 'induction', 'motor', 'pi', 'speed', 'controller', 'svpwm'], ['closed', 'loop', 'control', 'introduction', 'scope', 'simulink', 'step', 'video'], ['closed', 'loop', 'converter', 'dc', 'to', 'dc', 'converter', 'dual', 'bridge', 'inverter', 'invertre'], ['closed', 'loop', 'induction', 'motor', 'svpwm', 'vf', 'closed', 'loop', 'induction', 'motor', 'svpwm', 'vf', 'induction', 'motor', 'closed', 'loop', 'vf'], ['closed', 'loop', 'multi', 'level', 'pmsm', 'speed', 'control', 'svpwm', 'vf'], ['closed', 'control', 'dynamic', 'induction', 'loop', 'mathematical', 'modelling', 'motor', 'of', 'pi', 'scalar', 'speed', 'vf'], ['closed', 'control', 'dynamic', 'induction', 'loop', 'mathematical', 'model', 'modelling', 'motor', 'speed'], ['clustering', 'optimization', 'pattern', 'search', 'sensitivity', 'analysis', 'simulation', 'statistics'], ['cmex', 'fractional', 'calculus', 'mfile', 'mittag', 'leffler', 'mittag', 'leffler', 'mittag', 'leffler', 'function'], ['cmos', 'nor', 'simscape'], ['cnc', 'ilc', 'controller', 'multiresonant', 'controller', 'oscillatory', 'controller', 'position', 'control', 'rc', 'repetitve', 'control', 'resonant', 'controller', 'servo', 'drive', 'servodrive'], ['cockroft', 'doubler', 'electrical', 'engineer', 'gui', 'high', 'voltage', 'marks', 'power', 'electronics', 'tripler'], ['code', 'embedded', 'embedded', 'code', 'eml', 'fixedpoint', 'generation', 'production', 'realtime', 'workshop', 'tips', 'verification', 'code', 'embedded'], ['code', 'embedded', 'embedded', 'code', 'fixedpoint', 'generation', 'production', 'realtime', 'workshop', 'tips', 'verification'], ['codesys', 'hardware', 'in', 'the', 'loop', 'simulation', 'hil', 'ilc', 'iterative', 'learning', 'control', 'plc', 'programmable', 'logic', 'controller', 'repetitive', 'control'], ['coding', 'example', 'gui', 'mathematics', 'matlab', 'mex', 'modeling', 'optimization', 'simulation', 'simulink'], ['coding', 'modulation', 'ofdm', 'qam', 'qpsk', 'viterbi', 'wimax', 'wireless', 'coding', 'coding', 'wimax', 'wimax', 'wireless', 'modulation', 'coding'], ['collision', 'avoidancemobile', 'robot', 'robot', 'robotics'], ['color', 'embedded', 'code', 'generate', 'code', 'link', 'model', 'polyspace', 'rtw', 'simulink', 'static', 'analysis', 'verification', 'simulink', 'static', 'analysis'], ['column', 'indices', 'linear', 'algebra', 'matrix', 'element', 'raw', 'simulink', 'column', 'matrix', 'element', 'column'], ['communication', 'video', 'encoder', 'modulation', 'mpeg', 'rs', 'encoder', 'convolut', 'communication', 'video', 'encoder', 'modulation', 'mpeg', 'rs', 'encoder', 'convolut'], ['communication', 'code', 'communication', 'correction', 'error', 'hamming', 'signal', 'simulation', 'system'], ['communication', 'physical', 'layer', 'qam', 'simulink', 'tetra'], ['communications'], ['communications', 'blockset', 'link', 'budget', 'phy', 'layer', 'snr', 'link', 'budget', 'link', 'budget'], ['communications', 'communications', 'communications'], ['communications', 'control', 'design', 'generation', 'generator', 'signal', 'processing', 'simulation', 'simulink', 'single', 'pulse', 'triggered'], ['communications', 'delta', 'modulation', 'simulink'], ['communications', 'demodulation', 'fdm', 'filtering', 'modulation', 'signal', 'processing', 'simulation', 'simulink', 'ssb'], ['communications', 'digital', 'modulation', 'modulation', 'phase', 'psk', 'simulink'], ['communications', 'dtmf', 'dual', 'tone', 'multi', 'frequency', 'simulink', 'dtmf', 'dual', 'tone'], ['communications', 'education', 'electromagnetic', 'physics', 'propagation', 'reflection', 'standing', 'waves', 'wave'], ['communications', 'example', 'fiber', 'frame', 'gui', 'modeling', 'optics', 'path', 'pdh', 'sdh', 'simulation', 'simulink', 'sonet', 'toolbox'], ['communications', 'example', 'mimoofdm', 'ofdm'], ['communications', 'fdm', 'frequency', 'division', 'multiplexer', 'multiplexer', 'signal', 'processing', 'simulation', 'simulink'], ['communications', 'filter', 'filter', 'analysis', 'signal', 'processing', 'simulink', 'tamiya'], ['communications', 'oqpsk', 'signal', 'processing', 'simulink', 'spreading', 'zigbee', 'oqpsk', 'spreading', 'communications', 'oqpsk', 'communications'], ['communications', 'qpsk', 'signal', 'processing', 'simulation', 'simulink', 'wireless'], ['communications', 'signal', 'processing'], ['communications', 'signal', 'processing', 'simulation', 'simulink', 'wireless', 'signal', 'processing'], ['communications', 'signal', 'processing', 'simulink'], ['communications', 'simulation', 'simulink', 'statistics', 'simulation', 'cannot', 'download', 'the', 'file', 'from', 'link', 'watching', 'this', 'file', 'can', 'you'], ['communications', 'simulink'], ['communications', 'simulink', 'wireless'], ['companion', 'software', 'controls', 'design', 'multivariable', 'control', 'and', 'estimation'], ['comparison', 'inverted', 'pendulum', 'mupad', 'report', 'symbolic', 'solution'], ['comparison', 'xmlcomp', 'model', 'comparison', 'xmlcompedits', 'xmlcompnode'], ['compiler', 'example', 'gui', 'gui', 'tools', 'rapid', 'simulation', 'utilities', 'compiler', 'example'], ['complementary', 'filter', 'edu_ball', 'eduball', 'signal', 'processing', 'smart', 'juggling'], ['composition', 'double', 'float', 'int', 'numbers', 'real_t', 'simulink', 'type', 'uint'], ['computer', 'vision', 'cuda', 'code', 'deep', 'learning', 'image', 'processing', 'machine', 'learning', 'reinforcement', 'learning'], ['computer', 'vision', 'defect', 'detector', 'gear', 'image', 'processing', 'raspberry', 'pi', 'simulink'], ['computer', 'vision', 'image', 'processing', 'matlab', 'raspberry', 'pi', 'simulink', 'theremin'], ['comunication', 'gsm'], ['conduction', 'losses', 'igbt', 'module', 'loss', 'calculation', 'npc', 'converter', 'power', 'electronics', 'pwm', 'switching', 'frequency', 'switching', 'losses', 'thermal', 'model', 'three', 'level', 'inverter', 'three', 'phase', 'inverter', 'conduction', 'losses', 'igbt', 'module'], ['confidence', 'confidence', 'interval', 'confidence', 'level', 'erfinv', 'gaussian', 'noise', 'inverse', 'error', 'function', 'measurement', 'noise', 'noise', 'system', 'noise', 'variance', 'white', 'noise'], ['conical', 'tank', 'system', 'modelling', 'valve', 'coefficient'], ['constant', 'boost', 'control', 'inverter', 'quasi', 'source', 'inverter', 'source', 'inverter'], ['constant', 'current', 'load', 'current', 'controller', 'inverter'], ['constant', 'power', 'filtering'], ['continuoustime', 'filter', 'filter', 'analysis', 'filter', 'design', 'kalman', 'filter', 'kalmanbucy', 'filter'], ['control', 'control', 'design', 'control', 'system', 'drives', 'electric', 'machine', 'drives', 'inversion', 'inverter', 'power', 'electronics', 'power', 'inverters', 'power', 'system', 'pulse', 'width', 'modulation', 'pwm', 'simulation', 'simulink', 'space', 'vector', 'pulse', 'width', 'modulation', 'svpwm', 'control', 'design', 'power', 'system', 'pulse', 'width', 'modulation', 'hello'], ['control', 'control', 'design', 'control', 'systems', 'current', 'loop', 'dc', 'machines', 'machine', 'control', 'model', 'motor', 'pi', 'controller', 'position', 'control', 'power', 'electronics', 'power', 'system', 'simulink', 'speed', 'loop', 'motor', 'control', 'it', 'is', 'good', 'but', 'why', 'there', 'is', 'no', 'position', 'pi', 'controller', 'control', 'control'], ['control', 'control', 'design', 'dumping', 'gain', 'simulink', 'state', 'space'], ['control', 'control', 'design', 'example', 'fuzzy', 'logic'], ['control', 'control', 'design', 'locomotion', 'modeling', 'noob', 'code', 'robotics', 'serpentine', 'snake'], ['control', 'control', 'design', 'lqi', 'lqr', 'matlab', 'simulink'], ['control', 'control', 'design', 'lqr', 'matlab', 'simulink'], ['control', 'control', 'design', 'mapminmax', 'narx', 'neural', 'networks', 'simulink'], ['control', 'control', 'design', 'matlab', 'observador', 'de', 'estados', 'simulink', 'state', 'observer'], ['control', 'control', 'design', 'matlab', 'simulink'], ['control', 'control', 'design', 'matlab', 'simulink', 'temperature', 'matlab'], ['control', 'control', 'design', 'quadrotor', 'robotics'], ['control', 'control', 'design', 'signal', 'processing', 'simulation'], ['control', 'control', 'systems', 'converter', 'dc', 'drives', 'firing', 'angle', 'control', 'full', 'wave', 'converter', 'industrial', 'electronics', 'power', 'electronics', 'power', 'system', 'rectifier'], ['control', 'control', 'systems', 'converter', 'dc', 'motor', 'dc', 'motor', 'control', 'dc', 'motor', 'drive', 'drives', 'industrial', 'electronics', 'machines', 'power', 'electronics', 'power', 'system', 'simulation', 'simulink', 'transformer', 'twelve', 'pulse', 'converter', 'wyedelta', 'converter'], ['control', 'control', 'systems', 'current', 'control', 'dc', 'machines', 'dc', 'motor', 'dc', 'motor', 'drives', 'drives', 'electrical', 'drives', 'electronics', 'feed', 'back', 'control', 'industrial', 'electronics', 'machines', 'motor', 'drives', 'phase', 'contro', 'power', 'electronics', 'three', 'phase', 'controlled', 'rectifier'], ['control', 'controler', 'fast', 'model', 'nonlinear', 'robot', 'robust', 'simulation', 'sliding', 'mode', 'stable', 'solution', 'unstable', 'trajectories'], ['control', 'controller', 'tuning', 'dc', 'drive', 'identification', 'error', 'identification', 'errors', 'kessler', 'measurement', 'noise', 'naslin', 'noise', 'offset', 'offsets', 'parameter', 'identification', 'pr', 'controller', 'preshaper', 'process', 'noise', 'reference', 'reference', 'model', 'resonant', 'controller', 'spline', 'sramp', 'uncertainties', 'uncertainty'], ['control', 'controller', 'tuning', 'electric', 'drive', 'fitness', 'function', 'ise', 'itse', 'motion', 'control', 'optimal', 'control', 'particle', 'swarm', 'optimization', 'performance', 'index', 'pi', 'pid', 'position', 'control', 'pso', 'speed', 'control'], ['control', 'controller', 'demo', 'fast', 'image', 'processing', 'model', 'nonlinear', 'robot', 'robust', 'simulation', 'sliding', 'mode', 'stable', 'solution', 'swithing', 'unstable', 'trajectories', 'pick', 'of', 'the', 'week', 'potw'], ['control', 'converter', 'drives', 'electrical', 'drives', 'electronics', 'inverter', 'power', 'electronics', 'power', 'system', 'pwm', 'regular', 'sampling', 'sinusoidal', 'pwm', 'symmetric', 'pwm', 'three', 'phase', 'inverter', 'sin', 'pwm', 'inverter'], ['control', 'current', 'dc', 'hysterisis', 'pi', 'rectifier', 'voltage'], ['control', 'current', 'hysterisis', 'inverter'], ['control', 'dc', 'drive', 'dc', 'motor', 'kalman', 'filter', 'sensorless', 'state', 'observer'], ['control', 'dc', 'drive', 'dc', 'motor', 'luenberger', 'observer', 'sensorless', 'state', 'observer'], ['control', 'dc', 'machines'], ['control', 'design', 'helicopter', 'paper', 'simulink', 'control', 'control', 'design', 'helicopter', 'paper', 'simulink'], ['control', 'dq', 'transformation', 'filter', 'inverter', 'power', 'electronics'], ['control', 'drive', 'ilc', 'imp', 'internal', 'model', 'principle', 'iterative', 'learning', 'control', 'mosc', 'motion', 'multiresonant', 'pi', 'pid', 'pr', 'rc', 'repetitive', 'control', 'resonant', 'robust'], ['control', 'driver', 'mpu', 'raspberry', 'pi', 'sfunction', 'simulink'], ['control', 'dual', 'clutch', 'optimization', 'physical', 'modeling', 'simdriveline', 'simscape', 'simulink', 'animation', 'transmission'], ['control', 'ecu', 'electronic', 'embedded', 'code', 'modeling', 'realtime', 'workshop', 'scheduling', 'templates', 'unit', 'verification', 'scheduling'], ['control', 'education', 'ev', 'holonomic', 'holonomic', 'platform', 'holonomic', 'robot', 'lego', 'mindstorms', 'motion', 'omni', 'wheel', 'omnidirectional', 'omniwheel', 'robotics', 'school'], ['control', 'education', 'ev', 'holonomic', 'lego', 'mecanum', 'mecanum', 'wheel', 'mindstorms', 'omnidirectional', 'omniwheel', 'robotics', 'school'], ['control', 'electronics', 'power', 'singal', 'routing', 'electronics'], ['controle', 'lqr'], ['control', 'encoder', 'motor', 'driver', 'quadrature', 'sfunction', 'simulink', 'maker'], ['controle', 'observador', 'observador', 'siso', 'siso'], ['control', 'example', 'mode', 'sliding', 'smc'], ['control', 'filter', 'harmonics', 'filter', 'inverter', 'power', 'power', 'electronics', 'power', 'filter', 'pq', 'theory', 'shunt', 'active', 'power', 'filter', 'three', 'phase', 'shunt', 'active', 'power', 'filter'], ['control', 'frequency', 'load', 'load', 'frequency', 'simulation'], ['control', 'harmoincs', 'harmonic', 'elimination', 'harmonics', 'filter', 'power', 'power', 'system'], ['control', 'hysterisis', 'inverter', 'output', 'sinusodial', 'voltage'], ['control', 'inverter', 'lqr', 'multiresonant', 'optimal', 'particle', 'swarm', 'optimization', 'power', 'electronics', 'pso', 'robust'], ['control', 'ivan', 'ivan', 'liebgott', 'liebgott', 'robot', 'robotics'], ['controll', 'system', 'design'], ['controlled', 'rectifiers', 'fullwave', 'rectifiers', 'halfwave', 'rectifiers', 'simulation'], ['controlled', 'scr', 'controlled', 'thyristor', 'gate', 'triggering', 'gto', 'scr', 'thyristor', 'triggering', 'of', 'gto', 'working', 'of', 'gto'], ['controller', 'design', 'decentralized', 'control', 'imc', 'controller', 'indraneel', 'saki', 'indranil', 'saaki', 'internal', 'model', 'control', 'imc', 'load', 'frequency', 'control', 'lfc', 'load', 'frequency', 'controller', 'matlab', 'pid', 'controller', 'pid', 'tuning', 'power', 'systems', 'robustness', 'simulation', 'simulink', 'single', 'area', 'power', 'systems', 'two', 'area', 'power', 'systems'], ['controller', 'dcm', 'power', 'electronics', 'simulation', 'simulink'], ['controller', 'fuel', 'cell', 'grid', 'real', 'and', 'reactive', 'power'], ['control', 'level', 'pressure', 'simulink', 'tank', 'temperature'], ['control', 'liquid', 'level', 'liquid', 'system', 'simulation', 'simulation', 'model', 'tank', 'liquid', 'level', 'tank'], ['control', 'machines', 'power', 'electronics', 'simulation', 'simulink', 'space', 'vector', 'space', 'vector', 'generation', 'space', 'vectors', 'vectors', 'machines'], ['control', 'matlab', 'optimization', 'simulation', 'simulink'], ['control', 'matlab', 'sawtooth', 'sawtooth', 'pwm'], ['control', 'matlab', 'simulink'], ['control', 'power', 'electronics', 'pwm', 'sim', 'power', 'system', 'simulink'], ['control', 'robotics', 'simulink'], ['control', 'robot', 'robotics'], ['control', 'sector', 'identification', 'svpwm', 'sector', 'identification', 'svpwm'], ['controls', 'feedback', 'full', 'state', 'feedback', 'full', 'state', 'feedback', 'control', 'furuta', 'pendulum', 'furuta', 'pendulum', 'simulink'], ['control', 'simulation', 'simulink'], ['control', 'simulink', 'state', 'space'], ['controls', 'metronome', 'modeling', 'simulation', 'simulation', 'models', 'systems', 'metronome'], ['conversion', 'ieee', 'simulink', 'single', 'uint'], ['conversion', 'measurement', 'simulation', 'simulink'], ['converter', 'dc', 'to', 'ac', 'converter', 'full', 'bridge', 'inverter', 'half', 'bridge', 'inverter', 'inverter', 'power', 'electronics', 'power', 'system', 'pwm', 'sinusoidal', 'pwm'], ['converter', 'dc', 'to', 'ac', 'converter', 'inverter', 'spwm'], ['converter', 'dc', 'to', 'dc', 'converter', 'dual', 'bridge', 'inverter', 'rectifier'], ['converter', 'dc', 'to', 'dc', 'converter', 'full', 'bridge', 'inverter', 'rectifier', 'full', 'bridge'], ['converter', 'dcdc', 'converter', 'digitally', 'controlled', 'converter', 'duty', 'ratio', 'load', 'transients', 'power', 'electronics', 'power', 'system'], ['converter', 'firing', 'angle', 'matlab', 'simulation', 'power', 'electronics', 'thyristor'], ['converter', 'inverter', 'power', 'electronics'], ['converter', 'inverter', 'pwm', 'space', 'vector', 'svpwm'], ['converter', 'model', 'rectifier', 'simulink', 'simulink'], ['converter', 'power', 'electronics', 'power', 'factor', 'rectifier'], ['converter', 'power', 'electronics', 'thyristor'], ['converter'], ['conveyor', 'kinematics', 'kuka', 'onshape', 'physical', 'modeling', 'pickandplace', 'robot', 'robotics', 'simmechanics', 'simmechanics', 'virtual', 'commissioning', 'youbot'], ['conveyor', 'pick', 'of', 'the', 'week', 'potw', 'pick', 'of', 'the', 'week', 'potw', 'batch', 'conveyor', 'des', 'discrete', 'event', 'discrete', 'event', 'simulation', 'discrete', 'event', 'system', 'goldratt', 'industrial', 'engineering', 'logistics', 'management', 'science', 'manufacturing', 'manufacturing', 'engineering', 'operations', 'operations', 'research', 'pick', 'of', 'the', 'week', 'potw', 'production', 'retail', 'simevents', 'supply', 'chain', 'supply', 'chain', 'management', 'system', 'dynamics', 'theory', 'of', 'constraints', 'toc', 'discrete', 'event', 'batch'], ['convolutional', 'ofdm', 'channel', 'decoder', 'video', 'encoder', 'communication', 'mpeg', 'rs', 'encoder', 'convolutional', 'ofdm', 'channel', 'decoder', 'video', 'encoder', 'communication', 'mpeg', 'rs', 'encoder', 'convolutional', 'ofdm', 'channel', 'decoder', 'video', 'encoder', 'communication', 'mpeg', 'rs', 'encoder'], ['cordic', 'fpga', 'implementation', 'trigonometric', 'hdldsp', 'builder', 'systemge', 'cordic', 'fpga', 'implementation', 'trigonometric', 'hdldsp', 'builder', 'systemge'], ['cordic', 'dds', 'embedded', 'matlab', 'fpga', 'hdl', 'cordic', 'embedded', 'matlab', 'fpga', 'hdl', 'cordic', 'cordic', 'embedded', 'matlab', 'cordic', 'embedded', 'matlab', 'fpga', 'hdl', 'dds'], ['cordic', 'dds', 'system', 'generator', 'xilinx', 'system', 'generator', 'dds', 'dds', 'cordic', 'cordic', 'dds', 'cordic', 'cordic'], ['cordic', 'xilinx'], ['counter'], ['counters', 'embedded', 'matlab', 'gray', 'hdl', 'johnson', 'modulo', 'counters', 'timers', 'timers', 'counters'], ['counter', 'simulink', 'timer', 'up', 'counter'], ['countries', 'flags', 'masks', 'rendered', 'simulink', 'utilities'], ['cpge', 'ivan', 'liebgott', 'matlab', 'maxpid', 'multi', 'multiphysique', 'physique', 'simmechanics', 'simscape'], ['cpu', 'overload', 'cpu', 'overload', 'real', 'time', 'xpc', 'target', 'cpu', 'overload'], ['crane', 'ensemble', 'control', 'openloop', 'uncertain', 'parameters'], ['critically', 'damped', 'matlab', 'overdamped', 'response', 'series', 'rlc', 'simulation', 'simulink', 'underdamped'], ['crossover', 'facts', 'fitness', 'function', 'fuzzy', 'controller', 'genetic', 'algorithm', 'improved', 'genetic', 'algorithm', 'indraneel', 'saki', 'indranil', 'saaki', 'mutation', 'neural', 'networks', 'onetotwo', 'inference', 'mapping', 'power', 'systems', 'stability', 'simulation', 'stability', 'control', 'takagi', 'sugenokang', 'tsk', 'fuzzy', 'control', 'two', 'are', 'power', 'system', 'simulation', 'unified', 'power', 'flow', 'controller', 'upfc'], ['crowbar', 'dfig', 'wind', 'turbine'], ['crowbar', 'pmsg', 'wind', 'farm', 'wind', 'turbine'], ['crystallization', 'process', 'control'], ['cstr', 'dissimilarity', 'analysis', 'dynamic', 'simulation', 'fault', 'detection', 'feedback', 'control', 'incipient', 'fault', 'process', 'monitoring'], ['cuk', 'converter', 'dcdc', 'converter', 'ksu', 'power', 'electronics', 'simulink'], ['current', 'controlled', 'hysteresis', 'band', 'igbt', 'inverter', 'power', 'electronics', 'pwm', 'simulink', 'current', 'controlled'], ['current', 'controller', 'dc', 'to', 'ac', 'converter', 'grid', 'inverter'], ['current', 'control', 'simulation', 'simulink', 'three', 'level', 'inverter', 'current', 'control'], ['current', 'control', 'pwm', 'dcac', 'inverter', 'hysteresis', 'band', 'simulink', 'single', 'phase', 'inverter', 'tolerance', 'band', 'control', 'pwm', 'current', 'control', 'pwm', 'single', 'phase', 'current', 'controlled', 'inverter'], ['current', 'source', 'hysteresis', 'band', 'inverter', 'power', 'electronics'], ['current', 'stability', 'generator', 'speed', 'compensation', 'generator', 'stability', 'pid', 'pid', 'controller', 'power', 'stability', 'transient', 'stability', 'voltage', 'stability'], ['current', 'stabiliy', 'fuzzy', 'fuzzy', 'controller', 'fuzzy', 'logic', 'generator', 'rotor', 'speed', 'power', 'stability', 'stability', 'transient', 'stability', 'voltage', 'stability'], ['current_plot', 'rotor', 'position', 'speed', 'current_plot', 'current_plot', 'current_plot', 'rotor', 'position', 'speed', 'current_plot', 'current_plot', 'current_plot', 'rotor', 'position', 'speed', 'current_plot', 'current_plot'], ['custom', 'data', 'type', 'rules', 'fixed', 'point', 'function', 'matlab', 'propagation', 'simulink'], ['customizable', 'pulse', 'generator', 'square', 'wave'], ['cyclo', 'converter', 'drives', 'power', 'electronics', 'power', 'systems', 'cyclo', 'converter'], ['cycloconverter', 'electronics', 'frequency', 'changes', 'power', 'electronics', 'cycloconverter', 'cycloconverter', 'cycloconverter', 'cycloconverter'], ['cycloconverter', 'frequency', 'changer'], ['cycloconverter', 'power', 'electronics', 'simulation', 'simulink'], ['cycloconverter', 'simulink', 'ac', 'ac', 'converter', 'cycloconverter', 'industrial', 'electronics', 'power', 'electronics', 'simulink', 'power', 'electronics', 'simulink'], ['cylinder', 'electronics', 'hydraulics', 'mosfet', 'solenoid', 'valve'], ['cylinder', 'flow', 'rate', 'force', 'hydraulic', 'machine', 'hydraulics', 'incompressible', 'fluid', 'multiply', 'piston', 'pressure', 'simhydraulic', 'simscape', 'hydraulics'], ['to', 'adc', 'analog', 'to', 'digital', 'converter', 'data', 'converter', 'mixedsignal'], ['damper', 'design', 'dynamics', 'engineering', 'mass', 'simulation', 'simulink', 'spring'], ['damping', 'ssr', 'in', 'dfig', 'based', 'wind', 'farms', 'using', 'tcsc'], ['damping', 'electrical', 'circuit', 'overdamping', 'simulink', 'underdamping'], ['dat', 'format', 'data', 'logging', 'host', 'pc', 'save', 'target', 'tools', 'and', 'utilities', 'xpc', 'file', 'scope', 'tools', 'xpc', 'file', 'scope', 'tools', 'xpc', 'file', 'scope', 'tools'], ['data', 'conversion', 'simulink'], ['data', 'converters', 'data', 'weighted', 'averaging', 'delta', 'sigma', 'data', 'conversion', 'intersymbol', 'interference', 'simulink'], ['data', 'converters', 'data', 'weighted', 'averaging', 'delta', 'sigma', 'digital', 'to', 'analog', 'conversion', 'dwa', 'simulink'], ['data', 'export', 'data', 'import'], ['data', 'export', 'demo', 'differential', 'equations', 'example', 'linear', 'mathematics', 'matlab', 'model', 'modeling', 'nonlinear', 'simulation', 'simulink', 'tutorial'], ['data', 'import', 'energy', 'storage', 'systems', 'irradiance', 'powergui', 'phasor', 'mode', 'public', 'solar', 'data', 'timeseries', 'residential', 'load', 'profile'], ['data', 'sheet', 'hydraulic', 'optimization', 'physical', 'modeling', 'valve', 'data', 'sheet'], ['data', 'stores', 'jmaab', 'modularity', 'scoping', 'software', 'engineering'], ['data', 'type', 'propagation', 'simulink'], ['dataset', 'excel', 'export', 'import', 'offline', 'results', 'simulink', 'xls'], ['dc', 'to', 'ac', 'converter', 'grid', 'inverter'], ['dc', 'to', 'ac', 'inverter', 'and', 'rl', 'load', 'spwm'], ['dc', 'converter', 'dc', 'dc', 'converter', 'dc', 'power', 'supply', 'inverter', 'push', 'pull', 'converter', 'pushpull', 'converter', 'rectifier', 'simulation', 'simulink'], ['dc', 'dc', 'converter', 'buckboost', 'converter', 'dc', 'dc', 'converter', 'power', 'electronics', 'simulink', 'smps', 'buckboost', 'converter', 'simulink', 'smps', 'buckboost', 'converter', 'buckboost', 'converter', 'can', 'provide', 'simulink', 'model', 'for', 'sepic', 'converter', 'power', 'electronics', 'buckboost', 'converter', 'buckboost', 'converter', 'hadeed', 'sher'], ['dc', 'to', 'dc', 'converter', 'grid', 'inverter', 'inverter', 'control', 'mppt', 'pv', 'dc', 'to', 'dc', 'converter', 'dc', 'to', 'dc', 'converter', 'pv', 'inverter', 'control', 'dc', 'to', 'dc', 'converter', 'dc', 'to', 'dc', 'converter'], ['dc', 'dc', 'step', 'up', 'converter', 'lc', 'filter', 'off', 'grid', 'inverter', 'push', 'pull', 'converter', 'spwm', 'voltage', 'source', 'inverter'], ['dc', 'to', 'dc', 'converter', 'open', 'loop'], ['dc', 'dc', 'electric', 'vehicles', 'full', 'bridge', 'isolated', 'power', 'electronics', 'pwm', 'switching', 'converter'], ['dc', 'dc', 'full', 'bridge', 'pmpwm', 'power', 'converter', 'power', 'electronics', 'pspwm', 'pwm', 'switch', 'mode', 'power', 'supplies'], ['dc', 'drive', 'dc', 'motor', 'hinfinity', 'motion', 'control', 'optimal', 'control', 'pi', 'pid', 'speed', 'control', 'systune'], ['dc', 'loads', 'irradiance', 'pv', 'dc', 'loads', 'irradiance', 'pv'], ['dc', 'machine', 'fuzzy', 'fuzzy', 'controller', 'modeling', 'of', 'dc', 'motor', 'mr', 'kevin', 'think', 'your', 'logic', 'is', 'wrong', 'or', 'you', 'are', 'implemented', 'in', 'speed', 'control', 'speed', 'control', 'of', 'dc', 'motor', 'dc', 'machine', 'fuzzy', 'fuzzy', 'controller', 'fuzzy', 'controller'], ['dc', 'motor', 'speed', 'control', 'dc', 'motor', 'speed', 'control', 'dc', 'motor', 'speed', 'control', 'dc', 'motor', 'speed', 'control'], ['dc', 'motor', 'speed', 'control', 'ica', 'optimization', 'simulink'], ['dc', 'motor', 'speed', 'control', 'imperialist', 'competitive', 'algorithm', 'optimization', 'simulink'], ['dc', 'motor', 'speed', 'controll', 'optimization', 'simulink'], ['dc', 'motor', 'state', 'space', 'pid', 'control', 'dc', 'motor', 'state', 'space', 'pid', 'control', 'dc', 'motor', 'state', 'space', 'pid', 'control', 'dc', 'motor', 'state', 'space', 'pid', 'control', 'dc', 'motor', 'state', 'space', 'pid', 'control', 'dc', 'motor', 'state', 'space', 'pid', 'control', 'dc', 'motor', 'state', 'space', 'pid', 'control', 'dc', 'motor', 'state', 'space', 'pid', 'control', 'dc', 'motor', 'state', 'space', 'pid', 'control', 'dc', 'motor', 'state', 'space', 'pid', 'control', 'dc', 'motor', 'state', 'space', 'pid', 'control'], ['dc', 'motor', 'dc', 'motor', 'simelectronics', 'simscape', 'simulation', 'simulink', 'simulink', 'simulink', 'simulink'], ['dc', 'motor', 'electric', 'drives', 'power', 'electronics', 'separately', 'excited', 'machine', 'simulink', 'dc', 'motor'], ['dc', 'motor', 'electrical', 'drives', 'machines', 'model', 'power', 'system'], ['dc', 'motor', 'fuzzy', 'solar', 'speed', 'control'], ['dc', 'motor', 'fuzzy', 'speed', 'control'], ['dc', 'motor', 'model', 'simulation', 'simulink', 'model', 'dc', 'motor', 'dc', 'motor', 'model', 'model', 'model', 'dc', 'motor', 'model', 'simulink', 'model', 'dc', 'motor', 'dc', 'motor', 'dc', 'motor', 'dc', 'motor', 'model', 'dc', 'motor', 'dc', 'motor', 'simulink', 'model', 'dc', 'motor', 'dc', 'motor', 'dc', 'motor', 'dc', 'motor', 'dc', 'motor', 'model', 'dc', 'motor', 'dc', 'motor', 'dc', 'motor', 'dc', 'motor', 'dc', 'motor'], ['dc', 'motor', 'neuro', 'fuzzy', 'speed', 'control'], ['dc', 'motors', 'leadlag', 'compensation', 'mobile', 'robot', 'pid', 'and', 'fuzzy', 'logic'], ['dc', 'motor', 'speed', 'control', 'control', 'design', 'demo', 'motor', 'simulink', 'control', 'design', 'dc', 'motor', 'demo', 'motor', 'simulink', 'speed', 'control'], ['dc', 'power', 'supplies', 'flyback', 'converter', 'matlabsimulink', 'developer', 'power', 'electronics', 'designer', 'by', 'using', 'matlabsimulink', 'software'], ['dc', 'switchedmode', 'power', 'supplies', 'demo', 'simulation', 'simulink', 'demo', 'simulation', 'simulink', 'demo'], ['dcdc', 'converter', 'power', 'electronics', 'psfb', 'soft', 'switching', 'zvs'], ['dc', 'dcdc', 'flyback', 'isolated', 'matlab', 'power', 'power', 'electronics', 'power', 'supply', 'simulation', 'simulink', 'switching', 'power', 'supplies'], ['dcmicrogrid', 'fault', 'microgrid'], ['ddk', 'drivers', 'tool', 'xpc', 'target', 'xpcdrivertool', 'drivers', 'tool', 'xpc', 'target'], ['ddk', 'drivers', 'xpc', 'target', 'xpcdrivertool', 'ddk'], ['dead', 'end', 'electric', 'drive', 'eventdriven', 'gui', 'modeling', 'motion', 'control', 'realtime', 'code', 'simulation', 'simulink', 'state', 'syntax'], ['decentralized', 'combined', 'heat', 'power', 'plant', 'isolated', 'power', 'system'], ['decimal', 'digit', 'extract', 'integer', 'separate', 'simulink'], ['degree', 'conduction', 'control', 'design', 'drives', 'inverter', 'power', 'electronics', 'three', 'phase', 'inverters'], ['degree', 'conduction', 'control', 'duty', 'cycle', 'inverters', 'power', 'electronics', 'power', 'systems', 'pwm', 'pwm', 'inverter', 'variable', 'frequency'], ['degree', 'conduction', 'modeling', 'power', 'electronics', 'simulation', 'simulink', 'spwm', 'three', 'phase', 'inverter', 'spwm'], ['degree', 'mode', 'bridge', 'inverter', 'inverter', 'three', 'phase'], ['degree', 'inverters', 'power', 'electronics', 'simulation', 'simulink'], ['delay', 'lock', 'loop', 'frequency', 'synthesis', 'phase', 'detector', 'phase', 'locked', 'loop', 'phase', 'noise', 'pll', 'serdes'], ['delay', 'delay', 'timer', 'utility', 'xpc', 'target', 'delay'], ['delay', 'integration'], ['delay', 'three', 'phase', 'variable', 'voltage', 'controller'], ['deloading', 'dfig'], ['deloading', 'simulink', 'wind'], ['delta', 'robot', 'forward', 'kinematic', 'inverse', 'kinematic', 'kinematic', 'of', 'delta', 'robot'], ['demodulation', 'dsb', 'filter', 'modulation', 'noise', 'modulation'], ['demo', 'electrical', 'engineering', 'simulink'], ['demo', 'example', 'getting', 'started', 'model', 'simulink', 'tutorial'], ['demo', 'image', 'processing', 'kinect', 'robot', 'robotics', 'simulation', 'simulink'], ['demo', 'mathematics', 'modeling', 'simulation', 'simulink'], ['demo', 'modeling', 'simulation', 'simulink', 'demo'], ['demo', 'modeling', 'simulation', 'simulink', 'demo', 'modeling'], ['demo', 'modeling', 'simulation', 'simulink', 'simulation', 'acdc', 'demo', 'demo'], ['demo', 'simulation', 'simulink'], ['demux', 'multiplexer', 'simulink'], ['descrambler', 'scrambler'], ['des', 'descrete', 'event', 'simulation', 'discrete', 'event', 'animation', 'assembly', 'automation', 'conveyor', 'des', 'descrete', 'event', 'simulation', 'diagram', 'discrete', 'discrete', 'event', 'event', 'eventbased', 'factory', 'flow', 'industrial', 'line', 'manufacturing', 'network', 'packaging', 'plc', 'queue', 'reality', 'sequence', 'simevents', 'traffic', 'virtual', 'visualization', 'workshop', 'conveyor'], ['control', 'design'], ['design', 'pattern', 'client', 'server', 'clientserver', 'stateflow', 'master', 'slave', 'design', 'pattern', 'client', 'server', 'clientserver', 'stateflow', 'master', 'slave', 'stateflow'], ['design', 'pattern', 'design', 'patterns', 'simulink', 'simulink', 'functions', 'stateflow', 'webinar'], ['control', 'design', 'control', 'design'], ['control', 'design', 'control', 'design', 'control', 'design', 'control', 'design', 'control', 'design'], ['control', 'design', 'control', 'design', 'inverter', 'pll', 'simulation', 'simulink', 'inverter', 'inverter', 'simulink'], ['control', 'design', 'control', 'synthesis', 'hybrid', 'systems', 'manufacturing', 'model', 'checking', 'modeling', 'numerical', 'integration', 'simulation'], ['control', 'design', 'controller', 'fuzzy', 'logic', 'nonlinear', 'plant', 'simulation', 'simulink', 'fuzzy', 'simulink', 'but', 'want', 'you', 'to', 'help', 'me', 'because', 'intend', 'to', 'construct', 'acontrol', 'if', 'you', 'can', 'send', 'to', 'me', 'simulation', 'model', 'describing', 'my', 'demands', 'thank', 'you', 'again', 'thank', 'you', 'sir', 'controller', 'if', 'you', 'can', 'send', 'to', 'me', 'simulation', 'model', 'describing', 'my', 'demands'], ['control', 'design', 'controls', 'engine', 'control', 'pid', 'pid', 'control', 'pid', 'controller', 'pid', 'tuning', 'controls', 'control', 'design', 'engine', 'control', 'control', 'design', 'pid', 'controller', 'pid', 'control'], ['control', 'design', 'controls', 'linear', 'systems', 'reachability', 'systems'], ['control', 'design', 'controls', 'model', 'predictive', 'control', 'mpc', 'mpc', 'toolbox', 'simulink'], ['control', 'design', 'converter', 'electronics', 'power', 'electronics', 'power', 'system', 'pwm', 'rectifier', 'sinusoidal', 'pwm', 'simulink', 'pwm'], ['control', 'design', 'converter', 'inverter', 'power', 'electronics', 'three', 'phase', 'inverter', 'triplen', 'injection'], ['control', 'design', 'dcac', 'hysterisis', 'power', 'converter', 'power', 'electronics', 'simscape', 'simulink', 'switch', 'mode', 'power', 'converter'], ['control', 'design', 'demo', 'electrical', 'generator', 'modeling', 'motor', 'power', 'system', 'simulation', 'simulink', 'stability', 'electrical', 'simulation', 'generator', 'generator', 'stability', 'modeling', 'power', 'system', 'simulink', 'stability', 'motor', 'power', 'system'], ['control', 'design', 'demo', 'feedforward', 'profile', 'motion', 'control', 'trajectory', 'motion', 'control', 'trajectory', 'setpoint', 'planning', 'feedforward', 'profile', 'setpoint', 'planning'], ['control', 'design', 'demo', 'feedforward', 'modelbased', 'design', 'modeling', 'motion', 'control', 'motor', 'robot', 'simulation', 'simulink', 'simulink', 'model', 'system', 'identification', 'trajectory', 'planning', 'motor', 'control', 'design', 'demo', 'robot', 'simulation', 'simulink', 'model'], ['control', 'design', 'demo', 'signal', 'processing', 'simulation', 'simulink'], ['control', 'design', 'differential', 'differential', 'equation', 'mathematics', 'simulation', 'simulink', 'tool', 'box', 'differential', 'differential', 'equation', 'mathematics', 'tool', 'box'], ['control', 'design', 'diode', 'clamped', 'inverter', 'drives', 'inverters', 'power', 'electronics', 'power', 'system', 'pwm', 'spwm', 'three', 'level', 'inverter', 'three', 'phase', 'inverters'], ['control', 'design', 'disturbance', 'observer', 'toolbox'], ['control', 'design', 'drive', 'inverter', 'inverters', 'multilevel', 'inverter', 'power', 'electronics', 'pwm', 'single', 'phase', 'zsource', 'inverter', 'fed', 'induction', 'motor', 'drives', 'space', 'vector', 'multilevel', 'single', 'phase'], ['control', 'design', 'drives', 'inverter', 'power', 'electronics', 'pwm', 'spwm', 'unipolar'], ['control', 'design', 'drives', 'inverter', 'power', 'electronics', 'simulation', 'simulink', 'three', 'phase', 'inverter', 'inverter', 'inverter', 'simulation'], ['control', 'design', 'drives', 'inverter', 'power', 'electronics', 'single', 'phase', 'inverter'], ['control', 'design', 'drives', 'inverters', 'power', 'electronics', 'power', 'system', 'pwm', 'svpwm', 'three', 'phase', 'inverters', 'control', 'design', 'control', 'design', 'three', 'phase', 'inverters'], ['control', 'design', 'dspace', 'filter', 'signal', 'processing'], ['control', 'design', 'dsp', 'filter', 'gaussian', 'mathematics', 'measurement', 'noise', 'nonlinear', 'signal', 'processing', 'simulation', 'simulink', 'spectral', 'analysis'], ['control', 'design', 'elbow', 'rehabilitation', 'exoskeleton', 'based', 'on', 'bioinspired', 'actuators', 'matlabhw', 'simulink', 'stm'], ['design', 'electric', 'electronics', 'gear', 'hybrid', 'modelbased', 'motor', 'planetary', 'power', 'synchronous', 'vehicle'], ['control', 'design', 'electronics', 'power', 'power', 'electronics'], ['control', 'design', 'embedded', 'code', 'fixed', 'point', 'simulink', 'stateflow'], ['control', 'design', 'embedded', 'code', 'realtime', 'workshop', 'embedded', 'coder', 'simulink'], ['control', 'design', 'filter', 'design', 'power', 'simulink'], ['control', 'design', 'filter', 'inverters', 'power', 'electronics', 'power', 'system', 'pwm', 'svpwm', 'three', 'phase', 'inverters', 'inverters', 'control', 'design', 'svpwm', 'control', 'design'], ['control', 'design', 'floating', 'point', 'core', 'fpga', 'ieee', 'single', 'modeling', 'signal', 'processing', 'simulation', 'simulink', 'uint'], ['control', 'design', 'fractional', 'calculus', 'signal', 'processing', 'simulink', 'variable', 'order', 'differentiation', 'fractional', 'calculus'], ['control', 'design', 'gui', 'measurement', 'simulation', 'simulink'], ['control', 'design', 'human', 'operator', 'inormatic', 'model', 'input', 'device', 'minimax', 'simulation', 'user', 'interfac'], ['control', 'design', 'hybrid', 'anfis', 'power', 'electronics', 'renewable', 'energy'], ['control', 'design', 'industrial', 'automation', 'machinery', 'design', 'modeling', 'pid', 'plc', 'simulation', 'simulink', 'industrial', 'automation', 'simulation', 'control', 'design'], ['control', 'design', 'integration'], ['control', 'design', 'inverter', 'multilevel', 'inverter', 'power', 'electronics', 'power', 'system', 'pwm', 'simulation', 'simulink', 'spwm', 'three', 'phase', 'inverter'], ['control', 'design', 'inverter', 'power', 'electronics', 'power', 'system', 'pwm', 'svpwm', 'three', 'phase', 'inverter', 'svpwm'], ['control', 'design', 'inverter', 'square', 'wave'], ['control', 'design', 'lmi', 'optimization', 'simulation', 'lmi'], ['control', 'design', 'lqr', 'optimization', 'simulink'], ['control', 'design', 'machine', 'learning', 'simulink'], ['control', 'design', 'manipulator', 'sliding', 'mode', 'control'], ['control', 'design', 'mathematics', 'optimization', 'signal', 'processing', 'simulation', 'simulink'], ['control', 'design', 'mathematics', 'signal', 'processing', 'simulation', 'simulink'], ['control', 'design', 'matlab', 'electircal', 'ciruit', 'measurement', 'power', 'system', 'rlc', 'circuit', 'simulation', 'simulation', 'simulink', 'ada', 'matlab', 'electircal', 'ciruit'], ['control', 'design', 'matlab', 'optimization', 'simulation'], ['control', 'design', 'measurement', 'modeling', 'optimization', 'signal', 'processing', 'simulation', 'simulink', 'statistics'], ['control', 'design', 'mechanical', 'modeling', 'pitch', 'control', 'speed', 'control', 'wind', 'turbine'], ['control', 'design', 'mechanical', 'modeling', 'signal', 'processing', 'simulation'], ['control', 'design', 'mmc', 'modular', 'multilevel', 'converter', 'power', 'power', 'electronics', 'simulation'], ['control', 'design', 'model', 'predictive', 'control', 'modeling', 'pid', 'simulation', 'simulink', 'system', 'identification', 'control', 'design'], ['control', 'design', 'modeling', 'optimization', 'simulink'], ['control', 'design', 'modeling', 'simulation', 'simulink', 'control', 'design', 'control', 'design'], ['control', 'design', 'modeling', 'simulink', 'system', 'identification'], ['control', 'design', 'multilevel', 'inverter', 'control', 'design', 'multilevel', 'inverter', 'simulation', 'control', 'design', 'control', 'design', 'seven', 'level', 'control', 'design', 'control', 'design'], ['control', 'design', 'non', 'linear', 'controls', 'optimization', 'simulation', 'simulink', 'simulation', 'simulation'], ['control', 'design', 'optimal', 'control', 'pendulum'], ['control', 'design', 'optimal', 'control', 'robot', 'optimal', 'control'], ['control', 'design', 'optimization', 'simulink'], ['control', 'design', 'pid', 'control', 'pid', 'controller', 'pid', 'tuning', 'simulink', 'simulink', 'control', 'design', 'pid', 'tuning'], ['control', 'design', 'pid', 'control', 'pid', 'controller', 'simulink', 'simulink', 'control', 'design', 'control', 'design', 'simulink', 'control', 'design'], ['control', 'design', 'power', 'electronics', 'power', 'system', 'simulink', 'thyristor', 'simulation', 'in', 'matlab'], ['control', 'design'], ['control', 'design', 'real', 'time', 'robot', 'slam', 'wifi'], ['control', 'design', 'robust', 'control', 'simulink', 'teaching', 'aids'], ['control', 'design', 'selftunig', 'control', 'simulink', 'library'], ['control', 'design', 'simmechanics', 'simulink'], ['control', 'design', 'simpower', 'systems', 'this', 'possible', 'on', 'hard', 'warei', 'am', 'trying', 'so', 'control', 'design', 'simpower', 'systems', 'control', 'design', 'simpower', 'systems', 'this', 'possible', 'on', 'hard', 'warei', 'am', 'trying', 'so', 'control', 'design', 'simpower', 'systems', 'control', 'design', 'simpower', 'systems'], ['control', 'design', 'simpowersystems'], ['control', 'design', 'simulation'], ['control', 'design', 'simulation', 'control', 'design', 'simulation'], ['control', 'design', 'simulation'], ['control', 'design', 'simulation'], ['control', 'design', 'simulation', 'control', 'design'], ['control', 'design', 'simulation', 'control', 'design', 'simulation'], ['control', 'design', 'simulation', 'simulink'], ['control', 'design', 'simulink'], ['control', 'design', 'simulink', 'control', 'design', 'control', 'design'], ['control', 'design', 'simulink', 'control', 'design', 'control', 'design', 'simulink', 'control', 'design'], ['control', 'design', 'simulink'], ['detect', 'change', 'functioncall', 'subsystem', 'sfunction'], ['detection', 'of', 'fault', 'location', 'by', 'phasor', 'measurement', 'units', 'phasor', 'measurement', 'units'], ['detector', 'discretization', 'detector', 'discretization', 'envelope', 'signal', 'processing', 'envelope', 'detector', 'rectifier', 'detector', 'detector', 'envelope', 'detector', 'detector', 'discretization', 'detector', 'discretization', 'envelope', 'envelope', 'detector', 'detector'], ['deterministic', 'control', 'law', 'dop', 'dynamic', 'optimization', 'problem', 'evolutionary', 'optimization', 'hybrid', 'learning', 'rule', 'ilc', 'iterative', 'learning', 'control', 'particle', 'swarm', 'optimization', 'pso', 'rc', 'repetitive', 'control', 'repetitive', 'process', 'control', 'stochastic', 'control', 'law'], ['deterministic', 'control', 'law', 'dop', 'dynamic', 'optimization', 'problem', 'evolutionary', 'optimization', 'hybrid', 'repetitive', 'controller', 'ilc', 'iterative', 'learning', 'control', 'particle', 'swarm', 'optimization', 'pso', 'rc', 'repetitive', 'control', 'stochastic', 'control', 'law'], ['dfig', 'doublyfed', 'induction', 'generator', 'dfig', 'indraneel', 'indraneel', 'saki', 'indranil', 'saaki', 'maximum', 'power', 'point', 'tracking', 'mppt', 'vector', 'control', 'vc', 'with', 'pi', 'controller', 'wind', 'turbine', 'generation', 'system', 'wtgs'], ['dfig', 'emulated', 'inertia', 'response', 'power', 'simulation', 'simulink', 'wind'], ['dfig', 'frequency'], ['dfig', 'frequency', 'powersystems', 'tripping', 'two', 'area', 'wind'], ['dfig', 'mitigation', 'ssr', 'sub', 'synchronous', 'resonance'], ['dfig', 'reactive', 'statcom', 'wind', 'aaa'], ['dg', 'microgrid', 'power', 'electronics', 'power', 'systems'], ['differential', 'algebraic', 'equations', 'kalman', 'filter', 'moving', 'horizon', 'estimation', 'nonlinear', 'control', 'nonlinear', 'programming'], ['differential', 'equation', 'differential', 'equation', 'solution', 'mathematics', 'sfunction', 'mechanical', 'engineering', 'physics', 'mathematics'], ['differential', 'digital', 'protection', 'three', 'phase', 'transformer'], ['digest', 'article', 'stewart', 'platform', 'mechanical', 'system', 'control', 'downloaded', 'the', 'file', 'but', 'cant', 'open', 'it', 'in', 'simulink', 'simulink', 'is', 'mechanical', 'modeling', 'thanks', 'lot', 'thanks', 'lot', 'downloaded', 'the', 'file', 'but', 'cant', 'open', 'it', 'in', 'simulink', 'simulink', 'is'], ['digital', 'filter', 'digital', 'low', 'pass', 'filter', 'low', 'pass', 'filter', 'lpf'], ['digital', 'frequency', 'relay', 'protection', 'under', 'frequency'], ['digital', 'dpd'], ['digital', 'relay', 'negative', 'sequence', 'relay', 'protection'], ['digital', 'relay', 'protection', 'reverse', 'power', 'relay'], ['digital', 'signal', 'controller', 'distributed', 'calculations', 'iterative', 'learning', 'control', 'particle', 'swarm', 'optimization', 'pdmsrc', 'pdpsrc', 'real', 'time', 'implementation', 'real', 'time', 'optimization', 'repetitive', 'control', 'tms'], ['digital', 'frequency', 'fsk', 'model', 'modulation', 'simulink'], ['diode', 'based', 'rectifier', 'full', 'wave', 'bridge', 'rectifier', 'power', 'electronics', 'simulink'], ['diode', 'bridge', 'circuit'], ['diode', 'clamped', 'inverter', 'multilevel', 'inverter', 'spwm'], ['diode', 'clamped', 'inverter', 'multilevel', 'inverter', 'spwm', 'abhishek'], ['diode', 'clamped', 'inverter', 'multilevel', 'inverter', 'spwm', 'diode', 'clamped'], ['diode', 'clamped', 'inverter', 'multilevel', 'inverter', 'spwm', 'diode', 'clamped', 'inverter', 'multilevel', 'inverter', 'spwm', 'diode', 'clamped'], ['diode', 'clamped', 'inverter', 'multilevel', 'inverter', 'spwm', 'multilevel', 'inverter'], ['diode', 'rectifier', 'power', 'electronics'], ['diode', 'industrial', 'electronics', 'power', 'electronics', 'rectifiers', 'sim', 'power', 'system', 'simulation', 'simulink', 'uncontrolled', 'rectifier'], ['diophantine', 'equation', 'generalized', 'minimum', 'variance', 'predictive', 'control', 'state', 'space', 'representation', 'system', 'identification'], ['dip', 'detection', 'measurments', 'peak', 'value', 'voltage', 'dip'], ['directdriven', 'directdriven', 'wind', 'turbine', 'directdriven', 'mppt', 'pmsg', 'pwm', 'converter', 'wind', 'turbine', 'when', 'am', 'trying', 'to', 'run', 'the', 'model', 'it', 'showing', 'the', 'error', 'the', 'fixed', 'pmsg', 'mppt', 'pmsg'], ['discret'], ['discrete', 'embedded', 'matlab', 'fpga', 'hdl', 'integrator', 'parameters', 'simulink'], ['discreteevent', 'systems', 'finitestate', 'machines', 'petri', 'nets', 'simulation'], ['displacment', 'distortion', 'fft', 'harmonics', 'pf', 'power', 'factor', 'thd', 'ture', 'power', 'factor'], ['distance', 'protection', 'relay', 'distance', 'protection', 'relays', 'flexible', 'ac', 'transmission', 'system', 'facts', 'indraneel', 'saki', 'indranil', 'saaki', 'power', 'system', 'protection', 'realtime', 'digital', 'simulator', 'rtds', 'shunt', 'compensation', 'static', 'synchronous', 'compensators', 'statcom', 'static', 'var', 'compensators', 'svc'], ['distance', 'protection', 'relay', 'flexible', 'ac', 'transmission', 'system', 'facts', 'indraneel', 'saki', 'indranil', 'saaki', 'power', 'system', 'protection', 'realtime', 'digital', 'simulator', 'rtds', 'shunt', 'compensation', 'static', 'synchronous', 'compensators', 'statcom', 'static', 'var', 'compensators', 'svc', 'unified', 'power', 'flow', 'controllerupfc'], ['distributed', 'parallel', 'cosimulation', 'tcp', 'udp', 'parallel', 'computing', 'distributed', 'parallel', 'cosimulation', 'tcp', 'udp', 'distributed', 'processing', 'parallel', 'computing', 'distributed', 'parallel', 'cosimulation', 'tcp', 'udp', 'distributed', 'parallel', 'cosimulation', 'tcp', 'udp', 'distributed', 'parallel', 'cosimulation', 'tcp', 'udp', 'distributed', 'processing', 'parallel', 'computing', 'distributed', 'processing', 'distributed', 'parallel', 'cosimulation', 'tcp', 'udp', 'distributed', 'parallel', 'cosimulation', 'tcp', 'udp', 'distributed', 'processing', 'parallel', 'computing'], ['distributed', 'modeling', 'signal', 'processing', 'simulation', 'simulink', 'statistics'], ['distribution', 'systems', 'ieee', 'bus', 'matpower', 'network', 'reconfiguration', 'power', 'system', 'analysis', 'power', 'systems', 'simulink'], ['distribution', 'distribution', 'transformer', 'feeder', 'lv'], ['diversity', 'measure', 'iterative', 'learning', 'control', 'particle', 'swarm', 'optimization', 'pso', 'repetitive', 'control', 'swarm', 'diversity', 'swarm', 'repetitive', 'controller'], ['division', 'multiplexing', 'modulation', 'noisy', 'channel', 'ofdm', 'orthogonal', 'frequency', 'ofdm', 'rayleigh'], ['dls', 'inverse', 'kinematics', 'jacobian', 'pseudoinverse', 'robotics', 'transpose', 'inverse', 'kinematics', 'inverse', 'kinematics', 'inverse', 'kinematics'], ['documentation', 'embedded', 'code', 'execution', 'profiling', 'production', 'code', 'realtime', 'workshop', 'utilities', 'verification', 'embedded', 'code'], ['document', 'documentation', 'report', 'generator', 'simulink', 'software', 'design', 'description'], ['dof', 'automotive', 'dof', 'passive', 'semiactive', 'simulink', 'suspension', 'suspension'], ['done', 'on', 'simscape'], ['dop', 'dynamic', 'optimization', 'problem', 'epetitive', 'process', 'ilc', 'induction', 'iterative', 'learning', 'control', 'nonstationary', 'process', 'parameter', 'estimation', 'parameter', 'identification', 'parameter', 'tracking', 'particle', 'swarm', 'optimization', 'pso', 'repetitive', 'control', 'update', 'without', 'evaluation'], ['dop', 'dynamic', 'optimization', 'problem', 'hill', 'climbing', 'hybrid', 'maximum', 'power', 'point', 'tracking', 'mppt', 'partial', 'shading', 'particle', 'swarm', 'optimization', 'photovoltaic', 'system', 'photovoltaics', 'pso', 'pv', 'solar', 'energy', 'solar', 'system'], ['dop', 'dynamic', 'optimization', 'problem', 'ilc', 'iterative', 'learning', 'control', 'neural', 'network', 'neurocontroller', 'repetitive', 'control', 'training'], ['down', 'electronics', 'libya', 'power', 'power', 'electronics', 'rms', 'step', 'transformer'], ['dptram', 'embedded', 'code', 'motor', 'mpc', 'realtime', 'workshop', 'tpu', 'tpu', 'verification'], ['dpwm', 'inverter', 'power', 'power', 'electronics', 'space', 'vector'], ['dq', 'axis', 'induction', 'generator', 'rotor', 'seig', 'self', 'excited', 'induction', 'generator', 'simulink', 'modeling', 'stator', 'wind', 'turbine'], ['dq', 'model', 'dq', 'model', 'synchronous', 'motor', 'synchronous', 'motor', 'dq', 'model', 'synchronous', 'motor', 'torque'], ['driver', 'motor', 'driver', 'pwm', 'raspberry', 'pi', 'sfunction', 'simulink', 'maker'], ['driver', 'raspberry', 'pi', 'rpi', 'sfunction', 'simulink', 'maker'], ['drives', 'inverter'], ['drive', 'traction'], ['dsp', 'embedded', 'matlab', 'fpga', 'simulink', 'viterbi', 'fpga', 'fpga', 'fpga', 'dsp', 'dsp', 'dsp'], ['dsp', 'fft', 'filter', 'filter', 'analysis', 'mathematics', 'noise', 'optimization', 'signal', 'processing', 'simulation', 'simulink', 'spectral', 'analysis'], ['dsp', 'fpga', 'mcasp', 'serial', 'port', 'texas', 'instruments'], ['dsp', 'induction', 'motor', 'sensorless', 'vector', 'control', 'speed', 'and', 'flux', 'estimator', 'svpwm'], ['dsp', 'instrument', 'control', 'simulink', 'simulink', 'tektronix', 'instrument', 'control', 'tek', 'tds', 'tekvisa', 'tds', 'tek', 'tektronix', 'tekvisa'], ['dsp', 'pll', 'vco', 'nco', 'phase', 'locked', 'loop', 'control', 'charge', 'pump', 'dsp', 'pll', 'vco', 'nco', 'phase', 'locked', 'loop', 'control', 'charge', 'pump', 'dsp', 'pll', 'vco', 'nco', 'phase', 'locked', 'loop', 'control', 'charge', 'pump', 'pll', 'vco', 'nco', 'phase', 'locked', 'loop', 'control', 'charge', 'pump', 'dsp', 'dsp', 'pll', 'vco', 'nco', 'phase', 'locked', 'loop', 'control', 'charge', 'pump', 'dsp', 'pll', 'vco', 'nco', 'phase', 'locked', 'loop', 'control', 'charge', 'pump', 'pll', 'vco', 'nco', 'phase', 'locked', 'loop', 'control', 'charge', 'pump', 'dsp', 'dsp'], ['dstatcom', 'facts', 'statcom', 'statcom'], ['dstatcom', 'power', 'quality'], ['dtc', 'induction', 'motor', 'model', 'predictive', 'mptfc'], ['dugoffs', 'tire', 'model', 'vehicle', 'modelling'], ['durability', 'opt', 'optimization', 'probability', 'realiability', 'robust', 'design', 'uncertainty', 'robust', 'design', 'uncertainty'], ['dvr', 'dynamic', 'voltage', 'restorer', 'line', 'fault', 'line', 'fault', 'compensation', 'sag', 'sag', 'compensation', 'swell', 'swell', 'compensation', 'voltage', 'compensation'], ['dvr', 'dynamic', 'voltage', 'restorer', 'series', 'compensation', 'voltage', 'sag', 'voltage', 'swell'], ['dynamic', 'complexity', 'model', 'complexity', 'profiling', 'static', 'complexity'], ['dynamic', 'optimization', 'problem', 'ilc', 'iterative', 'learning', 'control', 'kessler', 'motion', 'control', 'naslin', 'optimal', 'control', 'particle', 'swarm', 'optimization', 'position', 'control', 'precision', 'control', 'pso', 'repetitive', 'control', 'spline'], ['dynamic', 'optimization', 'problem', 'ilc', 'iterative', 'learning', 'control', 'particle', 'swarm', 'optimization', 'power', 'electronic', 'converter', 'pso', 'repetitive', 'control', 'repetitive', 'disturbance', 'rejection'], ['dynamic', 'signal', 'analyzer', 'frequency', 'response', 'control', 'loop', 'dynamic', 'signal', 'analyzer', 'frequency', 'response', 'control', 'loop', 'dynamic', 'signal', 'analyzer', 'frequency', 'response', 'control', 'loop', 'dynamic', 'signal', 'analyzer', 'frequency', 'response', 'control', 'loop', 'dynamic', 'signal', 'analyzer', 'frequency', 'response', 'control', 'loop'], ['dynamical', 'systems', 'jansen', 'latin', 'hypercube', 'saltelli', 'sensitivity', 'analysis', 'sobol', 'uncertainty', 'analysis'], ['dynamic', 'induction', 'mathematical', 'mathematics', 'model', 'modeling', 'motor'], ['dynamics', 'generator', 'power', 'simulation', 'synchronous'], ['dynamics', 'inverse', 'dynamics', 'simmechanics', 'simulink', 'dynamics', 'dynamics', 'inverse', 'dynamics', 'simmechanics', 'simmechanics'], ['dynamics', 'mechanical', 'modeling'], ['dynamics', 'modeling', 'nonlinear', 'pendulum', 'simulation'], ['system', 'dynamics', 'physical', 'modeling', 'symbolic', 'computing', 'system', 'dynamics'], ['earth', 'leakage', 'protection', 'leakage', 'current', 'power', 'system', 'protection', 'rccb', 'rcd', 'residual', 'current', 'circuit', 'breaker', 'residual', 'current', 'device'], ['easy', 'steps', 'guide', 'how', 'to', 'learn', 'prepared', 'models', 'simulink', 'stateflow', 'guide'], ['economics', 'equilibrium', 'modeling', 'simulation', 'simulink', 'economics', 'equilibrium'], ['economics', 'finance', 'mathematics', 'modeling', 'ode', 'parallel', 'computing', 'simulation', 'simulink', 'visualization'], ['ecrobot', 'control', 'design', 'embedded', 'code', 'lego', 'mindstorms', 'modeling', 'nxt', 'robot', 'simulation', 'simulation'], ['ecrobot', 'embedded', 'lego', 'mindstorms', 'nxt', 'nxtway', 'real', 'time', 'workshop', 'robot', 'robotics', 'vulrt'], ['edge', 'detection', 'embedded', 'matlab', 'hdl', 'serialized', 'image', 'sobel', 'edge', 'detection'], ['edge', 'hdl', 'coder', 'logic', 'verilog', 'vhdl'], ['edge', 'hdl', 'simulink', 'verilog', 'vhdl'], ['efficiency', 'lagging', 'power', 'factor', 'transformer', 'voltage', 'regulation'], ['efficiency', 'prosthetic', 'spring', 'constant'], ['efficiency', 'transformer', 'voltage', 'regulation'], ['more', 'electric', 'aircraft', 'physical', 'modeling'], ['electric', 'arc', 'furnace', 'flicker', 'power', 'quality'], ['electric', 'drive', 'full', 'state', 'feedback', 'controller', 'linear', 'quadratic', 'controller', 'lqr', 'nonlinear', 'plant', 'optimal', 'control', 'particle', 'swarm', 'optimization', 'position', 'control', 'pso', 'servo', 'drive'], ['electric', 'drive', 'full', 'state', 'feedback', 'controller', 'linear', 'quadratic', 'regulator', 'lqr', 'motion', 'control', 'nonlinear', 'plant', 'optimal', 'control', 'particle', 'swarm', 'optimization', 'pso', 'speed', 'control'], ['electric', 'machines'], ['electric', 'motor', 'industrial', 'automation', 'variable', 'speed', 'control', 'water', 'hammer'], ['electric', 'utility', 'energy', 'supplier', 'gas', 'consumption', 'simulation', 'electric', 'utility'], ['electric', 'vehicle', 'electric', 'vehicle', 'charging', 'ev', 'ev', 'charging', 'lithium', 'ion', 'battery', 'mgt', 'mgt', 'charging', 'micro', 'gas', 'turbine'], ['electric', 'vehicle', 'electric', 'vehicle', 'charging', 'ev', 'ev', 'vehicle', 'grid', 'ev', 'charging', 'mppt', 'solar', 'solar', 'charging', 'station', 'solar', 'ev', 'charging'], ['electrical', 'circuit'], ['electrical', 'circuits'], ['electrical', 'machines', 'simulation'], ['electrical', 'transients'], ['electrical', 'vehicle', 'ev', 'fast', 'battery', 'charging', 'fuzzy', 'vienna', 'rectifier'], ['electrical', 'grid', 'ieee', 'bus', 'load', 'flow', 'power', 'system', 'simpower', 'transient', 'stability', 'transmission'], ['electrical', 'hydraulic', 'multibody', 'physical', 'modeling', 'simelectronics', 'simhydraulics', 'simmechanics', 'simmechanics', 'simscape'], ['electrical', 'thermistor'], [], ['degree', 'inverter', 'simulation', 'variable', 'frequency'], ['degree', 'inverter', 'matlab', 'power', 'electronics', 'power', 'system', 'simulation', 'simulink', 'three', 'phase'], ['svm'], ['phase', 'dc', 'machine', 'modeling', 'rectifier', 'simulation', 'simulink', 'speed', 'control', 'phase'], ['phase', 'inverter', 'pwm', 'svpwm'], ['level', 'drive', 'induction', 'motor', 'inverter', 'multilevel', 'multilevel', 'inverter', 'pwm', 'sinusoidal', 'pwm'], ['ac', 'boost', 'converter', 'ac', 'buck', 'converter', 'automatic', 'voltage', 'regulator', 'avr', 'indraneel', 'saki', 'indranil', 'saaki', 'modeling', 'power', 'electonics', 'simulation', 'three', 'arm', 'ac', 'voltage', 'regulator'], ['ac', 'controller', 'acac', 'converter', 'three', 'phase', 'ac', 'voltage', 'controller', 'three', 'phase', 'thyristor', 'block'], ['ac', 'converter'], ['ac', 'generators', 'acdc', 'converters', 'dc', 'grid', 'hvdc', 'transmission', 'load', 'flow'], ['ac', 'servo', 'motor', 'simulink'], ['ac', 'time', 'overcurrent', 'relay', 'ansi', 'device', 'number', 'digital', 'protective', 'relay', 'idmt', 'relay', 'iec', 'ieee', 'std', 'numerical', 'protection', 'relay', 'overcurrent', 'protection', 'relay', 'protection', 'relay'], ['ac', 'voltage', 'controller', 'buck', 'boost', 'simpower', 'system', 'simulink', 'sinusoidal'], ['ac', 'controller', 'integral', 'cycle', 'control', 'integral', 'cycle', 'control', 'with', 'phase', 'angle', 'control', 'phase', 'angle', 'control', 'simulation', 'three', 'phase', 'voltage'], ['air', 'conditioner', 'buck', 'halfbridge', 'converter', 'hall', 'sensors', 'indraneel', 'saki', 'indranil', 'saaki', 'modleing', 'pfc', 'pmbldcm', 'pv', 'cell', 'simulink', 'voltage', 'control', 'vsi'], ['analog', 'to', 'digital', 'converter', 'dc', 'bias', 'circuit', 'dc', 'offset', 'circuit', 'single', 'ended', 'input'], ['application', 'inverter', 'matlab', 'modeling', 'power', 'electronics', 'simulink'], ['arduino', 'asservissement', 'codeur', 'incremental', 'moteur', 'courant', 'continu', 'pid', 'pwm', 'simulink'], ['asynchronous', 'machine', 'dc', 'test', 'induction', 'motor'], ['asynchronous', 'motor', 'direct', 'torque', 'control', 'dtc', 'im', 'induction', 'motor', 'pulse', 'width', 'modulation', 'space', 'vector', 'space', 'vector', 'modulation', 'svm', 'svpwm'], ['vector', 'control', 'modeling', 'matlabsimulink', 'simulat'], ['automotive', 'control', 'design', 'electronics', 'feedback', 'machine', 'motor', 'power', 'rectifier', 'single', 'phase'], ['automotive', 'dc', 'motor'], ['bldc', 'motor', 'electrical', 'drive', 'pi', 'controller', 'speed', 'control'], ['cascaded', 'h_bridge', 'inverter', 'chb', 'converter', 'levelshifted', 'carrierbased', 'modulation', 'phaseshifted', 'carrierbased', 'modulation', 'power', 'electronics', 'sevenlevel', 'converter', 'simulink'], ['cbc', 'constant', 'boost', 'control', 'inverter', 'pwm', 'zsource'], ['chopper', 'chopper', 'controlled', 'dc', 'motor', 'dc', 'motor', 'regenerative', 'braking'], ['communications', 'control', 'design', 'gui', 'harmonics', 'image', 'processing', 'inverter', 'measurement', 'signal', 'processing', 'simulation', 'simulink'], ['communications', 'control', 'design', 'measurement', 'modeling', 'optimization', 'signal', 'processing', 'simulation', 'simulink'], ['constant', 'power', 'pwm'], ['continuous', 'conduction', 'mode', 'fuel', 'cell', 'indraneel', 'saki', 'indranil', 'saaki', 'interleaved', 'operation', 'isolated', 'boost', 'converter', 'matlab', 'power', 'electronics', 'power', 'systems', 'renewable', 'energy', 'resourses', 'simulation', 'simulink', 'threephase', 'dcdc', 'converter', 'threephase', 'pwm', 'strategy'], ['control'], ['control', 'design'], ['control', 'design', 'dc', 'microgrid', 'power', 'electronics'], ['control', 'design', 'hysteresis', 'pwm', 'simulation'], ['control', 'design', 'inverter', 'lcl', 'filter', 'pi', 'power', 'power', 'electronics', 'system', 'design'], ['control', 'design', 'modeling', 'modulation', 'power', 'power', 'electronics', 'simulation'], ['control', 'design', 'simulink'], ['control', 'control', 'design', 'power', 'electronics', 'power', 'system', 'sliding', 'mode', 'control'], ['control', 'control', 'design', 'power', 'power', 'electronics', 'pv', 'simulation', 'single', 'phase'], ['converter', 'current', 'controller', 'grid', 'power', 'power', 'electronics', 'pv', 'simulation'], ['converter', 'current_source', 'inverter', 'modulation', 'pwm', 'rectifier', 'selective', 'she', 'simulink'], ['converter', 'frequency', 'controlled', 'pulse', 'width', 'modulation', 'pwm', 'quasi', 'resonant'], ['crazyflie', 'drone', 'quadcopter', 'simmechanics', 'simulation', 'simulink'], ['csi', 'tpwm'], ['dc', 'ac', 'converter', 'igbt', 'inverter', 'inverter', 'pwm', 'sine', 'pwm', 'sine', 'wave', 'inverter'], ['dc', 'to', 'ac', 'converter', 'inverter', 'push', 'pull', 'converter', 'push', 'pull', 'inverter'], ['dc', 'dc', 'converter', 'duty', 'cycle', 'pulse', 'width', 'modulation', 'pwm'], ['dc', 'machine', 'speed', 'control', 'dc', 'motor', 'fuzzy', 'controller', 'pi', 'controller', 'pifuzzy', 'controller'], ['dc', 'motor'], ['dc', 'motor', 'control', 'diode', 'bridge', 'rectifier', 'power', 'electronics'], ['dc', 'motor', 'field', 'control', 'separately', 'excited'], ['dc', 'motor', 'fuzzy', 'controller', 'fuzzy', 'logic', 'speed', 'dc', 'machine', 'control'], ['dc', 'motor', 'induction', 'motor', 'primary', 'mover'], ['dc', 'motor', 'modeling'], ['dc', 'shunt', 'motor', 'no', 'load', 'shunt', 'motor', 'speed', 'control'], ['dcac', 'converter', 'inverter', 'single', 'phase', 'inverter', 'sinusoidal', 'pwm', 'spwm'], ['dcmotor', 'simulink'], ['dc', 'simulation'], ['demo', 'modeling', 'simulation', 'simulink', 'modeling'], ['diode', 'inverter'], ['diode', 'inverter', 'multilevel', 'simulink', 'spwm'], ['filter', 'grid', 'connected', 'mode', 'hvdc', 'indraneel', 'saki', 'indranil', 'saaki', 'islanding', 'mode', 'matlab', 'micro', 'turbine', 'model', 'microturbine', 'permanent', 'magnet', 'synchronous', 'generator', 'power', 'conditioning', 'unit', 'power', 'converters', 'simulink'], ['drive', 'systems', 'power', 'electronics'], ['dynamic', 'model', 'induction', 'motor', 'modelling', 'rotating', 'frame', 'synchronous', 'frame'], ['equivalent', 'network', 'hvdc', 'transmission', 'network', 'damping', 'network', 'impedance', 'resonance', 'frequency'], ['evenorder', 'harmonics', 'elimination', 'power', 'electronics', 'simulink', 'space', 'vector', 'modulation', 'svm', 'thd', 'twolevel', 'voltagesource', 'inverter'], ['frequency', 'controlled', 'pwm', 'full', 'bridge', 'half', 'bridge', 'pwm', 'resonant', 'converter'], ['full', 'brigde', 'hbrigde', 'power', 'electronics', 'pwm'], ['fullwave', 'rectifier', 'power', 'electronics', 'pwm', 'control'], ['gui', 'power', 'electronics', 'simulation', 'simulink', 'spwm', 'vsi'], ['indraneel', 'saki', 'indranil', 'saaki', 'induction', 'motor', 'power', 'power', 'electronics', 'simulation', 'simulink'], ['induction', 'motor', 'inverter', 'power', 'electronics', 'scalar', 'control', 'vf', 'vsi'], ['induction', 'motor', 'power', 'factor'], ['inverter'], ['inverter', 'inverter', 'lc', 'filter', 'spwm'], ['inverter', 'lookup', 'table', 'svm', 'svpwm', 'md'], ['inverter', 'matlab', 'simulink'], ['inverter', 'modulation', 'multilevel', 'multilevel', 'inverter', 'pseudorandom', 'pulse', 'pwm', 'spwm', 'width'], ['inverter', 'multilevel', 'inverter', 'sc', 'based', 'multilevel', 'inverter', 'switched', 'capacitor', 'switched', 'capacitor', 'mli'], ['inverter', 'npc', 'pdpwm', 'pwm'], ['inverter', 'pwm', 'simpower', 'electric', 'spring', 'kalai'], ['inverter', 'simulink'], ['mathematics', 'simulation', 'simulink'], ['matlab'], ['matlab', 'power', 'electronics', 'simulink'], ['matlab', 'simulink'], ['modeling', 'power', 'electronics', 'simulink'], ['modeling', 'simulation', 'simulink'], ['modulation', 'power', 'power', 'electronics', 'sinusoidal', 'pwm', 'third', 'harmonic'], ['mppt', 'solar', 'energy'], ['multi', 'level', 'inverter'], ['newton', 'raphson', 'selective', 'harmonic', 'shepwm', 'two', 'level', 'inverter'], ['npc', 'pdpwm', 'power', 'electronics', 'pwm'], ['npc', 'pod', 'power', 'electronics', 'pwm'], ['npc', 'power', 'electronics', 'pspwm', 'pwm'], ['plot', 'power', 'electronics', 'pwm', 'simulation'], ['power', 'converter'], ['power', 'electronics'], ['power', 'electronics', 'pwm', 'she'], ['power', 'electronics', 'simulation', 'simulink'], ['power', 'electronics', 'simulink', 'svpwm'], ['power', 'electronics', 'voltage', 'regulator'], ['pwm'], ['pwm', 'modulation'], ['pwm', 'sawtooth'], ['pwm', 'simulation'], ['pwm', 'simulink'], ['pwm', 'simulink', 'threephase', 'unipolar'], ['raspberry', 'pi', 'control', 'control', 'design', 'control', 'systems', 'dc', 'motor', 'laboratory', 'kit', 'mechatronics', 'pid', 'robotics', 'simulation'], ['rc'], ['robot', 'robot', 'arm', 'robotics', 'two', 'joint'], ['signal', 'processing'], ['signal', 'processing', 'simulation', 'simulink'], ['signal', 'processing', 'simulink'], ['simpower', 'systems'], ['simpowersystems', 'simulink'], ['simulation'], ['simulation', 'simulink'], ['simulink'], ['simulink', 'svpwminverter', 'phase', 'ac'], ['step', 'as', 'input', 'application'], ['svpwm', 'signal', 'processing', 'simulation', 'simulink'], ['three', 'phase', 'pwm', 'generator'], ['using', 'pi', 'microcontroller'], [], ['leval', 'inverter', 'induction', 'motor', 'medium', 'voltage', 'inverter', 'squirrel', 'cage'], ['abc', 'variables', 'modelling', 'of', 'induction', 'motors', 'phase', 'variables', 'simulink', 'transient', 'behavior', 'of', 'induction', 'motors', 'abc', 'variables'], ['ac', 'motors', 'fc', 'inverter', 'renewable', 'energy', 'sources'], ['active', 'power', 'filter', 'digital', 'active', 'power', 'filter', 'power', 'electronics', 'three', 'phase', 'four', 'wire', 'active', 'power', 'filter'], ['anti', 'windup', 'parallel', 'computing', 'pid', 'controller'], ['apf', 'clarke', 'transform', 'clarkes', 'transformation', 'pq', 'theory'], ['arduino', 'automotive', 'control', 'design', 'robotics', 'simulink'], ['arduino', 'control', 'systems', 'oscillating', 'fan', 'simulink', 'stateflow'], ['arduino', 'dc', 'motor', 'encoder', 'ldr', 'led', 'simulink', 'support', 'package'], ['arduino', 'motor', 'shield', 'power', 'window', 'simulink', 'stateflow'], ['arduino', 'raspberrypi', 'ros', 'simulink'], ['arduino', 'stm'], ['article', 'control', 'design', 'data', 'export', 'data', 'import', 'fuzzy', 'ieee', 'paper', 'pid', 'simulation', 'simulink'], ['asynchronous', 'machine', 'control', 'induction', 'machine', 'inverter', 'power', 'system'], ['asynchronous', 'machine', 'induction', 'motor', 'machine', 'parameters', 'open', 'circuit', 'test'], ['asynchronous', 'machines', 'blocked', 'rotor', 'test', 'induction', 'motor', 'machine', 'parameters'], ['asynchronous', 'motor', 'cycloconverter', 'induction', 'motor', 'single', 'phase', 'stepdown', 'stepup'], ['asynchronous', 'motor', 'dynamic', 'model', 'induction', 'motor', 'modeling', 'power', 'electronics', 'simulation', 'simulink'], ['autonomous', 'flight', 'drones', 'dynamics', 'imu', 'kalman', 'filter', 'model', 'based', 'design', 'modelling', 'multirotor', 'quadrocopter', 'quadrotor', 'uav'], ['bldc', 'dop', 'dynamic', 'optimization', 'problem', 'optimal', 'control', 'particle', 'swarm', 'optimization', 'plc', 'pso'], ['cascaded', 'loop', 'control', 'case', 'study', 'case', 'study', 'evolutionary', 'computing', 'ga', 'genetic', 'algorithm', 'matlab', 'mo', 'earhquake', 'engineering', 'evolutionary', 'computing', 'genetic', 'algorithms', 'lqr', 'controller', 'damper', 'nonlinear', 'system', 'pid', 'tuning', 'seismic', 'vibration', 'seismic', 'vibration', 'control', 'simulation', 'simulink', 'three', 'story', 'building'], ['case', 'study', 'evolutionary', 'computing', 'ga', 'genetic', 'algorithm', 'matlab', 'model', 'identification', 'pid', 'pid', 'controller', 'design', 'simulation', 'simulink', 'tuning', 'pid', 'controllers'], ['clarke', 'transformation', 'harmonics', 'mathematics', 'simulation', 'simulink'], ['coding', 'control', 'simulink'], ['control', 'design'], ['control', 'design', 'mechatronics', 'pid'], ['control', 'design', 'inverter', 'motor', 'control', 'pharmaceutical', 'power', 'electronics', 'simulation'], ['control', 'design', 'power', 'electronics', 'simulink'], ['control', 'design', 'robotic', 'arm', 'robotics'], ['controller', 'induction', 'lyaponov', 'motor', 'nonlinear', 'simulink'], ['control', 'power', 'electronics', 'simulink'], ['cycloconverter', 'induction', 'motot', 'single', 'phase', 'speed', 'control'], ['dq', 'axis', 'induction', 'motor', 'reference', 'frame'], ['modeling', 'synchronous', 'reference', 'frame', 'modeling', 'of', 'three', 'phase', 'induction', 'mo'], ['dynamic', 'optimization', 'optimization', 'pmsm', 'speed', 'control', 'pso', 'repetitive', 'control'], ['electrical', 'motor', 'motor', 'drive', 'pi', 'control', 'pmsm', 'simulink'], ['electrical', 'machine', 'modeling'], ['electromecnica', 'pendulo', 'simulink'], ['electronics', 'power', 'electronics'], ['embedded', 'code', 'simulink'], ['ensemble', 'control', 'mass', 'spring', 'uncertain', 'parameters'], ['frequency', 'measurement', 'induction', 'motor', 'simpower', 'system'], ['fun'], ['gears', 'motors', 'multibody', 'simulation', 'shafts', 'simmechanics', 'simple', 'machines', 'simulink'], ['induction', 'motor', 'power', 'quality', 'voltage', 'sag'], ['mathematics'], ['matlab', 'simulink'], ['mechanical', 'modeling', 'physical', 'modeling'], ['model', 'predictive', 'control'], ['model', 'pmsm'], ['nonlinear'], ['power', 'electronics'], ['pi', 'robot', 'robotics', 'maker'], ['raspberry', 'pi', 'servo', 'stepper', 'motor', 'innovate', 'msia', 'competition'], ['rice', 'krispies', 'loader', 'robotic', 'arm'], ['simulation'], ['simulation', 'simulink'], ['simulink'], ['ti', 'launch', 'pad', 'educational', 'force', 'control', 'haptic', 'rendering', 'low', 'cost', 'series', 'elastic', 'actuation'], ['waveform'], ['electric', 'multidomain', 'simulation', 'simscape', 'language', 'thermal'], ['electric', 'power', 'electronics', 'simpowersystems', 'torque', 'regulator', 'traction', 'motor', 'wheelchair'], ['electrique', 'hacheur', 'modlisation', 'sciences', 'de', 'lingnieur', 'ssi', 'sti', 'thermique'], ['motor', 'simscape', 'simscape', 'language', 'simscape', 'language'], ['electronic', 'circuit', 'for', 'measuring', 'soil', 'resistivity', 'ground', 'resista', 'electronics'], ['electronics', 'opamp'], ['electronics', 'simulation'], ['electronics', 'simulation'], ['electronics', 'simulation'], ['embedded', 'code'], ['embedded', 'function'], ['embedded', 'matlab', 'function', 'mask', 'matlab', 'function', 'simulink'], ['embedded', 'matlab', 'emlc', 'emlmex', 'kalman', 'filter', 'matlab', 'to', 'embedded', 'matlab', 'emlc', 'kalman', 'filter', 'kalman', 'filter', 'kalman', 'filter'], ['embedded', 'matlab', 'fpga', 'hardware', 'memory', 'elements', 'hdl', 'registers', 'hardware', 'memory', 'elements'], ['embedded', 'matlab', 'fpga', 'hdl', 'modulo'], ['embedded', 'matlab', 'fpga', 'hdl', 'nco', 'fpga', 'embedded', 'matlab', 'fpga'], ['embedded', 'matlab', 'fsm', 'hdl', 'mealy', 'moore'], ['embedded', 'matlab', 'hdl', 'image', 'processig', 'serialization', 'simulink', 'image', 'processig', 'simulink'], ['embedded', 'matlab', 'modelbased', 'design', 'scalars', 'simulink'], ['embedded', 'matlab', 'simulink'], ['embedded', 'system', 'milest', 'model', 'based', 'testing', 'model', 'in', 'the', 'loop', 'simulink', 'based', 'testing', 'speed', 'control', 'test', 'test', 'harness', 'verification'], ['embedded', 'modeling', 'motor', 'power', 'electronics'], ['emergency', 'power', 'simulation', 'substation', 'substation'], ['emissions', 'more', 'electric', 'aircraft', 'physical', 'modeling'], ['eml', 'stateflow', 'string'], ['ems', 'fuzzy', 'grid', 'hybrid', 'mppt', 'power', 'system', 'pv', 'wind'], ['enable', 'execution', 'initialization', 'scheduling', 'sequential', 'trigger'], ['encoder', 'incremental', 'quadrature', 'rotary', 'encoder', 'shaft', 'encoder'], ['energy', 'management', 'system', 'fuzzy', 'controlller', 'hybrid', 'pv', 'wind', 'intelligent', 'controller', 'renewable', 'energy'], ['energy', 'inverter', 'power', 'power', 'electronics', 'simulation', 'simulink'], ['engineering', 'tutorials', 'robotics', 'servo', 'motor', 'servomotor', 'simelectronics', 'simmechanics', 'simulink', 'solidworks', 'engineering', 'tutorials', 'servo', 'motor'], ['entities', 'excel', 'import', 'intergeneration', 'multiple', 'simevents'], ['epos', 'in', 'simulink'], ['equation', 'fabry', 'filter', 'perot', 'simulink'], ['error', 'is', 'showing', 'when', 'the', 'model', 'and', 'files', 'are', 'simulated', 'dc', 'motor', 'speed', 'control', 'optimization', 'simulink', 'dc', 'motor', 'speed', 'control'], ['estimation', 'of', 'distribution', 'evolutionary', 'algorithms', 'optimization', 'particle', 'swarm', 'optimization', 'simulink'], ['ethereal', 'ethernet', 'header', 'extraction', 'tool', 'simevents', 'source'], ['ethernet'], ['ev', 'lego', 'light', 'sensor', 'line', 'follower', 'mindstorms', 'pi', 'controller', 'robot'], ['evaporator', 'gradien', 'optimizing', 'control', 'pid', 'control', 'simulation', 'model', 'gradien', 'evaporator'], ['evolutionary', 'search', 'hybrid', 'learning', 'rule', 'ilc', 'iterative', 'learning', 'control', 'particle', 'swarm', 'optimization', 'pso', 'rc', 'repetitive', 'control', 'repetitive', 'disturbance', 'rejection'], ['ew', 'jammer'], ['example', 'integration', 'linear', 'mathematics', 'nonlinear', 'polynomial', 'simulation', 'simulink'], ['example', 'motor', 'simulation', 'simulink', 'speed'], ['example', 'power', 'electronics', 'rectifier', 'thyristor'], ['examples', 'formal', 'methods', 'puzzles'], ['example', 'simulation'], ['example', 'simulink'], ['expert', 'system', 'expert', 'system', 'java', 'jpl', 'prolog', 'simulink', 'swiprolog'], ['expo', 'signal', 'processing', 'workflow', 'asio', 'spectrum', 'filter', 'fft'], ['extremum', 'seeking', 'control', 'maximum', 'power', 'point', 'tracking', 'mppt', 'photovoltaic'], ['extremum', 'seeking', 'control', 'photovoltaic', 'power', 'point', 'tracker', 'renewable'], ['facts', 'fuzzy', 'indraneel', 'saki', 'indranil', 'saaki', 'power', 'system', 'pss', 'simulation', 'statcom'], ['facts', 'grid', 'intigration', 'location', 'of', 'statcom', 'pv', 'curve', 'scig', 'stability', 'statcom', 'transient', 'voltage', 'stability', 'wind'], ['facts', 'indraneel', 'saki', 'indranil', 'saaki', 'lv', 'distribution', 'level', 'matlab', 'power', 'control', 'power', 'electronics', 'power', 'systems', 'simulink', 'static', 'var', 'compensator', 'svc'], ['facts', 'indraneel', 'saki', 'indranil', 'saaki', 'oscillation', 'damping', 'power', 'system', 'stability', 'unified', 'power', 'flow', 'controller', 'upfc'], ['facts', 'indraneel', 'saki', 'indranil', 'saki', 'mers', 'power', 'electronics', 'power', 'system', 'simulink'], ['facts', 'induction', 'motor', 'inverter', 'space', 'vector', 'pulse', 'width', 'modulation', 'svpwm'], ['facts', 'inverter', 'power', 'system', 'statcom'], ['facts', 'power', 'facot', 'correction', 'tcr'], ['facts', 'power', 'system', 'upfc'], ['facts', 'simulation', 'simulink', 'statcom'], ['falling', 'edge', 'trigger', 'ftrig', 'plc'], ['fault', 'detection', 'simulation', 'stateflow', 'design', 'patterns', 'pattern', 'fault', 'detection', 'change', 'test', 've'], ['fault', 'tree', 'reliability', 'robotics', 'simulation'], ['fault', 'grid', 'connection', 'sm', 'synchronization'], ['fault', 'power', 'system', 'simulink', 'sympowersystem', 'three', 'phase', 'three', 'wire', 'unbalanced', 'supply', 'transmission', 'lines', 'unbalanced'], ['faults', 'matlab', 'power', 'system', 'simulink', 'three', 'phase', 'three', 'wire', 'unbalanced', 'supply', 'transmission', 'lines', 'three', 'phase', 'three', 'wire', 'unbalanced', 'supply'], ['faults', 'phasors', 'polyphase', 'signal', 'symmetrical', 'components', 'three', 'phase'], ['fdma', 'fm', 'gsm', 'ofdma', 'receiving', 'rx', 'tdma', 'transmission', 'tx'], ['feed', 'in', 'tariff', 'net', 'metering', 'pv', 'system'], ['feedback', 'control', 'filter', 'analysis', 'filter', 'design', 'gaussian', 'process', 'kalman', 'filter', 'simulink', 'timeinva', 'kalman', 'filter', 'induction', 'motor'], ['feedforward', 'control'], ['ferranti', 'effect', 'power', 'systems', 'voltage'], ['fft', 'analysis', 'of', 'waveform', 'power', 'electronics', 'pulse', 'pulse', 'analysis'], ['fft', 'model', 'out', 'of', 'focus', 'outoffocus', 'sept', 'september', 'text', 'video', 'fft'], ['fft', 'ofdm', 'radio', 'mobile', 'signal', 'processing', 'wimax', 'wireless', 'communication'], ['field', 'controlled', 'dc', 'ser', 'permanent', 'magnet', 'dc', 'servo', 'motor', 'servo', 'system', 'simulation'], ['file', 'id', 'communications', 'control', 'design', 'demo', 'measurement', 'modeling', 'power', 'factor', 'simulink'], ['filter', 'analysis', 'filter', 'design', 'gaussian', 'process', 'kalman', 'filter', 'simulink', 'state', 'observer', 'state', 'space', 'control', 'kalman', 'filter', 'kalman', 'filter', 'kalman', 'filter', 'filter', 'design', 'kalman', 'filter', 'kalman', 'filter'], ['filter', 'design', 'histerisis', 'control', 'hysteresis', 'control', 'simulation', 'vsi'], ['filter', 'filter', 'analysis', 'filter', 'design', 'music', 'parametric', 'equalizer', 'signal', 'processing', 'filter', 'filter', 'analysis', 'filter', 'filter', 'analysis'], ['filtering', 'signal', 'processing'], ['filter', 'kalman', 'filter', 'model', 'signal', 'processing', 'simulink'], ['filter', 'kalman', 'filter', 'signal', 'processing', 'simulink'], ['filter', 'negative', 'sequence', 'positive', 'sequence', 'power', 'sequence', 'components'], ['filter', 'power', 'electronics', 'simulink'], ['filter', 'series'], ['finance', 'finance', 'optimization', 'simulink'], ['find_system', 'get_param', 'port', 'set_param', 'simulink'], ['fir', 'filters', 'fir', 'filters', 'signal', 'signal', 'processing', 'time', 'frequency', 'wavelets', 'wavelets', 'simulink'], ['firing', 'schemes', 'matlab', 'pwm', 'sine', 'with', 'ctrl'], ['firing', 'schemes', 'pwm', 'sine', 'pwm', 'sine', 'with', 'sine'], ['first', 'generation', 'physical', 'modeling', 'simmechanics', 'simmechanics'], ['fixed', 'point', 'matlab', 'simulink'], ['flexible', 'body', 'hair', 'sim', 'mechanics', 'simscape', 'simulink', 'vibrissae', 'whisker'], ['flexible', 'vibration', 'fea', 'lumped', 'bending', 'torsion', 'rigid', 'multibody', 'flexible', 'vibration', 'fea', 'lumped', 'bending', 'torsion', 'rigid', 'multibody', 'flexible', 'vibration', 'fea', 'lumped', 'bending', 'torsion', 'rigid', 'multibody', 'flexible', 'vibration', 'fea', 'lumped', 'bending', 'torsion', 'rigid', 'multibody', 'ae', 'mechanical', 'modeling', 'flexible', 'vibration', 'fea', 'lumped', 'bending', 'torsion', 'rigid', 'multibody', 'flexible', 'vibration', 'fea', 'lumped', 'bending', 'torsion', 'rigid', 'multibody', 'flexible', 'vibration', 'fea', 'lumped', 'bending', 'torsion', 'rigid', 'multibody', 'flexible', 'vibration', 'fea', 'lumped', 'bending', 'torsion', 'rigid', 'multibody', 'ae', 'mechanical', 'modeling'], ['flow', 'fluid', 'hydraulic', 'line', 'pipeline', 'pressure', 'simulation', 'flow', 'fluid', 'flow', 'pipeline', 'flow', 'flow'], ['fluid', 'mechanics', 'mechanical', 'viscosity'], ['fluid', 'power', 'engineering', 'aerospace', 'automotive', 'communications', 'control', 'design', 'demo', 'fluid', 'power', 'engineering', 'simulation', 'simulink'], ['foesc', 'fractional', 'order', 'extremum', 'seeking', 'control', 'fractional', 'order', 'maximum', 'power', 'point', 'tracker', 'fractional', 'order', 'optimization', 'maximum', 'power', 'point', 'tracking', 'nonlinear', 'optimization', 'tracking'], ['forecasting', 'moving', 'average', 'algorithm', 'prediction'], ['formal', 'methods', 'mode', 'transition', 'simulink'], ['formal', 'formal', 'methods', 'matlab', 'simulation', 'simulink'], ['formula', 'magic', 'formula', 'mf', 'tyre', 'mf', 'mf', 'pac', 'pac', 'pacejka', 'simulation', 'solver', 'tir', 'tire', 'tyre', 'tyres', 'vehicle'], ['fotovoltaic', 'array', 'dcac', 'fotovoltaic', 'invertor', 'matlab', 'photovoltaic', 'pv', 'array', 'simulation', 'simulink', 'solar', 'cell', 'three', 'level', 'inverter', 'array'], ['four', 'wire', 'unbalanced', 'transmission', 'line', 'matlab', 'power', 'system', 'sympowersystem'], ['fourier', 'pwm'], ['fpga', 'generator', 'hdl', 'simulink', 'system', 'verilog', 'vhdl', 'video', 'vip', 'hdl', 'verilog', 'vhdl', 'generator', 'fpga'], ['fpga', 'hdl', 'code', 'generation', 'hdl', 'coder', 'image', 'processing', 'image', 'segmentation'], ['fractional', 'calculus', 'fractional', 'derivatives', 'fractionalorder', 'control', 'multivariable', 'systems', 'optimal', 'control'], ['freewheeling', 'diode', 'inverter', 'pwm', 'and', 'rl', 'load', 'rectifiers', 'spwm'], ['frequecy', 'plotting', 'frequecy', 'plotting', 'frequecy', 'plotting', 'frequecy', 'plotting'], ['frequency', 'measurement', 'frequency', 'meter', 'measure', 'frequency', 'phase', 'angle', 'phase', 'difference', 'phase', 'displacement', 'rotation', 'sequence'], ['friction', 'friction', 'friction', 'mechanical', 'mechanical', 'modeling', 'mechanics', 'physical', 'modeling', 'simulink'], ['friction', 'gravity', 'projectile', 'motion'], ['from', 'goto', 'modeling', 'redraw', 'refactoring', 'replace', 'rewire', 'simulink'], ['fsolve', 'matlab', 'simulink'], ['ftncsmas', 'toolbox'], ['fuel', 'cell'], ['fuel', 'cell', 'dc', 'power', 'source', 'fuel', 'cell'], ['fuel', 'cell', 'fuzzy', 'mppt', 'power', 'management', 'system', 'pv'], ['fuel', 'cell', 'mppt', 'renewable', 'energy'], ['fuell', 'cell', 'indraneel', 'saki', 'indranil', 'saaki', 'mtg', 'power', 'power', 'electronics', 'pv', 'cell', 'renewable', 'energy', 'resources', 'wind', 'power'], ['full', 'car', 'model', 'automotive', 'automotive', 'automotive', 'full', 'car', 'model', 'automotive', 'haha', 'haha', 'nevermind', 'found', 'the', 'picture', 'that', 'explains'], ['full', 'state', 'feedback', 'inverted', 'pendulum', 'kalman', 'filter', 'lego', 'mindstorms', 'nxt', 'segway', 'maker'], ['full', 'wave', 'bridge', 'rectifier', 'power', 'electronics', 'simpower', 'simulation', 'simullink', 'thyristor'], ['full', 'wave', 'rectifier', 'power', 'electronics', 'sim', 'power', 'simulation', 'simulink', 'thyristor'], ['full', 'wave', 'rectifier', 'sanniv', 'thyristor'], ['function', 'simpower'], ['fundamentals', 'portuguese', 'simulink', 'simulink'], ['fuzzy', 'logic', 'controller', 'grid', 'connected', 'mppt', 'mppt', 'fuzzy', 'logic', 'control', 'photovolaic', 'pv', 'solar', 'cell'], ['fuzzy', 'logic', 'grid', 'multilevel', 'inverter', 'power', 'electronics', 'power', 'quality', 'pv'], ['fuzzy', 'logic', 'mppt', 'pv'], ['fuzzy', 'logic', 'mppt', 'solar'], ['fuzzy', 'anfis', 'control', 'control', 'design', 'example', 'fuzzy', 'logic', 'induction', 'motor', 'motor', 'neural', 'networks', 'power', 'electronics', 'reulctance', 'simulink', 'speed', 'control', 'srm', 'switched', 'reluctance', 'motor', 'synchronous', 'synchronous', 'motor'], ['fuzzy', 'arduino', 'ballandbeam', 'controlsystems', 'fuzzylogic', 'matlabhw', 'qlearning'], ['fuzzy', 'control', 'design', 'control', 'design'], ['fuzzy', 'control', 'design', 'electronics', 'fuzzy', 'logic', 'indraneel', 'saki', 'indranil', 'saaki', 'modeling', 'power', 'power', 'electronics', 'simulation', 'simulink'], ['fuzzy', 'control', 'design', 'fuzzy', 'logic', 'fuzzy', 'logic', 'controller', 'nonlinear', 'systems', 'optimization', 'particle', 'swarm', 'optimization', 'pid', 'pidtype', 'fuzzy', 'logic', 'controller'], ['fuzzy', 'electrical', 'machine', 'electronics', 'fuzzy', 'logic', 'indraneel', 'saki', 'indranil', 'saaki', 'modeling', 'pmsm', 'power', 'electronics', 'simulation', 'simulink'], ['fuzzy', 'fuzzy', 'controller'], ['fuzzy', 'fuzzy', 'controller', 'system', 'control'], ['fuzzy', 'fuzzy', 'logic', 'grid', 'intereface', 'indraneel', 'saki', 'indranil', 'saaki', 'power', 'power', 'electronics', 'powersystems'], ['fuzzy', 'fuzzy', 'logic', 'grid', 'photovoltaic'], ['fuzzy', 'fuzzy', 'logic', 'hybrid', 'renewable', 'energy', 'intelligent', 'pv', 'wind'], ['fuzzy', 'fuzzy', 'logic', 'multilevel', 'inverter', 'renewable', 'energy', 'simulation'], ['fuzzy', 'fuzzy', 'state', 'feedback', 'multimodel'], ['fuzzy', 'fuzzy', 'control', 'systems', 'fuzzy', 'gain', 'scheduling', 'fuzzy', 'gain', 'scheduling', 'for', 'pid', 'fuzzy', 'pid', 'pid'], ['fuzzy', 'grid', 'hybrid', 'pvfc', 'power', 'management', 'system'], ['fuzzy', 'hybrid', 'microgrid', 'mppt', 'pv', 'wind'], ['fuzzy', 'intelligent', 'mppt', 'simulation', 'wind'], ['fuzzy', 'irradiation', 'membership', 'function', 'pv', 'solar'], ['fuzzy', 'membership', 'functions'], ['fuzzy', 'membership', 'function', 'solar', 'temp', 'triangle'], ['fuzzy', 'microgrid', 'upfc'], ['fuzzy', 'neural', 'networks', 'rbf', 'for', 'suren', 'adaptive', 'neural', 'networks', 'adaline', 'adaptive', 'neural', 'networks', 'dcs', 'ebpa', 'fuzzy', 'logic', 'mran', 'neural', 'networks', 'rbf', 'neural', 'networks', 'adaline', 'neural', 'networks'], ['fuzzy', 'pll', 'pv', 'smart', 'invereter', 'voltage', 'regulation'], ['fuzzy', 'algorithm', 'fuzzy', 'logic', 'power', 'electronics', 'pv', 'simulation'], ['fuzzy', 'vector', 'control'], ['fyp', 'led', 'power', 'electronics'], ['gait', 'inverse', 'dynamics', 'physical', 'modeling', 'robot'], ['galaxy', 'galaxy', 'model', 'galaxy', 'simulation', 'simulation', 'simulink', 'simulink', 'galaxy', 'simulink', 'galaxy', 'model', 'simulink', 'galaxy', 'simulation'], ['galvanic', 'isolation', 'manchester', 'encoding', 'nrz', 'phy'], ['gauges', 'gage', 'gauge', 'simmechanics', 'visualization'], ['gazebo'], ['generation', 'system', 'mppt', 'pmsg', 'power', 'rectifier', 'renewable', 'energy', 'system', 'voltage', 'regulator', 'wind'], ['code', 'generation', 'control', 'design', 'demo', 'embedded', 'code', 'hebrew', 'matlab', 'mbd', 'modeling', 'simulation', 'simulink', 'stateflow', 'workshop', 'code', 'generation', 'control', 'design'], ['code', 'generation', 'signal', 'builder', 'code', 'generation', 'signal', 'builder', 'systemtest', 'test', 'data', 'code', 'generation', 'signal', 'builder', 'systemtest', 'test', 'data'], ['generator', 'hydroelectric', 'micro', 'hydro', 'generator', 'physical', 'modeling', 'variable', 'mass'], ['gettimeofday', 'pace', 'print', 'to', 'console', 'simulation', 'pace', 'simulink', 'soft', 'real', 'time', 'system', 'time', 'timeval'], ['good', 'time', 'can', 'you', 'send', 'me', 'the', 'model', 'code', 'in', 'language', 'hev', 'hil', 'physical', 'modeling', 'real', 'time', 'vehicle', 'hev', 'hev', 'hev', 'good', 'time', 'can', 'you', 'send', 'me', 'the', 'model', 'code', 'in', 'language', 'good', 'time', 'can', 'you', 'send', 'me', 'the', 'model', 'code', 'in', 'language', 'hev', 'good', 'time', 'can', 'you', 'send', 'me', 'the', 'model', 'code', 'in', 'language'], ['gps', 'band', 'colored', 'gps', 'limited', 'mult', 'multicolor', 'multirate', 'noise', 'simulink', 'white'], ['graph', 'graphics', 'japanese', 'modeling', 'oop', 'optimization', 'particle', 'swarm', 'optimization', 'simulation', 'visualization'], ['graphical', 'mask', 'sfunction', 'simulink', 'switching', 'utilities', 'mask', 'simulink', 'sfunction'], ['grid', 'connected', 'inverter', 'hysteresis', 'controllerpv', 'invertercurrent', 'control'], ['grid', 'connected', 'hybrid', 'pv', 'wind', 'power', 'system'], ['grid', 'frequency', 'sim', 'power', 'systems', 'simulink', 'wind', 'power', 'plant'], ['grid', 'integration', 'intelligent', 'controller', 'multilevel', 'inverter', 'power', 'electronics', 'pv'], ['grid', 'inverter', 'svpwm'], ['grid', 'modeling', 'power', 'power', 'electronics', 'simulation', 'simulink'], ['grid', 'mppt', 'pv', 'single', 'phase', 'grid'], ['gripper', 'kinematics', 'robot', 'robotics', 'spherical', 'wrist'], ['ground', 'leakage', 'current', 'inverter', 'signle', 'phase', 'transformer'], ['ground', 'models', 'hopping', 'robot', 'legged', 'robots', 'monopod', 'hopper'], ['ground', 'robots', 'path', 'following', 'robotics'], ['gui'], ['gui', 'for', 'rectifier', 'power', 'electronics', 'rectifier', 'rectifier', 'waveform', 'simulink', 'linked', 'with', 'gui', 'single', 'phase', 'full', 'wave', 'converter', 'single', 'phase', 'full', 'wave', 'rectifier', 'single', 'phase', 'full', 'wave', 'rectifier', 'simulation', 'with', 'gui', 'single', 'phase', 'fullwave', 'rectifier', 'single', 'phase', 'fullwave', 'rectifier', 'simulation', 'with', 'gui'], ['guideline', 'interface', 'modular', 'programming', 'module', 'simulink', 'simulink', 'function'], ['gui', 'gustave', 'monod', 'interface', 'graphique', 'machine', 'courant', 'continu', 'mcc', 'ssi'], ['gui', 'mathematics', 'simulink'], ['gui', 'power', 'grid', 'simpowersystems', 'simulink'], ['gui', 'real', 'time', 'data', 'scope', 'sfunction', 'simulink', 'gui', 'scope'], ['gui', 'simulation'], ['gui', 'simulation', 'simulink'], ['gui', 'simulink'], ['halfcontrolled', 'power', 'electronics', 'rectifier', 'scr', 'simpowersystem', 'simulink', 'thyristor', 'half', 'controlled', 'bridge', 'rectifier', 'halfcontrolled'], ['handoff'], ['harmonic', 'harmonic'], ['harmonics', 'reduction', 'inverter', 'spwm', 'spwm', 'spwm', 'inverter'], ['hbridge', 'inverter'], ['hdl', 'asicfpga', 'embedded', 'matlab', 'embedded', 'matlab', 'examples', 'hdl', 'simulink'], ['heatexchanger'], ['hex', 'float', 'converter', 'conversion', 'bits', 'bytes'], ['hexapod', 'robot', 'robotics', 'simulation', 'simulink', 'virtual', 'reality'], ['highlight', 'impact', 'analysis', 'model', 'slicing', 'simulink', 'dependencies', 'trace'], ['highvoltage', 'power'], ['hirshfeld', 'mocp', 'optitrack', 'or', 'simulink', 'technion', 'tracking', 'tools'], ['hmc', 'mpu', 'raspberry', 'pi'], ['hoare', 'qsort', 'quicksort', 'simulink', 'sort', 'sorting', 'vector'], ['hvdc'], ['hybeis', 'pv', 'and', 'wind', 'intelligent', 'renewable', 'energy'], ['hybrid', 'distributed', 'renewable', 'system', 'inverter', 'power', 'system', 'renewable', 'energy'], ['hybrid', 'pv', 'and', 'fuel', 'cell', 'renewable', 'energy'], ['hypercube', 'limits', 'mod', 'rem', 'simulink', 'virtual', 'reality', 'wrap', 'wrapper'], ['hysteresis', 'band', 'current', 'controller', 'inverter', 'shunt', 'active', 'power', 'filter', 'singe', 'phase'], ['hysteresis', 'band', 'hysteresis', 'band', 'controller', 'relay', 'simulink', 'switch', 'onoff'], ['hysteresis', 'current', 'control', 'inverter', 'simulation', 'simulink', 'statcom', 'hysteresis', 'current', 'control'], ['hysteresis', 'current', 'control', 'shunt', 'active', 'power', 'filter'], ['hysteresis', 'saturable', 'transformer', 'transformer'], ['iae', 'ise', 'itae', 'performance', 'index', 'simulink', 'simulink', 'blockset', 'iae', 'simulink', 'blockset', 'iae', 'iae'], ['identification', 'ilaplace', 'parameter', 'identification', 'particle', 'swarm', 'optimization', 'pso', 'step', 'response', 'system', 'identification'], ['ieee', 'bus', 'ieee', 'bus', 'bus', 'ieee', 'power', 'system', 'analysis'], ['ieee', 'bus', 'ieee', 'bus', 'ieee', 'bus', 'system', 'load', 'flow', 'analysis', 'power', 'flow', 'analysis'], ['ieee', 'bus', 'ieee', 'bus', 'power', 'simulation'], ['ieee', 'bus', 'line', 'fault', 'power', 'quality', 'voltage', 'sag', 'voltage', 'swell', 'over', 'load'], ['ieee', 'bus', 'simulink'], ['ieee', 'bus', 'wscc', 'bus', 'paper', 'simulation'], ['ieee', 'standardized', 'benchmark', 'bus', 'ieee', 'ieee', 'bus', 'ieee', 'bus', 'ieee', 'bus', 'ieee', 'bus'], ['ieee', 'standardized', 'benchmark', 'bus', 'ieee', 'ieee', 'bus', 'ieee', 'bus'], ['ieee', 'standardized', 'benchmark', 'power', 'system', 'stabilizer', 'pss', 'power', 'systems', 'network', 'static', 'var', 'compensator', 'bus', 'ieee', 'ieee', 'bus', 'ieee', 'bus'], ['ilc', 'imp', 'internal', 'model', 'principle', 'iterative', 'learning', 'control', 'modulus', 'optimum', 'method', 'motion', 'control', 'rc', 'repetitive', 'compensator', 'repetitve', 'control', 'robust', 'control', 'robust', 'controller', 'robust', 'repetitive', 'control', 'servo', 'drive', 'servo', 'drive', 'system', 'symmetrical', 'optimum', 'met'], ['image', 'feature', 'extraction', 'simulink'], ['image', 'processing', 'laser', 'dot', 'robot', 'vision', 'simulink', 'tracking'], ['image', 'processing', 'noise', 'psnr', 'signal', 'to', 'noise', 'simulink', 'snr'], ['image', 'processing', 'processing'], ['image', 'processing', 'simulink'], ['series', 'impedance', 'short', 'circuit', 'test', 'transformer'], ['matlab', 'code', 'for', 'improving', 'transient', 'stability', 'of', 'multimachine', 'po', 'mppt', 'real', 'efficiency', 'solar', 'cell', 'solar', 'panel', 'two', 'diode', 'model', 'bus', 'power', 'system', 'matlab', 'code', 'for', 'improving', 'transient', 'stability', 'of', 'multimachine', 'po', 'matlab', 'code', 'for', 'transient', 'stability', 'of', 'multimachine', 'machines', 'bus', 'power', 'system'], ['impulse', 'generator', 'matlab', 'power', 'system', 'simpowersys', 'simulink'], ['impulsive', 'transient', 'lightning', 'power', 'quality', 'transient'], ['indraneel', 'saki', 'indranil', 'saaki', 'input', 'constraints', 'model', 'predictive', 'control', 'mpc', 'power', 'quality', 'simulation', 'unified', 'power', 'quality', 'conditioner', 'upqc'], ['indraneel', 'saki', 'indranil', 'saaki', 'magnetic', 'levitation', 'naram_l', 'simulation'], ['induction', 'machine', 'phasor'], ['induction', 'machine', 'svpwm', 'vector', 'control', 'direct', 'torque', 'control', 'of', 'induction', 'motor', 'using', 'matlab', 'simulinks', 'this', 'simulink'], ['induction', 'motor', 'ac', 'motor', 'asynchronous', 'motor', 'motor', 'modeling', 'induction', 'motor', 'ac', 'motor', 'asynchronous', 'motor', 'motor', 'induction', 'motor', 'ac', 'motor', 'asynchronous', 'motor', 'motor', 'induction', 'motor', 'ac', 'motor', 'asynchronous', 'motor', 'motor', 'modeling', 'modeling', 'induction', 'motor', 'ac', 'motor', 'asynchronous', 'motor', 'motor', 'modeling'], ['induction', 'motor'], ['induction', 'motor', 'induction', 'motor', 'simulink', 'stationary', 'synchronous', 'and', 'arbitrary', 'reference', 'frame', 'induction', 'motor', 'dtc', 'induction', 'motor', 'drive', 'motor', 'ac'], ['induction', 'motor', 'industrial', 'automation', 'power', 'electronics'], ['induction', 'motor', 'inverter', 'multilevel', 'speed', 'control', 'svm', 'svpwm', 'vf', 'vf', 'induction', 'motor', 'inverter', 'svm', 'svpwm', 'induction', 'motor', 'multilevel'], ['induction', 'motor', 'matrix', 'converter', 'speed', 'control'], ['industrial', 'control', 'optimization', 'steel', 'mill', 'industrial', 'control', 'steel', 'mill', 'industrial', 'control', 'optimization', 'steel', 'mill'], ['industrial', 'electronics', 'power', 'electronics', 'rectifier', 'sim', 'power', 'system', 'simulink'], ['infinite', 'bus', 'parallel', 'synchronous', 'machine'], ['input', 'shaping', 'genetic', 'algorithm', 'system', 'identification', 'system', 'identification'], ['inrush', 'current', 'simulation', 'simulink'], ['inrush_current', 'simulation', 'simulink'], ['instantaneous', 'matlab', 'sag', 'simulink'], ['instrumentation', 'amplifier', 'op', 'amp', 'operational', 'amplifier'], ['an', 'integrated', 'dynamic', 'voltage', 'restorer', 'ultracapacitor', 'design', 'dvr', 'dynamic', 'voltage', 'restorer', 'series', 'compensation', 'sssc'], ['integration'], ['inversor', 'modulation', 'pwm', 'simulink', 'spwm', 'third', 'harmonic'], ['inverted', 'pendulum', 'nonlinear', 'unstable', 'system', 'pid', 'design', 'simulation', 'inverted', 'pendulum', 'simulation', 'pid', 'design', 'simulation', 'inverted', 'pendulum', 'inverted', 'pendulum', 'inverted', 'pendulum', 'inverted', 'pendulum', 'inverted', 'pendulum', 'nonlinear', 'unstable', 'system', 'inverted', 'pendulum', 'inverted', 'pendulum', 'nonlinear', 'unstable', 'system', 'inverted', 'pendulum'], ['inverter'], ['inverter', 'basics', 'triggering', 'of', 'pulse', 'generator', 'working', 'of', 'an', 'inverter'], ['inverter', 'lc', 'filter', 'sine', 'wave', 'single', 'phase'], ['inverter', 'lowswitch'], ['inverter', 'lspwm', 'seven', 'level', 'simulink'], ['inverter', 'matlab', 'power', 'electronics', 'simulation', 'simulink'], ['inverter', 'multi', 'level', 'open', 'loop', 'pmsm', 'speed', 'control', 'svpwm', 'vf'], ['inverter', 'multi', 'level', 'pod', 'rload', 'seven', 'level', 'spwm'], ['inverter', 'multi', 'level', 'stand', 'alone', 'svpwm', 'inverter', 'multi', 'level', 'stand', 'alone', 'svpwm'], ['inverter', 'power', 'electronics'], ['inverter', 'multilevel', 'spwm', 'three', 'level'], ['inverter', 'power', 'electronics'], ['inverter', 'power', 'electronics', 'simulation', 'simulink'], ['inverter', 'power', 'electronics', 'simulink'], ['inverter', 'power', 'system', 'simulink'], ['inverter', 'pulse', 'width', 'modulation', 'zsource', 'inverter'], ['inverter', 'pwm', 'pwm', 'signals', 'simulation', 'simulink', 'space', 'vector', 'pulse', 'width', 'modulation', 'sv_pwm', 'switching', 'patterns', 'svm', 'thd', 'pwm', 'signals', 'inverter'], ['inverter', 'quasi', 'source', 'inverter'], ['inverter', 'reactive', 'power', 'simulationpower', 'system', 'simulink', 'statcom'], ['inverter', 'rms', 'method', 'spwm', 'controller'], ['inverter', 'simulation'], ['inverter', 'simulation', 'simulink'], ['inverter', 'spwm', 'svm', 'svpwm', 'three', 'level'], ['ios', 'kalman', 'filter', 'sensor', 'fusion', 'wifi'], ['is', 'call', 'processing', 'mobile', 'phone', 'is', 'call', 'processing', 'mobile', 'phone', 'seminar', 'wireless', 'is', 'call', 'processing', 'mobile', 'phone', 'is', 'call', 'processing', 'mobile', 'phone'], ['iv', 'curve', 'partial', 'shading', 'pv', 'curve', 'pv', 'module', 'pv', 'string', 'pv', 'string', 'partial', 'shading', 'pv', 'system', 'partial', 'shading'], ['ivan', 'ivan', 'liebgott', 'liebgott'], ['ivan', 'matlab', 'simulink'], ['jet', 'pump', 'simscape', 'thermal', 'liquid'], ['jj', 'capacitor', 'clamped', 'inverter', 'mutilevel', 'inverters', 'windmill'], ['joystick', 'sfunction', 'simulink', 'windows'], ['kalman', 'filter', 'moving', 'horizon', 'estimation', 'observer'], ['kalman', 'filter', 'state', 'estimation'], ['keyboard', 'input', 'simulink', 'user', 'input', 'utilities', 'keyboard', 'input', 'user', 'input', 'keyboard', 'input'], ['keysight', 'analog', 'circuit', 'effect', 'communic', 'signal', 'processing', 'simscape', 'webinar', 'wireless', 'circuit', 'effect', 'webinar', 'analog', 'communic'], ['keysight', 'communications', 'signal', 'processing'], ['kinect', 'linux', 'pandaboard', 'real', 'time'], ['kinematic', 'kinematic', 'synthesis', 'kinematics', 'mechanism', 'multibody', 'physical', 'modeling'], ['knuth', 'portable', 'random', 'number', 'generator', 'simulink', 'tunable', 'seed'], ['kurs', 'simulinka', 'simulink'], ['lagrange', 'points', 'nbody', 'trojan', 'trojan', 'asteroids'], ['lan'], ['laplace'], ['launchpad', 'msp', 'target'], ['lc', 'matlab', 'series', 'lc', 'sine', 'response', 'sinusoidal', 'step', 'response'], ['least', 'mean', 'square', 'lms', 'signal', 'processing', 'simulink', 'system', 'identification'], ['les', 'phasor', 'parameter', 'estimation', 'pll'], ['level', 'ac', 'drives', 'induction', 'motor', 'npc', 'oen', 'loop', 'svm'], ['level', 'inverter', 'multilevel', 'inverter', 'pmsm', 'speed', 'control', 'svm', 'svpwm', 'synchronous', 'motor', 'level', 'inverter', 'level', 'inverter', 'pmsm', 'speed', 'control', 'level'], ['levels', 'converter', 'inverter', 'mmc', 'modular', 'multilevel'], ['lfc', 'load', 'frequency', 'control', 'single', 'area', 'lfc', 'lfc'], ['limitation', 'phaselocked', 'loop', 'pll', 'simulation'], ['line', 'to', 'line', 'voltages', 'star', 'connection', 'three', 'phase'], ['live', 'script', 'android', 'gazebo', 'robotics', 'ros', 'rviz', 'simulink'], ['live', 'script', 'asic', 'cosimulation', 'fpga', 'hdl', 'verifier', 'mentor', 'graphics', 'rtl', 'verification', 'soc', 'systemverilog', 'dpi', 'uvm'], ['live', 'script', 'automatic', 'layout', 'model', 'formatting', 'readability', 'of', 'simulink', 'models'], ['live', 'script', 'control', 'pendulum', 'double', 'pendulum', 'drawing', 'robot', 'forward', 'kinematics', 'inverse', 'kinematics', 'robot', 'arm', 'robotics', 'symbolic', 'math', 'symbolic', 'math', 'toolbox'], ['live', 'script', 'image', 'processing', 'raspberry', 'pi', 'maker'], ['live', 'script', 'maker', 'arduino', 'iot', 'thingspeak', 'weather', 'weather', 'station'], ['live', 'script', 'model', 'checks', 'requirements', 'simulink', 'validation', 'verification'], ['live', 'script', 'modeling', 'ordinary', 'differential', 'equation'], ['load', 'power', 'consumption', 'machines', 'power', 'factor', 'power', 'factor', 'measurement'], ['control', 'logic', 'dancing', 'robot', 'line', 'tracking', 'logic', 'modes', 'state', 'machines'], ['log', 'logging', 'save', 'simulink', 'to', 'file', 'to', 'workspace'], ['longitudinal', 'vehicle', 'dynamics'], ['lqi'], ['lqr', 'mimo', 'pid', 'simmechanics', 'simulink', 'solidworks', 'how', 'to', 'write', 'matlab', 'program', 'for', 'two', 'inputs', 'in', 'lqr', 'give', 'some', 'ex', 'how', 'to', 'write', 'matlab', 'program', 'for', 'two', 'inputs', 'in', 'lqrgive', 'some', 'exa', 'how', 'to', 'convert', 'lqr', 'to', 'pid', 'with', 'matlab', 'program', 'how', 'to', 'write', 'matlab', 'program', 'for', 'tunning', 'pid', 'with', 'optimal', 'control', 'simulink'], ['machine', 'learning', 'physical', 'modeling', 'predictive', 'maintenance', 'simmechanics', 'triplex', 'pump', 'live', 'script'], ['magnetic', 'bearing', 'simmechanics'], ['maker', 'arduino'], ['maker', 'arduino', 'arduino', 'raspberry', 'pi', 'arduino', 'raspberry', 'pi', 'serial', 'communication', 'raspberry', 'pi', 'raspberry', 'pi', 'driver', 'raspberry', 'pi', 'serial', 'receive', 'driver', 'block'], ['maker', 'arduino', 'simulink', 'support', 'package', 'for', 'arduino', 'simulinkarduino', 'traffic', 'light'], ['maker', 'arduino', 'dice', 'led', 'random', 'number', 'stateflow', 'truthtable'], ['maker', 'ev', 'lego', 'mindstorms', 'matlab', 'simulink', 'stateflow'], ['maker', 'ev', 'lego', 'speedometer', 'spinner', 'stateflow'], ['manual', 'simulink', 'switch'], ['marine', 'simulation', 'submarine', 'underwater', 'vehicle'], ['markov', 'chain', 'radar', 'simulation'], ['mask', 'bitmap', 'graphic', 'icon', 'image', 'mask', 'simulink', 'mask'], ['mask', 'menu', 'ode', 'sfunction', 'simulink'], ['mass'], ['mathematics'], ['mathematics', 'measurement', 'modeling', 'simulation', 'simulink', 'mathematics'], ['mathematics', 'signal', 'processing', 'simulation', 'simulink'], ['mathematics', 'simulation', 'simulink'], ['mathematics', 'simulink'], ['matlab', 'modelling', 'power', 'electronics', 'power', 'system', 'rectifier', 'simulink', 'power', 'electronics'], ['matlab', 'mydisplay', 'simulink'], ['matlab', 'opamp', 'operational', 'amplifier', 'problem', 'on', 'opamp'], ['matlab', 'oscillator', 'simulink'], ['matlab', 'power', 'electronics', 'simulink'], ['matlab', 'power', 'system', 'simpowersystem', 'simulink', 'transmission'], ['matlab', 'puzzle', 'simulink'], ['matlab', 'robotics', 'simmechanics', 'simulation', 'simulink'], ['matlab', 'simulation', 'simulink'], ['matlab', 'simulink'], ['matlab', 'simulink', 'udp', 'xplane', 'aerospace'], ['matrix'], ['matrix', 'converter', 'power', 'electronics', 'pwm'], ['matsuoka', 'oscillator', 'simulation', 'simulink'], ['maximum', 'power', 'point', 'tracking', 'mpp', 'optimization', 'photovoltaic', 'po', 'po', 'based', 'mppt', 'method', 'solar', 'cell'], ['maximum', 'power', 'point', 'tracking', 'mppt', 'perturb', 'and', 'observe', 'po', 'solar', 'pv'], ['maximum', 'maximum', 'power', 'transfer', 'maximum', 'power', 'transfer', 'theorem', 'network', 'theorem', 'power', 'theorem', 'transfer', 'verification', 'of', 'network', 'theorems'], ['mdl'], ['measurement'], ['measurement', 'modeling', 'signal', 'processing', 'simulation', 'simulink'], ['measurement', 'modeling', 'signal', 'processing', 'simulation', 'simulink', 'statistics'], ['measurement', 'power', 'electronics'], ['measurement', 'power', 'electronics', 'simpower', 'systems', 'simulation', 'simulink', 'stator', 'voltage', 'control', 'three', 'phase', 'ac', 'voltage', 'controller', 'three', 'phase', 'induction', 'motor', 'power', 'electronics', 'simpower', 'systems', 'simulation', 'simulink', 'stator', 'voltage', 'control'], ['measurement', 'power', 'system', 'simulation', 'simulink', 'transmission', 'line'], ['measurement', 'simulation'], ['measurement', 'simulink'], ['mechanical', 'modeling'], ['mechanical', 'modeling', 'metronome', 'simmechanics', 'simple', 'mechanical', 'modeling'], ['mechanical', 'modeling', 'metronome', 'synchronizing', 'systems'], ['mechanical', 'modeling', 'simulink'], ['mechanic', 'pneumatic', 'mechanic', 'pneumatic', 'pressure', 'pneumatic', 'mechanic', 'pneumatic'], ['methode', 'grid', 'pv', 'system', 'single', 'stage'], ['micro', 'grid', 'pv', 'battery', 'diesel', 'fuel', 'cell', 'load', 'model', 'micro', 'grid', 'pv', 'transfer', 'function', 'wind', 'battery', 'diesel', 'fuel', 'cell', 'battery'], ['microgrid', 'mode', 'transition', 'wecs'], ['microgrid', 'optimization', 'power', 'renewables', 'simulation'], ['microgrid', 'partial', 'shading', 'photovoltaic', 'power', 'electronic', 'pv', 'renewable', 'energy'], ['microgrid', 'power', 'renewables', 'simulation'], ['mini', 'golf', 'contact', 'forces', 'mechanical', 'mini', 'golf', 'multibody', 'second', 'generation', 'simmechanics', 'contact', 'forces', 'multibody', 'contact', 'forces', 'mechanical', 'mini', 'golf', 'multibody', 'second', 'generation', 'simmechanics'], ['mli', 'optimization', 'simpower', 'simulink', 'simulink', 'simulink', 'mli', 'simulink', 'optimization', 'simulation', 'simulation', 'simulink', 'simpower', 'mli', 'optimization', 'simpower', 'simulation', 'simulink'], ['mmc', 'modulation', 'pwm'], ['mobile', 'inverted', 'pendulum', 'multivariable', 'pid', 'controller', 'pid', 'polezero', 'plot', 'root', 'locus', 'simulation', 'simulink', 'two', 'wheel', 'self', 'balance', 'robot'], ['model', 'response'], ['model', 'base', 'design', 'simulink', 'stateflow', 'stepping', 'motor'], ['can', 'this', 'model', 'file', 'convert', 'into', 'hdl', 'image', 'compression', 'jpeg', 'simulink', 'image', 'compression', 'jpeg'], ['model', 'reference', 'parallel', 'computing', 'pct', 'seth', 'on', 'simulink', 'simulink'], ['modeling'], ['modeling', 'power', 'simulink'], ['modeling', 'pv', 'model', 'simulink'], ['modeling', 'rotational', 'simscape', 'simulink', 'translational'], ['modeling', 'sawtooth', 'wave', 'signal', 'processing', 'simulink', 'triangle', 'wave'], ['modeling', 'scope', 'simulink'], ['modeling', 'scope', 'simulink', 'sink'], ['modeling', 'signal', 'processing', 'simulink', 'square', 'wave'], ['modeling', 'simulation'], ['modeling', 'simulation', 'simulink'], ['model', 'population', 'simulink'], ['model', 'simscape', 'heat', 'exchanger', 'thermal', 'liquid'], ['modulation', 'technique', 'ofdm', 'qam', 'qpsk', 'signal', 'generation', 'wimax', 'wirel', 'wireless', 'ofdm', 'equalization', 'channel', 'for', 'lms', 'jpeg', 'qam', 'equalization', 'channel', 'for', 'lms'], ['modulation', 'modulation', 'modulation'], ['modulation', 'ofdm', 'qam', 'signal', 'generation', 'wimax', 'wireless', 'qam', 'ofdm', 'ofdm', 'signal', 'generation', 'modulation', 'ofdm', 'ofdm', 'qam', 'cqi', 'ofdm', 'cqi', 'would', 'you', 'please', 'send', 'that', 'code', 'to', 'qam', 'cqi', 'please', 'could', 'you', 'send', 'me', 'all', 'the', 'files', 'of', 'matlab', 'simulink', 'rela'], ['monty', 'hall', 'simulink'], ['mosfet', 'switch', 'solid', 'state', 'relay', 'solid', 'state', 'switch'], ['motion', 'capture', 'motive', 'simulink'], ['motion', 'reflexxes', 'setpoint', 'generator', 'simulink', 'trajectory', 'generator'], ['motor', 'arduino', 'mechatronics', 'pick', 'of', 'the', 'week', 'potw', 'analog', 'class', 'data', 'export', 'data', 'import', 'digital', 'measurements', 'pwm', 'robotics', 'xbee'], ['mpc', 'photovoltaic', 'pv'], ['mpc', 'system', 'identification'], ['mppt', 'perturb', 'and', 'observe', 'po', 'pv', 'pv', 'mppt', 'perturb', 'and', 'observe', 'perturb', 'and', 'observe', 'po', 'pv', 'mppt', 'ddd'], ['mppt', 'po'], ['mppt', 'pso', 'pv'], ['mppt', 'pv'], ['multi', 'level', 'inverter', 'simulation', 'simulink'], ['multi', 'level', 'inverters', 'power', 'electronics', 'simulation', 'simulink'], ['multi', 'machine', 'stability', 'power', 'system', 'power', 'system', 'stability', 'two', 'machine', 'stability'], ['multibody', 'innovate', 'msia', 'competition'], ['multilevel', 'inverter', 'power', 'electronics'], ['multilevel', 'inverter'], ['multilevel', 'inverter', 'separated', 'dc', 'source'], ['multivariate', 'principal', 'component', 'analysis', 'probability', 'simulink', 'statistics', 'principal', 'component', 'analysis', 'simulink', 'principal', 'component', 'analysis', 'principal', 'component', 'analysis', 'simulink'], ['network', 'theorem', 'power', 'system', 'thevenins', 'theorem'], ['network', 'theorem', 'superposition', 'theorem', 'theorem'], ['network', 'network', 'theorem', 'norton', 'norton', 'theorem', 'verification', 'of', 'nortons', 'theorem'], ['network', 'network', 'theorem', 'super', 'position', 'superposition', 'superposition', 'theorem', 'theorem', 'verification'], ['networks'], ['network', 'theorem', 'thevenin', 'thevenins', 'theorem', 'verification'], ['new', 'block', 'library', 'simulink', 'detection', 'frequency', 'signal'], ['newtonraphson', 'mathematics', 'mathematics'], ['nonlinear', 'controlgnc', 'of', 'marine', 'systems', 'sailing', 'yacht'], ['oc', 'test', 'open', 'circuit', 'test', 'transformer', 'testing', 'transformers'], ['odes'], ['ode', 'simscape', 'simscape', 'language', 'vectorized'], [], ['odes', 'modelmupad'], ['ofdm', 'qam', 'wimax', 'modulation', 'wireless'], ['ofdm', 'qam', 'wimax', 'wireless', 'ofdm', 'qam', 'wimax', 'ofdm', 'qam', 'wimax', 'wireless'], ['ofdma', 'principle', 'communications', 'multiple', 'access', 'ofdma', 'ofdma', 'principle', 'ofdma', 'uplink', 'simulink', 'wimax', 'wimax', 'phy', 'simple', 'wireless'], ['ofdm', 'ofdm', 'physical', 'layer', 'transceiver', 'wifi'], ['oltc', 'regulating', 'transformer', 'simscape', 'simpowersystems', 'interface', 'element', 'tap', 'changer', 'physical', 'modeling'], ['one', 'diode', 'model', 'one', 'diode', 'model', 'pv', 'module', 'simulink', 'one', 'diode', 'model'], ['open', 'circuit', 'short', 'circuit', 'synchronous', 'machine'], ['open', 'circuit', 'and', 'short', 'circuit', 'test', 'transformer'], ['open', 'circuit', 'test', 'shunt', 'impedance', 'transformer'], ['optimization', 'simulation', 'testing'], ['optimization', 'simulink'], ['overcurrent', 'relay', 'single', 'phase', 'circuit', 'breaker'], ['pacejka', 'tire'], ['pandaboard', 'arduino', 'beagleboard', 'control', 'education', 'lego', 'mindstorms', 'nxt', 'mechatronics', 'pandaboard', 'pbl', 'problembased', 'learning', 'projectbased', 'learning', 'run', 'on', 'target', 'hardware', 'simulink'], ['paper', 'simulation'], ['parallel', 'rlc', 'circuit', 'parallel', 'rlc', 'circuit'], ['parameter', 'tuning', 'simulink', 'tuning', 'updating', 'at', 'runtime'], ['partial', 'shading', 'condition', 'solar', 'cell', 'solar', 'module'], ['pd', 'control', 'quadrotor', 'control', 'quadrotor', 'simulink'], ['pendulum', 'pendulum'], ['phase', 'angle', 'power', 'factor'], ['phase', 'cb', 'digital', 'relay', 'testing', 'circuit', 'breaker'], ['phase', 'dc', 'ac', 'inverter', 'industrial', 'electronics', 'inverter', 'power', 'electronics', 'pwm', 'simulation', 'simulink', 'spwm', 'sub', 'oscillation', 'method', 'third', 'harmonic', 'zero', 'sequence', 'component', 'inverter', 'phase', 'dc', 'ac', 'inverter'], ['phase', 'delta', 'sigma', 'inverter', 'phase', 'inverter', 'delta', 'sigma', 'delta', 'sigma', 'modulator', 'noise', 'peaks', 'characteristic', 'signal', 'band', 'simulation', 'simulink', 'space', 'voltage', 'vector', 'three', 'phase', 'inverter', 'phase', 'delta', 'sigma', 'inverter', 'delta', 'sigma', 'delta', 'sigma', 'modulator', 'simulink'], ['three', 'phase', 'hcc'], ['phase', 'locked', 'loop', 'pll'], ['phase', 'locked', 'loop', 'pll', 'simulink'], ['phase', 'to', 'phase', 'ac', 'drive', 'asynchronous', 'motor', 'drive', 'induction', 'motor', 'space', 'vector', 'modulation', 'speed', 'control', 'svm', 'vf', 'control', 'dtcsvm', 'of', 'induction', 'motor', 'with', 'three', 'level', 'diode', 'clamped', 'inverte', 'sandip'], ['phase', 'system', 'battery', 'grid', 'inverter', 'pi', 'pi', 'controller', 'voltage', 'controller', 'phase', 'system'], ['phase', 'phase', 'control', 'inverter', 'rectifire', 'spwm'], ['phase', 'phasor', 'polar', 'diagram'], ['phasor', 'diagram', 'understanding', 'of', 'transformer', 'phasor', 'transformer', 'practical', 'transformer', 'on', 'load', 'transformer', 'transformer', 'understanding'], ['photo', 'voltaic', 'energy', 'power', 'electronics', 'power', 'electronics', 'converter', 'control'], ['photovoltaic', 'pv', 'system', 'solar', 'system'], ['photovoltaic', 'pv', 'solar', 'cell', 'solar', 'panel'], ['physical', 'layer', 'communications', 'physical', 'layer', 'qpsk', 'scrambling', 'simulink', 'tetra'], ['physical', 'modeling'], ['physical', 'modeling', 'power', 'generation', 'simdriveline', 'simelectronics', 'simhydraulics', 'simmechanics', 'simmechanics', 'simpowersystems', 'simscape', 'wind', 'wind', 'turbine', 'wind', 'turbine', 'model', 'simdriveline', 'simelectronics', 'simhydraulics', 'simmechanics', 'simpowersystems', 'simscape', 'physical', 'modeling', 'wind', 'physical', 'modeling', 'wind', 'wind', 'turbine', 'wind', 'turbine', 'model', 'wind', 'physical', 'modeling', 'physical', 'modeling', 'wind', 'turbine', 'model', 'physical', 'modeling', 'physical', 'modeling', 'power', 'generation', 'simdriveline', 'simelectronics', 'simhydraulics', 'simmechanics', 'simpowersystems', 'simscape', 'wind', 'wind', 'turbine', 'wind', 'turbine', 'model', 'physical', 'modeling', 'wind', 'turbine', 'model', 'simdriveline', 'wind', 'turbine', 'model', 'physical', 'modeling', 'wind', 'wind', 'turbine', 'model', 'physical', 'modeling', 'physical', 'modeling', 'power', 'generation', 'simdriveline', 'physical', 'modeling', 'physical', 'modeling', 'physical', 'modeling', 'physical', 'modeling', 'wind', 'turbine', 'model', 'power', 'generation'], ['physical', 'modeling', 'simdriveline', 'simhydraulics', 'simmechanics', 'simmechanics', 'simpowersystems', 'simscape', 'simscape', 'simmechanics', 'simdriveline', 'simhydraulics', 'simpowersystems', 'simulation', 'simhydraulics', 'physical', 'modeling', 'simscape', 'simmechanics', 'simdriveline', 'simhydraulics', 'simpowersystems', 'physical', 'modeling', 'simmechanics', 'simhydraulics', 'physical', 'modeling'], ['physical', 'modeling', 'simscape', 'simscape', 'driveline', 'simulation'], ['physical', 'modeling', 'simscape', 'simscape', 'electrical', 'simulation'], ['physical', 'modeling', 'simscape', 'simscape', 'electronics', 'simulation'], ['physical', 'modeling', 'simscape', 'simscape', 'fluids', 'simulation'], ['physical', 'modeling', 'simscape', 'simscape', 'multibody', 'simulation'], ['physical', 'modeling', 'simscape', 'simscape', 'power', 'systems', 'simulation'], ['physical', 'modeling', 'simscape', 'simulation'], ['pi', 'controller', 'three', 'phase', 'inverter', 'voltage', 'regulator'], ['pick', 'of', 'the', 'week', 'potw', 'aerospace', 'air', 'animation', 'blockset', 'ecef', 'flight', 'ned', 'pick', 'of', 'the', 'week', 'planning', 'potw', 'reality', 'route', 'simulator', 'traffic', 'virtual'], ['pick', 'of', 'the', 'week', 'potw', 'dof', 'fidget', 'spinner', 'gyro', 'gyroscope', 'simscape', 'simscape', 'multibody', 'spinner'], ['pick', 'of', 'the', 'week', 'potw', 'add', 'block', 'context', 'menu', 'custom', 'menu', 'model', 'simulink'], ['pick', 'of', 'the', 'week', 'potw', 'altera', 'fpga', 'hdl', 'intel', 'soc', 'verilog', 'vhdl', 'xilinx', 'zynq'], ['pick', 'of', 'the', 'week', 'potw', 'bellagio', 'dynamic', 'simulation', 'fountain', 'hydrodynamics'], ['pick', 'of', 'the', 'week', 'potw', 'bike', 'control', 'design', 'hardware', 'support', 'lego', 'mindstorms', 'ev', 'simulink'], ['pick', 'of', 'the', 'week', 'potw', 'biotech', 'demo', 'hdl', 'medical', 'signal', 'processing', 'simulation', 'simulink'], ['pick', 'of', 'the', 'week', 'potw', 'buck', 'converter', 'conduction', 'losses', 'diode', 'igbt', 'module', 'loss', 'calculation', 'switching', 'losses', 'thermal', 'model'], ['pick', 'of', 'the', 'week', 'potw', 'caller', 'call', 'library', 'dll', 'dynamic', 'library', 'embedded', 'coder', 'lct', 'legacy', 'code', 'tool', 'lib', 'matlab', 'function', 'matlab', 'system', 'block', 'sfunction', 'sfunction', 'builder', 'shared', 'library', 'simulink', 'so', 'stateflow', 'system', 'object'], ['pick', 'of', 'the', 'week', 'potw', 'contact', 'contact', 'force', 'friction', 'friction', 'force', 'plane', 'rolling', 'ball', 'support', 'force'], ['pick', 'of', 'the', 'week', 'potw', 'curling', 'fun', 'game'], ['pick', 'of', 'the', 'week', 'potw', 'data', 'flow', 'documentation', 'interface', 'simulink', 'software', 'engineering', 'transformation'], ['pick', 'of', 'the', 'week', 'potw', 'dc', 'motor', 'driver', 'hbridge', 'raspberry', 'pi', 'sfunction', 'simulink'], ['pick', 'of', 'the', 'week', 'potw', 'dc', 'motor', 'stepper', 'motor', 'adafruit', 'arduino', 'dc', 'motor', 'device', 'driver', 'embedded', 'encoder', 'mark', 'try', 'to', 'copy', 'the', 'content', 'and', 'paste', 'it', 'in', 'word', 'document', 'mar', 'motor', 'shield', 'pick', 'of', 'the', 'week', 'potw', 'stepper', 'motor', 'arduino', 'arduino', 'arduino', 'arduino', 'encoder', 'arduino', 'mark', 'try', 'to', 'copy', 'the', 'content', 'and', 'paste', 'it', 'in', 'word', 'document', 'mar', 'driver', 'arduino'], ['pick', 'of', 'the', 'week', 'potw', 'debugging', 'simulation', 'simulink'], ['pick', 'of', 'the', 'week', 'potw', 'design', 'education', 'simmechanics', 'simulation'], ['pick', 'of', 'the', 'week', 'potw', 'arduino', 'arm', 'control', 'design', 'gesture', 'gesture', 'control', 'ide', 'kinect', 'kinect', 'matlab', 'robo', 'robot', 'arm'], ['pick', 'of', 'the', 'week', 'potw', 'game', 'demo', 'image', 'processing', 'instrument', 'driver', 'kinect', 'measurement', 'medical', 'robot', 'robotics', 'signal', 'processing', 'simulation', 'simulink', 'stuck', 'on', 'step'], ['pick', 'of', 'the', 'week', 'potw', 'goto', 'line', 'signal', 'simulink', 'transformation'], ['pick', 'of', 'the', 'week', 'potw', 'graph', 'attractor', 'graph', 'lorenz', 'multitrack', 'scope', 'simulink', 'xy', 'xyz'], ['pick', 'of', 'the', 'week', 'potw', 'gui', 'modeling', 'simulink', 'tag'], ['pick', 'of', 'the', 'week', 'potw', 'gui', 'pick', 'of', 'the', 'week', 'potw', 'simulink', 'utility', 'verification'], ['pick', 'of', 'the', 'week', 'potw', 'interpolation', 'large', 'data', 'large', 'lookup', 'tables', 'persistent', 'regularizend', 'simulink'], ['pick', 'of', 'the', 'week', 'potw', 'level', 'control', 'pid', 'process', 'control'], ['pick', 'of', 'the', 'week', 'potw', 'live', 'script', 'arduino', 'hardware', 'maker'], ['pick', 'of', 'the', 'week', 'potw', 'live', 'script', 'fixedpoint', 'fpga', 'hdl', 'coder', 'pulse', 'detector', 'tutorial', 'verilog', 'vhdl', 'wireless', 'xilinx'], ['pick', 'of', 'the', 'week', 'potw', 'mask', 'field', 'pulldown', 'simulink', 'callback', 'mask', 'field', 'pulldown', 'simulink', 'callback'], ['pick', 'of', 'the', 'week', 'potw', 'mechanical', 'pick', 'of', 'the', 'week', 'potw', 'simscape', 'simscape', 'language', 'spring'], ['pick', 'of', 'the', 'week', 'potw', 'pace', 'real', 'time', 'real', 'time', 'execution', 'real', 'time', 'simulation', 'real', 'time', 'sychronization', 'realtime', 'synchronization'], ['pid', 'controller', 'pneumatic', 'robocon', 'robotics', 'simulation', 'throwing', 'mechanism'], ['pid', 'controller', 'simulink', 'model', 'steam', 'condenser'], ['pid', 'identification', 'pid', 'two', 'tank', 'system', 'pid'], ['ball', 'on', 'plate', 'diagnostic', 'pid', 'sfunction', 'simscape'], ['plc', 'rising', 'edge', 'trigger', 'rtrig'], ['pmsm'], ['pneumatic', 'piston', 'chamber', 'rotational', 'simscape', 'translational'], ['polarity', 'test', 'transformer'], ['popular', 'file', 'modulation', 'technique', 'ofdm', 'qam', 'qpsk', 'signal', 'generation', 'wimax', 'wirel', 'wireless', 'modulation', 'technique', 'wirel', 'wireless', 'ofdm', 'ofdm', 'using', 'qpsk', 'ofdm', 'wireless', 'ofdm', 'using', 'orthognality', 'matrix', 'ofdm', 'using', 'qpsk', 'ofdm', 'using', 'qpsk', 'ofdm', 'using', 'qpsk', 'modulation', 'technique', 'ofdm', 'using', 'qpsk'], ['popular', 'file', 'hev', 'hybrid', 'electric', 'vehicle', 'physical', 'modeling', 'power', 'quality', 'simdriveline', 'simelectronics', 'simscape', 'simscape', 'language', 'power', 'quality', 'hev', 'simdriveline', 'simelectronics', 'hev', 'hev', 'hev', 'simscape', 'language', 'hybrid', 'electric', 'vehicle', 'hev', 'physical', 'modeling', 'through', 'the', 'road'], ['portugues', 'portuguese', 'simulink', 'simulink'], ['portugues', 'simulink', 'webinar'], ['power'], ['power', 'electronics'], ['power', 'electronics'], ['power', 'electronics'], ['power', 'electronics', 'power', 'electronics', 'control', 'design'], ['power', 'electronics', 'power', 'electronics', 'solar', 'and', 'mppt', 'power', 'electronics', 'power', 'electronics', 'power', 'electronics', 'power', 'electronics', 'power', 'electronics', 'power', 'electronics'], ['power', 'electronics', 'power', 'systemstar', 'connected', 'load', 'simulink'], ['power', 'electronics'], ['power', 'electronics'], ['power', 'electronics', 'pwm', 'simulink', 'pwm'], ['power', 'electronics', 'rectifier', 'sim', 'power', 'simulation', 'simulink', 'thyristor'], ['power', 'electronics', 'rectifier', 'simulink'], ['power', 'electronics', 'rectifiers', 'twelve', 'pulse', 'converter'], ['power', 'electronics', 'rectifier', 'thyristor'], ['power', 'electronics', 'rle', 'three', 'phase', 'rectifier'], ['power', 'electronics', 'signal', 'processing', 'simulation'], ['power', 'electronics', 'simpower', 'simulation', 'simulink', 'power', 'electronics'], ['power', 'electronics', 'simulation'], ['power', 'electronics', 'simulation', 'simulink'], ['power', 'electronics', 'simulation', 'simulink', 'spwm', 'inverter', 'power', 'electronics'], ['power', 'electronics', 'simulink', 'power', 'electronics', 'simulink'], ['power', 'factor', 'measurement', 'power', 'power', 'electronics', 'measurement', 'power', 'power', 'electronics', 'power', 'factor', 'simulation', 'simulink', 'measurement', 'power', 'power', 'electronics', 'power', 'factor', 'simulation', 'simulink', 'measurement', 'power', 'power', 'power', 'electronics', 'power', 'factor'], ['power', 'line', 'power', 'line', 'power', 'line', 'power', 'line', 'power', 'line', 'power', 'line', 'power', 'line', 'power', 'line'], ['power', 'quality', 'transformer', 'energizing', 'voltage', 'sag'], ['power', 'system', 'stabilizer', 'pss', 'static', 'var', 'compensator', 'svc', 'transient', 'stability', 'var', 'compensator'], ['power', 'supply', 'regulation', 'simelectronics', 'simulation', 'simulink'], ['power', 'system', 'simulation', 'simulink', 'simulation'], ['power', 'systems', 'transient', 'stability'], [], ['phase', 'bridge', 'rectifier', 'phase', 'filter', 'phase', 'inverter', 'phasefilter', 'example', 'filter', 'design', 'inverter', 'matlab', 'rectifier', 'simulation', 'slip', 'power', 'recovery', 'scheme', 'spwm'], ['gto', 'converter', 'control', 'design', 'facts', 'flexiable', 'ac', 'transmission', 'system', 'fundamental', 'frequency', 'switching', 'gateturn', 'off', 'thyristor', 'indraneel', 'saki', 'indranil', 'saaki', 'magnetics', 'phase', 'shifting', 'transformer', 'power', 'electronics', 'power', 'system', 'renewable', 'energy', 'resourses', 'statcom', 'voltage', 'source', 'converter'], ['timer', 'analog', 'boost', 'converter', 'closed', 'loop', 'converter', 'dcdc', 'converter', 'operational', 'amplifier', 'pi', 'controller', 'sawtooth', 'generator'], ['ac', 'measurement', 'dc', 'bias', 'dc', 'offset', 'single', 'ended', 'adc', 'interface'], ['active', 'front', 'end', 'afe', 'rectifier', 'simulink'], ['active', 'power', 'filter', 'artificial', 'neural', 'network', 'ann', 'control', 'techniques', 'data', 'export', 'harmonics', 'indranil', 'saaki', 'mathematics', 'modeling', 'power', 'electronics', 'power', 'quality', 'simulation', 'simulink', 'unified', 'power', 'quality', 'conditioner'], ['admittance', 'matrix', 'frequency', 'domain', 'models', 'harmonic', 'smps', 'time', 'domain', 'models'], ['aerospace', 'power', 'electronics'], ['alphabeta', 'frame', 'current', 'controlled', 'converter', 'hbridge', 'power', 'electronics', 'realreactive', 'power', 'controller', 'unipolar', 'pwm', 'voltage', 'source', 'converter', 'vsc'], ['amplifier', 'inverting', 'opamp'], ['amplifier', 'noninverting', 'opamp'], ['ann', 'techniques', 'artificial', 'neural', 'network', 'ann', 'control', 'systems', 'dfacts', 'fuzzy', 'controller', 'indraneel', 'saki', 'indranil', 'saaki', 'multi', 'converter', 'unified', 'powerquality', 'conditione', 'mcupqc', 'power', 'electronics', 'power', 'quality', 'pq', 'upqc', 'voltagesource', 'converter', 'vsc'], ['battery', 'control', 'system', 'fuell', 'cell', 'indraneel', 'saki', 'indranil', 'saki', 'matlab', 'design', 'non', 'conventional', 'energy', 'resources', 'pv', 'cell', 'renewable', 'energy', 'resourses', 'simulation'], ['be', 'the', 'first', 'to', 'rate', 'this', 'file', 'downloads', 'last', 'days', 'file', 'simulation', 'simulation', 'simulation', 'simulation', 'simulation', 'simulation'], ['bidirectional', 'converter', 'bidirectional', 'converter', 'matlab', 'simulink', 'bidirectional', 'converter', 'simulink', 'bidirectional', 'file', 'exchange', 'bidirectional', 'matlab', 'bidirectional', 'simulink', 'buck', 'boost', 'converter', 'control', 'of', 'bidirectional', 'current', 'control', 'current', 'control', 'bidirectional', 'current', 'control', 'bidirectional', 'model', 'current', 'control', 'bidirectional', 'simulink', 'model', 'current', 'control', 'converter', 'current', 'control', 'dc', 'dc', 'bidirectional', 'converter', 'current', 'control', 'dc', 'dc', 'converter', 'current', 'controlled', 'bidirectional', 'current', 'controlled', 'converter', 'current', 'controlled', 'dc', 'dc', 'bidirectional', 'converter', 'dc', 'dc', 'bidirectional', 'converter', 'dcdc', 'converter', 'how', 'to', 'model', 'bidirectional', 'converter', 'how', 'to', 'model', 'dc', 'dc', 'bidirectional', 'converter', 'how', 'to', 'model', 'dc', 'dc', 'converter', 'microgrid', 'microgrid', 'converter', 'simulation', 'simulink'], ['bidirectional', 'bidirectional', 'fix', 'the', 'dc', 'bus', 'voltage', 'buck', 'boost', 'converter', 'dc', 'dc', 'bidirectional', 'converter', 'dc', 'dc', 'bidirectional', 'converter', 'matlab', 'dc', 'dc', 'converter', 'how', 'to', 'model', 'voltage', 'control', 'bidirectional', 'converter', 'how', 'to', 'model', 'voltage', 'control', 'bidirectional', 'converter', 'in', 'matlab', 'how', 'to', 'model', 'voltage', 'control', 'bidirectional', 'converter', 'in', 'simulink', 'matlab', 'bidirectional', 'microgrid', 'bidirectional', 'converter', 'simulink', 'bidirectional', 'simulink', 'converter', 'voltage', 'control', 'dc', 'dc', 'bidirectional', 'converter', 'voltage', 'control', 'dc', 'dc', 'converter', 'voltage', 'controlled', 'converter', 'votlage', 'control', 'dc', 'dc', 'bidirectional', 'converter'], ['bilinear', 'boost', 'converter', 'buck', 'converter', 'buckboost', 'converter', 'mathematics'], ['bode', 'plot', 'boost', 'converter', 'buck', 'converter', 'buckboost', 'converter', 'dcdc', 'converter', 'state', 'space', 'model'], ['boost', 'chopper', 'boost', 'converter', 'chopper', 'power', 'electronics'], ['boost', 'converter', 'buck', 'boost', 'converter', 'buck', 'converter', 'cuk', 'converter', 'sepic', 'converter', 'simulation'], ['boost', 'converter', 'buck', 'converter', 'buckboost', 'converter', 'circuitry'], ['boost', 'converter', 'buck', 'converter', 'buckboost', 'converter', 'circuitry', 'model', 'dcdc', 'converter'], ['boost', 'converter', 'buck', 'converter', 'buckboost', 'converter', 'circuitry', 'modeling', 'dcdc', 'converters', 'mathematical', 'modeling', 'single', 'block', 'statespace', 'modeling'], ['boost', 'converter', 'buck', 'converter', 'buckboost', 'converter', 'control', 'statespace'], ['boost', 'converter', 'buck', 'converter', 'buckboost', 'converter', 'dcdc', 'converter', 'mathematical', 'model', 'electronics'], ['boost', 'converter', 'chopper', 'converter', 'dc', 'boost', 'converter', 'dc', 'dc', 'chopper', 'dc', 'dc', 'converter'], ['boost', 'converter', 'circuitry', 'modeling', 'closedloop', 'dcdc', 'converters', 'mathematical', 'modeling', 'pid', 'controller'], ['boost', 'converter', 'current', 'control', 'current', 'minor', 'loop', 'pwm', 'small', 'signal', 'analysis'], ['boost', 'converter', 'dc', 'dc', 'converter', 'pi', 'control'], ['boost', 'converter', 'dc', 'dc', 'converter', 'power', 'electronics', 'step', 'up'], ['boost', 'converter', 'dc', 'to', 'dc', 'converter', 'stepup', 'chopper', 'switching', 'regulator'], ['boost', 'converter', 'harmonics', 'power', 'filter', 'rectifier'], ['boost', 'converter', 'incremental', 'conductance', 'mppt', 'solar', 'pv', 'system'], ['boost', 'converter', 'perturb', 'and', 'oberve', 'mppt'], ['boost', 'inverter', 'inverter', 'power', 'electronics', 'pv', 'design'], ['boost', 'boost', 'converter', 'converter', 'dc', 'dc', 'boost', 'converter', 'dcdc', 'boost', 'converter', 'dcdc', 'converter', 'microgrid', 'microgrid', 'converter', 'voltage', 'control', 'boost', 'converter', 'voltage', 'control', 'converter', 'voltage', 'control', 'dcdc', 'boost', 'converter'], ['boost', 'buck', 'buckboost', 'dcdc', 'converter', 'simulation'], ['boost', 'buck', 'chopper', 'dc', 'converter', 'matlab', 'sanjay', 'lodwal', 'simulink', 'step', 'down', 'step', 'up'], ['boost', 'buck', 'converter', 'dcdc', 'converter', 'inverting', 'converter'], ['boost', 'buck', 'converter', 'dc', 'energy', 'management', 'power', 'electronics', 'pv', 'sepic'], ['boost', 'chopper', 'dc', 'converter', 'sanjay', 'lodwal', 'step', 'up'], ['boost', 'chopper', 'igbt', 'sanniv'], ['boost', 'chopper', 'mosfet', 'step', 'up'], ['booster', 'mppt', 'simulation', 'simulink', 'solar', 'panel', 'characterstics', 'solarpanel'], ['bridge'], ['bridge', 'inverter', 'full', 'bridge', 'inverter', 'inverter', 'power', 'electronics'], ['btech', 'minor', 'major', 'projects', 'latest', 'project', 'topics', 'pmsg', 'pmsg', 'matlab', 'simulink', 'projects', 'in', 'power', 'electronics', 'and', 'power', 'systems', 'research', 'based', 'projects', 'wind', 'turbine', 'simulation'], ['buck', 'boost', 'dcdc', 'converter', 'power', 'electronics', 'source'], ['buck', 'boost', 'mppt', 'resistive', 'sanjay', 'lodwal', 'solar', 'solar', 'cell', 'solar', 'panel', 'windows', 'sdk'], ['buck', 'chopper', 'buck', 'converter', 'chopper', 'power', 'electronics'], ['buck', 'converter', 'chopper', 'dc', 'converter', 'dc', 'to', 'dc', 'sa', 'web', 'group', 'sanjay', 'lodwal'], ['buck', 'converter', 'circuitry', 'modeling', 'closedloop', 'dcdc', 'converters', 'mathematical', 'modeling', 'pid', 'controller'], ['buck', 'converter', 'dc', 'to', 'dc', 'converter', 'switching', 'regulator'], ['buck', 'converter', 'dc', 'machinz', 'pi', 'controller', 'speed', 'dc', 'machine', 'control'], ['buck', 'converter', 'dcdc', 'converter', 'interleaved', 'converter', 'power', 'electronics'], ['buck', 'converter', 'open', 'loop', 'simulation', 'simulink'], ['buckboost', 'converter', 'buckboost', 'converter', 'example', 'buckboost', 'converter', 'simulink', 'buckboost', 'converter', 'with', 'state', 'space', 'model', 'simulation', 'gui', 'simulation', 'simulink', 'the', 'state', 'space', 'model', 'simulation'], ['buckboost', 'converter', 'circuitry', 'modeling', 'closedloop', 'dcdc', 'converters', 'mathematical', 'modeling', 'pid', 'controller'], ['buck', 'converter', 'acdc', 'power', 'electrical'], ['buck', 'dc', 'power', 'electronics'], ['buck', 'transfer', 'function'], ['inverter', 'solar'], ['capacitor', 'filter', 'harmonic', 'non', 'linear', 'load', 'power', 'quality', 'single', 'phase', 'bridge', 'rectifier', 'triplen', 'harmonic'], ['clipper', 'clipping', 'circuit', 'diode', 'electronics'], ['clipper', 'diode', 'electronics'], ['compensation', 'facts', 'device', 'fctcr', 'reactive', 'power'], ['compensator', 'for', 'pll', 'phase', 'locked', 'loop', 'pll'], ['control', 'design'], ['control', 'design', 'dcdc', 'power', 'converters', 'power', 'electronics'], ['control', 'design', 'dfig', 'power', 'power', 'electronics', 'power', 'system', 'wind', 'turbine'], ['control', 'design', 'gui'], ['control', 'design', 'gui', 'harmonic', 'power', 'electronics', 'reactive', 'simulation', 'spwm', 'statcom', 'vsi'], ['control', 'design', 'gui', 'simulation', 'simulink'], ['control', 'design', 'matlab', 'simulation'], ['control', 'design', 'modeling', 'simulation', 'simulink'], ['control', 'design', 'power', 'electronics'], ['control', 'design', 'power', 'power', 'electronics', 'simulation', 'statcom', 'vsc'], ['control', 'control', 'design', 'facts', 'hvdc', 'power', 'electronics', 'power', 'system', 'upfc'], ['control', 'hvdc', 'power', 'power', 'electronics', 'vsc'], ['conversion'], ['csa', 'cuckoo', 'search', 'cuckoo', 'search', 'algorithm', 'mppt', 'partially', 'shaded', 'array', 'pv'], ['dc', 'generator', 'pi', 'control', 'pitch', 'angle', 'wind', 'turbine'], ['dc', 'traction', 'systems', 'electric', 'train', 'electrical', 'rail', 'system', 'electrical', 'train', 'electrical', 'train', 'model', 'electrical', 'train', 'simulink', 'model', 'energy', 'in', 'electric', 'rail', 'traction', 'systems', 'rail', 'electric', 'system', 'rail', 'transit', 'system', 'regenerative', 'energy', 'regenrative', 'traction', 'systems', 'train', 'train', 'model', 'train', 'simulink', 'model', 'vehicle', 'dynamics', 'vehicle', 'dynamics', 'model', 'wayside', 'energy', 'storage'], ['dcdc', 'converter', 'mppt', 'pv', 'sepic', 'simulation', 'simulink', 'solar', 'system'], ['dcdc', 'converters', 'pid', 'control'], ['dfacts', 'dstatcom', 'flexiable', 'ac', 'transmisson', 'indraneel', 'saki', 'indranil', 'saaki', 'matlab', 'dstatcom', 'circute', 'modeling', 'power', 'quality', 'pwm', 'techniques', 'simulation'], ['dg', 'system', 'indraneel', 'saki', 'indranil', 'saaki', 'modeling', 'power', 'power', 'electronics', 'pv', 'cell', 'renewable', 'energy', 'simulation', 'simulink'], ['diode', 'full', 'wave', 'rectifier'], ['diode', 'half', 'wave', 'rectifier'], ['distributed', 'power', 'flow', 'controller', 'dpfc', 'fact', 'facts', 'ieee', 'projects', 'in', 'power', 'electronics', 'and', 'power', 'system', 'latest', 'project', 'topic', 'upfc'], ['distribution', 'systems', 'annual', 'curve', 'of', 'solar', 'irradiation', 'indraneel', 'saki', 'indranil', 'saaki', 'mppt', 'technique', 'net', 'present', 'value', 'payback', 'year', 'peak', 'solar', 'irradiation', 'photovoltaic', 'pv', 'penetration', 'level', 'renawable', 'power', 'generation', 'simulation'], ['dsp', 'controller', 'facts', 'harmonics', 'mediumvoltage', 'largecurrent', 'mvlc', 'modular', 'multilevel', 'converters', 'statcom', 'unbalanced', 'compensation'], ['elc', 'electronic', 'load', 'controller', 'inverter', 'pq', 'theory'], ['electrical', 'circuits'], ['electrical', 'engineering', 'measurement', 'power', 'electronics'], ['electromagnetic', 'transient', 'emt', 'full', 'conveter', 'generic', 'power', 'grid', 'power', 'system', 'type', 'iv', 'wind', 'farm', 'wind', 'turbine'], ['electronics', 'power', 'electronics'], ['example'], ['fact', 'power', 'systems'], ['facts', 'fuzzy', 'ogic', 'grid', 'intereface', 'indraneel', 'saki', 'indranil', 'saaki', 'non', 'conventional', 'energy', 'powersystem', 'renweable', 'upqc', 'wind', 'energy'], ['flux', 'linkage', 'indraneel', 'saki', 'indranil', 'saaki', 'inrush', 'current', 'power', 'quality', 'simulation', 'transformer', 'voltage', 'sag', 'voltage', 'sag', 'compensator'], ['full', 'bridge', 'inverter', 'power', 'electrical', 'simulation', 'three', 'phase', 'inverter'], ['function', 'simulation', 'simulink'], ['fuzzy', 'logic', 'mppt', 'fuzzy', 'logic', 'mppt', 'for', 'solar', 'pv', 'mppt', 'mppt', 'algorithm', 'solar', 'pv'], ['grid', 'connected', 'pv', 'inverter', 'hysteresis', 'band', 'controller', 'inverter', 'algorithm', 'pv', 'pv', 'inverter'], ['gui', 'power', 'electronics', 'simulation'], ['gui', 'power', 'electronics', 'simulink'], ['harmonics', 'power', 'filter', 'rectifier'], ['hybride', 'system', 'indraneel', 'saki', 'indranil', 'saaki', 'mppt', 'controller', 'pv', 'penetration', 'pv'], ['getting', 'errors', 'in', 'the', 'boost', 'converter', 'openloop'], ['igbt'], ['igbt', 'power', 'electronics', 'rectifier'], ['indraneel', 'saki', 'indranil', 'saaki', 'modeling', 'power', 'electronics', 'simulation', 'simulink'], ['indraneel', 'saki', 'indranil', 'saaki', 'mppt', 'photovoltaic', 'generation', 'pv', 'cell', 'pv', 'curve', 'stability', 'sensitivity', 'analysis', 'transient', 'voltage', 'response'], ['indraneel', 'saki', 'indranil', 'saaki', 'power', 'power', 'electronics', 'simulation'], ['inverter', 'mppt', 'photovoltaic', 'power', 'electronics', 'pv', 'simulink'], ['inverter', 'rload', 'single', 'phase', 'spwm'], ['iv', 'curve', 'pv', 'characteristic', 'curve', 'pv', 'curve', 'pv', 'module'], ['ltspice', 'power', 'electronics', 'simscape', 'electrical'], ['matrix', 'matrix', 'converter', 'sparse', 'matrix', 'converter'], ['maximum', 'boost', 'control', 'quasi', 'source', 'source', 'inverter'], ['mdll'], ['modeling', 'simulation'], ['model', 'simulation'], ['model', 'simulink'], ['mppt', 'partially', 'shaded', 'array', 'particle', 'swarm', 'optimization', 'pso', 'pv'], ['mppt', 'photovoltaic', 'pv', 'simulink'], ['mppt', 'po'], ['mppt', 'solar', 'tester'], ['negative', 'feedback', 'pid', 'controller', 'simpowersystem', 'simulink'], ['optimization'], ['paper', 'simulation'], ['power', 'electronics'], ['power', 'electronics', 'power', 'electronics', 'power', 'electronics', 'power', 'electronics', 'power', 'electronics'], ['power', 'electronics', 'rectifier', 'rl', 'load', 'three', 'phase', 'rectifier'], ['power', 'electronics', 'scr', 'thyristor', 'triggering', 'of', 'thyristor', 'thyristor'], ['power', 'electronics', 'simulink'], ['power', 'electronics', 'svm', 'svpwm', 'threelevel', 'converter'], ['power', 'power', 'electronics', 'simulation', 'simulink'], ['pv', 'pv', 'cell', 'pv', 'panel', 'sanjay', 'lodwal', 'simulation', 'solar'], ['converter', 'simpowersystems'], ['renewable', 'energy', 'source'], ['simpower', 'systems'], ['simpowersytem'], ['simulatiom'], ['simulation'], ['simulink'], [], ['simulink', 'simulink'], ['solar', 'photovoltaic', 'panel'], [], ['sim', 'power', 'single', 'phase', 'half', 'bridge', 'voltage', 'source', 'inverter', 'with', 'load', 'voltage', 'source', 'inverter'], ['power', 'power', 'electronics', 'simulink'], ['power', 'simulink'], ['predistortion', 'rf', 'predistortion'], ['programmable', 'pulse', 'generator', 'simulink'], ['block', 'diagrams'], ['pseudo', 'random', 'number', 'shift', 'register'], ['psk', 'rayleigh', 'fading', 'channel', 'reed', 'solomon', 'coding', 'psk', 'psk', 'reed', 'solomon', 'coding'], ['pulse', 'generator', 'signal', 'pulse', 'generator', 'signal', 'pulse', 'generator', 'signal', 'pulse', 'generator', 'signal', 'pulse', 'generator', 'signal', 'pulse', 'generator', 'signal', 'pulse', 'generator', 'signal', 'pulse', 'generator', 'signal'], ['pulse', 'ac', 'to', 'dc', 'converter', 'rectifier'], ['pv', 'array', 'solar'], ['pv', 'cell', 'simulation', 'simulink'], ['pv', 'panel', 'simulink', 'solar', 'cell'], ['pv', 'system', 'solar', 'system', 'irradiance', 'pv', 'system', 'solar', 'system', 'irradiance', 'pv', 'system', 'solar', 'system', 'irradiance', 'pv', 'system', 'solar', 'system', 'irradiance', 'pv', 'system', 'solar', 'system', 'irradiance', 'pv', 'system', 'solar', 'system', 'irradiance', 'pv', 'system', 'solar', 'system', 'irradiance'], ['pv', 'pv', 'pv', 'pv', 'pv', 'pv'], ['pv', 'pv', 'solar', 'mppt', 'pv', 'solar', 'mppt', 'pv', 'solar', 'mppt', 'pv', 'mppt', 'pv', 'mppt', 'solar', 'energy', 'solar'], ['pwm', 'control', 'pwm', 'control', 'pwm', 'control', 'pwm', 'control', 'pwm', 'control'], ['pwm', 'pwm', 'generator', 'simulink'], ['pwm', 'sawtooth', 'triangular', 'embedded', 'signal', 'processing', 'simulation', 'sine', 'pwm', 'user', 'defined', 'wave', 'waveform', 'generator', 'waveforms', 'triangular'], ['pwm', 'zsource', 'inverter'], ['qam', 'carrierless', 'amplitude', 'phase', 'modulation', 'coding', 'coding', 'theory', 'information', 'theory', 'quadrature'], ['qam', 'qam', 'physical', 'layer', 'qam', 'syncronization'], ['qpsk'], ['quadcopter'], ['quadrant', 'converter', 'dc', 'dc', 'converter', 'measurement', 'pwm', 'simulink', 'unipolar', 'pwm', 'dc', 'dc', 'converter', 'dc', 'dc', 'converter'], ['quadrant', 'converters', 'bipolar', 'pwm', 'bridge', 'converters', 'dc', 'dc', 'converter', 'measurement', 'pwm', 'simulink', 'hi', 'wish', 'it', 'will', 'help', 'lot', 'naveen', 'thanx', 'for', 'this'], ['ramp', 'step'], ['random', 'telegraph', 'processrandom', 'telegraph', 'signal'], ['raspberry', 'pi', 'simulink', 'voltmeter'], ['rc', 'rc', 'circuit', 'rlc', 'sine', 'response', 'sinusoidal'], ['rc', 'response', 'step', 'response', 'transient', 'analysis', 'transients'], ['rc', 'rl', 'rlc', 'sine', 'response'], ['reactive', 'power', 'wind', 'farms'], ['rectifier', 'rl', 'load', 'on', 'rectifier', 'uncontrolled', 'rectifier'], ['rectifire'], ['refactoring', 'simulink', 'state', 'chart', 'stateflow', 'transformation'], ['rice', 'krispies', 'loader', 'robotic', 'arm'], ['and', 'rl', 'load', 'step', 'down', 'chopper'], ['series', 'rlc', 'circuit', 'parameters', 'series', 'rlc', 'circuit', 'parameters'], ['rlc', 'series', 'rlc', 'step', 'response'], ['rl', 'rlc', 'step', 'response'], ['rl', 'series', 'rl', 'step', 'response'], ['robot', 'localisation', 'vicon'], ['robotics'], ['robotics', 'collision', 'contact', 'friction', 'multibody', 'physical', 'modeling', 'robot', 'robotics', 'simscape'], ['robotics', 'control', 'robot', 'simulation', 'simulink'], ['robotics', 'cad', 'import', 'cad', 'simulation', 'nao', 'nao', 'ankle', 'pid', 'tunning', 'robot', 'robotics', 'simulation', 'stateflow'], ['robotics', 'lego', 'ev', 'ev'], ['robotics', 'lego', 'mindstorms', 'nxt', 'robot', 'obstacle', 'avoidance', 'path', 'planning', 'robot', 'navigation', 'robotics', 'student', 'competition'], ['robotics', 'pick', 'of', 'the', 'week', 'ecrobot', 'embed', 'model', 'modeling', 'potw', 'control', 'embedded', 'code', 'lego', 'legway', 'mindstorms', 'nxt', 'nxtway', 'realtime', 'workshop', 'robot', 'segway', 'verification'], ['robotics', 'robot', 'simmechanics', 'virtual', 'reality', 'simmechanics', 'robot', 'robot', 'robot', 'simmechanics', 'robot', 'robot', 'simmechanics'], ['robotics', 'simmechanics', 'simulink'], ['robot', 'robotics', 'simulation', 'sliding', 'mode', 'control'], ['root'], ['root', 'locus'], ['rotor_position', 'actual_speed', 'estimated_speed', 'modeling', 'rotor_position', 'simulink', 'actual_speed', 'actual_speed', 'estimated_speed', 'modeling', 'rotor_position', 'simulink', 'actual_speed', 'estimated_speed'], ['rs', 'rcv', 'variablesize', 'xpctarget'], ['rs', 'snd', 'variablesize', 'xpctarget'], ['scope', 'simulink', 'xy_graph'], ['scopes', 'modeling', 'multidomain', 'physical', 'pick', 'of', 'the', 'week', 'potw', 'probes', 'simdriveline', 'simelectronics', 'simhydraulics', 'simscape', 'simulink', 'utilities'], ['segway', 'simmechanics', 'simmechanics', 'link', 'solidworks'], ['selective', 'harmonic', 'elimination'], ['self_rate', 'carrier', 'wave', 'leg', 'inverter', 'harmonic', 'reduction', 'techniques', 'inverter', 'pwm', 'inverter', 'pwm', 'technique', 'for', 'inverter', 'simulation', 'simulink', 'six', 'step', 'inverter'], ['self_rating', 'adder', 'circuits', 'cmos', 'cmos', 'inverter', 'computer', 'arithmetic', 'digital', 'circuits', 'digital', 'electronics', 'nmos', 'pmos', 'ripple', 'carry', 'adder', 'self_rating', 'simscape', 'vlsi'], ['self_rating', 'array', 'of', 'buses', 'building', 'models', 'from', 'the', 'command', 'line', 'self', 'modifying', 'masks', 'self_rating'], ['self_rating', 'automotive', 'control', 'design', 'modelbased', 'design', 'simulation', 'spec', 'specification', 'models', 'translator'], ['seth', 'on', 'simulink', 'simulink'], ['sfunction', 'simulink', 'sfunction', 'simulink'], ['short', 'line', 'model', 'transmission', 'line'], ['shunt', 'active', 'power', 'filter'], ['sicardiology'], ['signal', 'processing'], ['signal', 'and', 'regulationreal', 'time', 'matlab', 'matlab', 'coder', 'realtime', 'windows', 'target', 'simulink'], ['signal', 'processing', 'live', 'script'], ['signal', 'processing', 'simulation'], ['signal', 'processing', 'simulation', 'simulink'], ['signal', 'processing', 'simulink'], ['signal', 'processing', 'simulink', 'statistics', 'system', 'identification'], ['signal', 'processing', 'simulink', 'wavelets'], ['significant', 'figures', 'simulink'], ['control', 'signl', 'firing', 'angle', 'schemes', 'pwm', 'sine', 'triangle'], ['simelectronics', 'simhydraulics'], ['simelectronics', 'simhydraulics', 'torque', 'measurement'], ['simelectronics', 'simulation', 'triangle', 'wave', 'generator'], ['simevents', 'simulink', 'stateflow'], ['simevents', 'stateflow'], ['simhydraulics'], ['simmechanics', 'simulink'], ['simpowersm', 'simpowersm'], ['simpowersystems', 'simpowersystems', 'simpowersystems', 'simpowersystems'], ['simscape'], ['simscape', 'sti', 'sti', 'sti', 'simscape', 'sti', 'simscape', 'sti', 'simscape', 'sti'], ['simscape', 'aerospace', 'thermalm', 'heat', 'exchanger', 'aerospace', 'aerospace'], ['simscape', 'mppt', 'pv'], ['simscape', 'simscape', 'is', 'this', 'file', 'run', 'in', 'version', 'only', 'why', 'this', 'model', 'not', 'run', 'for', 'kw'], ['simscape', 'simulink', 'suspension'], ['simulation', 'demo', 'modeling', 'simulation', 'simulink'], ['simulation'], ['simulation'], ['simulation', 'simulation'], ['simulation', 'simulation', 'simulation'], ['simulation', 'simulation', 'simulation', 'simulation'], ['simulation', 'simulink'], ['simulation', 'simulink'], ['simulation', 'simulink', 'highig'], ['simulation', 'simulink'], ['simulation', 'simulink', 'simulation'], ['simulation', 'simulink', 'state', 'steady', 'stop', 'tolerance'], ['simulation', 'simulink', 'timer', 'watchdog'], ['simulation', 'simulink', 'trifasic', 'source'], ['simulation', 'simulink', 'zero', 'current', 'switching'], ['simulation', 'stateflow', 'design', 'patterns', 'wizard', 'pattern', 'tool', 'stateflow', 'design', 'patterns', 'wizard', 'pattern', 'tool'], ['simulink'], ['simulink', 'for', 'iterator'], ['simulink', 'mask', 'triangle', 'wave'], ['simulink', 'signal', 'processing', 'statistics'], ['simulink', 'sti', 'sti', 'sti'], ['simulink', 'transfer', 'funciton', 'transfer', 'function', 'coefficients', 'transfer', 'function', 'with', 'variable', 'coefficients'], ['simulink', 'aaa'], ['simulink', 'dcdc', 'converter', 'zeta', 'zeta', 'converter'], ['simulink', 'demo', 'filter', 'hpf', 'opamp', 'signal', 'processing', 'simulation', 'simulink'], ['simulink', 'directional', 'ocr', 'ocr'], ['simulink'], ['simulink', 'industrial', 'electronics', 'pwm', 'sim', 'power', 'system', 'simulink', 'sinusoidal', 'pwm', 'spwm', 'pwm', 'industrial', 'electronics'], ['simulinkpower', 'systemstar', 'connected', 'load'], ['simulink', 'simulink'], ['simulink', 'simpowersystem', 'simulink'], ['simulink', 'simulink'], ['simulink', 'simulink', 'stateflow', 'codegen', 'mdl', 'windows', 'explorer', 'tooltip', 'shell', 'ex'], ['simulink', 'simulink', 'demo', 'simulink', 'simulink'], ['simulink', 'simulink'], ['simulink', 'simulink', 'acdcdc', 'simulink'], ['simulink', 'simulink', 'simulink', 'simulink'], ['simulink', 'simulink', 'simulink', 'simulink', 'simulink', 'simulink'], ['simulink', 'single', 'single', 'pulse', 'generator', 'model', 'utilities'], ['simulink', 'standard'], ['simulink', 'stateflow', 'live', 'script'], ['simulink', 'subsystem'], ['simulink', 'svpwm', 'svpwm', 'simulink', 'svpwm'], ['simulink', 'triac'], ['simulink', 'vihicle'], ['sin', 'cos', 'functions'], ['sine', 'pwm', 'communications', 'demo', 'embedded', 'code', 'pwm', 'signal', 'processing', 'simulation', 'sine', 'sine', 'pwm', 'triangle', 'wave', 'waveform', 'generator'], ['slider'], ['solar', 'energy'], ['solar', 'pv', 'feed', 'im'], ['space', 'vector', 'pulse', 'width', 'modulation', 'svpwm', 'leg', 'inverter', 'simulink', 'space', 'vector', 'pwm', 'svm', 'for', 'two', 'leg', 'inverter', 'leg', 'inverter'], ['space', 'vector', 'pulse', 'width', 'modulation', 'svpwm', 'acac', 'conversion', 'control', 'strategies', 'direct', 'torque', 'control', 'dtc', 'with', 'induction', 'motor', 'ekf', 'matrix', 'converter', 'mc', 'modulation', 'schemes', 'neutral', 'point', 'clamped', 'npc', 'simulation', 'state', 'vector', 'modulation', 'twolevel', 'inverter'], ['space', 'vector', 'pulse', 'width', 'modulation', 'svpwm', 'battery', 'system', 'dc', 'micro', 'grid', 'dcac', 'multilevel', 'inveter', 'dcac', 'power', 'conversion', 'dcdc', 'power', 'converters', 'distributed', 'power', 'generation', 'fuell', 'cell', 'power', 'hybrid', 'grid', 'indraneel', 'saki', 'indranil', 'saaki', 'matlab', 'circute', 'for', 'micro', 'grid', 'microturbine', 'power', 'generation', 'multilevel', 'inverter', 'power', 'electronics', 'simulation', 'smart', 'grid', 'svpwm', 'techniques', 'wind', 'tubine', 'power', 'generation'], ['space', 'vector', 'pulse', 'width', 'modulation', 'svpwm', 'space', 'vector', 'pwm', 'pulse', 'width', 'modulation', 'techniques', 'simulation', 'simulink', 'space', 'vector', 'pwm', 'svm', 'for', 'leg', 'inverter', 'space', 'vector', 'pwm', 'simulink'], ['special', 'machine', 'special', 'machine'], ['spline', 'spline', 'network', 'basis', 'spline', 'forgetting', 'factor', 'global', 'learning', 'rule', 'ilc', 'iterative', 'learning', 'control', 'neural', 'network', 'nonlocal', 'learning', 'rule', 'repetitive', 'control', 'robust', 'control', 'spline', 'weight', 'constraints'], ['starting', 'of', 'motor', 'dq', 'model', 'induction', 'motor', 'torque', 'simulation'], ['stateflow'], ['stateflow', 'matlab', 'simulink', 'bluetooth', 'dm', 'hv', 'hv', 'hv', 'scort', 'wireless', 'stateflow', 'matlab', 'simulink', 'bluetooth', 'dm', 'hv', 'hv', 'hv', 'scort', 'stateflow', 'matlab', 'simulink', 'bluetooth', 'dm', 'hv', 'hv', 'hv', 'scort', 'stateflow', 'matlab', 'simulink', 'bluetooth', 'dm', 'hv', 'hv', 'hv', 'scort', 'wireless', 'stateflow', 'matlab', 'simulink', 'bluetooth', 'dm', 'hv', 'hv', 'hv', 'scort', 'stateflow', 'matlab', 'simulink', 'bluetooth', 'dm', 'hv', 'hv', 'hv', 'scort', 'wireless', 'stateflow', 'matlab', 'simulink', 'bluetooth', 'dm', 'hv', 'hv', 'hv', 'scort', 'stateflow', 'matlab', 'simulink', 'bluetooth', 'dm', 'hv', 'hv', 'hv', 'scort', 'stateflow', 'matlab', 'simulink', 'bluetooth', 'dm', 'hv', 'hv', 'hv', 'scort', 'stateflow', 'matlab', 'simulink', 'bluetooth', 'dm', 'hv', 'hv', 'hv', 'scort'], ['stateflow', 'sti', 'sti', 'sti', 'stateflow', 'sti', 'stateflow', 'sti', 'sti'], ['stateflow', 'test'], ['sti', 'simmechanics', 'sti', 'sti', 'sti', 'simmechanics', 'sti', 'simmechanics', 'sti', 'simmechanics', 'sti', 'simmechanics', 'sti'], ['stm', 'discovery', 'tutorial'], ['stochastic'], ['svm', 'fault', 'detection', 'fault', 'diagnosis', 'signal', 'processing', 'simulation', 'simulink', 'support', 'vector', 'machines', 'wind', 'turbines'], ['svpwm', 'dual', 'threephase', 'motors', 'indraneel', 'saki', 'indranil', 'saaki', 'mathematics', 'multiple', 'space', 'vectors', 'simulation', 'space', 'vector', 'modulation', 'threephase', 'decomposition'], ['svpwm', 'inverter', 'simulationpulse', 'width', 'modulation', 'simulink', 'statcom', 'inverter', 'simulationpulse', 'width', 'modulation'], ['switch'], ['switcher'], ['switches', 'inverter', 'minimum', 'switches', 'multilevel', 'seven', 'level'], ['symphony', 'model', 'compiler'], ['synchronous', 'condenser'], ['synchronous', 'machines', 'voltage', 'regulation'], ['control', 'system', 'faults', 'response', 'grid', 'interface', 'indraneel', 'saki', 'indranil', 'saaki', 'power', 'electronics', 'power', 'system', 'stability', 'renweable', 'energy', 'resources', 'wind', 'energy'], ['control', 'systems', 'dc', 'interconnection', 'high', 'voltage', 'direct', 'current', 'hvdc', 'modular', 'multilevel', 'converter', 'mmc', 'pwm', 'modulation', 'renewables', 'switching', 'function', 'transmission', 'system'], ['control', 'systems', 'dc', 'motor', 'filter', 'analysis', 'filter', 'design', 'kalman', 'filter', 'simulation', 'simulink', 'state', 'estimate', 'control', 'systems', 'dc', 'motor', 'filter', 'analysis', 'filter', 'design', 'kalman', 'filter', 'simulation', 'simulink', 'state', 'estimate'], ['target', 'support', 'embedded', 'coder', 'launchpad', 'msp', 'pil', 'simulink', 'target', 'support', 'texas', 'instruments', 'ti', 'texas', 'instruments', 'launchpad'], ['threephase', 'transformer', 'transformer', 'transformer', 'bank', 'transformer', 'unit'], ['real', 'time', 'simulation', 'simulink', 'simulink', 'real', 'time', 'execution', 'simulink', 'real', 'time', 'execution'], ['real', 'time', 'usb', 'camera', 'video', 'xpc', 'target'], ['toolbox', 'aerodef', 'aeronautics', 'aerospace', 'aircraft', 'airplane', 'euler', 'flight', 'orientation', 'rotation', 'virtual'], ['toolbox', 'aerospace', 'bifurcation', 'coninuation', 'dynamical', 'systems', 'fold', 'hopf', 'limit', 'cycle'], ['toolbox', 'alfc', 'ann', 'automatic', 'load', 'frequency', 'controller', 'control', 'systems', 'electrical', 'performance', 'analysis', 'pi', 'power', 'systems', 'power', 'systems'], ['toolbox', 'alfc', 'ann', 'comparison', 'between', 'ann', 'and', 'pi', 'controller', 'control', 'system', 'electrical', 'pi', 'power', 'system', 'simulation'], ['train', 'automotive', 'catenary', 'electric', 'chain', 'train'], ['truth', 'table', 'logic', 'nn_mlclogic', 'truth', 'table', 'logic', 'nn_mlclogic', 'truth', 'table', 'logic', 'nn_mlclogic'], ['all', 'types', 'of', 'fault', 'analysis', 'in', 'power', 'system', 'matlab', 'control', 'design', 'demo', 'electrical', 'engineering', 'fault', 'analysis', 'power', 'system', 'signal', 'processing', 'simulink', 'fault', 'analysis', 'fault', 'analysis', 'fault', 'analysis'], ['um'], ['variable', 'delay'], ['meter', 'mppt', 'pso'], ['voice', 'recognition'], ['water', 'surface', 'modeling', 'water', 'surface', 'modeling'], ['ways', 'valve', 'ways', 'valve', 'cylinder', 'damper', 'double', 'acting', 'hydraulic', 'cylinder', 'hydraulic', 'hydraulic', 'pump', 'hydraulic', 'system', 'mass', 'piston', 'pressure', 'relief', 'valve', 'pump', 'reservoir', 'spring', 'valve', 'ways', 'valve', 'cylinder', 'damper', 'double', 'acting', 'hydraulic', 'cylinder', 'hydraulic', 'hydraulic', 'pump', 'hydraulic', 'system', 'mass', 'piston', 'pressure', 'relief', 'valve', 'pump', 'reservoir', 'spring', 'valve', 'ways', 'valve', 'ways', 'valve', 'damper'], ['webinar'], ['wifi', 'qam', 'ofdm', 'oqpsk', 'qpsk', 'rayleigh', 'fading', 'wifi', 'wlan', 'qam', 'qam'], ['wireless', 'sensor', 'networks', 'wsn', 'quadcopter', 'apm', 'apm', 'arduino', 'diydrones', 'aerospace', 'ahrs', 'control', 'design', 'embedded', 'code', 'kalman', 'roth', 'simulation', 'simulink', 'state', 'estimation', 'system', 'identification', 'uav', 'wireless', 'wireless', 'ahrs', 'apm', 'ardupilot'], ['xpc', 'target']]\n",
            "[['model', 'of', 'superconducting', 'fault', 'current', 'limiter', 'on', 'matlab', 'simulink'], ['active', 'noise', 'control', 'headsets', 'simulated', 'in', 'simulink'], ['analog', 'modulation', 'techniques', 'am', 'fm', 'written', 'in', 'matlab', 'simulink'], ['analysis', 'of', 'nonlinear', 'plant', 'in', 'matlab', 'using', 'simulink', 'model'], ['apollo', 'lunar', 'lander', 'simulator', 'with', 'simulink', 'control'], ['ardrone', 'for', 'simulink', 'devkit_v'], ['arduino', 'library', 'and', 'matlab', 'simulink', 'api', 'for', 'the', 'arduino', 'expansion', 'boards', 'for', 'control', 'engineering', 'education'], ['arquivos', 'do', 'webinar', 'sobre', 'sistems', 'hidraulcios', 'em', 'matlab', 'simulink'], ['automated', 'analysis', 'framework', 'for', 'simulink', 'stateflow'], ['bibliothèque', 'de', 'composants', 'matlab', 'simulink', 'simscape', 'pour', 'enseignement', 'des', 'sciences', 'industrielles', 'de', 'ingénieur'], ['bonsai', 'simulink', 'househeat', 'example', 'using', 'the', 'universal', 'coordinator'], ['bus', 'communication', 'layer', 'and', 'data', 'logger', 'for', 'simulink', 'real', 'time', 'xpc', 'target'], ['car', 'following', 'model', 'created', 'in', 'matlab', 'simulink', 'using', 'the', 'intelligent', 'driver', 'model', 'idm'], ['city', 'drain', 'is', 'an', 'open', 'source', 'toolbox', 'for', 'integrated', 'modelling', 'of', 'urban', 'drainage', 'systems', 'realized', 'in', 'matlab', 'simulink'], ['matlab', 'class', 'for', 'transforming', 'simulink', 'requirements', 'into', 'stl', 'specifications'], ['cnc', 'simulator', 'in', 'simulink', 'work', 'in', 'progress'], ['matlab', 'codes', 'and', 'simulink', 'models', 'for', 'the', 'electric', 'drive', 'power', 'electronics', 'design', 'simulation', 'and', 'analysis'], ['collection', 'of', 'functions', 'that', 'allow', 'to', 'interface', 'kinect', 'sdk', 'body', 'tracking', 'system', 'with', 'matlab', 'simulink'], ['collection', 'of', 'useful', 'simulink', 'utilities'], ['compliant', 'joint', 'toolbox', 'cjt', 'for', 'matlab', 'and', 'simulink'], ['contains', 'microcontoller', 'code', 'maltab', 'code', 'simulink', 'smulations', 'full', 'reports', 'and', 'related', 'documents', 'for', 'an', 'fyp', 'in', 'quadcopter', 'control'], ['controller', 'for', 'the', 'ancient', 'ibm', 'scara', 'robot', 'using', 'code', 'generated', 'by', 'matlab', 'simulink', 'for', 'the', 'stm'], ['course', 'notes', 'and', 'simulink', 'models', 'for', 'simulink', 'onramp', 'course', 'by', 'mathworks'], ['demonstration', 'of', 'conventional', 'sensor', 'attitude', 'determination', 'using', 'vrml', 'in', 'simulink'], ['deploy', 'matlab', 'simulink', 'model', 'automatically', 'to', 'parrot', 'ar', 'drone', 'with', 'embedded', 'coder', 'code', 'generation'], ['design', 'of', 'fuzzy', 'logic', 'pid', 'controller', 'for', 'dc', 'motor', 'using', 'matlab', 'and', 'simulink'], ['designed', 'fuzzy', 'controller', 'on', 'simulink', 'to', 'track', 'the', 'input', 'signal', 'in', 'real', 'time', 'and', 'selected', 'the', 'optimal', 'parameters'], ['didactic', 'create', 'gui', 'to', 'optimaze', 'simulinks', 'simulations', 'multiple', 'variable', 'change', 'multiple', 'scopes', 'etc'], ['didactic', 'matlab', 'simulink', 'solve', 'methods', 'of', 'ode', 'ordinary', 'differential', 'equation'], ['drivers', 'and', 'examples', 'for', 'usage', 'of', 'matlab', 'simulink', 'with', 'arduino'], ['easy', 'as', 'pie', 'api', 'to', 'simulink'], ['easylink', 'is', 'software', 'development', 'kit', 'for', 'developing', 'blocks', 'for', 'simulink', 'functions'], ['an', 'ecan', 'library', 'for', 'the', 'dspic', 'in', 'both', 'and', 'simulink'], ['using', 'eigen', 'to', 'accelerate', 'simulink', 'matrix', 'multiplication', 'these', 'functions', 'can', 'also', 'be', 'used', 'with', 'simulink', 'coder', 'to', 'accelearte', 'huge', 'matrix', 'multiplication', 'by', 'using', 'avx', 'fma', 'avx', 'sse', 'on', 'platform'], ['en', 'esta', 'serie', 'de', 'prácticas', 'que', 'realice', 'en', 'la', 'universidad', 'se', 'muestran', 'modelos', 'neuronales', 'simulados', 'en', 'simulink', 'dentro', 'de', 'estos', 'modelos', 'se', 'encuentran', 'las', 'neuronas', 'tipo', 'perceptron', 'adeline', 'hebianna', 'así', 'como', 'el', 'modelo', 'integra', 'dispara', 'el', 'modelo', 'hh', 'una', 'red', 'asociativa'], ['example', 'of', 'how', 'to', 'model', 'systems', 'with', 'simulink', 'and', 'generate', 'the', 'code'], ['example', 'of', 'simulink', 'function', 'block', 'implementing', 'redis', 'connector', 'to', 'interact', 'with', 'redis', 'server'], ['example', 'udp', 'receiver', 'and', 'transmitter', 'in', 'unity', 'to', 'communicate', 'unity', 'projects', 'with', 'matlab', 'simulink'], ['examples', 'and', 'exercises', 'for', 'the', 'simulink', 'course'], ['this', 'has', 'examples', 'files', 'for', 'exploring', 'simulink', 'design', 'verifier'], ['examples', 'of', 'mealy', 'and', 'moor', 'state', 'machines', 'in', 'simulink', 'stateflow'], ['examples', 'of', 'simulink', 'models', 'on', 'arduino'], ['falsification', 'of', 'matlab', 'simulink', 'model', 'using', 'deep', 'reinforcement', 'learning'], ['finding', 'the', 'traction', 'energy', 'for', 'an', 'electric', 'vehicle', 'by', 'matlab', 'simulink', 'simulation'], ['fork', 'of', 'https', 'www', 'cqse', 'eu', 'en', 'products', 'simulink', 'library', 'for', 'java', 'overview'], ['full', 'system', 'simulation', 'of', 'the', 'hyperloop', 'pod', 'using', 'simulink', 'for', 'control', 'system', 'design', 'and', 'simscape', 'multibody', 'for', 'cad', 'import', 'of', 'files'], ['hub', 'for', 'crps', 'simulink', 'models'], ['the', 'hybrid', 'equation', 'hyeq', 'toolbox', 'is', 'implemented', 'in', 'matlab', 'simulink', 'for', 'the', 'simulation', 'of', 'hybrid', 'dynamical', 'systems', 'this', 'toolbox', 'is', 'capable', 'of', 'simulating', 'individual', 'and', 'interconnected', 'hybrid', 'systems', 'with', 'inputs', 'examples', 'of', 'systems', 'that', 'can', 'be', 'simulated', 'include', 'bouncing', 'ball', 'on', 'moving', 'platform', 'fireflies', 'synchronizing', 'their', 'flashing', 'and', 'more', 'the', 'simulink', 'implementation', 'includes', 'four', 'basic', 'blocks', 'that', 'define', 'the', 'dynamics', 'of', 'hybrid', 'system', 'these', 'include', 'flow', 'map', 'flow', 'set', 'jump', 'map', 'and', 'jump', 'set', 'the', 'flows', 'and', 'jumps', 'of', 'the', 'system', 'are', 'computed', 'by', 'the', 'integrator', 'system', 'which', 'is', 'comprised', 'of', 'blocks', 'that', 'compute', 'the', 'continuous', 'dynamics', 'of', 'the', 'hybrid', 'system', 'trigger', 'jumps', 'update', 'the', 'state', 'of', 'the', 'system', 'and', 'simulation', 'time', 'at', 'jumps', 'and', 'stop', 'the', 'simulation', 'also', 'includes', 'lite', 'simulator', 'which', 'allows', 'for', 'faster', 'simulation', 'without', 'using', 'simulink'], ['hyperloop', 'model', 'in', 'simulink', 'for', 'collaboration'], ['image', 'processing', 'matlab', 'codes', 'simulink', 'gui', 'and', 'standalone', 'applications'], ['implement', 'generic', 'central', 'difference', 'kalman', 'filter', 'cdkf', 'in', 'matlab', 'simulink', 'matlab', 'system', 'object'], ['my', 'implementation', 'of', 'insulin', 'glucose', 'model', 'on', 'matlab', 'and', 'simulink'], ['implementation', 'of', 'the', 'sbgc', 'api', 'in', 'simulink'], ['matlab', 'implementation', 'simulink', 'model', 'of', 'full', 'wave', 'bridge', 'rectifier'], ['import', 'and', 'export', 'functional', 'mock', 'up', 'units', 'with', 'simulink'], ['code', 'integration', 'in', 'matlab', 'and', 'simulink', 'to', 'control', 'an', 'external', 'interface'], ['small', 'library', 'intended', 'for', 'controlling', 'kuka', 'robots', 'using', 'krc', 'over', 'kuka', 'rsi', 'robot', 'sensor', 'interface', 'from', 'simulink'], ['an', 'interface', 'for', 'controlling', 'kuka', 'iiwa', 'manipulators', 'from', 'simulink'], ['an', 'interface', 'between', 'the', 'open', 'source', 'race', 'car', 'simulator', 'torcs', 'and', 'matlab', 'simulink', 'or', 'anything', 'else'], ['interface', 'between', 'matlab', 'simulink', 'simulations', 'and', 'control', 'based', 'continuation', 'algorithms'], ['irig', 'signal', 'generator', 'code', 'in', 'matlab', 'simulink', 'for', 'use', 'with', 'real', 'time', 'simulators'], ['ivr', 'optimisation', 'and', 'design', 'using', 'matlab', 'and', 'simulink'], ['kinematic', 'modelling', 'and', 'trajectory', 'planning', 'of', 'dof', 'vika', 'robotic', 'arm', 'mounted', 'on', 'rail', 'total', 'dof', 'using', 'matlab', 'and', 'simulink'], ['kontinuierliche', 'analoge', 'simulation', 'einer', 'mit', 'matlab', 'simulink', 'winfact', 'scilab', 'scicos', 'windora'], ['the', 'leanpulse', 'system', 'documents', 'generator', 'syd', 'is', 'powerful', 'tool', 'enabling', 'easy', 'and', 'fast', 'generation', 'of', 'rich', 'pdf', 'documents', 'from', 'your', 'simulink', 'and', 'xcos', 'models'], ['learn', 'the', 'basics', 'of', 'unmanned', 'vehicles', 'using', 'matlab', 'and', 'simulink'], ['linear', 'control', 'models', 'in', 'simulink'], ['main', 'repository', 'for', 'the', 'kugle', 'robot', 'project', 'the', 'repository', 'contains', 'the', 'matlab', 'code', 'and', 'simulink', 'models', 'for', 'the', 'kugle', 'robot', 'developed', 'as', 'part', 'of', 'the', 'master', 'thesis', 'work', 'this', 'includes', 'non', 'linear', 'quaternion', 'ballbot', 'model', 'sliding', 'mode', 'attitude', 'controller', 'quaternion', 'extended', 'kalman', 'filter', 'and', 'acado', 'mpc', 'for', 'path', 'following'], ['massif', 'is', 'matlab', 'simulink', 'integration', 'framework', 'for', 'eclipse'], ['math', 'model', 'of', 'robot', 'for', 'simulink', 'course'], ['matlab', 'simulink', 'client', 'to', 'control', 'crazyflie', 'quadcopter'], ['matlab', 'simulink', 'implementation', 'of', 'path', 'following', 'for', 'remus'], ['matlab', 'simulink', 'laboratory', 'files', 'for', 'the', 'uom', 'rd', 'year', 'control', 'systems', 'ii', 'course'], ['using', 'matlab', 'simulink', 'to', 'model', 'prr', 'robotic', 'arm', 'with', 'pid', 'controllers'], ['matlab', 'simulink', 'model', 'of', 'uuv', 'dynamics'], ['matlab', 'simulink', 'physical', 'layer', 'design', 'for', 'wireless', 'modem'], ['matlab', 'simulink', 'rck', 'project'], ['matlab', 'simulink', 'sample', 'code', 'suite', 'for', 'autoware'], ['matlab', 'simulink', 'shenanigans'], ['matlab', 'simulink', 'toolbox', 'for', 'simulating', 'injection', 'attacks', 'in', 'ics', 'infrastructure'], ['mattrans', 'matlab', 'simulink', 'power', 'system', 'transient', 'stability', 'simulation', 'package'], ['mavlink', 'communication', 'support', 'for', 'simulink'], ['mbed', 'os', 'simulink', 'and', 'embedded', 'coder', 'target'], ['microdaq', 'software', 'package', 'allows', 'using', 'microdaq', 'device', 'with', 'matlab', 'simulink', 'software', 'software', 'can', 'be', 'used', 'for', 'data', 'acquisition', 'and', 'for', 'code', 'generation', 'from', 'simulink', 'diagram', 'external', 'pil', 'standalone', 'application', 'can', 'be', 'generated'], ['mmc', 'hybrid', 'control', 'matlab', 'simulink', 'paper', 'version'], ['modelate', 'and', 'control', 'of', 'syncro', 'drive', 'robot', 'in', 'matlab', 'simulink'], ['modeling', 'rlc', 'circuits', 'response', 'by', 'matlab', 'simulink'], ['modeling', 'and', 'control', 'of', 'vehicle', 'suspension', 'in', 'matlab', 'simulink'], ['modelling', 'and', 'ccntrol', 'of', 'vuarious', 'manipulators', 'using', 'matlab', 'simulink', 'and', 'adams'], ['modulación', 'demodulación', 'de', 'sañales', 'am', 'usando', 'matlab', 'simulink'], ['mysql', 'extension', 'for', 'simulink'], ['this', 'is', 'one', 'of', 'the', 'first', 'approaches', 'to', 'an', 'lte', 'simulink', 'model', 'that', 'was', 'developed', 'in', 'the', 'world', 'back', 'in', 'it', 'is', 'based', 'on', 'turbo', 'coding', 'qam', 'ofdm', 'and', 'pilots'], ['this', 'is', 'the', 'open', 'source', 'project', 'of', 'the', 'dof', 'robot', 'arm', 'simulation', 'based', 'on', 'matlab', 'simulink'], ['an', 'open', 'source', 'software', 'package', 'that', 'enables', 'owners', 'of', 'dvb', 'dongles', 'with', 'an', 'embedded', 'realtek', 'rtl', 'chipset', 'to', 'build', 'models', 'in', 'simulink', 'that', 'interface', 'with', 'the', 'device', 'in', 'realtime'], ['an', 'open', 'source', 'thermodynamic', 'modeling', 'package', 'completed', 'on', 'behalf', 'of', 'nasa', 'the', 'toolbox', 'for', 'the', 'modeling', 'and', 'analysis', 'of', 'thermodynamic', 'systems', 'mats', 'package', 'offers', 'matlab', 'simulink', 'toolbox', 'that', 'gives', 'developer', 'the', 'ability', 'to', 'create', 'simulations', 'of', 'such', 'thermodynamic', 'systems', 'as', 'turbomachinery', 'and', 'gas', 'turbines', 'keywords', 'tmats', 'control', 'system', 'numerical', 'methods', 'newton', 'raphson', 'jacobian', 'calculation', 'propulsion', 'aircraft', 'engine', 'jet', 'turbofan', 'turbojet', 'compressor', 'turbine', 'nozzle', 'inlet', 'open', 'source'], ['outdated', 'matlab', 'and', 'simulink', 'interfaces', 'for', 'aria', 'most', 'up', 'to', 'date', 'code', 'can', 'now', 'be', 'found', 'with', 'the', 'aria', 'library', 'package', 'see', 'website'], ['parametric', 'sweeping', 'in', 'simulink', 'pspice', 'co', 'simulation', 'by', 'programming', 'in', 'matlab'], ['physics', 'simulation', 'using', 'matlab', 'and', 'simulink', 'simscape', 'multibody'], ['pid', 'control', 'project', 'in', 'matlab', 'and', 'simulink', 'for', 'rd', 'year', 'controls', 'course', 'elec', 'at', 'ubc'], ['power', 'electronics', 'circuit', 'simulations', 'in', 'matlab', 'simulink'], ['pressure', 'volume', 'loop', 'modeling', 'and', 'control', 'using', 'simulink'], ['matlab', 'programs', 'and', 'simulink', 'models'], ['this', 'is', 'project', 'where', 'an', 'adaptive', 'flight', 'control', 'based', 'on', 'adaptive', 'control', 'is', 'designed', 'and', 'tested', 'using', 'matlab', 'simulink', 'adaptive', 'control', 'code'], ['project', 'to', 'estimate', 'dynamic', 'parameters', 'and', 'control', 'rrr', 'robot', 'in', 'matlab', 'simulink'], ['this', 'project', 'is', 'fork', 'of', 'truetime', 'library', 'framework', 'for', 'real', 'time', 'simulation', 'of', 'networked', 'control', 'systems', 'in', 'matlab', 'simulink'], ['this', 'project', 'represents', 'the', 'code', 'required', 'to', 'design', 'simulink', 'based', 'processing', 'application', 'to', 'run', 'on', 'an', 'arduino', 'uno', 'for', 'mot'], ['project', 'for', 'stm', 'cubemx', 'matlab', 'simulink'], ['projects', 'done', 'in', 'matlab', 'and', 'simulink'], ['projekt', 'sensorsysteme', 'embedded', 'linux', 'mit', 'pyhton', 'und', 'simulink', 'für', 'ein', 'robotikprojekt'], ['proyectos', 'con', 'fines', 'diversos', 'programados', 'con', 'matlab', 'herramientas', 'propias', 'del', 'mismo', 'como', 'por', 'ejemplo', 'simulink'], ['the', 'purpose', 'of', 'this', 'assignment', 'is', 'to', 'develop', 'skills', 'in', 'simulating', 'the', 'kinematics', 'of', 'robot', 'manipulator', 'and', 'designing', 'controller', 'using', 'simulink', 'and', 'matlab'], ['python', 'and', 'simulink', 'files', 'to', 'send', 'messages', 'through', 'ethernet', 'udp', 'from', 'linux', 'to', 'microautobox'], ['python', 'sphinx', 'plugin', 'to', 'include', 'matlab', 'simulink', 'models', 'diagrams', 'or', 'information', 'into', 'rst', 'documentation'], ['quadrotor', 'uav', 'simulator', 'using', 'matlab', 'simulink', 'and', 'flightgear', 'visualization'], ['control', 'raspberry', 'pi', 'powered', 'robot', 'with', 'matlab', 'and', 'simulink'], ['reactivex', 'enabled', 'simulink', 'framework'], ['for', 'reference', 'only', 'function', 'for', 'simulink', 'integration'], ['the', 'rehamove', 'block', 'for', 'the', 'soft', 'realtime', 'simulink', 'toolbox', 'found', 'at', 'https', 'github', 'com', 'worldwidemv'], ['this', 'repo', 'contain', 'the', 'simulink', 'blockset', 'used', 'during', 'the', 'asgn', 'course', 'held', 'at', 'politecnico', 'di', 'milano'], ['repository', 'that', 'captures', 'the', 'derived', 'lustre', 'and', 'simulink', 'design', 'verifier', 'synchronous', 'observers', 'for', 'the', 'specification', 'patterns', 'work', 'at', 'http', 'patterns', 'projects', 'cis', 'ksu', 'edu'], ['this', 'repository', 'contains', 'the', 'firmware', 'pid', 'tunning', 'on', 'simulink', 'and', 'ros', 'navigation', 'package', 'for', 'self', 'balancing', 'robot'], ['this', 'repository', 'contains', 'matlab', 'simulink', 'model', 'for', 'grappler', 'mechanism', 'for', 'gripping', 'net', 'like', 'structures', 'to', 'low', 'gravity', 'bodies'], ['this', 'repository', 'contains', 'the', 'necessary', 'files', 'setup', 'steps', 'codes', 'to', 'interface', 'the', 'haptic', 'device', 'omega', 'with', 'simulink'], ['this', 'repository', 'contains', 'the', 'code', 'for', 'control', 'tutorial', 'for', 'matlab', 'and', 'simulink'], ['in', 'this', 'repository', 'we', 'will', 'include', 'all', 'the', 'files', 'required', 'to', 'run', 'supply', 'chain', 'simulations', 'implemented', 'in', 'simulink'], ['this', 'repository', 'is', 'modified', 'mcp', 'library', 'for', 'simulink', 'with', 'dual', 'can', 'devices'], ['ros', 'node', 'template', 'to', 'embed', 'simulink', 'generated', 'code'], ['routines', 'for', 'getting', 'mavlink', 'packets', 'from', 'raw', 'data', 'in', 'matlab', 'and', 'simulink', 'real', 'time', 'for', 'use', 'in', 'simulations'], ['run', 'your', 'simulink', 'models', 'as', 'dlls', 'with', 'python'], ['satellite', 'attitude', 'propagator', 'built', 'upon', 'orbit', 'propagator', 'with', 'vrml', 'visualisation', 'option', 'in', 'simulink'], ['this', 'matlab', 'script', 'simulink', 'defines', 'lorenz', 'attractor', 'as', 'it', 'well', 'known', 'by', 'chaotic', 'system', 'it', 'can', 'be', 'used', 'for', 'lot', 'of', 'applications', 'like', 'cryptography', 'and', 'many', 'more'], ['script', 'which', 'tries', 'to', 'run', 'simulink', 'model', 'using', 'the', 'fixed', 'point', 'toolbox'], ['scripts', 'and', 'tools', 'created', 'by', 'adi', 'to', 'be', 'used', 'with', 'matlab', 'and', 'simulink', 'with', 'adi', 'products'], ['set', 'of', 'simulink', 'blocks', 'to', 'explore', 'design', 'verifier', 'in', 'flight', 'controls'], ['set', 'of', 'simulink', 'functions', 'to', 'communicate', 'with', 'ros'], ['simple', 'propagator', 'modeled', 'in', 'simulink'], ['matlab', 'simulink'], ['matlab', 'simulink', 'aplicado', 'em', 'lego', 'nxt', 'mindstorm'], ['this', 'is', 'simulink', 'based', 'quad', 'copter', 'simulation', 'play', 'around'], ['simulink', 'simulation', 'of', 'bldc', 'motor'], ['simulink', 'block', 'function', 'for', 'windows', 'xinput', 'api', 'xbox', 'controller'], ['matlab', 'code', 'and', 'simulink', 'blocks', 'for', 'controlling', 'the', 'kiwi', 'scara', 'robot'], ['simulink', 'blockset', 'that', 'enables', 'owners', 'of', 'uhd', 'compatible', 'universal', 'software', 'radio', 'peripherals', 'usrp', 'from', 'ettus', 'research', 'to', 'build', 'models', 'in', 'matlab', 'simulink', 'that', 'interface', 'with', 'the', 'device', 'in', 'real', 'time'], ['simulink', 'blockset', 'and', 'matlab', 'functions', 'to', 'interface', 'with', 'hackrf', 'devices', 'in', 'real', 'time'], ['matlab', 'simulink', 'codes', 'that', 'are', 'related', 'to', 'my', 'ph', 'thesis', 'work'], ['simulink', 'design', 'verifier', 'applied', 'to', 'autopilot', 'mode', 'transition'], ['simulink', 'design', 'verifier', 'block', 'to', 'switch', 'between', 'proof', 'and', 'test', 'and', 'set', 'requirement', 'tags', 'as', 'well'], ['simulink', 'embedded', 'coder', 'target', 'for', 'microdaq', 'real', 'time', 'measurement', 'system'], ['simulink', 'embedded', 'coder', 'target', 'for', 'ti', 'launchpad'], ['simulink', 'embedded', 'coder', 'target', 'for', 'ti', 'stellaris', 'launchpad'], ['simulink', 'environment', 'to', 'perform', 'flight', 'simulations', 'and', 'to', 'verify', 'control', 'algorithms'], ['matlab', 'and', 'simulink', 'files', 'for', 'modeling', 'and', 'simulation', 'of', 'robotis', 'openmanipulator'], ['simulink', 'framework', 'to', 'run', 'mil', 'sil', 'and', 'hil', 'this', 'example', 'simulates', 'udp', 'client'], ['matlab', 'simulink', 'code', 'generation', 'library', 'for', 'arduino', 'sparkfun', 'can', 'bus', 'shield'], ['simulink', 'implementation', 'of', 'the', 'geometric', 'controller', 'on', 'simple', 'crazyflie', 'model'], ['simulink', 'implementations', 'of', 'sliding', 'mode', 'and', 'lqr', 'controller', 'for', 'rotary', 'inverted', 'pendulum'], ['simulink', 'integration', 'for', 'openmeta', 'built', 'using', 'generic', 'interfaces'], ['simulink', 'libraries', 'for', 'qbmove', 'device', 'and', 'customizations'], ['this', 'simulink', 'library', 'add', 'on', 'provides', 'an', 'obd', 'block', 'for', 'basic', 'vehicle', 'diagnostics'], ['this', 'simulink', 'model', 'connects', 'to', 'gazebo', 'simulator', 'for', 'simple', 'kinematic', 'control'], ['simulink', 'model', 'for', 'cs', 'tfm', 'and', 'class', 'estimators'], ['simulink', 'model', 'of', 'the', 'longitudinal', 'control', 'of', 'tesla', 'model'], ['simulink', 'model', 'of', 'multiloop', 'pid', 'control', 'of', 'the', 'mass', 'outflow', 'and', 'height', 'in', 'buffer', 'silo', 'using', 'single', 'measurement'], ['simulink', 'model', 'of', 'planar', 'arm', 'movements', 'for', 'real', 'time', 'control'], ['simulink', 'model', 'for', 'quaternion', 'based', 'satellite', 'attitude', 'dynamics', 'and', 'control'], ['simulink', 'model', 'to', 'simulate', 'low', 'pass', 'high', 'pass', 'band', 'pass', 'band', 'reject', 'and', 'laplacian', 'filter'], ['simulink', 'models', 'used', 'in', 'conjunction', 'with', 'the', 'catvehicle', 'project'], ['simulink', 'models', 'for', 'electric', 'power', 'systems', 'use', 'cases'], ['simulink', 'models', 'and', 'matlab', 'functions', 'associated', 'with', 'the', 'manuscript', 'anticipation', 'from', 'sensation', 'using', 'anticipating', 'synchronisation', 'to', 'stabilise', 'system', 'with', 'inherent', 'sensory', 'delay'], ['matlab', 'simulink', 'models', 'made', 'for', 'course', 'ecm', 'during', 'fall', 'sem'], ['simulink', 'models', 'for', 'speech', 'and', 'audio', 'processing'], ['simulink', 'models', 'of', 'the', 'spherical', 'ball', 'robot'], ['simulink', 'models', 'of', 'some', 'techniques'], ['simulink', 'parser', 'using', 'pyparsing'], ['matlab', 'and', 'simulink', 'project', 'the', 'purpose', 'is', 'to', 'control', 'the', 'altitude', 'of', 'cessna', 'citation', 'aircraft'], ['simulink', 'protobuf', 'modulue'], ['matlab', 'simulink', 'robot', 'struct', 'command', 'modelisation'], ['matlab', 'simulink', 'script', 'for', 'circuit', 'analysis', 'of', 'lambda', 'resonator', 'for', 'arc', 'experiments'], ['simulink', 'library', 'for', 'silicon', 'photonics', 'systems', 'simulation'], ['simulink', 'simulations', 'of', 'the', 'mechatronics', 'systems'], ['simulink', 'software', 'for', 'the', 'mpc', 'based', 'embedded', 'robot', 'controller'], ['matlab', 'and', 'simulink', 'software', 'and', 'tools'], ['matlab', 'simulink', 'simulation', 'of', 'spo'], ['simulink', 'toolchain', 'repository', 'for', 'soft', 'realtime', 'code', 'generation', 'with', 'the', 'basic', 'structure', 'utilising', 'git', 'submodules', 'and', 'some', 'managment', 'scripts'], ['this', 'is', 'simulink', 'toolkit', 'for', 'predicting', 'the', 'behaviour', 'of', 'thermoelectric', 'generator'], ['simulink', 'tools', 'to', 'optimally', 'connect', 'different', 'subsystems'], ['matlab', 'simulink', 'library', 'to', 'work', 'with', 'the', 'scientific', 'data', 'format'], ['simulink', 'matlab', 'library', 'and', 'target', 'for', 'data', 'aquisition', 'via', 'the', 'beaglebone', 'black', 'in', 'real', 'time'], ['simulink工具箱'], ['software', 'in', 'the', 'loop', 'simulation', 'using', 'simulink', 'of', 'robot', 'based', 'on', 'the', 'model', 'described', 'in', 'http', 'www', 'csl', 'sri', 'com', 'shankar', 'modelrob', 'tar'], ['software', 'for', 'self', 'driving', 'model', 'car', 'with', 'cortex', 'and', 'matlab', 'simulink'], ['source', 'code', 'for', 'beginning', 'matlab', 'and', 'simulink', 'by', 'sulaymon', 'eshkabilov'], ['source', 'codes', 'and', 'models', 'for', 'manuscript', 'simulink', 'model', 'for', 'pwm', 'supplied', 'laminated', 'magnetic', 'cores', 'including', 'hysteresis', 'eddy', 'current', 'and', 'excess', 'losses'], ['specification', 'and', 'simulink', 'models', 'of', 'the', 'space', 'shuttle', 'on', 'orbit', 'flight', 'control', 'system'], ['stimela', 'is', 'an', 'environment', 'for', 'standardised', 'mathematical', 'models', 'of', 'drinking', 'water', 'treatment', 'processes', 'in', 'matlab', 'simulink'], ['stm', 'pil', 'example', 'in', 'simulink'], ['symbolic', 'and', 'concrete', 'execution', 'environment', 'for', 'simulink'], ['synthesis', 'of', 'ss', 'controller', 'in', 'matlab', 'using', 'simulink'], ['test', 'oracle', 'tool', 'for', 'simulink', 'models', 'matlab'], ['the', 'thermal', 'systems', 'analysis', 'toolbox', 'tsat', 'is', 'matlab', 'simulink', 'based', 'tool', 'for', 'modeling', 'and', 'analysis', 'of', 'dynamic', 'thermal', 'systems', 'involving', 'heat', 'transfer', 'it', 'is', 'best', 'suited', 'for', 'and', 'heat', 'transfer', 'involving', 'solid', 'planar', 'and', 'cylindrical', 'structures', 'however', 'the', 'toolset', 'is', 'more', 'extensive', 'than', 'this', 'the', 'tools', 'enable', 'consideration', 'of', 'conduction', 'convection', 'and', 'radiation', 'boundary', 'conditions', 'some', 'advanced', 'capabilities', 'are', 'provided', 'when', 'it', 'comes', 'to', 'approximating', 'conduction', 'within', 'non', 'isotropic', 'materials', 'structures', 'with', 'material', 'transitions', 'and', 'structures', 'with', 'time', 'varying', 'temperature', 'dependent', 'material', 'properties', 'numerous', 'tools', 'are', 'available', 'to', 'facilitate', 'the', 'construction', 'of', 'modular', 'models', 'of', 'thermal', 'systems', 'and', 'their', 'integration', 'with', 'larger', 'system', 'models'], ['real', 'time', 'single', 'object', 'tracking', 'in', 'matlab', 'simulink', 'with', 'kinect'], ['tool', 'to', 'compile', 'bladed', 'style', 'dll', 'controller', 'from', 'simulink', 'for', 'use', 'in', 'openfast', 'or', 'bladed'], ['toolbox', 'for', 'efficient', 'parameter', 'and', 'structure', 'variation', 'of', 'simulation', 'models', 'in', 'simulink'], ['tools', 'for', 'generating', 'cfs', 'eci', 'compatible', 'code', 'from', 'simulink', 'models'], ['transformation', 'of', 'simulink', 'models', 'to', 'depm'], ['truetime', 'is', 'matlab', 'simulink', 'based', 'simulator', 'for', 'real', 'time', 'control', 'systems'], ['the', 'uio', 'is', 'reviewed', 'in', 'pdf', 'file', 'and', 'simulink', 'examples', 'from', 'control', 'theory', 'are', 'given'], ['use', 'simulink', 'to', 'make', 'little', 'demo', 'of', 'noise', 'canceling', 'headphone', 'project', 'of', 'signals', 'and', 'systems', 'spr', 'sist', 'shanghaitech', 'university'], ['various', 'simulink', 'patches'], ['vector', 'to', 'bus', 'conversion', 'in', 'simulink'], ['watchdog', 'timer', 'and', 'counter', 'for', 'simulink'], ['wind', 'turbine', 'dynamics', 'wtd', 'library', 'features', 'group', 'of', 'simulink', 'blocks', 'for', 'simulation', 'of', 'dynamic', 'response', 'of', 'generic', 'models', 'of', 'wind', 'turbine', 'generators', 'wtg', 'on', 'power', 'system', 'disturbances', 'which', 'includes', 'the', 'general', 'electric', 'ge', 'doubly', 'fed', 'induction', 'generator', 'dfig', 'model', 'the', 'wtd', 'library', 'features', 'set', 'of', 'simulink', 'blocks', 'that', 'models', 'ge', 'dfig', 'as', 'well', 'as', 'conventional', 'steam', 'and', 'hydro', 'generating', 'units', 'that', 'are', 'connected', 'to', 'transmission', 'grid', 'the', 'library', 'also', 'includes', 'set', 'of', 'matlab', 'and', 'functions', 'which', 'are', 'used', 'for', 'power', 'flow', 'calculation', 'and', 'initialization', 'of', 'state', 'variables', 'of', 'the', 'models', 'of', 'ge', 'dfig', 'and', 'conventional', 'steam', 'and', 'hydro', 'generating', 'units', 'the', 'wtd', 'library', 'is', 'an', 'open', 'source', 'simulation', 'tool', 'primarily', 'aimed', 'for', 'educational', 'research', 'purpose', 'since', 'it', 'enables', 'incorporation', 'of', 'user', 'defined', 'simulink', 'models', 'the', 'library', 'is', 'especially', 'suitable', 'for', 'development', 'and', 'testing', 'of', 'new', 'algorithms', 'for', 'the', 'control', 'of', 'wtg', 'like', 'virtual', 'inertia', 'and', 'primary', 'frequency', 'control', 'algorithms'], ['интерфейс', 'обмена', 'данными', 'между', 'simulink', 'desktop', 'real', 'time', 'внешними', 'scada', 'системами', 'по', 'протоколу', 'мэк'], ['使用python编写强化学习', 'rl', '代码']]\n"
          ]
        }
      ]
    },
    {
      "cell_type": "code",
      "metadata": {
        "colab": {
          "base_uri": "https://localhost:8080/"
        },
        "id": "o4fQ9HnuptSJ",
        "outputId": "6cf31e24-18be-4b76-866f-82a555fb4172"
      },
      "source": [
        "###MATC\n",
        "model = gensim.models.Word2Vec(size=150, window=10, min_count=2, sg=1, workers=10)\n",
        "model_vocab = model.build_vocab(documents_mat)  # prepare the model vocabulary\n",
        "model.train(sentences=documents_mat, total_examples=len(documents_mat), epochs=model.iter)\n",
        "\n",
        "###GIT\n",
        "model_git = gensim.models.Word2Vec(size=150, window=10, min_count=2, sg=1, workers=10)\n",
        "model_git.build_vocab(documents_git)  # prepare the model vocabulary\n",
        "model_git.train(sentences=documents_git, total_examples=len(documents_git), epochs=model_git.iter)"
      ],
      "execution_count": 297,
      "outputs": [
        {
          "output_type": "stream",
          "name": "stderr",
          "text": [
            "/usr/local/lib/python3.7/dist-packages/ipykernel_launcher.py:4: DeprecationWarning: Call to deprecated `iter` (Attribute will be removed in 4.0.0, use self.epochs instead).\n",
            "  after removing the cwd from sys.path.\n",
            "/usr/local/lib/python3.7/dist-packages/ipykernel_launcher.py:9: DeprecationWarning: Call to deprecated `iter` (Attribute will be removed in 4.0.0, use self.epochs instead).\n",
            "  if __name__ == '__main__':\n"
          ]
        },
        {
          "output_type": "execute_result",
          "data": {
            "text/plain": [
              "(5526, 14350)"
            ]
          },
          "metadata": {},
          "execution_count": 297
        }
      ]
    },
    {
      "cell_type": "code",
      "metadata": {
        "id": "E8ns2vk2pxVi"
      },
      "source": [
        "def vectorize(list_of_docs, model):\n",
        "    \"\"\"Generate vectors for list of documents using a Word Embedding\n",
        "\n",
        "    Args:\n",
        "        list_of_docs: List of documents\n",
        "        model: Gensim's Word Embedding\n",
        "\n",
        "    Returns:\n",
        "        List of document vectors\n",
        "    \"\"\"\n",
        "    features = []\n",
        "\n",
        "    for tokens in list_of_docs:\n",
        "        zero_vector = np.zeros(model.vector_size)\n",
        "        vectors = []\n",
        "        for token in tokens:\n",
        "            if token in model.wv:\n",
        "                try:\n",
        "                    vectors.append(model.wv[token])\n",
        "                except KeyError:\n",
        "                    continue\n",
        "        if vectors:\n",
        "            vectors = np.asarray(vectors)\n",
        "            avg_vec = vectors.mean(axis=0)\n",
        "            features.append(avg_vec)\n",
        "        else:\n",
        "            features.append(zero_vector)\n",
        "    return features\n"
      ],
      "execution_count": 298,
      "outputs": []
    },
    {
      "cell_type": "code",
      "metadata": {
        "colab": {
          "base_uri": "https://localhost:8080/"
        },
        "id": "iI3BDPvCDRta",
        "outputId": "2008ee63-aff5-42bf-bd9e-2f0c4a0f66ad"
      },
      "source": [
        "vectorized_docs = vectorize(documents_mat, model=model)\n",
        "len(vectorized_docs), len(vectorized_docs[0])"
      ],
      "execution_count": 299,
      "outputs": [
        {
          "output_type": "execute_result",
          "data": {
            "text/plain": [
              "(2234, 150)"
            ]
          },
          "metadata": {},
          "execution_count": 299
        }
      ]
    },
    {
      "cell_type": "code",
      "metadata": {
        "id": "8xshDX7nD--f"
      },
      "source": [
        "def mbkmeans_clusters(\n",
        "\tX, \n",
        "    k, \n",
        "    mb, \n",
        "    print_silhouette_values, \n",
        "):\n",
        "    \"\"\"Generate clusters and print Silhouette metrics using MBKmeans\n",
        "\n",
        "    Args:\n",
        "        X: Matrix of features.\n",
        "        k: Number of clusters.\n",
        "        mb: Size of mini-batches.\n",
        "        print_silhouette_values: Print silhouette values per cluster.\n",
        "\n",
        "    Returns:\n",
        "        Trained clustering model and labels based on X.\n",
        "    \"\"\"\n",
        "    km = MiniBatchKMeans(n_clusters=k, batch_size=mb).fit(X)\n",
        "    print(f\"For n_clusters = {k}\")\n",
        "    print(f\"Silhouette coefficient: {silhouette_score(X, km.labels_):0.2f}\")\n",
        "    print(f\"Inertia:{km.inertia_}\")\n",
        "\n",
        "    if print_silhouette_values:\n",
        "        sample_silhouette_values = silhouette_samples(X, km.labels_)\n",
        "        print(f\"Silhouette values:\")\n",
        "        silhouette_values = []\n",
        "        for i in range(k):\n",
        "            cluster_silhouette_values = sample_silhouette_values[km.labels_ == i]\n",
        "            silhouette_values.append(\n",
        "                (\n",
        "                    i,\n",
        "                    cluster_silhouette_values.shape[0],\n",
        "                    cluster_silhouette_values.mean(),\n",
        "                    cluster_silhouette_values.min(),\n",
        "                    cluster_silhouette_values.max(),\n",
        "                )\n",
        "            )\n",
        "        silhouette_values = sorted(\n",
        "            silhouette_values, key=lambda tup: tup[2], reverse=True\n",
        "        )\n",
        "        for s in silhouette_values:\n",
        "            print(\n",
        "                f\"    Cluster {s[0]}: Size:{s[1]} | Avg:{s[2]:.2f} | Min:{s[3]:.2f} | Max: {s[4]:.2f}\"\n",
        "            )\n",
        "    return km, km.labels_"
      ],
      "execution_count": 300,
      "outputs": []
    },
    {
      "cell_type": "code",
      "metadata": {
        "colab": {
          "base_uri": "https://localhost:8080/"
        },
        "id": "iKvq_h9kDcVc",
        "outputId": "7d0f81b1-93d3-4dfd-ddbb-28e4ed1b9862"
      },
      "source": [
        "clustering, cluster_labels = mbkmeans_clusters(\n",
        "\tX=vectorized_docs,\n",
        "    k=20,\n",
        "    mb=500,\n",
        "    print_silhouette_values=True,\n",
        ")\n",
        "df_clusters = pd.DataFrame({\n",
        "    \"tokens\": [\" \".join(text) for text in documents_mat],\n",
        "    \"cluster\": cluster_labels\n",
        "})"
      ],
      "execution_count": 301,
      "outputs": [
        {
          "output_type": "stream",
          "name": "stdout",
          "text": [
            "For n_clusters = 20\n",
            "Silhouette coefficient: 0.18\n",
            "Inertia:283.9184511707452\n",
            "Silhouette values:\n",
            "    Cluster 15: Size:35 | Avg:0.86 | Min:0.21 | Max: 0.93\n",
            "    Cluster 12: Size:15 | Avg:0.67 | Min:0.35 | Max: 0.75\n",
            "    Cluster 5: Size:73 | Avg:0.38 | Min:-0.03 | Max: 0.57\n",
            "    Cluster 9: Size:76 | Avg:0.29 | Min:-0.13 | Max: 0.53\n",
            "    Cluster 16: Size:70 | Avg:0.28 | Min:-0.06 | Max: 0.52\n",
            "    Cluster 7: Size:105 | Avg:0.26 | Min:-0.01 | Max: 0.47\n",
            "    Cluster 10: Size:94 | Avg:0.24 | Min:0.03 | Max: 0.46\n",
            "    Cluster 8: Size:53 | Avg:0.24 | Min:-0.02 | Max: 0.44\n",
            "    Cluster 0: Size:164 | Avg:0.24 | Min:-0.01 | Max: 0.48\n",
            "    Cluster 11: Size:217 | Avg:0.20 | Min:-0.08 | Max: 0.41\n",
            "    Cluster 2: Size:59 | Avg:0.19 | Min:-0.06 | Max: 0.45\n",
            "    Cluster 19: Size:126 | Avg:0.18 | Min:-0.09 | Max: 0.41\n",
            "    Cluster 13: Size:97 | Avg:0.17 | Min:-0.06 | Max: 0.39\n",
            "    Cluster 17: Size:76 | Avg:0.17 | Min:-0.02 | Max: 0.38\n",
            "    Cluster 4: Size:51 | Avg:0.16 | Min:-0.11 | Max: 0.38\n",
            "    Cluster 18: Size:160 | Avg:0.13 | Min:-0.14 | Max: 0.34\n",
            "    Cluster 1: Size:164 | Avg:0.12 | Min:-0.18 | Max: 0.37\n",
            "    Cluster 14: Size:119 | Avg:0.11 | Min:-0.12 | Max: 0.32\n",
            "    Cluster 6: Size:170 | Avg:0.09 | Min:-0.16 | Max: 0.30\n",
            "    Cluster 3: Size:310 | Avg:0.05 | Min:-0.23 | Max: 0.28\n"
          ]
        }
      ]
    },
    {
      "cell_type": "code",
      "metadata": {
        "colab": {
          "base_uri": "https://localhost:8080/"
        },
        "id": "eCcaPl3HQZko",
        "outputId": "10c41ae3-6b01-46c9-ddae-98af1da7689b"
      },
      "source": [
        "print(\"Most representative terms per cluster (based on centroids):\")\n",
        "for i in range(15):\n",
        "    tokens_per_cluster = \"\"\n",
        "    most_representative = model.wv.most_similar(positive=[clustering.cluster_centers_[i]], topn=10)\n",
        "    for t in most_representative:\n",
        "        tokens_per_cluster += f\"{t[0]} \"\n",
        "    print(f\"Cluster {i}: {tokens_per_cluster}\")"
      ],
      "execution_count": 337,
      "outputs": [
        {
          "output_type": "stream",
          "name": "stdout",
          "text": [
            "Most representative terms per cluster (based on centroids):\n",
            "Cluster 0: sinusoidal diode cycloconverter factor sim wave band inverters thyristor switching \n",
            "Cluster 1: example signals sine component gaussian modulator small thd dsp simulink \n",
            "Cluster 2: step circuitry source converters ratio sepic open smps how duty \n",
            "Cluster 3: kinect library mask support medical script instrument block graph live \n",
            "Cluster 4: vf closed machines speed mathematical svm feedback drives ac asynchronous \n",
            "Cluster 5: buckboost chopper buck dcdc controlled converter how voltage current bidirectional \n",
            "Cluster 6: isolated cyclo variable acdc sampling angle quasi regular switch acac \n",
            "Cluster 7: drone clock propagation graduation uav ethernet patterns from memory csmacd \n",
            "Cluster 8: photovoltaic grid renewable pv energy irradiance mppt hybrid solar fuel \n",
            "Cluster 9: simelectronics simpowersystems hev simhydraulics simdriveline simscape mechanical language multibody dynamics \n",
            "Cluster 10: design feedback dynamic modelling observer bldc motors sensorless tuning pmsm \n",
            "Cluster 11: mat ultracapacitor ground practical why lineaire modular trying short pharmaceutical \n",
            "Cluster 12: ieee bus flow analysis loadflow fault benchmark standardized protection relay \n",
            "Cluster 13: coding communication communications video channel audio using technique equalizer encoder \n",
            "Cluster 14: intelligent statcom renewable irradiance resourses transformer grid stability array management \n"
          ]
        }
      ]
    },
    {
      "cell_type": "code",
      "metadata": {
        "id": "3tnbvgpkqAV3"
      },
      "source": [
        "#Convert numpy to DF and take mean of the word2vec vectors\n",
        "np_array_mat = np.array(vectorized_docs)\n",
        "np_array_mat=np.around(np_array_mat,decimals=4)\n",
        "df_mat_word2vec=pd.DataFrame(np_array_mat)\n",
        "#print(df)\n",
        "df_mat_word2vec=df_mat_word2vec.mean(axis=1)\n",
        "#print(df_mat_word2vec)\n",
        "df_concat_mat_word2vec = pd.concat([merged_matc,df_mat_word2vec], axis=1)\n",
        "#print(df_concat_mat_word2vec.head())\n",
        "\n",
        "\n",
        "vectorized_docs_git = vectorize(documents_git, model=model_git)\n",
        "len(vectorized_docs_git), len(vectorized_docs_git[0])\n",
        "np_array_git = np.array(vectorized_docs_git)\n",
        "np_array_git=np.around(np_array_git,decimals=4)\n",
        "df_git_word2vec=pd.DataFrame(np_array_git)\n",
        "#print(df2)\n",
        "df_git_word2vec=df_git_word2vec.mean(axis=1)\n",
        "#print(df_git_word2vec)\n",
        "df_concat_git_word2vec = pd.concat([merged_Github,df_git_word2vec], axis=1)\n",
        "#print(df_concat_git_word2vec.head())"
      ],
      "execution_count": 302,
      "outputs": []
    },
    {
      "cell_type": "code",
      "metadata": {
        "colab": {
          "base_uri": "https://localhost:8080/"
        },
        "id": "rKFHm_XY1JzX",
        "outputId": "d97719b7-65d3-4658-8685-00b099c1b128"
      },
      "source": [
        "print(df_concat_mat_word2vec.columns)"
      ],
      "execution_count": 303,
      "outputs": [
        {
          "output_type": "stream",
          "name": "stdout",
          "text": [
            "Index([            'FILE_ID',               'title',         'author_name',\n",
            "                   'summary',             'content',            'category',\n",
            "            'num_model_file',    'SCHK_Block_count', 'Agg_SubSystem_count',\n",
            "           'Hierarchy_depth', 'LibraryLinked_Count',     'total_ConnH_cnt',\n",
            "                           0],\n",
            "      dtype='object')\n"
          ]
        }
      ]
    },
    {
      "cell_type": "code",
      "metadata": {
        "colab": {
          "base_uri": "https://localhost:8080/",
          "height": 449
        },
        "id": "TAbo403CrSkX",
        "outputId": "7b177939-2f95-43e7-cddf-2839406ea948"
      },
      "source": [
        "df_concat_git_word2vec.head()"
      ],
      "execution_count": 304,
      "outputs": [
        {
          "output_type": "execute_result",
          "data": {
            "text/html": [
              "<div>\n",
              "<style scoped>\n",
              "    .dataframe tbody tr th:only-of-type {\n",
              "        vertical-align: middle;\n",
              "    }\n",
              "\n",
              "    .dataframe tbody tr th {\n",
              "        vertical-align: top;\n",
              "    }\n",
              "\n",
              "    .dataframe thead th {\n",
              "        text-align: right;\n",
              "    }\n",
              "</style>\n",
              "<table border=\"1\" class=\"dataframe\">\n",
              "  <thead>\n",
              "    <tr style=\"text-align: right;\">\n",
              "      <th></th>\n",
              "      <th>FILE_ID</th>\n",
              "      <th>owner_name</th>\n",
              "      <th>Description</th>\n",
              "      <th>language</th>\n",
              "      <th>Topics</th>\n",
              "      <th>num_model_file</th>\n",
              "      <th>SCHK_Block_count</th>\n",
              "      <th>Agg_SubSystem_count</th>\n",
              "      <th>Hierarchy_depth</th>\n",
              "      <th>LibraryLinked_Count</th>\n",
              "      <th>total_ConnH_cnt</th>\n",
              "      <th>stemmed</th>\n",
              "      <th>0</th>\n",
              "    </tr>\n",
              "  </thead>\n",
              "  <tbody>\n",
              "    <tr>\n",
              "      <th>0</th>\n",
              "      <td>789683</td>\n",
              "      <td>Susurrus</td>\n",
              "      <td>An ECAN library for the dsPIC33f in both C and...</td>\n",
              "      <td>C</td>\n",
              "      <td>NaN</td>\n",
              "      <td>3</td>\n",
              "      <td>50</td>\n",
              "      <td>11</td>\n",
              "      <td>3</td>\n",
              "      <td>6</td>\n",
              "      <td>33</td>\n",
              "      <td>an ecan librari for the dspic33f in both c and...</td>\n",
              "      <td>-0.002911</td>\n",
              "    </tr>\n",
              "    <tr>\n",
              "      <th>1</th>\n",
              "      <td>919495</td>\n",
              "      <td>sfischme</td>\n",
              "      <td>TrueTime is a Matlab/Simulink-based simulator ...</td>\n",
              "      <td>C++</td>\n",
              "      <td>NaN</td>\n",
              "      <td>22</td>\n",
              "      <td>921</td>\n",
              "      <td>150</td>\n",
              "      <td>3</td>\n",
              "      <td>83</td>\n",
              "      <td>905</td>\n",
              "      <td>truetim is a matlab/simulink-bas simul for rea...</td>\n",
              "      <td>-0.002229</td>\n",
              "    </tr>\n",
              "    <tr>\n",
              "      <th>2</th>\n",
              "      <td>4608325</td>\n",
              "      <td>kyak</td>\n",
              "      <td>Simulink (Embedded Coder) Target for TI LaunchPad</td>\n",
              "      <td>Matlab</td>\n",
              "      <td>NaN</td>\n",
              "      <td>11</td>\n",
              "      <td>382</td>\n",
              "      <td>55</td>\n",
              "      <td>3</td>\n",
              "      <td>20</td>\n",
              "      <td>243</td>\n",
              "      <td>simulink embed coder target for ti launchpad</td>\n",
              "      <td>-0.002257</td>\n",
              "    </tr>\n",
              "    <tr>\n",
              "      <th>3</th>\n",
              "      <td>5480060</td>\n",
              "      <td>kit-cel</td>\n",
              "      <td>An Open Source Software Package that enables o...</td>\n",
              "      <td>C++</td>\n",
              "      <td>NaN</td>\n",
              "      <td>2</td>\n",
              "      <td>3</td>\n",
              "      <td>0</td>\n",
              "      <td>1</td>\n",
              "      <td>1</td>\n",
              "      <td>1</td>\n",
              "      <td>an open sourc softwar packag that enabl owner ...</td>\n",
              "      <td>-0.003200</td>\n",
              "    </tr>\n",
              "    <tr>\n",
              "      <th>4</th>\n",
              "      <td>5791243</td>\n",
              "      <td>kit-cel</td>\n",
              "      <td>A Simulink blockset that enables owners of UHD...</td>\n",
              "      <td>C++</td>\n",
              "      <td>NaN</td>\n",
              "      <td>2</td>\n",
              "      <td>3</td>\n",
              "      <td>0</td>\n",
              "      <td>1</td>\n",
              "      <td>1</td>\n",
              "      <td>1</td>\n",
              "      <td>a simulink blockset that enabl owner of uhd-co...</td>\n",
              "      <td>-0.002976</td>\n",
              "    </tr>\n",
              "  </tbody>\n",
              "</table>\n",
              "</div>"
            ],
            "text/plain": [
              "   FILE_ID  ...         0\n",
              "0   789683  ... -0.002911\n",
              "1   919495  ... -0.002229\n",
              "2  4608325  ... -0.002257\n",
              "3  5480060  ... -0.003200\n",
              "4  5791243  ... -0.002976\n",
              "\n",
              "[5 rows x 13 columns]"
            ]
          },
          "metadata": {},
          "execution_count": 304
        }
      ]
    },
    {
      "cell_type": "code",
      "metadata": {
        "colab": {
          "base_uri": "https://localhost:8080/"
        },
        "id": "BZcEgqvYuO5v",
        "outputId": "796726ae-ff86-4ec2-f528-66c76992fc24"
      },
      "source": [
        "df_concat_git_word2vec.shape"
      ],
      "execution_count": 305,
      "outputs": [
        {
          "output_type": "execute_result",
          "data": {
            "text/plain": [
              "(216, 13)"
            ]
          },
          "metadata": {},
          "execution_count": 305
        }
      ]
    },
    {
      "cell_type": "code",
      "metadata": {
        "colab": {
          "base_uri": "https://localhost:8080/"
        },
        "id": "Y102laeQwjJv",
        "outputId": "ec4bc5ee-db95-42be-8780-392ed7e9dbd2"
      },
      "source": [
        "df_concat_mat_word2vec.shape"
      ],
      "execution_count": 306,
      "outputs": [
        {
          "output_type": "execute_result",
          "data": {
            "text/plain": [
              "(2619, 13)"
            ]
          },
          "metadata": {},
          "execution_count": 306
        }
      ]
    },
    {
      "cell_type": "code",
      "metadata": {
        "colab": {
          "base_uri": "https://localhost:8080/",
          "height": 1000
        },
        "id": "pkHx-tO_repw",
        "outputId": "0433f172-91c2-4ac0-c358-32e8fa0c183d"
      },
      "source": [
        "df_concat_mat_word2vec.head(20)"
      ],
      "execution_count": 307,
      "outputs": [
        {
          "output_type": "execute_result",
          "data": {
            "text/html": [
              "<div>\n",
              "<style scoped>\n",
              "    .dataframe tbody tr th:only-of-type {\n",
              "        vertical-align: middle;\n",
              "    }\n",
              "\n",
              "    .dataframe tbody tr th {\n",
              "        vertical-align: top;\n",
              "    }\n",
              "\n",
              "    .dataframe thead th {\n",
              "        text-align: right;\n",
              "    }\n",
              "</style>\n",
              "<table border=\"1\" class=\"dataframe\">\n",
              "  <thead>\n",
              "    <tr style=\"text-align: right;\">\n",
              "      <th></th>\n",
              "      <th>FILE_ID</th>\n",
              "      <th>title</th>\n",
              "      <th>author_name</th>\n",
              "      <th>summary</th>\n",
              "      <th>content</th>\n",
              "      <th>category</th>\n",
              "      <th>num_model_file</th>\n",
              "      <th>SCHK_Block_count</th>\n",
              "      <th>Agg_SubSystem_count</th>\n",
              "      <th>Hierarchy_depth</th>\n",
              "      <th>LibraryLinked_Count</th>\n",
              "      <th>total_ConnH_cnt</th>\n",
              "      <th>0</th>\n",
              "    </tr>\n",
              "  </thead>\n",
              "  <tbody>\n",
              "    <tr>\n",
              "      <th>0</th>\n",
              "      <td>NaN</td>\n",
              "      <td>NaN</td>\n",
              "      <td>NaN</td>\n",
              "      <td>NaN</td>\n",
              "      <td>NaN</td>\n",
              "      <td>NaN</td>\n",
              "      <td>NaN</td>\n",
              "      <td>NaN</td>\n",
              "      <td>NaN</td>\n",
              "      <td>NaN</td>\n",
              "      <td>NaN</td>\n",
              "      <td>NaN</td>\n",
              "      <td>0.024430</td>\n",
              "    </tr>\n",
              "    <tr>\n",
              "      <th>1</th>\n",
              "      <td>NaN</td>\n",
              "      <td>NaN</td>\n",
              "      <td>NaN</td>\n",
              "      <td>NaN</td>\n",
              "      <td>NaN</td>\n",
              "      <td>NaN</td>\n",
              "      <td>NaN</td>\n",
              "      <td>NaN</td>\n",
              "      <td>NaN</td>\n",
              "      <td>NaN</td>\n",
              "      <td>NaN</td>\n",
              "      <td>NaN</td>\n",
              "      <td>0.016128</td>\n",
              "    </tr>\n",
              "    <tr>\n",
              "      <th>2</th>\n",
              "      <td>722.0</td>\n",
              "      <td>Bluetooth modulation and frequency hopping</td>\n",
              "      <td>Stuart McGarrity</td>\n",
              "      <td>Bluetooth modulation and frequency hopping</td>\n",
              "      <td>&lt;p&gt;Simulink® model of a simple Bluetooth® wire...</td>\n",
              "      <td>bluetooth,frequency,hopping,network,wireless,b...</td>\n",
              "      <td>2.0</td>\n",
              "      <td>90.0</td>\n",
              "      <td>10.0</td>\n",
              "      <td>2.0</td>\n",
              "      <td>0.0</td>\n",
              "      <td>72.0</td>\n",
              "      <td>0.005309</td>\n",
              "    </tr>\n",
              "    <tr>\n",
              "      <th>3</th>\n",
              "      <td>724.0</td>\n",
              "      <td>DTMF generator and receiver</td>\n",
              "      <td>Stuart McGarrity</td>\n",
              "      <td>DTMF generator and receiver</td>\n",
              "      <td>&lt;p&gt;Simulink® model of a dual-tone multi-freque...</td>\n",
              "      <td>communications,dtmf,dual tone,multi frequency,...</td>\n",
              "      <td>2.0</td>\n",
              "      <td>388.0</td>\n",
              "      <td>56.0</td>\n",
              "      <td>5.0</td>\n",
              "      <td>0.0</td>\n",
              "      <td>344.0</td>\n",
              "      <td>0.005948</td>\n",
              "    </tr>\n",
              "    <tr>\n",
              "      <th>4</th>\n",
              "      <td>746.0</td>\n",
              "      <td>IS-95A CDMA Power Control</td>\n",
              "      <td>Stuart McGarrity</td>\n",
              "      <td>IS-95A CDMA Power Control</td>\n",
              "      <td>&lt;p&gt;Simulink® and Stateflow® model of IS-95A CD...</td>\n",
              "      <td>cdma,is95a,phy,pn,pn string,power control,reve...</td>\n",
              "      <td>1.0</td>\n",
              "      <td>283.0</td>\n",
              "      <td>24.0</td>\n",
              "      <td>6.0</td>\n",
              "      <td>0.0</td>\n",
              "      <td>279.0</td>\n",
              "      <td>0.023024</td>\n",
              "    </tr>\n",
              "    <tr>\n",
              "      <th>5</th>\n",
              "      <td>787.0</td>\n",
              "      <td>IS-95A Mobile Phone Call Processing</td>\n",
              "      <td>Stuart McGarrity</td>\n",
              "      <td>IS-95A Mobile Phone Call Processing</td>\n",
              "      <td>&lt;p&gt;Simulink® and Stateflow® model of the top-l...</td>\n",
              "      <td>is95a call processing mobile phone,is95a call ...</td>\n",
              "      <td>1.0</td>\n",
              "      <td>90.0</td>\n",
              "      <td>1.0</td>\n",
              "      <td>2.0</td>\n",
              "      <td>0.0</td>\n",
              "      <td>88.0</td>\n",
              "      <td>0.006059</td>\n",
              "    </tr>\n",
              "    <tr>\n",
              "      <th>6</th>\n",
              "      <td>907.0</td>\n",
              "      <td>Bluetooth voice transmission</td>\n",
              "      <td>Stuart McGarrity</td>\n",
              "      <td>Bluetooth Voice Transmission</td>\n",
              "      <td>&lt;p&gt;Simulink® model of a Bluetooth® communicati...</td>\n",
              "      <td>80211b,bluetooth,cvsd,frequency,hopping,matlab...</td>\n",
              "      <td>6.0</td>\n",
              "      <td>1632.0</td>\n",
              "      <td>194.0</td>\n",
              "      <td>5.0</td>\n",
              "      <td>20.0</td>\n",
              "      <td>1562.0</td>\n",
              "      <td>0.004800</td>\n",
              "    </tr>\n",
              "    <tr>\n",
              "      <th>7</th>\n",
              "      <td>976.0</td>\n",
              "      <td>ANN</td>\n",
              "      <td>Giampiero Campa</td>\n",
              "      <td>Adaptive Neural Networks</td>\n",
              "      <td>&lt;p&gt;The adaptive Neural Network Library (Matlab...</td>\n",
              "      <td>fuzzy,neural networks,rbf for suren,adaptive n...</td>\n",
              "      <td>2.0</td>\n",
              "      <td>38.0</td>\n",
              "      <td>4.0</td>\n",
              "      <td>2.0</td>\n",
              "      <td>1.0</td>\n",
              "      <td>42.0</td>\n",
              "      <td>0.021460</td>\n",
              "    </tr>\n",
              "    <tr>\n",
              "      <th>8</th>\n",
              "      <td>1138.0</td>\n",
              "      <td>SimuWave</td>\n",
              "      <td>Francois Chaplais</td>\n",
              "      <td>A Simulink wavelet library</td>\n",
              "      <td>&lt;p&gt;The library includes compiled FIR filters, ...</td>\n",
              "      <td>fir filters,fir filters,signal,signal processi...</td>\n",
              "      <td>6.0</td>\n",
              "      <td>69.0</td>\n",
              "      <td>23.0</td>\n",
              "      <td>3.0</td>\n",
              "      <td>14.0</td>\n",
              "      <td>70.0</td>\n",
              "      <td>0.015158</td>\n",
              "    </tr>\n",
              "    <tr>\n",
              "      <th>9</th>\n",
              "      <td>1207.0</td>\n",
              "      <td>Shark</td>\n",
              "      <td>Giampiero Campa</td>\n",
              "      <td>Nonlinear 6DOF Model of an Underwater Vehicle</td>\n",
              "      <td>&lt;p&gt;Shark is a detailed nonlinear model of an u...</td>\n",
              "      <td>marine,simulation,submarine,underwater,vehicle</td>\n",
              "      <td>3.0</td>\n",
              "      <td>70.0</td>\n",
              "      <td>5.0</td>\n",
              "      <td>2.0</td>\n",
              "      <td>0.0</td>\n",
              "      <td>70.0</td>\n",
              "      <td>0.003831</td>\n",
              "    </tr>\n",
              "    <tr>\n",
              "      <th>10</th>\n",
              "      <td>1371.0</td>\n",
              "      <td>Fluid Pipeline Simulink Models</td>\n",
              "      <td>Robert Piche</td>\n",
              "      <td>Simulink blocks for pressure and flow transien...</td>\n",
              "      <td>&lt;p&gt;These Simulink blocks contain transfer func...</td>\n",
              "      <td>flow,fluid,hydraulic,line,pipeline,pressure,si...</td>\n",
              "      <td>1.0</td>\n",
              "      <td>83.0</td>\n",
              "      <td>3.0</td>\n",
              "      <td>2.0</td>\n",
              "      <td>0.0</td>\n",
              "      <td>128.0</td>\n",
              "      <td>0.004661</td>\n",
              "    </tr>\n",
              "    <tr>\n",
              "      <th>11</th>\n",
              "      <td>1550.0</td>\n",
              "      <td>Packet Switch</td>\n",
              "      <td>Stuart McGarrity</td>\n",
              "      <td>Simulink® and Stateflow® model of a simple pac...</td>\n",
              "      <td>&lt;p&gt;Simulink® and Stateflow® model of a four in...</td>\n",
              "      <td>bridge,internet,ip,packet switch,protocol,rout...</td>\n",
              "      <td>2.0</td>\n",
              "      <td>208.0</td>\n",
              "      <td>35.0</td>\n",
              "      <td>4.0</td>\n",
              "      <td>8.0</td>\n",
              "      <td>168.0</td>\n",
              "      <td>0.006457</td>\n",
              "    </tr>\n",
              "    <tr>\n",
              "      <th>12</th>\n",
              "      <td>1762.0</td>\n",
              "      <td>Single Pulse Generator</td>\n",
              "      <td>Khalil Sultan</td>\n",
              "      <td>A simulink model which generates a single puls...</td>\n",
              "      <td>&lt;p&gt;In simulink, there is no model of a pulse g...</td>\n",
              "      <td>simulink,single,single pulse generator model,u...</td>\n",
              "      <td>1.0</td>\n",
              "      <td>8.0</td>\n",
              "      <td>1.0</td>\n",
              "      <td>2.0</td>\n",
              "      <td>0.0</td>\n",
              "      <td>6.0</td>\n",
              "      <td>0.004835</td>\n",
              "    </tr>\n",
              "    <tr>\n",
              "      <th>13</th>\n",
              "      <td>1815.0</td>\n",
              "      <td>HL-20 Lifting Body</td>\n",
              "      <td>Stacey Gage</td>\n",
              "      <td>NASA HL-20 Lifting Body Airframe Modeled with ...</td>\n",
              "      <td>&lt;p&gt;This model uses Simulink and the Aerospace ...</td>\n",
              "      <td>aerodef,aeronautical,aeronautics,aerospace,air...</td>\n",
              "      <td>1.0</td>\n",
              "      <td>288.0</td>\n",
              "      <td>20.0</td>\n",
              "      <td>5.0</td>\n",
              "      <td>0.0</td>\n",
              "      <td>365.0</td>\n",
              "      <td>0.007415</td>\n",
              "    </tr>\n",
              "    <tr>\n",
              "      <th>14</th>\n",
              "      <td>1963.0</td>\n",
              "      <td>3-Band Parametric Equalizer</td>\n",
              "      <td>Arvind</td>\n",
              "      <td>Simulink model of a 3-band parametric equalize...</td>\n",
              "      <td>&lt;p&gt;The Simulink model in this submission imple...</td>\n",
              "      <td>filter,filter analysis,filter design,music,par...</td>\n",
              "      <td>2.0</td>\n",
              "      <td>187.0</td>\n",
              "      <td>21.0</td>\n",
              "      <td>4.0</td>\n",
              "      <td>0.0</td>\n",
              "      <td>179.0</td>\n",
              "      <td>0.006581</td>\n",
              "    </tr>\n",
              "    <tr>\n",
              "      <th>15</th>\n",
              "      <td>2283.0</td>\n",
              "      <td>Bluetooth Full Duplex Voice  and Data Transmis...</td>\n",
              "      <td>Stuart McGarrity</td>\n",
              "      <td>Simulink® and Stateflow® model of a full duple...</td>\n",
              "      <td>&lt;p&gt;Simulink® and Stateflow® model of a full du...</td>\n",
              "      <td>stateflow matlab simulink bluetooth dm1 hv1 hv...</td>\n",
              "      <td>4.0</td>\n",
              "      <td>176.0</td>\n",
              "      <td>22.0</td>\n",
              "      <td>4.0</td>\n",
              "      <td>4.0</td>\n",
              "      <td>156.0</td>\n",
              "      <td>0.005838</td>\n",
              "    </tr>\n",
              "    <tr>\n",
              "      <th>16</th>\n",
              "      <td>2334.0</td>\n",
              "      <td>Stewart Platform Mechanical System</td>\n",
              "      <td>Jeff Wendlandt</td>\n",
              "      <td>Model and simulate the physical components and...</td>\n",
              "      <td>&lt;p&gt;SimMechanics™ in conjunction with Simulink®...</td>\n",
              "      <td>digest article stewart platform mechanical sys...</td>\n",
              "      <td>5.0</td>\n",
              "      <td>277.0</td>\n",
              "      <td>18.0</td>\n",
              "      <td>4.0</td>\n",
              "      <td>6.0</td>\n",
              "      <td>284.0</td>\n",
              "      <td>0.005686</td>\n",
              "    </tr>\n",
              "    <tr>\n",
              "      <th>17</th>\n",
              "      <td>2357.0</td>\n",
              "      <td>Using RTW and Compiler</td>\n",
              "      <td>Tan Chin Luh</td>\n",
              "      <td>Stand alone application example using rapid si...</td>\n",
              "      <td>&lt;p&gt;This example shows how to create a rapid si...</td>\n",
              "      <td>compiler,example,gui,gui tools,rapid simulatio...</td>\n",
              "      <td>1.0</td>\n",
              "      <td>4.0</td>\n",
              "      <td>0.0</td>\n",
              "      <td>1.0</td>\n",
              "      <td>0.0</td>\n",
              "      <td>3.0</td>\n",
              "      <td>0.007492</td>\n",
              "    </tr>\n",
              "    <tr>\n",
              "      <th>18</th>\n",
              "      <td>2374.0</td>\n",
              "      <td>Dynamical Systems with Applications using MATLAB</td>\n",
              "      <td>Stephen Lynch</td>\n",
              "      <td>Companion Software.</td>\n",
              "      <td>&lt;p&gt;\"Dynamical Systems with Applications using ...</td>\n",
              "      <td>chaos,chemical,differential,discrete,economics...</td>\n",
              "      <td>10.0</td>\n",
              "      <td>124.0</td>\n",
              "      <td>1.0</td>\n",
              "      <td>2.0</td>\n",
              "      <td>0.0</td>\n",
              "      <td>152.0</td>\n",
              "      <td>0.006263</td>\n",
              "    </tr>\n",
              "    <tr>\n",
              "      <th>19</th>\n",
              "      <td>2578.0</td>\n",
              "      <td>aero2vr</td>\n",
              "      <td>Giampiero Campa</td>\n",
              "      <td>Virtual Reality toolbox interface for airplanes.</td>\n",
              "      <td>&lt;p&gt;This block allows the use of aeronautics co...</td>\n",
              "      <td>toolbox,aerodef,aeronautics,aerospace,aircraft...</td>\n",
              "      <td>1.0</td>\n",
              "      <td>177.0</td>\n",
              "      <td>9.0</td>\n",
              "      <td>3.0</td>\n",
              "      <td>0.0</td>\n",
              "      <td>194.0</td>\n",
              "      <td>-0.000194</td>\n",
              "    </tr>\n",
              "  </tbody>\n",
              "</table>\n",
              "</div>"
            ],
            "text/plain": [
              "    FILE_ID  ...         0\n",
              "0       NaN  ...  0.024430\n",
              "1       NaN  ...  0.016128\n",
              "2     722.0  ...  0.005309\n",
              "3     724.0  ...  0.005948\n",
              "4     746.0  ...  0.023024\n",
              "5     787.0  ...  0.006059\n",
              "6     907.0  ...  0.004800\n",
              "7     976.0  ...  0.021460\n",
              "8    1138.0  ...  0.015158\n",
              "9    1207.0  ...  0.003831\n",
              "10   1371.0  ...  0.004661\n",
              "11   1550.0  ...  0.006457\n",
              "12   1762.0  ...  0.004835\n",
              "13   1815.0  ...  0.007415\n",
              "14   1963.0  ...  0.006581\n",
              "15   2283.0  ...  0.005838\n",
              "16   2334.0  ...  0.005686\n",
              "17   2357.0  ...  0.007492\n",
              "18   2374.0  ...  0.006263\n",
              "19   2578.0  ... -0.000194\n",
              "\n",
              "[20 rows x 13 columns]"
            ]
          },
          "metadata": {},
          "execution_count": 307
        }
      ]
    },
    {
      "cell_type": "code",
      "metadata": {
        "id": "32SnmEC9Frm9"
      },
      "source": [
        ""
      ],
      "execution_count": 307,
      "outputs": []
    },
    {
      "cell_type": "code",
      "metadata": {
        "colab": {
          "base_uri": "https://localhost:8080/"
        },
        "id": "29qp6ODYrhEf",
        "outputId": "2d3aac47-0eac-4c4c-8810-fe0762c93392"
      },
      "source": [
        "df_concat_mat_word2vec.category.isnull().sum()"
      ],
      "execution_count": 308,
      "outputs": [
        {
          "output_type": "execute_result",
          "data": {
            "text/plain": [
              "2"
            ]
          },
          "metadata": {},
          "execution_count": 308
        }
      ]
    },
    {
      "cell_type": "code",
      "metadata": {
        "id": "2duCFfZywBPK"
      },
      "source": [
        "df_concat_mat_word2vec = df_concat_mat_word2vec.dropna(subset=['FILE_ID'])"
      ],
      "execution_count": 309,
      "outputs": []
    },
    {
      "cell_type": "code",
      "metadata": {
        "colab": {
          "base_uri": "https://localhost:8080/"
        },
        "id": "Ar_2EzWBt_zY",
        "outputId": "7ae8fbf1-a87c-4b0c-8190-da06b5a5bb04"
      },
      "source": [
        "df_concat_mat_word2vec.shape"
      ],
      "execution_count": 310,
      "outputs": [
        {
          "output_type": "execute_result",
          "data": {
            "text/plain": [
              "(2617, 13)"
            ]
          },
          "metadata": {},
          "execution_count": 310
        }
      ]
    },
    {
      "cell_type": "code",
      "metadata": {
        "colab": {
          "base_uri": "https://localhost:8080/",
          "height": 538
        },
        "id": "yv3rm7ZawQVh",
        "outputId": "547adbf7-d890-412f-d671-7d07ac528cc3"
      },
      "source": [
        "df_concat_mat_word2vec.head()"
      ],
      "execution_count": 311,
      "outputs": [
        {
          "output_type": "execute_result",
          "data": {
            "text/html": [
              "<div>\n",
              "<style scoped>\n",
              "    .dataframe tbody tr th:only-of-type {\n",
              "        vertical-align: middle;\n",
              "    }\n",
              "\n",
              "    .dataframe tbody tr th {\n",
              "        vertical-align: top;\n",
              "    }\n",
              "\n",
              "    .dataframe thead th {\n",
              "        text-align: right;\n",
              "    }\n",
              "</style>\n",
              "<table border=\"1\" class=\"dataframe\">\n",
              "  <thead>\n",
              "    <tr style=\"text-align: right;\">\n",
              "      <th></th>\n",
              "      <th>FILE_ID</th>\n",
              "      <th>title</th>\n",
              "      <th>author_name</th>\n",
              "      <th>summary</th>\n",
              "      <th>content</th>\n",
              "      <th>category</th>\n",
              "      <th>num_model_file</th>\n",
              "      <th>SCHK_Block_count</th>\n",
              "      <th>Agg_SubSystem_count</th>\n",
              "      <th>Hierarchy_depth</th>\n",
              "      <th>LibraryLinked_Count</th>\n",
              "      <th>total_ConnH_cnt</th>\n",
              "      <th>0</th>\n",
              "    </tr>\n",
              "  </thead>\n",
              "  <tbody>\n",
              "    <tr>\n",
              "      <th>2</th>\n",
              "      <td>722.0</td>\n",
              "      <td>Bluetooth modulation and frequency hopping</td>\n",
              "      <td>Stuart McGarrity</td>\n",
              "      <td>Bluetooth modulation and frequency hopping</td>\n",
              "      <td>&lt;p&gt;Simulink® model of a simple Bluetooth® wire...</td>\n",
              "      <td>bluetooth,frequency,hopping,network,wireless,b...</td>\n",
              "      <td>2.0</td>\n",
              "      <td>90.0</td>\n",
              "      <td>10.0</td>\n",
              "      <td>2.0</td>\n",
              "      <td>0.0</td>\n",
              "      <td>72.0</td>\n",
              "      <td>0.005309</td>\n",
              "    </tr>\n",
              "    <tr>\n",
              "      <th>3</th>\n",
              "      <td>724.0</td>\n",
              "      <td>DTMF generator and receiver</td>\n",
              "      <td>Stuart McGarrity</td>\n",
              "      <td>DTMF generator and receiver</td>\n",
              "      <td>&lt;p&gt;Simulink® model of a dual-tone multi-freque...</td>\n",
              "      <td>communications,dtmf,dual tone,multi frequency,...</td>\n",
              "      <td>2.0</td>\n",
              "      <td>388.0</td>\n",
              "      <td>56.0</td>\n",
              "      <td>5.0</td>\n",
              "      <td>0.0</td>\n",
              "      <td>344.0</td>\n",
              "      <td>0.005948</td>\n",
              "    </tr>\n",
              "    <tr>\n",
              "      <th>4</th>\n",
              "      <td>746.0</td>\n",
              "      <td>IS-95A CDMA Power Control</td>\n",
              "      <td>Stuart McGarrity</td>\n",
              "      <td>IS-95A CDMA Power Control</td>\n",
              "      <td>&lt;p&gt;Simulink® and Stateflow® model of IS-95A CD...</td>\n",
              "      <td>cdma,is95a,phy,pn,pn string,power control,reve...</td>\n",
              "      <td>1.0</td>\n",
              "      <td>283.0</td>\n",
              "      <td>24.0</td>\n",
              "      <td>6.0</td>\n",
              "      <td>0.0</td>\n",
              "      <td>279.0</td>\n",
              "      <td>0.023024</td>\n",
              "    </tr>\n",
              "    <tr>\n",
              "      <th>5</th>\n",
              "      <td>787.0</td>\n",
              "      <td>IS-95A Mobile Phone Call Processing</td>\n",
              "      <td>Stuart McGarrity</td>\n",
              "      <td>IS-95A Mobile Phone Call Processing</td>\n",
              "      <td>&lt;p&gt;Simulink® and Stateflow® model of the top-l...</td>\n",
              "      <td>is95a call processing mobile phone,is95a call ...</td>\n",
              "      <td>1.0</td>\n",
              "      <td>90.0</td>\n",
              "      <td>1.0</td>\n",
              "      <td>2.0</td>\n",
              "      <td>0.0</td>\n",
              "      <td>88.0</td>\n",
              "      <td>0.006059</td>\n",
              "    </tr>\n",
              "    <tr>\n",
              "      <th>6</th>\n",
              "      <td>907.0</td>\n",
              "      <td>Bluetooth voice transmission</td>\n",
              "      <td>Stuart McGarrity</td>\n",
              "      <td>Bluetooth Voice Transmission</td>\n",
              "      <td>&lt;p&gt;Simulink® model of a Bluetooth® communicati...</td>\n",
              "      <td>80211b,bluetooth,cvsd,frequency,hopping,matlab...</td>\n",
              "      <td>6.0</td>\n",
              "      <td>1632.0</td>\n",
              "      <td>194.0</td>\n",
              "      <td>5.0</td>\n",
              "      <td>20.0</td>\n",
              "      <td>1562.0</td>\n",
              "      <td>0.004800</td>\n",
              "    </tr>\n",
              "  </tbody>\n",
              "</table>\n",
              "</div>"
            ],
            "text/plain": [
              "   FILE_ID  ...         0\n",
              "2    722.0  ...  0.005309\n",
              "3    724.0  ...  0.005948\n",
              "4    746.0  ...  0.023024\n",
              "5    787.0  ...  0.006059\n",
              "6    907.0  ...  0.004800\n",
              "\n",
              "[5 rows x 13 columns]"
            ]
          },
          "metadata": {},
          "execution_count": 311
        }
      ]
    },
    {
      "cell_type": "code",
      "metadata": {
        "colab": {
          "base_uri": "https://localhost:8080/"
        },
        "id": "XCbi1UgtrF8j",
        "outputId": "c4b765e6-348a-405b-94a3-fb5c01b32054"
      },
      "source": [
        "np_array_mat.shape"
      ],
      "execution_count": 312,
      "outputs": [
        {
          "output_type": "execute_result",
          "data": {
            "text/plain": [
              "(2234, 150)"
            ]
          },
          "metadata": {},
          "execution_count": 312
        }
      ]
    },
    {
      "cell_type": "code",
      "metadata": {
        "colab": {
          "base_uri": "https://localhost:8080/",
          "height": 573
        },
        "id": "JYoGOLP5qV14",
        "outputId": "642151b6-0d37-4dab-cf8b-052266fd08d7"
      },
      "source": [
        "find_optimal_clusters(np_array_mat, 10)\n",
        "find_optimal_clusters(np_array_git, 10)"
      ],
      "execution_count": 313,
      "outputs": [
        {
          "output_type": "display_data",
          "data": {
            "image/png": "[encoded data removed]",
            "text/plain": [
              "<Figure size 432x288 with 1 Axes>"
            ]
          },
          "metadata": {
            "needs_background": "light"
          }
        },
        {
          "output_type": "display_data",
          "data": {
            "image/png": "[encoded data removed]",
            "text/plain": [
              "<Figure size 432x288 with 1 Axes>"
            ]
          },
          "metadata": {
            "needs_background": "light"
          }
        }
      ]
    },
    {
      "cell_type": "code",
      "metadata": {
        "id": "FIjMa03bE5KN"
      },
      "source": [
        "from sklearn.feature_extraction.text import TfidfVectorizer\n",
        "# tfidf vectorizer of scikit learn\n",
        "vectorizer1 = TfidfVectorizer(stop_words=custom_stopwords)\n",
        "vectorizer1.fit(merged_matc['category'])\n",
        "tokenize_text_mat = vectorizer1.transform(merged_matc['category'])"
      ],
      "execution_count": 314,
      "outputs": []
    },
    {
      "cell_type": "code",
      "metadata": {
        "colab": {
          "base_uri": "https://localhost:8080/"
        },
        "id": "1GaBeHfgGMdo",
        "outputId": "9a3f4943-ddbf-44a5-ff54-9bdbe86e7b36"
      },
      "source": [
        "print(vectorizer1.get_feature_names)"
      ],
      "execution_count": 315,
      "outputs": [
        {
          "output_type": "stream",
          "name": "stdout",
          "text": [
            "<bound method CountVectorizer.get_feature_names of TfidfVectorizer(stop_words={'a', 'abhishek', 'about', 'above', 'after', 'again',\n",
            "                            'against', 'ain', 'all', 'am', 'an', 'and', 'any',\n",
            "                            'are', 'aren', \"aren't\", 'as', 'at', 'ball', 'be',\n",
            "                            'because', 'been', 'before', 'being', 'below',\n",
            "                            'between', 'bonsai', 'both', 'but', 'by', ...})>\n"
          ]
        }
      ]
    },
    {
      "cell_type": "code",
      "metadata": {
        "id": "mDeVD_puHZhm"
      },
      "source": [
        "def summarize_cluster(center, inv_voc, n):\n",
        "    # the centroid is a vector; we'll first make a list of weights and their corresponding dimensions\n",
        "    # e.g. [ (0.345, 0), (1.48, 1), (0.95, 2), ...]\n",
        "    center_index = [ (x, i) for i, x in enumerate(center) ]\n",
        "\n",
        "    # we sort this by the weights and select the top n\n",
        "    topn = sorted(center_index, reverse=True)[:n]\n",
        "\n",
        "    # we finally map this back to words, using the inverted vocabulary dict that we created above\n",
        "    return [ inv_voc[i] for _, i in topn ]"
      ],
      "execution_count": 316,
      "outputs": []
    },
    {
      "cell_type": "code",
      "metadata": {
        "id": "mugDWlGdHwNf"
      },
      "source": [
        ""
      ],
      "execution_count": 316,
      "outputs": []
    },
    {
      "cell_type": "code",
      "metadata": {
        "colab": {
          "base_uri": "https://localhost:8080/"
        },
        "id": "fVW2m9XBqdKV",
        "outputId": "cd888808-ea2f-49e4-919a-d3d77e201f0a"
      },
      "source": [
        "reduced_df = pca.fit_transform(np_array_mat)\n",
        "num_clusters = 6\n",
        "matmodel = KMeans(n_clusters=num_clusters)\n",
        "#clusters = km.labels_.tolist()\n",
        "label = matmodel.fit_predict(reduced_df)\n",
        "matlabels = np.unique(label)\n",
        "print(np.unique(label))\n",
        "print(matmodel.cluster_centers_)"
      ],
      "execution_count": 317,
      "outputs": [
        {
          "output_type": "stream",
          "name": "stdout",
          "text": [
            "[0 1 2 3 4 5]\n",
            "[[ 0.5045954   0.08749054]\n",
            " [-0.61111501  0.01441566]\n",
            " [ 0.4881967  -0.50142196]\n",
            " [ 1.13179828 -0.00236752]\n",
            " [ 0.28143603  0.59334853]\n",
            " [-0.17220952 -0.08074939]]\n"
          ]
        }
      ]
    },
    {
      "cell_type": "code",
      "metadata": {
        "colab": {
          "base_uri": "https://localhost:8080/"
        },
        "id": "qfTM7yIEH6nU",
        "outputId": "35e8a7f8-cf20-441f-f37b-fa6340d03e11"
      },
      "source": [
        "words = list(model.wv.vocab)\n",
        "wordlist ={}\n",
        "for i, word in enumerate(words):\n",
        "    #temp = word + \":\" + str(label[i])\n",
        "    wordlist[word]  = str(label[i] )\n",
        "    #wordlist.append(temp)\n",
        "print (wordlist)"
      ],
      "execution_count": 318,
      "outputs": [
        {
          "output_type": "stream",
          "name": "stdout",
          "text": [
            "{'converter': '3', 'dc': '0', 'to': '1', 'ac': '1', 'electrical': '3', 'inverter': '5', 'power': '5', 'electronics': '2', 'pulse': '0', 'converters': '1', 'transformer': '1', 'rectifier': '5', 'simulink': '1', 'psk': '1', 'awgn': '5', 'reed': '1', 'solomon': '1', 'qam': '1', 'communications': '5', 'lte': '1', 'mimo': '1', 'modulation': '1', 'multipath': '5', 'rayleigh': '1', 'turbo': '1', 'coding': '1', 'phase': '1', 'current': '1', 'control': '1', 'aerodynamic': '1', 'torque': '1', 'aerospace': '1', 'attitude': '1', 'gravity': '1', 'hysteresis': '1', 'magnetic': '1', 'passive': '5', 'stabilization': '1', 'small': '3', 'level': '2', 'space': '0', 'svm': '4', 'three': '0', 'two': '1', 'vector': '1', 'distribution': '2', 'system': '0', 'arduino': '0', 'gyroscope': '1', 'mega': '1', 'stateflow': '5', 'adafruit': '5', 'hardware': '5', 'led': '1', 'matrix': '1', 'innovate': '5', 'msia': '5', 'competition': '3', 'bmp': '0', 'digital': '3', 'pressure': '3', 'sensor': '3', 'alpha': '3', 'beta': '3', 'transformation': '3', 'code': '3', 'generation': '2', 'dsp': '2', 'filter': '3', 'without': '3', 'delay': '3', 'orthogonal': '2', 'signal': '0', 'single': '3', 'axis': '3', 'machine': '3', 'cnc': '0', 'ilc': '2', 'iterative': '2', 'learning': '2', 'position': '2', 'reference': '2', 'tracking': '2', 'repetitive': '2', 'fuel': '2', 'image': '2', 'processing': '2', 'neural': '2', 'network': '2', 'plot': '3', 'vehicle': '3', 'model': '0', 'based': '0', 'animation': '1', 'automated': '5', 'vehicles': '1', 'kinematic': '1', 'rolling': '1', 'multiple': '1', 'simple': '1', 'swarm': '1', 'visualization': '5', 'steering': '0', 'low': '0', 'speed': '3', 'kinematics': '3', 'differential': '0', 'equations': '0', 'dynamic': '3', 'dynamics': '3', 'friction': '0', 'mass': '0', 'pendulum': '2', 'physics': '1', 'spring': '1', 'constant': '1', 'mechanical': '1', 'multibody': '4', 'second': '5', 'simmechanics': '0', 'simscape': '0', 'physical': '0', 'modeling': '4', 'scissor': '5', 'lift': '5', 'simhydraulics': '5', 'permanent': '5', 'magnet': '1', 'synchronous': '5', 'generator': '5', 'pmsg': '1', 'wind': '4', 'turbine': '1', 'hello': '5', 'sir': '1', 'collision': '1', 'getting': '1', 'started': '5', 'virtual': '5', 'reality': '2', 'toolbox': '5', 'vrealm': '5', 'vrml': '5', 'acceleration': '5', 'android': '5', 'counter': '5', 'distance': '5', 'education': '5', 'experiment': '1', 'gravitational': '2', 'interactive': '5', 'lab': '2', 'laboratory': '1', 'mechanics': '1', 'mobile': '1', 'science': '5', 'simulation': '1', 'curve': '1', 'field': '0', 'launch': '0', 'trajectory': '5', 'assembly': '5', 'automation': '5', 'discrete': '1', 'event': '1', 'factory': '1', 'line': '1', 'simevents': '1', 'ball': '1', 'bouncing': '1', 'equation': '1', 'heat': '5', 'integrator': '1', 'temperature': '1', 'collaborative': '1', 'fine': '1', 'football': '1', 'game': '1', 'hockey': '5', 'ice': '1', 'introduction': '1', 'multagent': '5', 'robocup': '5', 'robot': '0', 'soccer': '5', 'robotics': '5', 'simulator': '5', 'state': '1', 'theory': '5', 'webinar': '1', 'direct': '1', 'search': '5', 'genetic': '5', 'algorithms': '1', 'optimization': '1', 'pattern': '1', 'hopping': '1', 'leg': '5', 'attractor': '5', 'chaos': '5', 'graphics': '5', 'lorenz': '1', 'matlab': '1', 'ode': '1', 'sfunction': '5', 'audio': '1', 'by': '4', 'linear': '1', 'algebra': '4', 'path': '5', 'push': '5', 'report': '5', 'ber': '4', 'channel': '4', 'compensation': '4', 'estimation': '4', 'ofdm': '4', 'qpsk': '4', 'wireless': '4', 'spwm': '1', 'voltage': '1', 'controller': '4', 'induction': '5', 'motor': '1', 'rd': '4', 'harmonic': '5', 'inverters': '1', 'quasi': '4', 'square': '1', 'wave': '5', 'bus': '4', 'load': '5', 'flow': '5', 'analysis': '1', 'clamped': '1', 'diode': '1', 'bit': '1', 'data': '1', 'types': '1', 'int': '5', 'parameters': '0', 'uint': '5', 'technique': '5', 'wimax': '1', 'quality': '5', 'bridge': '1', 'cascade': '1', 'hbridge': '1', 'adaptive': '5', 'and': '4', 'error': '4', 'ieee': '4', 'wlan': '0', 'bluetooth': '4', 'cvsd': '5', 'frequency': '5', 'voice': '1', 'reluctance': '1', 'sensorless': '1', 'srm': '1', 'switched': '1', 'adder': '5', 'analog': '4', 'da': '4', 'duty': '1', 'one': '5', 'pwm': '5', 'sub': '5', 'mpc': '5', 'nonlinear': '1', 'propeller': '5', 'rudder': '5', 'ship': '0', 'switching': '5', 'random': '5', 'robustness': '5', 'uncertainty': '1', 'practical': '5', 'identification': '1', 'abc': '1', 'beeta': '1', 'clark': '1', 'dq': '5', 'park': '5', 'conversion': '5', 'method': '0', 'boost': '4', 'buck': '1', 'buckboost': '1', 'controlled': '0', 'drives': '4', 'drive': '1', 'full': '1', 'freewheeling': '1', 'ekf': '1', 'extended': '5', 'kalman': '1', 'observer': '5', 'luenberger': '1', 'pole': '5', 'placement': '1', 'machines': '1', 'width': '1', 'svpwm': '5', 'systems': '1', 'foc': '1', 'air': '1', 'pv': '1', 'electric': '1', 'motors': '1', 'microgrid': '1', 'distributed': '5', 'resources': '1', 'hybrid': '1', 'energy': '1', 'benchmark': '1', 'test': '1', 'feedback': '1', 'industrial': '1', 'feed': '1', 'back': '1', 'modelling': '1', 'bldc': '1', 'brushless': '1', 'thank': '5', 'design': '1', 'fourier': '1', 'harmonics': '1', 'mathematics': '1', 'measurement': '5', 'spectrum': '5', 'ann': '5', 'artificial': '1', 'asynchronous': '1', 'feedforward': '5', 'ffnn': '1', 'regulator': '2', 'lqr': '1', 'nonstationary': '1', 'optimal': '5', 'programmable': '5', 'gain': '1', 'mathematical': '1', 'techniques': '4', 'close': '1', 'loop': '1', 'of': '1', 'fan': '1', 'hall': '1', 'for': '1', 'pmsm': '5', 'acac': '1', 'cycloconverter': '1', 'step': '1', 'up': '1', 'thyristor': '1', 'triac': '1', 'cyberphysical': '1', 'manufacturing': '1', 'multiparadigm': '1', 'oriented': '5', 'architectures': '5', 'smart': '4', 'software': '4', 'vision': '5', 'video': '1', 'acc': '1', 'car': '5', 'embedded': '1', 'in': '5', 'the': '3', 'modelbased': '5', 'verification': '2', 'automotive': '2', 'export': '2', 'accelerometer': '0', 'mma': '5', 'real': '1', 'time': '1', 'vibration': '1', 'accuracy': '1', 'article': '1', 'paper': '1', 'white': '1', 'whitepaper': '1', 'interpolation': '1', 'powergui': '5', 'acdcac': '1', 'supply': '1', 'source': '1', 'vsc': '5', 'acdc': '1', 'factor': '1', 'more': '1', 'aircraft': '1', 'rectifire': '1', 'smps': '1', 'thd': '1', 'fault': '1', 'pid': '1', 'acquisition': '5', 'cdma': '1', 'fpga': '5', 'gps': '5', 'timing': '5', 'edge': '5', 'detection': '0', 'gui': '0', 'action': '4', 'client': '5', 'server': '4', 'ros': '4', 'potential': '1', 'biotech': '1', 'neuron': '1', 'pharmaceutical': '1', 'active': '1', 'cell': '5', 'ripple': '1', 'it': '1', 'pq': '1', 'reactive': '1', 'shunt': '5', 'sapf': '5', 'front': '1', 'end': '5', 'stabilizer': '1', 'statcom': '1', 'transient': '1', 'reactor': '1', 'complex': '1', 'angle': '1', 'var': '1', 'total': '1', 'distortion': '2', 'farm': '0', 'windmill': '5', 'problem': '1', 'storage': '1', 'grid': '1', 'interface': '0', 'particle': '1', 'electronic': '2', 'pso': '1', 'renewable': '0', 'renewables': '5', 'res': '3', 'mosc': '4', 'oscillatory': '0', 'lead': '4', 'rc': '4', 'sources': '4', 'process': '4', 'resonant': '4', 'fd': '4', 'fractional': '4', 'variable': '4', 'suspension': '4', 'actuator': '4', 'quarter': '4', 'road': '1', 'profile': '1', 'static': '4', 'equilibrium': '3', 'damping': '4', 'chart': '5', 'logging': '1', 'non': '4', 'pi': '1', 'custom': '0', 'device': '0', 'dvr': '3', 'restorer': '4', 'series': '5', 'opamp': '3', 'dfig': '3', 'type': '3', 'example': '3', 'gauge': '0', 'tools': '5', 'saturation': '1', 'global': '1', 'graphical': '4', 'integral': '4', 'performance': '4', 'indices': '0', 'itae': '4', 'optimum': '0', 'hydraulic': '4', 'gear': '0', 'actuators': '4', 'sensors': '5', 'equalization': '0', 'equalizer': '3', 'lms': '0', 'algorithm': '0', 'please': '5', 'send': '5', 'using': '1', 'mrac': '4', 'cad': '5', 'quadrotor': '1', 'first': '1', 'order': '5', 'adjustment': '5', 'mit': '5', 'rule': '1', 'adaptation': '1', 'mras': '4', 'scheduling': '5', 'gs': '1', 'transformations': '1', 'valve': '1', 'tank': '1', 'tuning': '1', 'dop': '1', 'diophantine': '1', 'pseudorandom': '5', 'binary': '5', 'recursive': '1', 'least': '1', 'differentiator': '5', 'difference': '5', 'differentiation': '2', 'finite': '5', 'impulse': '1', 'response': '5', 'fir': '5', 'regression': '5', 'noise': '5', 'noisy': '5', 'predictive': '5', 'hdl': '1', 'van': '1', 'der': '1', 'pol': '1', 'controls': '5', 'adas': '1', 'driving': '1', 'computer': '2', 'recognition': '0', 'expo': '3', 'point': '1', 'adc': '1', 'ended': '5', 'clock': '5', 'deterministic': '5', 'interpolator': '1', 'polynomial': '1', 'ramp': '1', 'stochastic': '1', 'delta': '1', 'sigma': '1', 'deltasigma': '1', 'filtering': '3', 'shaping': '3', 'sigmadelta': '3', 'dac': '3', 'drivers': '3', 'raspberrypi': '3', 'rpi': '3', 'import': '3', 'demo': '3', 'hpf': '3', 'instrument': '3', 'driver': '3', 'lpf': '3', 'operational': '3', 'amplifier': '3', 'summer': '3', 'rtw': '3', 'user': '3', 'pick': '5', 'week': '3', 'potw': '5', 'blocks': '3', 'rf': '3', 'som': '1', 'decoder': '1', 'xilinx': '1', 'zynq': '0', 'admittance': '3', 'box': '3', 'adrc': '5', 'hmc': '5', 'aerodef': '5', 'aeronautics': '3', 'astronautical': '3', 'nasa': '3', 'airplane': '3', 'flight': '3', 'aerodynamics': '3', 'blockset': '3', 'web': '3', 'validation': '2', 'arm': '3', 'microcontroller': '3', 'realtime': '3', 'workshop': '3', 'coder': '0', 'tilt': '3', 'coverage': '2', 'mutation': '3', 'testing': '3', 'graph': '1', 'structure': '1', 'de': '5', 'libya': '5', 'stepdown': '0', 'fluid': '4', 'engineering': '4', 'safety': '5', 'finance': '5', 'parallel': '5', 'computing': '5', 'boeing': '5', 'helicopter': '5', 'pump': '5', 'emergency': '1', 'agc': '5', 'avr': '5', 'maps': '1', 'ask': '5', 'balancing': '5', 'ahf': '5', 'apf': '5', 'transform': '1', 'application': '1', 'tcsc': '1', 'svc': '1', 'ai': '5', 'multilevel': '0', 'photovoltaic': '0', 'fuzzy': '0', 'anfis': '1', 'facts': '1', 'fc': '1', 'management': '1', 'dstatcom': '5', 'indraneel': '1', 'saki': '4', 'indranil': '4', 'saaki': '4', 'formal': '1', 'methods': '0', 'modes': '0', 'logistics': '5', 'plc': '5', 'algebraic': '5', 'array': '1', 'solar': '4', 'panel': '1', 'solver': '1', 'mppt': '1', 'algorithmic': '5', 'trading': '1', 'nearest': '1', 'neighbour': '5', 'market': '1', 'making': '5', 'bollinger': '5', 'bands': '5', 'high': '5', 'systematic': '0', 'incremental': '1', 'conductance': '1', 'effect': '2', 'balanced': '3', 'modulator': '5', 'demodulation': '1', 'sample': '1', 'transmission': '1', 'alternative': '1', 'sympowersystem': '0', 'disposition': '0', 'apod': '2', 'carrierbased': '2', 'levelshifted': '2', 'threelevel': '1', 'alternator': '5', 'battery': '0', 'am': '5', 'inverting': '1', 'amplifiers': '5', 'communication': '1', 'demux': '1', 'fiber': '2', 'mapping': '2', 'mux': '5', 'optics': '3', 'sdh': '2', 'sonet': '2', 'analizador': '2', 'espectrps': '2', 'analyzer': '1', 'measure': '1', 'circuit': '1', 'simelectronics': '5', 'domain': '0', 'sparameters': '1', 'transfer': '1', 'function': '5', 'digit': '1', 'multi': '1', 'io': '1', 'multivariable': '1', 'ev': '1', 'gyro': '1', 'boy': '1', 'gyroboy': '1', 'inverted': '1', 'lego': '1', 'mindstorms': '1', 'self': '5', 'camera': '5', 'color': '1', 'maker': '5', 'dtc': '1', 'intelligent': '1', 'atan': '1', 'unwrap': '1', 'wrap': '1', 'map': '1', 'math': '1', 'trigonometric': '1', 'anish': '1', 'salvi': '1', 'fctcr': '1', 'filters': '1', 'dfacts': '1', 'plant': '1', 'radial': '5', 'basis': '1', 'rbf': '5', 'neuroestimation': '1', 'neuroestimator': '1', 'rotating': '1', 'frame': '1', 'speedsensorless': '1', 'approximation': '1', 'base': '1', 'backpropagation': '0', 'multilayer': '5', 'perceptron': '5', 'networks': '3', 'kohonen': '3', 'organizing': '4', 'feature': '5', 'pseudoinverse': '2', 'drfoc': '2', 'flux': '2', 'calculator': '2', 'estimator': '5', 'rfoc': '5', 'reulctance': '5', 'disturbance': '5', 'rejection': '5', 'customization': '2', 'ansi': '5', 'number': '5', 'protection': '5', 'relay': '3', 'numerical': '3', 'std': '3', 'instantaneous': '5', 'overcurrent': '5', 'beam': '5', 'fea': '1', 'flexible': '3', 'mode': '2', 'antenna': '2', 'blocking': '2', 'anti': '2', 'windup': '2', 'antiwindup': '5', 'implementation': '0', 'generalized': '5', 'hybride': '5', 'marine': '1', 'applications': '1', 'comparison': '1', 'tutorial': '1', 'rload': '3', 'seven': '1', 'pf': '5', 'motion': '1', 'specialized': '5', 'rs': '0', 'serial': '5', 'mfile': '0', 'sliding': '0', 'fixed': '5', 'spline': '1', 'rlc': '5', 'arc': '5', 'asic': '5', 'cordic': '0', 'verilog': '0', 'vhdl': '4', 'ardrone': '5', 'autonomous': '5', 'quadricopter': '2', 'drone': '5', 'pixhawk': '5', 'quadcopter': '5', 'theremin': '0', 'package': '5', 'block': '1', 'dimmer': '2', 'write': '2', 'logger': '5', 'shield': '2', 'due': '5', 'capacitive': '5', 'library': '5', 'imu': '3', 'mpu': '3', 'output': '3', 'arl': '3', 'lcd': '3', 'light': '0', 'meter': '3', 'morse': '3', 'sos': '0', 'ascii': '3', 'echo': '3', 'pitch': '3', 'shifting': '1', 'engine': '1', 'pil': '1', 'beagleboard': '1', 'pandaboard': '1', 'support': '1', 'gauges': '1', 'can': '1', 'raspberry': '1', 'matlabhw': '5', 'port': '1', 'open': '1', 'ldr': '1', 'switch': '5', 'course': '5', 'materials': '4', 'models': '4', 'sti': '4', 'ethernet': '2', 'udp': '5', 'object': '3', 'servo': '3', 'stepper': '3', 'traffic': '2', 'target': '3', 'pull': '3', 'build': '0', 'fast': '0', 'iec': '2', 'timer': '1', 'trigger': '0', 'cycle': '3', 'fed': '0', 'wavelet': '5', 'inrush': '0', 'workspace': '3', 'bpsk': '5', 'fsk': '1', 'ook': '0', 'asservissement': '5', 'automatique': '1', 'axe': '5', 'lineaire': '1', 'ivan': '1', 'liebgott': '1', 'multiphysique': '5', 'physique': '1', 'sciences': '1', 'regular': '5', 'sampling': '1', 'sinusoidal': '1', 'simpowersystems': '1', 'with': '1', 'kessler': '3', 'modulus': '3', 'naslin': '3', 'symmetric': '3', 'symmetrical': '3', 'update': '0', 'parameter': '3', 'attractors': '3', 'fractal': '3', 'fractals': '2', 'scope': '0', 'compression': '2', 'jpeg': '2', 'teaching': '2', 'dtmf': '2', 'rapid': '2', 'fixedpoint': '2', 'band': '2', 'five': '2', 'autoconnect': '3', 'elements': '2', 'mechatronics': '2', 'regulation': '2', 'mat': '2', 'file': '5', 'firing': '2', 'half': '0', 'managment': '5', 'subsystem': '0', 'pneumatic': '0', 'chariot': '0', 'golf': '1', 'gustave': '1', 'monod': '5', 'mcc': '4', 'lingnieur': '1', 'ssi': '3', 'efficiency': '0', 'polarity': '0', 'autotuner': '3', 'autotuning': '0', 'auvsi': '2', 'gazebo': '1', 'convolutional': '1', 'fading': '0', 'integration': '1', 'plotting': '1', 'probability': '1', 'bertool': '5', 'rate': '5', 'calculation': '1', 'oqpsk': '1', 'pn': '1', 'zigbee': '1', 'smc': '1', 'charging': '1', 'discharging': '5', 'holonomic': '1', 'platform': '1', 'omni': '1', 'wheel': '2', 'omnidirectional': '1', 'omniwheel': '5', 'segway': '2', 'coefficient': '2', 'ehsa': '2', 'quartercar': '5', 'dcac': '5', 'hadeed': '2', 'ksu': '5', 'bang': '5', 'baset': '3', 'csma': '3', 'csmacd': '0', 'basic': '0', 'closed': '5', 'charge': '5', 'bidirectional': '5', 'isolated': '1', 'charger': '3', 'lithium': '5', 'ion': '3', 'equivalent': '3', 'pack': '3', 'dependent': '3', 'logic': '3', 'good': '5', 'characteristics': '5', 'capacitor': '5', 'upfc': '0', 'dcdc': '3', 'coupled': '1', 'on': '1', 'conveter': '2', 'renweable': '2', 'peak': '5', 'characterstics': '5', 'sine': '5', 'simpower': '5', 'diesel': '0', 'resourses': '5', 'how': '2', 'standard': '3', 'project': '3', 'double': '2', 'layer': '5', 'supercapacitor': '5', 'ultracapacitor': '5', 'mbd': '2', 'multivariate': '5', 'column': '5', 'principal': '5', 'component': '5', 'cstr': '5', 'guide': '5', 'mask': '5', 'multiplexing': '0', 'information': '5', 'punctured': '5', 'codes': '2', 'soft': '5', 'viterbi': '2', 'best': '5', 'vex': '2', 'dual': '2', 'core': '5', 'production': '2', 'bicycle': '2', 'bike': '0', 'nxt': '2', 'nxtway': '1', 'stability': '5', 'bifurcation': '2', 'oscillator': '5', 'companion': '5', 'limit': '5', 'memristor': '2', 'synchronization': '2', 'decimal': '2', 'continuous': '2', 'cardiac': '2', 'ml': '2', 'gait': '5', 'planning': '2', 'bipolar': '2', 'unipolar': '2', 'packet': '2', 'diagram': '1', 'text': '5', 'bode': '1', 'thermal': '5', 'mod': '5', 'igbt': '4', 'sim': '4', 'irradiance': '5', 'loads': '1', 'topology': '5', 'pfc': '4', 'flyback': '0', 'forward': '5', 'zvs': '1', 'powersystem': '0', 'breaker': '5', 'restriking': '5', 'cascaded': '1', 'waveform': '1', 'simulations': '1', 'uncontrolled': '5', 'router': '1', 'derivatives': '5', 'chopper': '0', 'down': '0', 'ratio': '3', 'zero': '3', 'potencia': '0', 'simulated': '0', 'cost': '3', 'queue': '3', 'busobject': '0', 'sfunctions': '5', 'signals': '5', 'seth': '5', 'fluctuation': '1', 'station': '1', 'loadflow': '0', 'simpowersystem': '4', 'feeder': '4', 'ecu': '4', 'texas': '1', 'instruments': '1', 'traction': '0', 'rl': '5', 'continu': '5', 'discret': '1', 'controllers': '1', 'local': '1', 'shafts': '5', 'usb': '1', 'ohgw': '1', 'ground': '5', 'wire': '4', 'bank': '5', 'carrier': '0', 'recovery': '1', 'farrow': '3', 'monitoring': '5', 'nine': '2', 'cbwfq': '5', 'cos': '1', 'qos': '3', 'cmex': '2', 'fscanf': '1', 'input': '1', 'mex': '1', 'stdioh': '2', 'seminar': '5', 'is': '2', 'phy': '5', 'string': '4', 'reverse': '2', 'module': '5', 'photo': '5', 'voltaic': '5', 'cellular': '0', 'cnn': '5', 'paradigm': '5', 'center': '5', 'tapped': '5', 'newton': '5', 'chaine': '2', 'dnergie': '5', 'courant': '1', 'projet': '1', 'radio': '1', 'commande': '1', 'cofdm': '0', 'gito': '5', 'doing': '1', 'my': '1', 'graduation': '1', 'same': '1', 'toipic': '1', 'student': '1', 'want': '1', 'you': '0', 'are': '5', 'when': '0', 'run': '1', 'program': '4', 'an': '5', 'chaotic': '5', 'behavior': '0', 'chuas': '2', 'laser': '5', 'chemical': '5', 'economics': '4', 'research': '5', 'water': '5', 'irradiation': '0', 'sanjay': '5', 'lodwal': '4', 'stage': '4', 'chemistry': '1', 'damped': '0', 'combined': '1', 'gas': '5', 'gasturbine': '0', 'cic': '2', 'compensator': '2', 'gardner': '3', 'detector': '2', 'fourth': '0', 'element': '3', 'memory': '3', 'resistor': '0', 'circuits': '2', 'gate': '5', 'triggering': '0', 'scr': '2', 'clarke': '4', 'locked': '0', 'pll': '0', 'classical': '5', 'pd': '2', 'classroom': '2', 'examples': '5', 'clipper': '2', 'clippers': '2', 'positive': '2', 'negative': '0', 'fun': '3', 'timeout': '2', 'utilities': '5', 'separately': '5', 'excited': '0', 'vf': '4', 'scalar': '2', 'sensitivity': '2', 'statistics': '3', 'calculus': '2', 'mittag': '0', 'leffler': '0', 'cmos': '2', 'multiresonant': '0', 'repetitve': '0', 'eml': '3', 'tips': '0', 'hil': '2', 'link': '1', 'encoder': '1', 'mpeg': '3', 'convolut': '3', 'correction': '2', 'tetra': '2', 'budget': '2', 'snr': '3', 'fdm': '2', 'tone': '2', 'electromagnetic': '2', 'propagation': '2', 'division': '2', 'multiplexer': '3', 'spreading': '5', 'from': '2', 'this': '1', 'symbolic': '3', 'solution': '0', 'compiler': '4', 'float': '3', 'gsm': '2', 'conduction': '1', 'losses': '0', 'loss': '0', 'npc': '3', 'confidence': '3', 'gaussian': '0', 'inverse': '0', 'variance': '2', 'but': '2', 'why': '3', 'no': '0', 'lqi': '2', 'observador': '0', 'twelve': '2', 'robust': '0', 'stable': '0', 'unstable': '0', 'trajectories': '0', 'errors': '5', 'offset': '5', 'pr': '0', 'fitness': '5', 'ise': '0', 'index': '5', 'sin': '0', 'hysterisis': '4', 'imp': '0', 'internal': '5', 'principle': '0', 'simdriveline': '0', 'unit': '0', 'school': '0', 'mecanum': '3', 'controle': '3', 'quadrature': '0', 'siso': '0', 'elimination': '0', 'controll': '3', 'rectifiers': '3', 'fullwave': '2', 'gto': '0', 'working': '0', 'decentralized': '2', 'imc': '5', 'lfc': '2', 'area': '5', 'liquid': '1', 'vectors': '1', 'sawtooth': '1', 'sector': '1', 'furuta': '0', 'metronome': '1', 'transients': '5', 'conveyor': '5', 'batch': '5', 'des': '2', 'operations': '5', 'chain': '5', 'constraints': '3', 'hdldsp': '1', 'builder': '1', 'systemge': '3', 'dds': '5', 'counters': '0', 'modulo': '0', 'timers': '5', 'masks': '1', 'cpu': '5', 'overload': '5', 'xpc': '5', 'ensemble': '5', 'openloop': '1', 'uncertain': '1', 'unified': '5', 'crowbar': '2', 'cuk': '2', 'tolerance': '2', 'rotor': '2', 'current_plot': '2', 'cyclo': '5', 'changer': '5', 'cylinder': '5', 'hydraulics': '5', 'mosfet': '5', 'force': '5', 'piston': '2', 'damper': '2', 'ssr': '2', 'farms': '0', 'save': '5', 'weighted': '2', 'averaging': '0', 'phasor': '2', 'sheet': '2', 'excel': '5', 'sepic': '2', 'lc': '2', 'off': '5', 'pspwm': '5', 'supplies': '3', 'or': '1', 'matlabsimulink': '5', 'ddk': '2', 'tool': '1', 'xpcdrivertool': '5', 'degree': '0', 'synthesis': '1', 'utility': '5', 'deloading': '1', 'kinect': '5', 'descrete': '0', 'sequence': '1', 'clientserver': '3', 'master': '1', 'slave': '5', 'patterns': '1', 'functions': '5', 'help': '5', 'me': '5', 'if': '5', 'describing': '5', 'demands': '1', 'triplen': '0', 'setpoint': '1', 'zsource': '1', 'spectral': '5', 'stm': '0', 'lmi': '0', 'electircal': '0', 'ciruit': '0', 'mmc': '1', 'modular': '1', 'wifi': '1', 'possible': '5', 'hard': '1', 'warei': '1', 'trying': '1', 'so': '1', 'change': '1', 'location': '1', 'units': '1', 'discretization': '5', 'envelope': '0', 'law': '5', 'evolutionary': '1', 'maximum': '1', 'powersystems': '4', 'resonance': '1', 'aaa': '1', 'dg': '4', 'moving': '0', 'horizon': '5', 'programming': '1', 'downloaded': '5', 'cant': '5', 'thanks': '2', 'lot': '1', 'pass': '5', 'minimum': '1', 'dip': '5', 'value': '5', 'directdriven': '5', 'showing': '1', 'fft': '1', 'rtds': '2', 'compensators': '0', 'cosimulation': '1', 'tcp': '5', 'lv': '5', 'diversity': '5', 'documentation': '1', 'execution': '4', 'profiling': '5', 'document': '4', 'dof': '4', 'partial': '4', 'shading': '4', 'rms': '4', 'tpu': '2', 'stator': '0', 'tektronix': '4', 'tek': '4', 'tds': '5', 'tekvisa': '1', 'vco': '1', 'nco': '1', 'tire': '5', 'sag': '0', 'swell': '0', 'complexity': '5', 'dynamical': '1', 'hypercube': '4', 'leakage': '5', 'residual': '2', 'ecrobot': '0', 'quadratic': '0', 'consumption': '1', 'mgt': '1', 'micro': '2', 'automatic': '5', 'hvdc': '5', 'conditioner': '2', 'vsi': '5', 'bias': '1', 'im': '5', 'regenerative': '1', 'interleaved': '5', 'threephase': '0', 'selective': '5', 'she': '1', 'connected': '1', 'microturbine': '1', 'impedance': '5', 'twolevel': '5', 'voltagesource': '1', 'lookup': '1', 'table': '1', 'mli': '1', 'pdpwm': '5', 'third': '1', 'pod': '5', 'variables': '5', 'four': '1', 'stepup': '1', 'uav': '1', 'case': '1', 'study': '4', 'ga': '4', 'mo': '0', 'seismic': '1', 'building': '1', 'robotic': '5', 'rice': '0', 'krispies': '1', 'loader': '5', 'ti': '1', 'multidomain': '1', 'language': '1', 'emlc': '5', 'processig': '1', 'substation': '4', 'tutorials': '4', 'solidworks': '4', 'files': '4', 'extraction': '4', 'evaporator': '5', 'gradien': '5', 'expert': '0', 'extremum': '0', 'seeking': '0', 'tracker': '5', 'pss': '1', 'oscillation': '4', 'connection': '0', 'unbalanced': '4', 'lines': '4', 'faults': '2', 'components': '5', 'ofdma': '2', 'net': '4', 'wavelets': '5', 'schemes': '4', 'lumped': '0', 'bending': '0', 'torsion': '4', 'rigid': '4', 'ae': '4', 'pipeline': '4', 'transition': '0', 'formula': '5', 'mf': '4', 'tyre': '4', 'pac': '4', 'pacejka': '4', 'fotovoltaic': '5', 'frequecy': '4', 'rotation': '4', 'goto': '5', 'refactoring': '0', 'fuell': '4', 'haha': '2', 'that': '0', 'sanniv': '1', 'portuguese': '5', 'intereface': '1', 'membership': '1', 'triangle': '1', 'adaline': '4', 'galaxy': '1', 'systemtest': '1', 'pace': '1', 'hev': '5', 'robots': '1', 'halfcontrolled': '5', 'reduction': '1', 'iae': '1', 'standardized': '0', 'short': '4', 'improving': '4', 'multimachine': '0', 'po': '3', 'upqc': '0', 'steel': '0', 'mill': '1', 'stand': '0', 'alone': '1', 'call': '1', 'phone': '1', 'iv': '0', 'windows': '1', 'keyboard': '5', 'keysight': '1', 'communic': '4', 'mechanism': '1', 'trojan': '5', 'launchpad': '5', 'msp': '5', 'live': '0', 'script': '1', 'soc': '5', 'weather': '0', 'inputs': '0', 'some': '1', 'ex': '1', 'convert': '0', 'tunning': '1', 'spinner': '5', 'menu': '3', 'perturb': '1', 'observe': '1', 'theorem': '2', 'mdl': '5', 'mechanic': '4', 'mini': '4', 'contact': '4', 'forces': '1', 'root': '0', 'locus': '5', 'rotational': '2', 'translational': '0', 'exchanger': '0', 'wirel': '1', 'cqi': '5', 'all': '4', 'solid': '4', 'thevenins': '4', 'superposition': '4', 'norton': '5', 'odes': '5', 'characteristic': '5', 'understanding': '5', 'medical': '5', 'mark': '5', 'try': '1', 'copy': '1', 'content': '1', 'paste': '1', 'word': '1', 'mar': '5', 'gesture': '5', 'large': '4', 'pulldown': '4', 'callback': '4', 'condenser': '4', 'popular': '2', 'portugues': '2', 'systemstar': '2', 'flexiable': '2', 'conventional': '2', 'circuitry': '3', 'statespace': '2', 'closedloop': '2', 'minor': '5', 'projects': '3', 'latest': '5', 'cuckoo': '5', 'partially': '0', 'shaded': '5', 'train': '5', 'rail': '5', 'circute': '5', 'fact': '1', 'penetration': '5', 'predistortion': '5', 'triangular': '3', 'quadrant': '2', 'telegraph': '0', 'nao': '3', 'rotor_position': '0', 'actual_speed': '0', 'estimated_speed': '2', 'variablesize': '0', 'xpctarget': '0', 'self_rating': '3', 'simpowersm': '3', 'wizard': '3', 'coefficients': '0', 'zeta': '3', 'ocr': '0', 'special': '2', 'dm': '2', 'hv': '3', 'scort': '0', 'simulationpulse': '0', 'switches': '0', 'estimate': '0', 'alfc': '3', 'truth': '5', 'nn_mlclogic': '1', 'surface': '4', 'ways': '1', 'acting': '1', 'relief': '1', 'reservoir': '0', 'apm': '1', 'ahrs': '5'}\n"
          ]
        }
      ]
    },
    {
      "cell_type": "code",
      "metadata": {
        "colab": {
          "base_uri": "https://localhost:8080/"
        },
        "id": "PvLjJJ9cN58G",
        "outputId": "04090b43-69ac-4944-966c-eef16988aaa2"
      },
      "source": [
        "\n",
        "sorted_dict = {}\n",
        "sorted_keys = sorted(wordlist, key=wordlist.get)  # [1, 3, 2]\n",
        "\n",
        "for w in sorted_keys:\n",
        "    sorted_dict[w] = wordlist[w]\n",
        "\n",
        "print(sorted_dict) # {1: 1, 3: 4, 2: 9}"
      ],
      "execution_count": 319,
      "outputs": [
        {
          "output_type": "stream",
          "name": "stdout",
          "text": [
            "{'dc': '0', 'pulse': '0', 'space': '0', 'three': '0', 'system': '0', 'arduino': '0', 'bmp': '0', 'signal': '0', 'cnc': '0', 'model': '0', 'based': '0', 'steering': '0', 'low': '0', 'differential': '0', 'equations': '0', 'friction': '0', 'mass': '0', 'simmechanics': '0', 'simscape': '0', 'physical': '0', 'field': '0', 'launch': '0', 'robot': '0', 'parameters': '0', 'wlan': '0', 'ship': '0', 'method': '0', 'controlled': '0', 'accelerometer': '0', 'detection': '0', 'gui': '0', 'farm': '0', 'interface': '0', 'renewable': '0', 'oscillatory': '0', 'custom': '0', 'device': '0', 'gauge': '0', 'indices': '0', 'optimum': '0', 'gear': '0', 'equalization': '0', 'lms': '0', 'algorithm': '0', 'recognition': '0', 'zynq': '0', 'coder': '0', 'stepdown': '0', 'multilevel': '0', 'photovoltaic': '0', 'fuzzy': '0', 'methods': '0', 'modes': '0', 'systematic': '0', 'sympowersystem': '0', 'disposition': '0', 'battery': '0', 'domain': '0', 'backpropagation': '0', 'implementation': '0', 'rs': '0', 'mfile': '0', 'sliding': '0', 'cordic': '0', 'verilog': '0', 'theremin': '0', 'light': '0', 'sos': '0', 'build': '0', 'fast': '0', 'trigger': '0', 'fed': '0', 'inrush': '0', 'ook': '0', 'update': '0', 'scope': '0', 'half': '0', 'subsystem': '0', 'pneumatic': '0', 'chariot': '0', 'efficiency': '0', 'polarity': '0', 'autotuning': '0', 'fading': '0', 'csmacd': '0', 'basic': '0', 'upfc': '0', 'diesel': '0', 'multiplexing': '0', 'bike': '0', 'flyback': '0', 'powersystem': '0', 'chopper': '0', 'down': '0', 'potencia': '0', 'simulated': '0', 'busobject': '0', 'loadflow': '0', 'traction': '0', 'carrier': '0', 'cellular': '0', 'cofdm': '0', 'you': '0', 'when': '0', 'behavior': '0', 'irradiation': '0', 'damped': '0', 'gasturbine': '0', 'fourth': '0', 'resistor': '0', 'triggering': '0', 'locked': '0', 'pll': '0', 'negative': '0', 'excited': '0', 'mittag': '0', 'leffler': '0', 'multiresonant': '0', 'repetitve': '0', 'tips': '0', 'solution': '0', 'losses': '0', 'loss': '0', 'gaussian': '0', 'inverse': '0', 'no': '0', 'observador': '0', 'robust': '0', 'stable': '0', 'unstable': '0', 'trajectories': '0', 'pr': '0', 'ise': '0', 'sin': '0', 'imp': '0', 'principle': '0', 'simdriveline': '0', 'unit': '0', 'school': '0', 'quadrature': '0', 'siso': '0', 'elimination': '0', 'gto': '0', 'working': '0', 'furuta': '0', 'counters': '0', 'modulo': '0', 'farms': '0', 'averaging': '0', 'degree': '0', 'descrete': '0', 'triplen': '0', 'stm': '0', 'lmi': '0', 'electircal': '0', 'ciruit': '0', 'envelope': '0', 'moving': '0', 'compensators': '0', 'stator': '0', 'sag': '0', 'swell': '0', 'ecrobot': '0', 'quadratic': '0', 'threephase': '0', 'mo': '0', 'rice': '0', 'expert': '0', 'extremum': '0', 'seeking': '0', 'connection': '0', 'lumped': '0', 'bending': '0', 'transition': '0', 'refactoring': '0', 'that': '0', 'standardized': '0', 'multimachine': '0', 'upqc': '0', 'steel': '0', 'stand': '0', 'iv': '0', 'live': '0', 'weather': '0', 'inputs': '0', 'convert': '0', 'root': '0', 'translational': '0', 'exchanger': '0', 'partially': '0', 'telegraph': '0', 'rotor_position': '0', 'actual_speed': '0', 'variablesize': '0', 'xpctarget': '0', 'coefficients': '0', 'ocr': '0', 'scort': '0', 'simulationpulse': '0', 'switches': '0', 'estimate': '0', 'reservoir': '0', 'to': '1', 'ac': '1', 'converters': '1', 'transformer': '1', 'simulink': '1', 'psk': '1', 'reed': '1', 'solomon': '1', 'qam': '1', 'lte': '1', 'mimo': '1', 'modulation': '1', 'rayleigh': '1', 'turbo': '1', 'coding': '1', 'phase': '1', 'current': '1', 'control': '1', 'aerodynamic': '1', 'torque': '1', 'aerospace': '1', 'attitude': '1', 'gravity': '1', 'hysteresis': '1', 'magnetic': '1', 'stabilization': '1', 'two': '1', 'vector': '1', 'gyroscope': '1', 'mega': '1', 'led': '1', 'matrix': '1', 'animation': '1', 'vehicles': '1', 'kinematic': '1', 'rolling': '1', 'multiple': '1', 'simple': '1', 'swarm': '1', 'physics': '1', 'spring': '1', 'constant': '1', 'mechanical': '1', 'magnet': '1', 'pmsg': '1', 'turbine': '1', 'sir': '1', 'collision': '1', 'getting': '1', 'experiment': '1', 'laboratory': '1', 'mechanics': '1', 'mobile': '1', 'simulation': '1', 'curve': '1', 'discrete': '1', 'event': '1', 'factory': '1', 'line': '1', 'simevents': '1', 'ball': '1', 'bouncing': '1', 'equation': '1', 'integrator': '1', 'temperature': '1', 'collaborative': '1', 'fine': '1', 'football': '1', 'game': '1', 'ice': '1', 'introduction': '1', 'state': '1', 'webinar': '1', 'direct': '1', 'algorithms': '1', 'optimization': '1', 'pattern': '1', 'hopping': '1', 'lorenz': '1', 'matlab': '1', 'ode': '1', 'audio': '1', 'linear': '1', 'spwm': '1', 'voltage': '1', 'motor': '1', 'inverters': '1', 'square': '1', 'analysis': '1', 'clamped': '1', 'diode': '1', 'bit': '1', 'data': '1', 'types': '1', 'wimax': '1', 'bridge': '1', 'cascade': '1', 'hbridge': '1', 'voice': '1', 'reluctance': '1', 'sensorless': '1', 'srm': '1', 'switched': '1', 'duty': '1', 'nonlinear': '1', 'uncertainty': '1', 'identification': '1', 'abc': '1', 'beeta': '1', 'clark': '1', 'buck': '1', 'buckboost': '1', 'drive': '1', 'full': '1', 'freewheeling': '1', 'ekf': '1', 'kalman': '1', 'luenberger': '1', 'placement': '1', 'machines': '1', 'width': '1', 'systems': '1', 'foc': '1', 'air': '1', 'pv': '1', 'electric': '1', 'motors': '1', 'microgrid': '1', 'resources': '1', 'hybrid': '1', 'energy': '1', 'benchmark': '1', 'test': '1', 'feedback': '1', 'industrial': '1', 'feed': '1', 'back': '1', 'modelling': '1', 'bldc': '1', 'brushless': '1', 'design': '1', 'fourier': '1', 'harmonics': '1', 'mathematics': '1', 'artificial': '1', 'asynchronous': '1', 'ffnn': '1', 'lqr': '1', 'nonstationary': '1', 'gain': '1', 'mathematical': '1', 'close': '1', 'loop': '1', 'of': '1', 'fan': '1', 'hall': '1', 'for': '1', 'acac': '1', 'cycloconverter': '1', 'step': '1', 'up': '1', 'thyristor': '1', 'triac': '1', 'cyberphysical': '1', 'manufacturing': '1', 'multiparadigm': '1', 'video': '1', 'acc': '1', 'embedded': '1', 'real': '1', 'time': '1', 'vibration': '1', 'accuracy': '1', 'article': '1', 'paper': '1', 'white': '1', 'whitepaper': '1', 'interpolation': '1', 'acdcac': '1', 'supply': '1', 'source': '1', 'acdc': '1', 'factor': '1', 'more': '1', 'aircraft': '1', 'rectifire': '1', 'smps': '1', 'thd': '1', 'fault': '1', 'pid': '1', 'cdma': '1', 'potential': '1', 'biotech': '1', 'neuron': '1', 'pharmaceutical': '1', 'active': '1', 'ripple': '1', 'it': '1', 'pq': '1', 'reactive': '1', 'front': '1', 'stabilizer': '1', 'statcom': '1', 'transient': '1', 'reactor': '1', 'complex': '1', 'angle': '1', 'var': '1', 'total': '1', 'problem': '1', 'storage': '1', 'grid': '1', 'particle': '1', 'pso': '1', 'road': '1', 'profile': '1', 'logging': '1', 'pi': '1', 'saturation': '1', 'global': '1', 'using': '1', 'quadrotor': '1', 'first': '1', 'rule': '1', 'adaptation': '1', 'gs': '1', 'transformations': '1', 'valve': '1', 'tank': '1', 'tuning': '1', 'dop': '1', 'diophantine': '1', 'recursive': '1', 'least': '1', 'impulse': '1', 'hdl': '1', 'van': '1', 'der': '1', 'pol': '1', 'adas': '1', 'driving': '1', 'point': '1', 'adc': '1', 'interpolator': '1', 'polynomial': '1', 'ramp': '1', 'stochastic': '1', 'delta': '1', 'sigma': '1', 'deltasigma': '1', 'som': '1', 'decoder': '1', 'xilinx': '1', 'graph': '1', 'structure': '1', 'emergency': '1', 'maps': '1', 'transform': '1', 'application': '1', 'tcsc': '1', 'svc': '1', 'anfis': '1', 'facts': '1', 'fc': '1', 'management': '1', 'indraneel': '1', 'formal': '1', 'array': '1', 'panel': '1', 'solver': '1', 'mppt': '1', 'trading': '1', 'nearest': '1', 'market': '1', 'incremental': '1', 'conductance': '1', 'demodulation': '1', 'sample': '1', 'transmission': '1', 'alternative': '1', 'threelevel': '1', 'inverting': '1', 'communication': '1', 'demux': '1', 'analyzer': '1', 'measure': '1', 'circuit': '1', 'sparameters': '1', 'transfer': '1', 'digit': '1', 'multi': '1', 'io': '1', 'multivariable': '1', 'ev': '1', 'gyro': '1', 'boy': '1', 'gyroboy': '1', 'inverted': '1', 'lego': '1', 'mindstorms': '1', 'color': '1', 'dtc': '1', 'intelligent': '1', 'atan': '1', 'unwrap': '1', 'wrap': '1', 'map': '1', 'math': '1', 'trigonometric': '1', 'anish': '1', 'salvi': '1', 'fctcr': '1', 'filters': '1', 'dfacts': '1', 'plant': '1', 'basis': '1', 'neuroestimation': '1', 'neuroestimator': '1', 'rotating': '1', 'frame': '1', 'speedsensorless': '1', 'approximation': '1', 'base': '1', 'fea': '1', 'marine': '1', 'applications': '1', 'comparison': '1', 'tutorial': '1', 'seven': '1', 'motion': '1', 'spline': '1', 'block': '1', 'shifting': '1', 'engine': '1', 'pil': '1', 'beagleboard': '1', 'pandaboard': '1', 'support': '1', 'gauges': '1', 'can': '1', 'raspberry': '1', 'port': '1', 'open': '1', 'ldr': '1', 'timer': '1', 'fsk': '1', 'automatique': '1', 'lineaire': '1', 'ivan': '1', 'liebgott': '1', 'physique': '1', 'sciences': '1', 'sampling': '1', 'sinusoidal': '1', 'simpowersystems': '1', 'with': '1', 'golf': '1', 'gustave': '1', 'lingnieur': '1', 'gazebo': '1', 'convolutional': '1', 'integration': '1', 'plotting': '1', 'probability': '1', 'calculation': '1', 'oqpsk': '1', 'pn': '1', 'zigbee': '1', 'smc': '1', 'charging': '1', 'holonomic': '1', 'platform': '1', 'omni': '1', 'omnidirectional': '1', 'isolated': '1', 'coupled': '1', 'on': '1', 'nxtway': '1', 'diagram': '1', 'bode': '1', 'loads': '1', 'zvs': '1', 'cascaded': '1', 'waveform': '1', 'simulations': '1', 'router': '1', 'fluctuation': '1', 'station': '1', 'texas': '1', 'instruments': '1', 'discret': '1', 'controllers': '1', 'local': '1', 'usb': '1', 'ohgw': '1', 'recovery': '1', 'cos': '1', 'fscanf': '1', 'input': '1', 'mex': '1', 'courant': '1', 'projet': '1', 'radio': '1', 'commande': '1', 'doing': '1', 'my': '1', 'graduation': '1', 'same': '1', 'toipic': '1', 'student': '1', 'want': '1', 'run': '1', 'chemistry': '1', 'combined': '1', 'link': '1', 'encoder': '1', 'this': '1', 'conduction': '1', 'liquid': '1', 'vectors': '1', 'sawtooth': '1', 'sector': '1', 'metronome': '1', 'hdldsp': '1', 'builder': '1', 'masks': '1', 'openloop': '1', 'uncertain': '1', 'or': '1', 'tool': '1', 'synthesis': '1', 'deloading': '1', 'sequence': '1', 'master': '1', 'patterns': '1', 'demands': '1', 'setpoint': '1', 'zsource': '1', 'mmc': '1', 'modular': '1', 'wifi': '1', 'hard': '1', 'warei': '1', 'trying': '1', 'so': '1', 'change': '1', 'location': '1', 'units': '1', 'evolutionary': '1', 'maximum': '1', 'resonance': '1', 'aaa': '1', 'programming': '1', 'lot': '1', 'minimum': '1', 'showing': '1', 'fft': '1', 'cosimulation': '1', 'documentation': '1', 'tekvisa': '1', 'vco': '1', 'nco': '1', 'dynamical': '1', 'consumption': '1', 'mgt': '1', 'bias': '1', 'regenerative': '1', 'she': '1', 'connected': '1', 'microturbine': '1', 'voltagesource': '1', 'lookup': '1', 'table': '1', 'mli': '1', 'third': '1', 'four': '1', 'stepup': '1', 'uav': '1', 'case': '1', 'seismic': '1', 'building': '1', 'krispies': '1', 'ti': '1', 'multidomain': '1', 'language': '1', 'processig': '1', 'pss': '1', 'sanniv': '1', 'intereface': '1', 'membership': '1', 'triangle': '1', 'galaxy': '1', 'systemtest': '1', 'pace': '1', 'robots': '1', 'reduction': '1', 'iae': '1', 'mill': '1', 'alone': '1', 'call': '1', 'phone': '1', 'windows': '1', 'keysight': '1', 'mechanism': '1', 'script': '1', 'some': '1', 'ex': '1', 'tunning': '1', 'perturb': '1', 'observe': '1', 'forces': '1', 'wirel': '1', 'try': '1', 'copy': '1', 'content': '1', 'paste': '1', 'word': '1', 'fact': '1', 'nn_mlclogic': '1', 'ways': '1', 'acting': '1', 'relief': '1', 'apm': '1', 'electronics': '2', 'level': '2', 'distribution': '2', 'generation': '2', 'dsp': '2', 'orthogonal': '2', 'ilc': '2', 'iterative': '2', 'learning': '2', 'position': '2', 'reference': '2', 'tracking': '2', 'repetitive': '2', 'fuel': '2', 'image': '2', 'processing': '2', 'neural': '2', 'network': '2', 'pendulum': '2', 'reality': '2', 'gravitational': '2', 'lab': '2', 'regulator': '2', 'verification': '2', 'automotive': '2', 'export': '2', 'distortion': '2', 'electronic': '2', 'differentiation': '2', 'computer': '2', 'validation': '2', 'coverage': '2', 'effect': '2', 'apod': '2', 'carrierbased': '2', 'levelshifted': '2', 'fiber': '2', 'mapping': '2', 'sdh': '2', 'sonet': '2', 'analizador': '2', 'espectrps': '2', 'pseudoinverse': '2', 'drfoc': '2', 'flux': '2', 'calculator': '2', 'customization': '2', 'mode': '2', 'antenna': '2', 'blocking': '2', 'anti': '2', 'windup': '2', 'quadricopter': '2', 'dimmer': '2', 'write': '2', 'shield': '2', 'ethernet': '2', 'traffic': '2', 'iec': '2', 'fractals': '2', 'compression': '2', 'jpeg': '2', 'teaching': '2', 'dtmf': '2', 'rapid': '2', 'fixedpoint': '2', 'band': '2', 'five': '2', 'elements': '2', 'mechatronics': '2', 'regulation': '2', 'mat': '2', 'firing': '2', 'auvsi': '2', 'wheel': '2', 'segway': '2', 'coefficient': '2', 'ehsa': '2', 'hadeed': '2', 'conveter': '2', 'renweable': '2', 'how': '2', 'double': '2', 'mbd': '2', 'codes': '2', 'viterbi': '2', 'vex': '2', 'dual': '2', 'production': '2', 'bicycle': '2', 'nxt': '2', 'bifurcation': '2', 'memristor': '2', 'synchronization': '2', 'decimal': '2', 'continuous': '2', 'cardiac': '2', 'ml': '2', 'planning': '2', 'bipolar': '2', 'unipolar': '2', 'packet': '2', 'nine': '2', 'cmex': '2', 'stdioh': '2', 'is': '2', 'reverse': '2', 'chaine': '2', 'chuas': '2', 'cic': '2', 'compensator': '2', 'detector': '2', 'circuits': '2', 'scr': '2', 'pd': '2', 'classroom': '2', 'clipper': '2', 'clippers': '2', 'positive': '2', 'timeout': '2', 'scalar': '2', 'sensitivity': '2', 'calculus': '2', 'cmos': '2', 'hil': '2', 'correction': '2', 'tetra': '2', 'budget': '2', 'fdm': '2', 'tone': '2', 'electromagnetic': '2', 'propagation': '2', 'division': '2', 'from': '2', 'gsm': '2', 'variance': '2', 'but': '2', 'lqi': '2', 'twelve': '2', 'fullwave': '2', 'decentralized': '2', 'lfc': '2', 'des': '2', 'crowbar': '2', 'cuk': '2', 'tolerance': '2', 'rotor': '2', 'current_plot': '2', 'piston': '2', 'damper': '2', 'ssr': '2', 'weighted': '2', 'phasor': '2', 'sheet': '2', 'sepic': '2', 'lc': '2', 'ddk': '2', 'thanks': '2', 'rtds': '2', 'tpu': '2', 'residual': '2', 'micro': '2', 'conditioner': '2', 'faults': '2', 'ofdma': '2', 'haha': '2', 'theorem': '2', 'rotational': '2', 'popular': '2', 'portugues': '2', 'systemstar': '2', 'flexiable': '2', 'conventional': '2', 'statespace': '2', 'closedloop': '2', 'quadrant': '2', 'estimated_speed': '2', 'special': '2', 'dm': '2', 'converter': '3', 'electrical': '3', 'small': '3', 'competition': '3', 'digital': '3', 'pressure': '3', 'sensor': '3', 'alpha': '3', 'beta': '3', 'transformation': '3', 'code': '3', 'filter': '3', 'without': '3', 'delay': '3', 'single': '3', 'axis': '3', 'machine': '3', 'plot': '3', 'vehicle': '3', 'speed': '3', 'kinematics': '3', 'dynamic': '3', 'dynamics': '3', 'the': '3', 'res': '3', 'equilibrium': '3', 'dvr': '3', 'opamp': '3', 'dfig': '3', 'type': '3', 'example': '3', 'equalizer': '3', 'expo': '3', 'filtering': '3', 'shaping': '3', 'sigmadelta': '3', 'dac': '3', 'drivers': '3', 'raspberrypi': '3', 'rpi': '3', 'import': '3', 'demo': '3', 'hpf': '3', 'instrument': '3', 'driver': '3', 'lpf': '3', 'operational': '3', 'amplifier': '3', 'summer': '3', 'rtw': '3', 'user': '3', 'week': '3', 'blocks': '3', 'rf': '3', 'admittance': '3', 'box': '3', 'aeronautics': '3', 'astronautical': '3', 'nasa': '3', 'airplane': '3', 'flight': '3', 'aerodynamics': '3', 'blockset': '3', 'web': '3', 'arm': '3', 'microcontroller': '3', 'realtime': '3', 'workshop': '3', 'tilt': '3', 'mutation': '3', 'testing': '3', 'balanced': '3', 'optics': '3', 'networks': '3', 'kohonen': '3', 'relay': '3', 'numerical': '3', 'std': '3', 'flexible': '3', 'rload': '3', 'imu': '3', 'mpu': '3', 'output': '3', 'arl': '3', 'lcd': '3', 'meter': '3', 'morse': '3', 'ascii': '3', 'echo': '3', 'pitch': '3', 'object': '3', 'servo': '3', 'stepper': '3', 'target': '3', 'pull': '3', 'cycle': '3', 'workspace': '3', 'kessler': '3', 'modulus': '3', 'naslin': '3', 'symmetric': '3', 'symmetrical': '3', 'parameter': '3', 'attractors': '3', 'fractal': '3', 'autoconnect': '3', 'ssi': '3', 'autotuner': '3', 'baset': '3', 'csma': '3', 'charger': '3', 'ion': '3', 'equivalent': '3', 'pack': '3', 'dependent': '3', 'logic': '3', 'dcdc': '3', 'standard': '3', 'project': '3', 'ratio': '3', 'zero': '3', 'cost': '3', 'queue': '3', 'farrow': '3', 'qos': '3', 'gardner': '3', 'element': '3', 'memory': '3', 'fun': '3', 'statistics': '3', 'eml': '3', 'mpeg': '3', 'convolut': '3', 'snr': '3', 'multiplexer': '3', 'symbolic': '3', 'float': '3', 'npc': '3', 'confidence': '3', 'why': '3', 'mecanum': '3', 'controle': '3', 'controll': '3', 'rectifiers': '3', 'constraints': '3', 'systemge': '3', 'supplies': '3', 'clientserver': '3', 'po': '3', 'menu': '3', 'circuitry': '3', 'projects': '3', 'triangular': '3', 'nao': '3', 'self_rating': '3', 'simpowersm': '3', 'wizard': '3', 'zeta': '3', 'hv': '3', 'alfc': '3', 'svm': '4', 'multibody': '4', 'modeling': '4', 'wind': '4', 'by': '4', 'algebra': '4', 'ber': '4', 'channel': '4', 'compensation': '4', 'estimation': '4', 'ofdm': '4', 'qpsk': '4', 'wireless': '4', 'controller': '4', 'rd': '4', 'quasi': '4', 'bus': '4', 'and': '4', 'error': '4', 'ieee': '4', 'bluetooth': '4', 'analog': '4', 'da': '4', 'boost': '4', 'drives': '4', 'techniques': '4', 'smart': '4', 'software': '4', 'action': '4', 'server': '4', 'ros': '4', 'mosc': '4', 'lead': '4', 'rc': '4', 'sources': '4', 'process': '4', 'resonant': '4', 'fd': '4', 'fractional': '4', 'variable': '4', 'suspension': '4', 'actuator': '4', 'quarter': '4', 'static': '4', 'damping': '4', 'non': '4', 'restorer': '4', 'graphical': '4', 'integral': '4', 'performance': '4', 'itae': '4', 'hydraulic': '4', 'actuators': '4', 'mrac': '4', 'mras': '4', 'fluid': '4', 'engineering': '4', 'saki': '4', 'indranil': '4', 'saaki': '4', 'solar': '4', 'organizing': '4', 'vhdl': '4', 'materials': '4', 'models': '4', 'sti': '4', 'mcc': '4', 'igbt': '4', 'sim': '4', 'pfc': '4', 'simpowersystem': '4', 'feeder': '4', 'ecu': '4', 'wire': '4', 'string': '4', 'program': '4', 'economics': '4', 'lodwal': '4', 'stage': '4', 'clarke': '4', 'vf': '4', 'compiler': '4', 'hysterisis': '4', 'powersystems': '4', 'dg': '4', 'execution': '4', 'document': '4', 'dof': '4', 'partial': '4', 'shading': '4', 'rms': '4', 'tektronix': '4', 'tek': '4', 'hypercube': '4', 'study': '4', 'ga': '4', 'substation': '4', 'tutorials': '4', 'solidworks': '4', 'files': '4', 'extraction': '4', 'oscillation': '4', 'unbalanced': '4', 'lines': '4', 'net': '4', 'schemes': '4', 'torsion': '4', 'rigid': '4', 'ae': '4', 'pipeline': '4', 'mf': '4', 'tyre': '4', 'pac': '4', 'pacejka': '4', 'frequecy': '4', 'rotation': '4', 'fuell': '4', 'adaline': '4', 'short': '4', 'improving': '4', 'communic': '4', 'mechanic': '4', 'mini': '4', 'contact': '4', 'all': '4', 'solid': '4', 'thevenins': '4', 'superposition': '4', 'large': '4', 'pulldown': '4', 'callback': '4', 'condenser': '4', 'surface': '4', 'inverter': '5', 'power': '5', 'rectifier': '5', 'awgn': '5', 'communications': '5', 'multipath': '5', 'passive': '5', 'stateflow': '5', 'adafruit': '5', 'hardware': '5', 'innovate': '5', 'msia': '5', 'automated': '5', 'visualization': '5', 'second': '5', 'scissor': '5', 'lift': '5', 'simhydraulics': '5', 'permanent': '5', 'synchronous': '5', 'generator': '5', 'hello': '5', 'started': '5', 'virtual': '5', 'toolbox': '5', 'vrealm': '5', 'vrml': '5', 'acceleration': '5', 'android': '5', 'counter': '5', 'distance': '5', 'education': '5', 'interactive': '5', 'science': '5', 'trajectory': '5', 'assembly': '5', 'automation': '5', 'heat': '5', 'hockey': '5', 'multagent': '5', 'robocup': '5', 'soccer': '5', 'robotics': '5', 'simulator': '5', 'theory': '5', 'search': '5', 'genetic': '5', 'leg': '5', 'attractor': '5', 'chaos': '5', 'graphics': '5', 'sfunction': '5', 'path': '5', 'push': '5', 'report': '5', 'induction': '5', 'harmonic': '5', 'wave': '5', 'load': '5', 'flow': '5', 'int': '5', 'uint': '5', 'technique': '5', 'quality': '5', 'adaptive': '5', 'cvsd': '5', 'frequency': '5', 'adder': '5', 'one': '5', 'pwm': '5', 'sub': '5', 'mpc': '5', 'propeller': '5', 'rudder': '5', 'switching': '5', 'random': '5', 'robustness': '5', 'practical': '5', 'dq': '5', 'park': '5', 'conversion': '5', 'extended': '5', 'observer': '5', 'pole': '5', 'svpwm': '5', 'distributed': '5', 'thank': '5', 'measurement': '5', 'spectrum': '5', 'ann': '5', 'feedforward': '5', 'optimal': '5', 'programmable': '5', 'pmsm': '5', 'oriented': '5', 'architectures': '5', 'vision': '5', 'car': '5', 'in': '5', 'modelbased': '5', 'mma': '5', 'powergui': '5', 'vsc': '5', 'acquisition': '5', 'fpga': '5', 'gps': '5', 'timing': '5', 'edge': '5', 'client': '5', 'cell': '5', 'shunt': '5', 'sapf': '5', 'end': '5', 'windmill': '5', 'renewables': '5', 'chart': '5', 'series': '5', 'tools': '5', 'sensors': '5', 'please': '5', 'send': '5', 'cad': '5', 'order': '5', 'adjustment': '5', 'mit': '5', 'scheduling': '5', 'pseudorandom': '5', 'binary': '5', 'differentiator': '5', 'difference': '5', 'finite': '5', 'response': '5', 'fir': '5', 'regression': '5', 'noise': '5', 'noisy': '5', 'predictive': '5', 'controls': '5', 'ended': '5', 'clock': '5', 'deterministic': '5', 'pick': '5', 'potw': '5', 'adrc': '5', 'hmc': '5', 'aerodef': '5', 'de': '5', 'libya': '5', 'safety': '5', 'finance': '5', 'parallel': '5', 'computing': '5', 'boeing': '5', 'helicopter': '5', 'pump': '5', 'agc': '5', 'avr': '5', 'ask': '5', 'balancing': '5', 'ahf': '5', 'apf': '5', 'ai': '5', 'dstatcom': '5', 'logistics': '5', 'plc': '5', 'algebraic': '5', 'algorithmic': '5', 'neighbour': '5', 'making': '5', 'bollinger': '5', 'bands': '5', 'high': '5', 'modulator': '5', 'alternator': '5', 'am': '5', 'amplifiers': '5', 'mux': '5', 'simelectronics': '5', 'function': '5', 'self': '5', 'camera': '5', 'maker': '5', 'radial': '5', 'rbf': '5', 'multilayer': '5', 'perceptron': '5', 'feature': '5', 'estimator': '5', 'rfoc': '5', 'reulctance': '5', 'disturbance': '5', 'rejection': '5', 'ansi': '5', 'number': '5', 'protection': '5', 'instantaneous': '5', 'overcurrent': '5', 'beam': '5', 'antiwindup': '5', 'generalized': '5', 'hybride': '5', 'pf': '5', 'specialized': '5', 'serial': '5', 'fixed': '5', 'rlc': '5', 'arc': '5', 'asic': '5', 'ardrone': '5', 'autonomous': '5', 'drone': '5', 'pixhawk': '5', 'quadcopter': '5', 'package': '5', 'logger': '5', 'due': '5', 'capacitive': '5', 'library': '5', 'matlabhw': '5', 'switch': '5', 'course': '5', 'udp': '5', 'wavelet': '5', 'bpsk': '5', 'asservissement': '5', 'axe': '5', 'multiphysique': '5', 'regular': '5', 'file': '5', 'managment': '5', 'monod': '5', 'bertool': '5', 'rate': '5', 'discharging': '5', 'omniwheel': '5', 'quartercar': '5', 'dcac': '5', 'ksu': '5', 'bang': '5', 'closed': '5', 'charge': '5', 'bidirectional': '5', 'lithium': '5', 'good': '5', 'characteristics': '5', 'capacitor': '5', 'peak': '5', 'characterstics': '5', 'sine': '5', 'simpower': '5', 'resourses': '5', 'layer': '5', 'supercapacitor': '5', 'ultracapacitor': '5', 'multivariate': '5', 'column': '5', 'principal': '5', 'component': '5', 'cstr': '5', 'guide': '5', 'mask': '5', 'information': '5', 'punctured': '5', 'soft': '5', 'best': '5', 'core': '5', 'stability': '5', 'oscillator': '5', 'companion': '5', 'limit': '5', 'gait': '5', 'text': '5', 'thermal': '5', 'mod': '5', 'irradiance': '5', 'topology': '5', 'forward': '5', 'breaker': '5', 'restriking': '5', 'uncontrolled': '5', 'derivatives': '5', 'sfunctions': '5', 'signals': '5', 'seth': '5', 'rl': '5', 'continu': '5', 'shafts': '5', 'ground': '5', 'bank': '5', 'monitoring': '5', 'cbwfq': '5', 'seminar': '5', 'phy': '5', 'module': '5', 'photo': '5', 'voltaic': '5', 'cnn': '5', 'paradigm': '5', 'center': '5', 'tapped': '5', 'newton': '5', 'dnergie': '5', 'gito': '5', 'are': '5', 'an': '5', 'chaotic': '5', 'laser': '5', 'chemical': '5', 'research': '5', 'water': '5', 'sanjay': '5', 'gas': '5', 'gate': '5', 'classical': '5', 'examples': '5', 'utilities': '5', 'separately': '5', 'spreading': '5', 'errors': '5', 'offset': '5', 'fitness': '5', 'index': '5', 'internal': '5', 'imc': '5', 'area': '5', 'transients': '5', 'conveyor': '5', 'batch': '5', 'operations': '5', 'chain': '5', 'dds': '5', 'timers': '5', 'cpu': '5', 'overload': '5', 'xpc': '5', 'ensemble': '5', 'unified': '5', 'cyclo': '5', 'changer': '5', 'cylinder': '5', 'hydraulics': '5', 'mosfet': '5', 'force': '5', 'save': '5', 'excel': '5', 'off': '5', 'pspwm': '5', 'matlabsimulink': '5', 'xpcdrivertool': '5', 'utility': '5', 'kinect': '5', 'slave': '5', 'functions': '5', 'help': '5', 'me': '5', 'if': '5', 'describing': '5', 'spectral': '5', 'possible': '5', 'discretization': '5', 'law': '5', 'horizon': '5', 'downloaded': '5', 'cant': '5', 'pass': '5', 'dip': '5', 'value': '5', 'directdriven': '5', 'tcp': '5', 'lv': '5', 'diversity': '5', 'profiling': '5', 'tds': '5', 'tire': '5', 'complexity': '5', 'leakage': '5', 'automatic': '5', 'hvdc': '5', 'vsi': '5', 'im': '5', 'interleaved': '5', 'selective': '5', 'impedance': '5', 'twolevel': '5', 'pdpwm': '5', 'pod': '5', 'variables': '5', 'robotic': '5', 'loader': '5', 'emlc': '5', 'evaporator': '5', 'gradien': '5', 'tracker': '5', 'components': '5', 'wavelets': '5', 'formula': '5', 'fotovoltaic': '5', 'goto': '5', 'portuguese': '5', 'hev': '5', 'halfcontrolled': '5', 'keyboard': '5', 'trojan': '5', 'launchpad': '5', 'msp': '5', 'soc': '5', 'spinner': '5', 'mdl': '5', 'locus': '5', 'cqi': '5', 'norton': '5', 'odes': '5', 'characteristic': '5', 'understanding': '5', 'medical': '5', 'mark': '5', 'mar': '5', 'gesture': '5', 'minor': '5', 'latest': '5', 'cuckoo': '5', 'shaded': '5', 'train': '5', 'rail': '5', 'circute': '5', 'penetration': '5', 'predistortion': '5', 'truth': '5', 'ahrs': '5'}\n"
          ]
        }
      ]
    },
    {
      "cell_type": "code",
      "metadata": {
        "colab": {
          "base_uri": "https://localhost:8080/",
          "height": 265
        },
        "id": "tKFeThFKqlY1",
        "outputId": "23a89bab-279c-42f6-8490-8bd925036d0f"
      },
      "source": [
        "centroids = matmodel.cluster_centers_\n",
        "#plotting the results:\n",
        "for i in matlabels:\n",
        "    plt.scatter(reduced_df[label == i , 0] , reduced_df[label == i , 1] , label = i)\n",
        "plt.scatter(centroids[:,0] , centroids[:,1] , s = 10, color = 'k')\n",
        "plt.legend()\n",
        "plt.show()"
      ],
      "execution_count": 321,
      "outputs": [
        {
          "output_type": "display_data",
          "data": {
            "image/png": "[encoded data removed]",
            "text/plain": [
              "<Figure size 432x288 with 1 Axes>"
            ]
          },
          "metadata": {
            "needs_background": "light"
          }
        }
      ]
    },
    {
      "cell_type": "code",
      "metadata": {
        "id": "HJTeOo9lFZhY"
      },
      "source": [
        "#printing the clusters\n",
        "def printClusters(model,vectorizer,num_clusters):\n",
        "  print(\"Top terms per cluster:\")\n",
        "  order_centroids = model.cluster_centers_.argsort()[:, ::-1]\n",
        "  print(\"centroids:\",order_centroids)\n",
        "  terms = vectorizer.get_feature_names_out()\n",
        "  for i in range(num_clusters):\n",
        "      print(\"Cluster %d:\" % i),\n",
        "      for ind in order_centroids[i, :10]:\n",
        "          print(' %s' % terms[ind]),\n",
        "      print"
      ],
      "execution_count": 323,
      "outputs": []
    },
    {
      "cell_type": "code",
      "metadata": {
        "colab": {
          "base_uri": "https://localhost:8080/"
        },
        "id": "LPF9cmdR2tiy",
        "outputId": "cb839406-ba38-4e87-ed16-031feb9b1346"
      },
      "source": [
        "df_concat_mat_word2vec[0].isnull().sum()"
      ],
      "execution_count": 324,
      "outputs": [
        {
          "output_type": "execute_result",
          "data": {
            "text/plain": [
              "385"
            ]
          },
          "metadata": {},
          "execution_count": 324
        }
      ]
    },
    {
      "cell_type": "code",
      "metadata": {
        "colab": {
          "base_uri": "https://localhost:8080/"
        },
        "id": "5Xiu2p4J20y4",
        "outputId": "0337b04e-a8ea-481b-8946-e537b2ba166b"
      },
      "source": [
        "df_concat_mat_word2vec['Hierarchy_depth'].isnull().sum()"
      ],
      "execution_count": 325,
      "outputs": [
        {
          "output_type": "execute_result",
          "data": {
            "text/plain": [
              "0"
            ]
          },
          "metadata": {},
          "execution_count": 325
        }
      ]
    },
    {
      "cell_type": "code",
      "metadata": {
        "id": "0Zqzqdj33_Eb"
      },
      "source": [
        "df_concat_mat_word2vec = df_concat_mat_word2vec.dropna(subset=['Hierarchy_depth',0])"
      ],
      "execution_count": 326,
      "outputs": []
    },
    {
      "cell_type": "code",
      "metadata": {
        "colab": {
          "base_uri": "https://localhost:8080/"
        },
        "id": "x6LJbuc14HNi",
        "outputId": "d2fb35b2-087e-4ff9-c59e-7f59dda28fae"
      },
      "source": [
        "df_concat_mat_word2vec.shape"
      ],
      "execution_count": 327,
      "outputs": [
        {
          "output_type": "execute_result",
          "data": {
            "text/plain": [
              "(2232, 13)"
            ]
          },
          "metadata": {},
          "execution_count": 327
        }
      ]
    },
    {
      "cell_type": "code",
      "metadata": {
        "colab": {
          "base_uri": "https://localhost:8080/",
          "height": 390
        },
        "id": "D6ANGVB18UsF",
        "outputId": "f1898966-0ce0-45c7-d5f8-dc32171e7a7c"
      },
      "source": [
        "cor = df_concat_mat_word2vec.corr() #Calculate the correlation of the above variables\n",
        "sns.heatmap(cor, square = True) #Plot the correlation as heat map"
      ],
      "execution_count": 328,
      "outputs": [
        {
          "output_type": "execute_result",
          "data": {
            "text/plain": [
              "<matplotlib.axes._subplots.AxesSubplot at 0x7fb3f01ff1d0>"
            ]
          },
          "metadata": {},
          "execution_count": 328
        },
        {
          "output_type": "display_data",
          "data": {
            "image/png": "[encoded data removed]",
            "text/plain": [
              "<Figure size 432x288 with 2 Axes>"
            ]
          },
          "metadata": {
            "needs_background": "light"
          }
        }
      ]
    },
    {
      "cell_type": "code",
      "metadata": {
        "id": "lzU3aTmo4L-P"
      },
      "source": [
        "combinedFeture = np.array(df_concat_mat_word2vec.loc[:,[0,'total_ConnH_cnt','Agg_SubSystem_count']])"
      ],
      "execution_count": 329,
      "outputs": []
    },
    {
      "cell_type": "code",
      "metadata": {
        "colab": {
          "base_uri": "https://localhost:8080/"
        },
        "id": "rd_3KMS22l9g",
        "outputId": "c9a7d87e-f361-47df-c67b-08bea87eb16f"
      },
      "source": [
        "print(combinedFeture)"
      ],
      "execution_count": 330,
      "outputs": [
        {
          "output_type": "stream",
          "name": "stdout",
          "text": [
            "[[5.30933333e-03 7.20000000e+01 1.00000000e+01]\n",
            " [5.94800000e-03 3.44000000e+02 5.60000000e+01]\n",
            " [2.30240000e-02 2.79000000e+02 2.40000000e+01]\n",
            " ...\n",
            " [5.84733333e-03 1.70000000e+01 0.00000000e+00]\n",
            " [5.91200000e-03 1.30000000e+01 0.00000000e+00]\n",
            " [4.20066667e-03 4.30000000e+01 0.00000000e+00]]\n"
          ]
        }
      ]
    },
    {
      "cell_type": "code",
      "metadata": {
        "id": "RjNOEwnK6P2_"
      },
      "source": [
        ""
      ],
      "execution_count": 330,
      "outputs": []
    },
    {
      "cell_type": "code",
      "metadata": {
        "id": "ocDNMOru22tt"
      },
      "source": [
        "kmeans2 = KMeans(n_clusters = 8,                 # Set amount of clusters\n",
        "                init = 'k-means++',             # Initialization method for kmeans\n",
        "                max_iter = 300,                 # Maximum number of iterations\n",
        "                n_init = 10,                    # Choose how often algorithm will run with different centroid\n",
        "                random_state = 0)               # Choose random state for reproducibility\n",
        "\n",
        "clust_labels = kmeans2.fit_predict(combinedFeture)\n",
        "\n",
        "cluster = pd.DataFrame(clust_labels)\n"
      ],
      "execution_count": 331,
      "outputs": []
    },
    {
      "cell_type": "code",
      "metadata": {
        "colab": {
          "base_uri": "https://localhost:8080/"
        },
        "id": "GlcQP6Pf_333",
        "outputId": "c9eb265c-ad1d-498b-8463-5a6c71c81946"
      },
      "source": [
        "print(np.unique(clust_labels))"
      ],
      "execution_count": 332,
      "outputs": [
        {
          "output_type": "stream",
          "name": "stdout",
          "text": [
            "[0 1 2 3 4 5 6 7]\n"
          ]
        }
      ]
    },
    {
      "cell_type": "code",
      "metadata": {
        "colab": {
          "base_uri": "https://localhost:8080/",
          "height": 312
        },
        "id": "3GgzEbig9EqW",
        "outputId": "65ef8e73-9b51-4ebf-8a31-c65d6df4e2be"
      },
      "source": [
        "#Plot the clusters obtained using k means\n",
        "fig = plt.figure()\n",
        "ax = fig.add_subplot(111)\n",
        "scatter = ax.scatter(df_concat_mat_word2vec['Agg_SubSystem_count'],df_concat_mat_word2vec['total_ConnH_cnt'],\n",
        "                     c=cluster[0],s=50)\n",
        "ax.set_title('K-Means Clustering')\n",
        "ax.set_xlabel('Agg subsystem count')\n",
        "ax.set_ylabel('total connection count')\n",
        "ax.set_xlim([-20, 500])\n",
        "ax.set_ylim([0, 10000])\n",
        "plt.colorbar(scatter)"
      ],
      "execution_count": 333,
      "outputs": [
        {
          "output_type": "execute_result",
          "data": {
            "text/plain": [
              "<matplotlib.colorbar.Colorbar at 0x7fb3e95d2590>"
            ]
          },
          "metadata": {},
          "execution_count": 333
        },
        {
          "output_type": "display_data",
          "data": {
            "image/png": "[encoded data removed]",
            "text/plain": [
              "<Figure size 432x288 with 2 Axes>"
            ]
          },
          "metadata": {
            "needs_background": "light"
          }
        }
      ]
    }
  ]
}